{
  "nbformat": 4,
  "nbformat_minor": 0,
  "metadata": {
    "kernelspec": {
      "display_name": "Python 3.7.4 64-bit ('miniconda3': virtualenv)",
      "language": "python",
      "name": "python37464bitminiconda3virtualenv0874ec4b65004acdac879cc1bfcb658e"
    },
    "language_info": {
      "codemirror_mode": {
        "name": "ipython",
        "version": 3
      },
      "file_extension": ".py",
      "mimetype": "text/x-python",
      "name": "python",
      "nbconvert_exporter": "python",
      "pygments_lexer": "ipython3",
      "version": "3.7.4"
    },
    "colab": {
      "name": "Functions.ipynb",
      "provenance": [],
      "include_colab_link": true
    }
  },
  "cells": [
    {
      "cell_type": "markdown",
      "metadata": {
        "id": "view-in-github",
        "colab_type": "text"
      },
      "source": [
        "<a href=\"https://colab.research.google.com/github/themanoftalent/pythondata/blob/master/Functions.ipynb\" target=\"_parent\"><img src=\"https://colab.research.google.com/assets/colab-badge.svg\" alt=\"Open In Colab\"/></a>"
      ]
    },
    {
      "cell_type": "code",
      "metadata": {
        "id": "tpZwesTc0tvV",
        "colab_type": "code",
        "colab": {},
        "outputId": "286ecb80-ac1d-4aed-fe62-ca98f5bc7703"
      },
      "source": [
        "def faktortyal(n):\n",
        "    sayi=1\n",
        "    \n",
        "    for i in range(1, n+1):\n",
        "        sayi *=i\n",
        "    print(sayi)\n",
        "    \n",
        "    \n",
        "faktortyal(6)"
      ],
      "execution_count": 0,
      "outputs": [
        {
          "output_type": "stream",
          "text": [
            "720\n"
          ],
          "name": "stdout"
        }
      ]
    },
    {
      "cell_type": "code",
      "metadata": {
        "id": "Nkbt1zsv0tvc",
        "colab_type": "code",
        "colab": {},
        "outputId": "80601e78-4f13-40c5-9aef-34fe45326712"
      },
      "source": [
        "#what is this \n",
        "\n",
        "def RakamYerDegis(x,y):\n",
        "    if x>y:\n",
        "        x,y=y,x\n",
        "        return x,y\n",
        "    \n",
        "    \n",
        "RakamYerDegis(51,45)\n",
        "        "
      ],
      "execution_count": 0,
      "outputs": [
        {
          "output_type": "execute_result",
          "data": {
            "text/plain": [
              "(45, 51)"
            ]
          },
          "metadata": {
            "tags": []
          },
          "execution_count": 9
        }
      ]
    },
    {
      "cell_type": "code",
      "metadata": {
        "id": "eYB03zV10tvh",
        "colab_type": "code",
        "colab": {},
        "outputId": "7945113a-fbbc-44b4-c63b-fb4b1ad9a0d4"
      },
      "source": [
        "myListe=list(range(33))\n",
        "myListe[slice(1,5)]\n",
        "myListe.append([23,55])\n",
        "myListe"
      ],
      "execution_count": 0,
      "outputs": [
        {
          "output_type": "execute_result",
          "data": {
            "text/plain": [
              "[0,\n",
              " 1,\n",
              " 2,\n",
              " 3,\n",
              " 4,\n",
              " 5,\n",
              " 6,\n",
              " 7,\n",
              " 8,\n",
              " 9,\n",
              " 10,\n",
              " 11,\n",
              " 12,\n",
              " 13,\n",
              " 14,\n",
              " 15,\n",
              " 16,\n",
              " 17,\n",
              " 18,\n",
              " 19,\n",
              " 20,\n",
              " 21,\n",
              " 22,\n",
              " 23,\n",
              " 24,\n",
              " 25,\n",
              " 26,\n",
              " 27,\n",
              " 28,\n",
              " 29,\n",
              " 30,\n",
              " 31,\n",
              " 32,\n",
              " [23, 55]]"
            ]
          },
          "metadata": {
            "tags": []
          },
          "execution_count": 16
        }
      ]
    },
    {
      "cell_type": "code",
      "metadata": {
        "id": "rpjsH4380tvk",
        "colab_type": "code",
        "colab": {}
      },
      "source": [
        "myListe.remove(23)"
      ],
      "execution_count": 0,
      "outputs": []
    },
    {
      "cell_type": "code",
      "metadata": {
        "id": "eVt7bPro0tvn",
        "colab_type": "code",
        "colab": {},
        "outputId": "e5e3837c-c981-47bd-a17d-0bcefbe7154d"
      },
      "source": [
        "myListe.clear()\n",
        "myListe"
      ],
      "execution_count": 0,
      "outputs": [
        {
          "output_type": "execute_result",
          "data": {
            "text/plain": [
              "[]"
            ]
          },
          "metadata": {
            "tags": []
          },
          "execution_count": 29
        }
      ]
    },
    {
      "cell_type": "markdown",
      "metadata": {
        "id": "7ez0WA_Z0tvr",
        "colab_type": "text"
      },
      "source": [
        "_____"
      ]
    },
    {
      "cell_type": "markdown",
      "metadata": {
        "id": "Bd2SOrGF0tvs",
        "colab_type": "text"
      },
      "source": [
        "**Time** :\n",
        "Talking about time"
      ]
    },
    {
      "cell_type": "code",
      "metadata": {
        "id": "WScXvk3o0tvt",
        "colab_type": "code",
        "colab": {},
        "outputId": "fae00e93-2349-4207-9bd7-3f0cad2eef76"
      },
      "source": [
        "import time\n",
        "\n",
        "seconds=time.time()\n",
        "seconds"
      ],
      "execution_count": 0,
      "outputs": [
        {
          "output_type": "execute_result",
          "data": {
            "text/plain": [
              "1582605334.8702872"
            ]
          },
          "metadata": {
            "tags": []
          },
          "execution_count": 31
        }
      ]
    },
    {
      "cell_type": "code",
      "metadata": {
        "id": "eqZc8yvZ0tvx",
        "colab_type": "code",
        "colab": {},
        "outputId": "d1ff250f-7c5a-4e75-ea17-7f12c63eee3c"
      },
      "source": [
        "localtime=time.localtime(seconds)\n",
        "localtime"
      ],
      "execution_count": 0,
      "outputs": [
        {
          "output_type": "execute_result",
          "data": {
            "text/plain": [
              "time.struct_time(tm_year=2020, tm_mon=2, tm_mday=25, tm_hour=7, tm_min=35, tm_sec=34, tm_wday=1, tm_yday=56, tm_isdst=0)"
            ]
          },
          "metadata": {
            "tags": []
          },
          "execution_count": 33
        }
      ]
    },
    {
      "cell_type": "code",
      "metadata": {
        "id": "siITw-CF0tv0",
        "colab_type": "code",
        "colab": {},
        "outputId": "b4c83446-f30f-4495-b6ee-59b38f6de8d4"
      },
      "source": [
        "localtime.tm_year"
      ],
      "execution_count": 0,
      "outputs": [
        {
          "output_type": "execute_result",
          "data": {
            "text/plain": [
              "2020"
            ]
          },
          "metadata": {
            "tags": []
          },
          "execution_count": 34
        }
      ]
    },
    {
      "cell_type": "code",
      "metadata": {
        "id": "CDz8kfqO0tv2",
        "colab_type": "code",
        "colab": {},
        "outputId": "553312a7-95ce-463a-b68c-e10099d4695f"
      },
      "source": [
        "localtime.tm_hour"
      ],
      "execution_count": 0,
      "outputs": [
        {
          "output_type": "execute_result",
          "data": {
            "text/plain": [
              "7"
            ]
          },
          "metadata": {
            "tags": []
          },
          "execution_count": 35
        }
      ]
    },
    {
      "cell_type": "code",
      "metadata": {
        "id": "TT8TOzZV0tv5",
        "colab_type": "code",
        "colab": {},
        "outputId": "b8cc09c6-6cb3-448e-8656-18ce987ec3c2"
      },
      "source": [
        "asctime = time.asctime(localtime)\n",
        "print(asctime)\n",
        "\n",
        "strtime = time.strftime('%Y-%m-%d %H:%M:%S', localtime)\n",
        "print(strtime)"
      ],
      "execution_count": 0,
      "outputs": [
        {
          "output_type": "stream",
          "text": [
            "Tue Feb 25 07:35:34 2020\n",
            "2020-02-25 07:35:34\n"
          ],
          "name": "stdout"
        }
      ]
    },
    {
      "cell_type": "code",
      "metadata": {
        "id": "gdFNsZDr0tv7",
        "colab_type": "code",
        "colab": {},
        "outputId": "bc55c26c-97fe-4870-e5dd-df4668dadd46"
      },
      "source": [
        "asctime=time.asctime(localtime)\n",
        "print(asctime)"
      ],
      "execution_count": 0,
      "outputs": [
        {
          "output_type": "stream",
          "text": [
            "Tue Feb 25 07:35:34 2020\n"
          ],
          "name": "stdout"
        }
      ]
    },
    {
      "cell_type": "markdown",
      "metadata": {
        "id": "2uroNAs30tv-",
        "colab_type": "text"
      },
      "source": [
        "------\n",
        "------\n"
      ]
    },
    {
      "cell_type": "code",
      "metadata": {
        "id": "_74DEI9C0tv_",
        "colab_type": "code",
        "colab": {},
        "outputId": "7fa95650-6400-4d21-c588-8a679afdc6bc"
      },
      "source": [
        "def formula1(a, b=5, c=10):\n",
        "    return (a + b) * 2 + (c * 3)\n",
        "\n",
        "\n",
        "\n",
        "print(formula1(1, 2, 3))\n",
        "print(formula1(100, 200))\n",
        "print(formula1(100))\n",
        "print(formula1(c=2, b=3, a=1))"
      ],
      "execution_count": 0,
      "outputs": [
        {
          "output_type": "stream",
          "text": [
            "15\n",
            "630\n",
            "240\n",
            "14\n"
          ],
          "name": "stdout"
        }
      ]
    },
    {
      "cell_type": "code",
      "metadata": {
        "id": "HyPu28QY0twB",
        "colab_type": "code",
        "colab": {},
        "outputId": "0503434b-4427-47e9-b5a0-e3dadc97a5ac"
      },
      "source": [
        "def f2(*args):\n",
        "    sum = 0\n",
        "    for num in args:\n",
        "        sum += num\n",
        "    return sum\n",
        "\n",
        "\n",
        "f2(1,2,3,4,5,6,7,8,9,10)"
      ],
      "execution_count": 0,
      "outputs": [
        {
          "output_type": "execute_result",
          "data": {
            "text/plain": [
              "55"
            ]
          },
          "metadata": {
            "tags": []
          },
          "execution_count": 49
        }
      ]
    },
    {
      "cell_type": "markdown",
      "metadata": {
        "id": "yt3Be7GP0twD",
        "colab_type": "text"
      },
      "source": [
        "------\n",
        "------"
      ]
    },
    {
      "cell_type": "code",
      "metadata": {
        "id": "e8QhVXh20twE",
        "colab_type": "code",
        "colab": {},
        "outputId": "658acd21-14bb-4ad9-fc15-e77f6b23c0b6"
      },
      "source": [
        "import os\n",
        "from os import path\n",
        "\n",
        "\n",
        "def main():\n",
        "   print('Os Path is ', os.path)\n",
        "   print(os.listdir())\n",
        "\n",
        "   print('==============================')\n",
        "   print (\"file exist:\"+str(path.exists('gpedit.txt')))\n",
        "   print (\"File exists:\" + str(path.exists('career.txt')))\n",
        "   print (\"directory exists:\" + str(path.exists('myDirectory')))\n",
        "   print('File exists',str(path.exists(\"Dosya.txt\")))\n",
        "   print('Dosya bulunmakta '+str(path.exists(\"Patasana.text\")))\n",
        "   print('Dosya var ', str(path.exists('Puslu Ada')))\n",
        "   print(\"**\"*20)\n",
        "   print (\"Is it Directory? \" + str (path.isdir ('gped.txt')))\n",
        "   print (\"Is it Directory? \" + str (path.isdir ('myDirectory')))\n",
        "\n",
        "\n",
        "if __name__=='__main__':\n",
        "   main()"
      ],
      "execution_count": 0,
      "outputs": [
        {
          "output_type": "stream",
          "text": [
            "Os Path is  <module 'posixpath' from '/Users/darwin/opt/miniconda3/lib/python3.7/posixpath.py'>\n",
            "['Thumbs.db', 'Data Mining', '452 review.pdf', '.DS_Store', '.localized', '$RECYCLE.BIN', 'so far articles', 'Shell_Practices', 'Functions.ipynb', 'Doctorate prep copied', 'matlab', 'PYTHON EVERYTHING', 'MatLab Lung Cancer Projects', '.ipynb_checkpoints', 'Yz Amateur', 'KNOSYS-S-20-00640.pdf', 'image-processing.webloc']\n",
            "==============================\n",
            "file exist:False\n",
            "File exists:False\n",
            "directory exists:False\n",
            "File exists False\n",
            "Dosya bulunmakta False\n",
            "Dosya var  False\n",
            "****************************************\n",
            "Is it Directory? False\n",
            "Is it Directory? False\n"
          ],
          "name": "stdout"
        }
      ]
    },
    {
      "cell_type": "markdown",
      "metadata": {
        "id": "CYD1wzSo0twG",
        "colab_type": "text"
      },
      "source": [
        "--------\n",
        "--------"
      ]
    },
    {
      "cell_type": "code",
      "metadata": {
        "id": "msjYm6vL0twG",
        "colab_type": "code",
        "colab": {},
        "outputId": "4a2e84ed-294c-4b01-918c-da030341007f"
      },
      "source": [
        "while True:\n",
        "     strings = input ('Enter something : ')\n",
        "     if strings == 'quit':\n",
        "        break\n",
        "print('Length of the string is', len (strings))\n",
        "print('Done')"
      ],
      "execution_count": 0,
      "outputs": [
        {
          "output_type": "stream",
          "text": [
            "Enter something : hey\n",
            "Enter something : brig\n",
            "Enter something : quit\n",
            "Length of the string is 4\n",
            "Done\n"
          ],
          "name": "stdout"
        }
      ]
    },
    {
      "cell_type": "code",
      "metadata": {
        "id": "obhb4bui0twI",
        "colab_type": "code",
        "colab": {},
        "outputId": "f79e258e-0b99-4d66-f037-c56d5db3c19e"
      },
      "source": [
        "A=list(range(5))\n",
        "B=list(range(6,10))\n",
        "A+B"
      ],
      "execution_count": 0,
      "outputs": [
        {
          "output_type": "execute_result",
          "data": {
            "text/plain": [
              "[0, 1, 2, 3, 4, 6, 7, 8, 9]"
            ]
          },
          "metadata": {
            "tags": []
          },
          "execution_count": 80
        }
      ]
    },
    {
      "cell_type": "code",
      "metadata": {
        "id": "HVM1j9jw0twJ",
        "colab_type": "code",
        "colab": {},
        "outputId": "b81550ad-7b5f-48a1-d44c-8a73eab99aa8"
      },
      "source": [
        "kartezyen=[(a,b) for a in A for b in B]\n",
        "kartezyen"
      ],
      "execution_count": 0,
      "outputs": [
        {
          "output_type": "execute_result",
          "data": {
            "text/plain": [
              "[(0, 6),\n",
              " (0, 7),\n",
              " (0, 8),\n",
              " (0, 9),\n",
              " (1, 6),\n",
              " (1, 7),\n",
              " (1, 8),\n",
              " (1, 9),\n",
              " (2, 6),\n",
              " (2, 7),\n",
              " (2, 8),\n",
              " (2, 9),\n",
              " (3, 6),\n",
              " (3, 7),\n",
              " (3, 8),\n",
              " (3, 9),\n",
              " (4, 6),\n",
              " (4, 7),\n",
              " (4, 8),\n",
              " (4, 9)]"
            ]
          },
          "metadata": {
            "tags": []
          },
          "execution_count": 79
        }
      ]
    },
    {
      "cell_type": "code",
      "metadata": {
        "id": "1DE3XP3V0twL",
        "colab_type": "code",
        "colab": {},
        "outputId": "251b2d8f-36ef-4ef3-995b-853e14165581"
      },
      "source": [
        "toplama=[(a+ b) for a in A for b in B]\n",
        "print(toplama)"
      ],
      "execution_count": 0,
      "outputs": [
        {
          "output_type": "stream",
          "text": [
            "[6, 7, 8, 9, 7, 8, 9, 10, 8, 9, 10, 11, 9, 10, 11, 12, 10, 11, 12, 13]\n"
          ],
          "name": "stdout"
        }
      ]
    },
    {
      "cell_type": "code",
      "metadata": {
        "id": "Yig7P06P0twM",
        "colab_type": "code",
        "colab": {},
        "outputId": "78667771-c94d-45c5-a191-eee3dedab8e3"
      },
      "source": [
        "cikarma=[(a- b) for a in A for b in B]\n",
        "print(cikarma)\n"
      ],
      "execution_count": 0,
      "outputs": [
        {
          "output_type": "stream",
          "text": [
            "[-6, -7, -8, -9, -5, -6, -7, -8, -4, -5, -6, -7, -3, -4, -5, -6, -2, -3, -4, -5]\n"
          ],
          "name": "stdout"
        }
      ]
    },
    {
      "cell_type": "code",
      "metadata": {
        "id": "W_U9zMat0twO",
        "colab_type": "code",
        "colab": {},
        "outputId": "5d036927-daf3-457c-91d8-6e4f8158e6bf"
      },
      "source": [
        "\n",
        "carpma=[(a* b) for a in A for b in B]\n",
        "print(carpma)\n"
      ],
      "execution_count": 0,
      "outputs": [
        {
          "output_type": "stream",
          "text": [
            "[0, 0, 0, 0, 6, 7, 8, 9, 12, 14, 16, 18, 18, 21, 24, 27, 24, 28, 32, 36]\n"
          ],
          "name": "stdout"
        }
      ]
    },
    {
      "cell_type": "code",
      "metadata": {
        "id": "EJ4q6vSm0twQ",
        "colab_type": "code",
        "colab": {},
        "outputId": "28b6b388-c619-4e77-c685-5165b6c44465"
      },
      "source": [
        "\n",
        "bolme=[(a/ b) for a in A for b in B]\n",
        "print(bolme)"
      ],
      "execution_count": 0,
      "outputs": [
        {
          "output_type": "stream",
          "text": [
            "[0.0, 0.0, 0.0, 0.0, 0.16666666666666666, 0.14285714285714285, 0.125, 0.1111111111111111, 0.3333333333333333, 0.2857142857142857, 0.25, 0.2222222222222222, 0.5, 0.42857142857142855, 0.375, 0.3333333333333333, 0.6666666666666666, 0.5714285714285714, 0.5, 0.4444444444444444]\n"
          ],
          "name": "stdout"
        }
      ]
    },
    {
      "cell_type": "code",
      "metadata": {
        "id": "TRSZ1P3m0twS",
        "colab_type": "code",
        "colab": {},
        "outputId": "5b1c51b8-a690-4f28-afb2-fd147c9d8c33"
      },
      "source": [
        "bolmeK=[(a/ b) for a in A for b in B if a//4==0 and b==4]\n",
        "print(bolmeK)"
      ],
      "execution_count": 0,
      "outputs": [
        {
          "output_type": "stream",
          "text": [
            "[]\n"
          ],
          "name": "stdout"
        }
      ]
    },
    {
      "cell_type": "markdown",
      "metadata": {
        "id": "EbqqHN1m0twT",
        "colab_type": "text"
      },
      "source": [
        "-----\n",
        "-----"
      ]
    },
    {
      "cell_type": "code",
      "metadata": {
        "id": "QdbzsMnd0twU",
        "colab_type": "code",
        "colab": {},
        "outputId": "39c2af8d-aa1a-4a0e-caa3-2669209b2205"
      },
      "source": [
        "#  !/usr/bin/python\n",
        "#  Copyright (c) akifciftci 2020. Aim to help new beginner to try hard and learn more.\n",
        "#\n",
        "#\n",
        "\n",
        "class Animalsactions:\n",
        "\n",
        "    def qwack(self):\n",
        "        return self.strings['qwack']\n",
        "\n",
        "    def fur(self):\n",
        "        return self.strings['fur']\n",
        "\n",
        "    def bark(self):\n",
        "        return self.strings['bark']\n",
        "\n",
        "    def meov(self):\n",
        "        return self.strings['meov']\n",
        "\n",
        "\n",
        "class Ordek(Animalsactions):\n",
        "    strings = dict(\n",
        "        qwack='Duck qwaks',\n",
        "        fur='Duck has fur',\n",
        "        bark='Duck no bark',\n",
        "        meov='Duck no meov'\n",
        "    )\n",
        "\n",
        "\n",
        "class Insan(Animalsactions):\n",
        "    strings = dict(\n",
        "        qwack='Insan can dwakcs',\n",
        "        fur='Insan has fur',\n",
        "        bark='Insan can bark',\n",
        "        meov='Insan can meov'\n",
        "    )\n",
        "\n",
        "\n",
        "class Kopek(Animalsactions):\n",
        "    strings = dict(\n",
        "        qwack='Dog cannot dwakcs',\n",
        "        fur='Dog has fur',\n",
        "        bark='Dog can bark',\n",
        "        meov='Dog cannot meov'\n",
        "    )\n",
        "\n",
        "\n",
        "def yazdirKopek(kopek):\n",
        "    print(kopek.bark())\n",
        "    print(kopek.fur())\n",
        "    print(kopek.meov())\n",
        "    print(kopek.qwack())\n",
        "\n",
        "\n",
        "def yazdirOrdek(ordek):\n",
        "    print(ordek.qwack())\n",
        "    print(ordek.meov())\n",
        "    print(ordek.fur())\n",
        "    print(ordek.bark())\n",
        "\n",
        "\n",
        "def yazirInsan(insan):\n",
        "    print(insan.meov())\n",
        "    print(insan.fur())\n",
        "    print(insan.qwack())\n",
        "    print(insan.bark())\n",
        "\n",
        "\n",
        "def main():\n",
        "    Donald = Ordek()\n",
        "    Tumaz = Kopek()\n",
        "    Ahmet = Insan()\n",
        "\n",
        "    print('*****yazdir kopek****')\n",
        "    for o in (Donald, Ahmet, Tumaz):\n",
        "        yazdirKopek(o)\n",
        "\n",
        "\n",
        "if __name__ == '__main__': main()\n"
      ],
      "execution_count": 0,
      "outputs": [
        {
          "output_type": "stream",
          "text": [
            "*****yazdir kopek****\n",
            "Duck no bark\n",
            "Duck has fur\n",
            "Duck no meov\n",
            "Duck qwaks\n",
            "Insan can bark\n",
            "Insan has fur\n",
            "Insan can meov\n",
            "Insan can dwakcs\n",
            "Dog can bark\n",
            "Dog has fur\n",
            "Dog cannot meov\n",
            "Dog cannot dwakcs\n"
          ],
          "name": "stdout"
        }
      ]
    },
    {
      "cell_type": "markdown",
      "metadata": {
        "id": "ycSnRUr80twV",
        "colab_type": "text"
      },
      "source": [
        "-----\n",
        "-----"
      ]
    },
    {
      "cell_type": "code",
      "metadata": {
        "id": "w58UrV4w0twW",
        "colab_type": "code",
        "colab": {},
        "outputId": "b5b564f5-eb35-4ecc-e70f-e27377f13a99"
      },
      "source": [
        "\n",
        "#  !/usr/bin/python\n",
        "#  Copyright (c) akifciftci 2020. Aim to help new beginner to try hard and learn more.\n",
        "#\n",
        "#\n",
        "\n",
        "\n",
        "class Hayvan:\n",
        "    # None signifies the lack of a value\n",
        "    # You can make a variable private by starting it with __\n",
        "    __name = None\n",
        "    __height = None\n",
        "    __weight = None\n",
        "    __sound = None\n",
        "\n",
        "    # The constructor is called to set up or initialize an object\n",
        "    # self allows an object to refer to itself inside of the class\n",
        "    def __init__(self, name, height, weight, sound):\n",
        "        self.__name = name\n",
        "        self.__height = height\n",
        "        self.__weight = weight\n",
        "        self.__sound = sound\n",
        "\n",
        "    def set_name(self, name):\n",
        "        self.__name = name\n",
        "\n",
        "    def set_height(self, height):\n",
        "        self.__height = height\n",
        "\n",
        "    def set_weight(self, height):\n",
        "        self.__height = height\n",
        "\n",
        "    def set_sound(self, sound):\n",
        "        self.__sound = sound\n",
        "\n",
        "    def get_name(self):\n",
        "        return self.__name\n",
        "\n",
        "    def get_height(self):\n",
        "        return str(self.__height)\n",
        "\n",
        "    def get_weight(self):\n",
        "        return str(self.__weight)\n",
        "\n",
        "    def get_sound(self):\n",
        "        return self.__sound\n",
        "\n",
        "    def get_type(self):\n",
        "        print(\"Hayvan\")\n",
        "\n",
        "    def toString(self):\n",
        "        return \"{} is {} cm tall and {} kilograms and says {}\".format(self.__name, self.__height, self.__weight, self.__sound)\n",
        "\n",
        "# How to create a Hayvan object\n",
        "cat = Hayvan('Kedi', 30, 10, 'Meow')\n",
        "\n",
        "print(cat.toString())\n",
        "\n",
        "# You can't access this value directly because it is private\n",
        "#print(cat.__name)\n",
        "\n",
        "# INHERITANCE -------------\n",
        "# You can inherit all of the variables and methods from another class\n",
        "\n",
        "class Dog(Hayvan):\n",
        "    __owner = None\n",
        "\n",
        "    def __init__(self, name, height, weight, sound, owner):\n",
        "        self.__owner = owner\n",
        "        self.__Hayvan_type = None\n",
        "\n",
        "        # How to call the super class constructor\n",
        "        super(Dog, self).__init__(name, height, weight, sound)\n",
        "\n",
        "    def set_owner(self, owner):\n",
        "        self.__owner = owner\n",
        "\n",
        "    def get_owner(self):\n",
        "        return self.__owner\n",
        "\n",
        "    def get_type(self):\n",
        "        print (\"Dog\")\n",
        "\n",
        "    # We can overwrite functions in the super class\n",
        "    def toString(self):\n",
        "        return \"{} is {} cm tall and {} kilograms and says {}. His owner is {}\".format(self.get_name(), self.get_height(), self.get_weight(), self.get_sound(), self.__owner)\n",
        "\n",
        "    # You don't have to require attributes to be sent\n",
        "    # This allows for method overloading\n",
        "    def multiple_sounds(self, how_many=None):\n",
        "        if how_many is None:\n",
        "            print(self.get_sound)\n",
        "        else:\n",
        "            print(self.get_sound() * how_many)\n",
        "\n",
        "Benekli = Dog(\"Benekli\", 53, 27, \"Ruff\", \"Derek\")\n",
        "\n",
        "print(Benekli.toString())\n",
        "\n",
        "# Polymorphism allows use to refer to objects as their super class\n",
        "# and the correct functions are called automatically\n",
        "\n",
        "class HayvanTesting:\n",
        "    def get_type(self, Hayvan):\n",
        "        Hayvan.get_type()\n",
        "\n",
        "test_Hayvans = HayvanTesting()\n",
        "\n",
        "test_Hayvans.get_type(cat)\n",
        "test_Hayvans.get_type(Benekli)\n",
        "\n",
        "Benekli.multiple_sounds(4)"
      ],
      "execution_count": 0,
      "outputs": [
        {
          "output_type": "stream",
          "text": [
            "Kedi is 30 cm tall and 10 kilograms and says Meow\n",
            "Benekli is 53 cm tall and 27 kilograms and says Ruff. His owner is Derek\n",
            "Hayvan\n",
            "Dog\n",
            "RuffRuffRuffRuff\n"
          ],
          "name": "stdout"
        }
      ]
    },
    {
      "cell_type": "markdown",
      "metadata": {
        "id": "-HBv-5040twX",
        "colab_type": "text"
      },
      "source": [
        "-----\n",
        "---------\n",
        "-------"
      ]
    },
    {
      "cell_type": "code",
      "metadata": {
        "id": "YHpWqzpX0twX",
        "colab_type": "code",
        "colab": {},
        "outputId": "4ada1c52-b00e-47c2-c133-ddf1f291c6eb"
      },
      "source": [
        "#  !/usr/bin/python\n",
        "#  Copyright (c) akifciftci 2020. Aim to help new beginner to try hard and learn more.\n",
        "#\n",
        "\n",
        "class BankAccount:\n",
        "\n",
        "    # constructor or initializer\n",
        "    def __init__(self, name, money):\n",
        "        self.__name = name\n",
        "        self.__balance = money  # __balance is private now, so it is only accessible inside the class\n",
        "\n",
        "    def deposit(self, money):\n",
        "        self.__balance += money\n",
        "\n",
        "    def withdraw(self, money):\n",
        "        if self.__balance > money:\n",
        "            self.__balance -= money\n",
        "            return money\n",
        "        else:\n",
        "            return \"Yetersiz bakiye\"\n",
        "\n",
        "    def checkbalance(self):\n",
        "        return self.__balance\n",
        "\n",
        "\n",
        "b1 = BankAccount ('mahmut', 400)\n",
        "print ('Cekilecek para ',b1.withdraw (500))\n",
        "b1.deposit (500)\n",
        "\n",
        "print ('Miktar ',b1.checkbalance ())\n",
        "print ('Cekilen para ',b1.withdraw (800))\n",
        "print ('Miktar ',b1.checkbalance ())"
      ],
      "execution_count": 0,
      "outputs": [
        {
          "output_type": "stream",
          "text": [
            "Cekilecek para  Yetersiz bakiye\n",
            "Miktar  900\n",
            "Cekilen para  800\n",
            "Miktar  100\n"
          ],
          "name": "stdout"
        }
      ]
    },
    {
      "cell_type": "markdown",
      "metadata": {
        "id": "HEMiy50N0twZ",
        "colab_type": "text"
      },
      "source": [
        "-----\n",
        "-----\n",
        "---"
      ]
    },
    {
      "cell_type": "code",
      "metadata": {
        "id": "SPMmVYSo0twZ",
        "colab_type": "code",
        "colab": {},
        "outputId": "5bc82025-36d4-4ba0-9b88-78e008bb762a"
      },
      "source": [
        "old_listem = [1, 2, 3,4,5,6,7,8]\n",
        "new_listem=old_listem.copy()\n",
        "\n",
        "# add element to list\n",
        "new_listem.append('a')\n",
        "new_listem.append('b')\n",
        "\n",
        "new_listem.append('c')\n",
        "new_listem.append('d')\n",
        "new_listem.append('son')\n",
        "\n",
        "if 'a' in new_listem:\n",
        "    new_listem.remove('a')\n",
        "\n",
        "    \n",
        "if 'b' in new_listem:\n",
        "    new_listem.remove('b')    \n",
        "    \n",
        "    \n",
        "print('New List:', new_listem )\n",
        "print('Old List:', old_listem )"
      ],
      "execution_count": 0,
      "outputs": [
        {
          "output_type": "stream",
          "text": [
            "New List: [1, 2, 3, 4, 5, 6, 7, 8, 'c', 'd', 'son']\n",
            "Old List: [1, 2, 3, 4, 5, 6, 7, 8]\n"
          ],
          "name": "stdout"
        }
      ]
    },
    {
      "cell_type": "markdown",
      "metadata": {
        "id": "8xEiqmhJ0twa",
        "colab_type": "text"
      },
      "source": [
        "---------\n",
        "-------"
      ]
    },
    {
      "cell_type": "code",
      "metadata": {
        "id": "AVFC5ZNk0twa",
        "colab_type": "code",
        "colab": {},
        "outputId": "1321211b-3256-48ae-af1e-0ea8f58da46a"
      },
      "source": [
        "def keywords_func(**key_args):\n",
        "    for i, j in key_args.items():\n",
        "        print(i, j)\n",
        "\n",
        "\n",
        "keywords_func(\n",
        "    name='Cenk',\n",
        "    sport='football',\n",
        "    roll=19,\n",
        "    goba='stupid'\n",
        "\n",
        ")  # istedigin kadar keywords pass et\n",
        "\n",
        "\n",
        "def my_three(a, b, c):\n",
        "    print(a, b, c)\n",
        "\n",
        "\n",
        "a = [1, 2, 3]\n",
        "b = [5, 6, 7]\n",
        "my_three(*a)  # here list is broken into three elements\n",
        "my_three(*b)\n"
      ],
      "execution_count": 0,
      "outputs": [
        {
          "output_type": "stream",
          "text": [
            "name Cenk\n",
            "sport football\n",
            "roll 19\n",
            "goba stupid\n",
            "1 2 3\n",
            "5 6 7\n"
          ],
          "name": "stdout"
        }
      ]
    },
    {
      "cell_type": "markdown",
      "metadata": {
        "id": "ElILpLVe0twc",
        "colab_type": "text"
      },
      "source": [
        "-----\n",
        "----"
      ]
    },
    {
      "cell_type": "markdown",
      "metadata": {
        "id": "l8wlrLu20twc",
        "colab_type": "text"
      },
      "source": [
        "#### Guessing games"
      ]
    },
    {
      "cell_type": "code",
      "metadata": {
        "id": "Vi3LwqyH0twc",
        "colab_type": "code",
        "colab": {},
        "outputId": "19785541-5dff-4c56-ad23-1c2381d93a1c"
      },
      "source": [
        "#Do it\n",
        "\n",
        "number=int(input('enter a number between 0-100'))\n",
        "print('Your number is :', number)\n",
        "print('')\n",
        "desiredNumber=25\n",
        "if number >desiredNumber:\n",
        "    print('it is too high')\n",
        "elif number < desiredNumber:\n",
        "        print('it is too low')\n",
        "else:\n",
        "    print('It is correct',number)\n"
      ],
      "execution_count": 0,
      "outputs": [
        {
          "output_type": "stream",
          "text": [
            "enter a number between 0-10026\n",
            "Your number is : 26\n",
            "\n",
            "it is too high\n"
          ],
          "name": "stdout"
        }
      ]
    },
    {
      "cell_type": "markdown",
      "metadata": {
        "id": "K2UPvkza0twe",
        "colab_type": "text"
      },
      "source": [
        "---\n",
        "---\n",
        "---"
      ]
    },
    {
      "cell_type": "code",
      "metadata": {
        "id": "S_FeecXC0twe",
        "colab_type": "code",
        "colab": {}
      },
      "source": [
        ""
      ],
      "execution_count": 0,
      "outputs": []
    }
  ]
}