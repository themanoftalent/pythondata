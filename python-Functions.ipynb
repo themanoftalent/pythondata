{
 "cells": [
  {
   "cell_type": "code",
   "execution_count": 5,
   "metadata": {},
   "outputs": [
    {
     "name": "stdout",
     "output_type": "stream",
     "text": [
      "720\n"
     ]
    }
   ],
   "source": [
    "def faktortyal(n):\n",
    "    sayi=1\n",
    "    \n",
    "    for i in range(1, n+1):\n",
    "        sayi *=i\n",
    "    print(sayi)\n",
    "    \n",
    "    \n",
    "faktortyal(6)"
   ]
  },
  {
   "cell_type": "code",
   "execution_count": 9,
   "metadata": {},
   "outputs": [
    {
     "data": {
      "text/plain": [
       "(45, 51)"
      ]
     },
     "execution_count": 9,
     "metadata": {},
     "output_type": "execute_result"
    }
   ],
   "source": [
    "#what is this \n",
    "\n",
    "def RakamYerDegis(x,y):\n",
    "    if x>y:\n",
    "        x,y=y,x\n",
    "        return x,y\n",
    "    \n",
    "    \n",
    "RakamYerDegis(51,45)\n",
    "        "
   ]
  },
  {
   "cell_type": "code",
   "execution_count": 16,
   "metadata": {},
   "outputs": [
    {
     "data": {
      "text/plain": [
       "[0,\n",
       " 1,\n",
       " 2,\n",
       " 3,\n",
       " 4,\n",
       " 5,\n",
       " 6,\n",
       " 7,\n",
       " 8,\n",
       " 9,\n",
       " 10,\n",
       " 11,\n",
       " 12,\n",
       " 13,\n",
       " 14,\n",
       " 15,\n",
       " 16,\n",
       " 17,\n",
       " 18,\n",
       " 19,\n",
       " 20,\n",
       " 21,\n",
       " 22,\n",
       " 23,\n",
       " 24,\n",
       " 25,\n",
       " 26,\n",
       " 27,\n",
       " 28,\n",
       " 29,\n",
       " 30,\n",
       " 31,\n",
       " 32,\n",
       " [23, 55]]"
      ]
     },
     "execution_count": 16,
     "metadata": {},
     "output_type": "execute_result"
    }
   ],
   "source": [
    "myListe=list(range(33))\n",
    "myListe[slice(1,5)]\n",
    "myListe.append([23,55])\n",
    "myListe"
   ]
  },
  {
   "cell_type": "code",
   "execution_count": 25,
   "metadata": {},
   "outputs": [],
   "source": [
    "myListe.remove(23)"
   ]
  },
  {
   "cell_type": "code",
   "execution_count": 29,
   "metadata": {},
   "outputs": [
    {
     "data": {
      "text/plain": [
       "[]"
      ]
     },
     "execution_count": 29,
     "metadata": {},
     "output_type": "execute_result"
    }
   ],
   "source": [
    "myListe.clear()\n",
    "myListe"
   ]
  },
  {
   "cell_type": "markdown",
   "metadata": {},
   "source": [
    "_____"
   ]
  },
  {
   "cell_type": "markdown",
   "metadata": {},
   "source": [
    "**Time** :\n",
    "Talking about time"
   ]
  },
  {
   "cell_type": "code",
   "execution_count": 31,
   "metadata": {},
   "outputs": [
    {
     "data": {
      "text/plain": [
       "1582605334.8702872"
      ]
     },
     "execution_count": 31,
     "metadata": {},
     "output_type": "execute_result"
    }
   ],
   "source": [
    "import time\n",
    "\n",
    "seconds=time.time()\n",
    "seconds"
   ]
  },
  {
   "cell_type": "code",
   "execution_count": 33,
   "metadata": {},
   "outputs": [
    {
     "data": {
      "text/plain": [
       "time.struct_time(tm_year=2020, tm_mon=2, tm_mday=25, tm_hour=7, tm_min=35, tm_sec=34, tm_wday=1, tm_yday=56, tm_isdst=0)"
      ]
     },
     "execution_count": 33,
     "metadata": {},
     "output_type": "execute_result"
    }
   ],
   "source": [
    "localtime=time.localtime(seconds)\n",
    "localtime"
   ]
  },
  {
   "cell_type": "code",
   "execution_count": 34,
   "metadata": {},
   "outputs": [
    {
     "data": {
      "text/plain": [
       "2020"
      ]
     },
     "execution_count": 34,
     "metadata": {},
     "output_type": "execute_result"
    }
   ],
   "source": [
    "localtime.tm_year"
   ]
  },
  {
   "cell_type": "code",
   "execution_count": 35,
   "metadata": {},
   "outputs": [
    {
     "data": {
      "text/plain": [
       "7"
      ]
     },
     "execution_count": 35,
     "metadata": {},
     "output_type": "execute_result"
    }
   ],
   "source": [
    "localtime.tm_hour"
   ]
  },
  {
   "cell_type": "code",
   "execution_count": 39,
   "metadata": {},
   "outputs": [
    {
     "name": "stdout",
     "output_type": "stream",
     "text": [
      "Tue Feb 25 07:35:34 2020\n",
      "2020-02-25 07:35:34\n"
     ]
    }
   ],
   "source": [
    "asctime = time.asctime(localtime)\n",
    "print(asctime)\n",
    "\n",
    "strtime = time.strftime('%Y-%m-%d %H:%M:%S', localtime)\n",
    "print(strtime)"
   ]
  },
  {
   "cell_type": "code",
   "execution_count": 42,
   "metadata": {},
   "outputs": [
    {
     "name": "stdout",
     "output_type": "stream",
     "text": [
      "Tue Feb 25 07:35:34 2020\n"
     ]
    }
   ],
   "source": [
    "asctime=time.asctime(localtime)\n",
    "print(asctime)"
   ]
  },
  {
   "cell_type": "markdown",
   "metadata": {},
   "source": [
    "------\n",
    "------\n"
   ]
  },
  {
   "cell_type": "code",
   "execution_count": 45,
   "metadata": {},
   "outputs": [
    {
     "name": "stdout",
     "output_type": "stream",
     "text": [
      "15\n",
      "630\n",
      "240\n",
      "14\n"
     ]
    }
   ],
   "source": [
    "def formula1(a, b=5, c=10):\n",
    "    return (a + b) * 2 + (c * 3)\n",
    "\n",
    "\n",
    "\n",
    "print(formula1(1, 2, 3))\n",
    "print(formula1(100, 200))\n",
    "print(formula1(100))\n",
    "print(formula1(c=2, b=3, a=1))"
   ]
  },
  {
   "cell_type": "code",
   "execution_count": 49,
   "metadata": {},
   "outputs": [
    {
     "data": {
      "text/plain": [
       "55"
      ]
     },
     "execution_count": 49,
     "metadata": {},
     "output_type": "execute_result"
    }
   ],
   "source": [
    "def f2(*args):\n",
    "    sum = 0\n",
    "    for num in args:\n",
    "        sum += num\n",
    "    return sum\n",
    "\n",
    "\n",
    "f2(1,2,3,4,5,6,7,8,9,10)"
   ]
  },
  {
   "cell_type": "markdown",
   "metadata": {},
   "source": [
    "------\n",
    "------"
   ]
  },
  {
   "cell_type": "code",
   "execution_count": 53,
   "metadata": {},
   "outputs": [
    {
     "name": "stdout",
     "output_type": "stream",
     "text": [
      "Os Path is  <module 'posixpath' from '/Users/darwin/opt/miniconda3/lib/python3.7/posixpath.py'>\n",
      "['Thumbs.db', 'Data Mining', '452 review.pdf', '.DS_Store', '.localized', '$RECYCLE.BIN', 'so far articles', 'Shell_Practices', 'Functions.ipynb', 'Doctorate prep copied', 'matlab', 'PYTHON EVERYTHING', 'MatLab Lung Cancer Projects', '.ipynb_checkpoints', 'Yz Amateur', 'KNOSYS-S-20-00640.pdf', 'image-processing.webloc']\n",
      "==============================\n",
      "file exist:False\n",
      "File exists:False\n",
      "directory exists:False\n",
      "File exists False\n",
      "Dosya bulunmakta False\n",
      "Dosya var  False\n",
      "****************************************\n",
      "Is it Directory? False\n",
      "Is it Directory? False\n"
     ]
    }
   ],
   "source": [
    "import os\n",
    "from os import path\n",
    "\n",
    "\n",
    "def main():\n",
    "   print('Os Path is ', os.path)\n",
    "   print(os.listdir())\n",
    "\n",
    "   print('==============================')\n",
    "   print (\"file exist:\"+str(path.exists('gpedit.txt')))\n",
    "   print (\"File exists:\" + str(path.exists('career.txt')))\n",
    "   print (\"directory exists:\" + str(path.exists('myDirectory')))\n",
    "   print('File exists',str(path.exists(\"Dosya.txt\")))\n",
    "   print('Dosya bulunmakta '+str(path.exists(\"Patasana.text\")))\n",
    "   print('Dosya var ', str(path.exists('Puslu Ada')))\n",
    "   print(\"**\"*20)\n",
    "   print (\"Is it Directory? \" + str (path.isdir ('gped.txt')))\n",
    "   print (\"Is it Directory? \" + str (path.isdir ('myDirectory')))\n",
    "\n",
    "\n",
    "if __name__=='__main__':\n",
    "   main()"
   ]
  },
  {
   "cell_type": "markdown",
   "metadata": {},
   "source": [
    "--------\n",
    "--------"
   ]
  },
  {
   "cell_type": "code",
   "execution_count": 59,
   "metadata": {},
   "outputs": [
    {
     "name": "stdout",
     "output_type": "stream",
     "text": [
      "Enter something : hey\n",
      "Enter something : brig\n",
      "Enter something : quit\n",
      "Length of the string is 4\n",
      "Done\n"
     ]
    }
   ],
   "source": [
    "while True:\n",
    "     strings = input ('Enter something : ')\n",
    "     if strings == 'quit':\n",
    "        break\n",
    "print('Length of the string is', len (strings))\n",
    "print('Done')"
   ]
  },
  {
   "cell_type": "code",
   "execution_count": 80,
   "metadata": {},
   "outputs": [
    {
     "data": {
      "text/plain": [
       "[0, 1, 2, 3, 4, 6, 7, 8, 9]"
      ]
     },
     "execution_count": 80,
     "metadata": {},
     "output_type": "execute_result"
    }
   ],
   "source": [
    "A=list(range(5))\n",
    "B=list(range(6,10))\n",
    "A+B"
   ]
  },
  {
   "cell_type": "code",
   "execution_count": 79,
   "metadata": {},
   "outputs": [
    {
     "data": {
      "text/plain": [
       "[(0, 6),\n",
       " (0, 7),\n",
       " (0, 8),\n",
       " (0, 9),\n",
       " (1, 6),\n",
       " (1, 7),\n",
       " (1, 8),\n",
       " (1, 9),\n",
       " (2, 6),\n",
       " (2, 7),\n",
       " (2, 8),\n",
       " (2, 9),\n",
       " (3, 6),\n",
       " (3, 7),\n",
       " (3, 8),\n",
       " (3, 9),\n",
       " (4, 6),\n",
       " (4, 7),\n",
       " (4, 8),\n",
       " (4, 9)]"
      ]
     },
     "execution_count": 79,
     "metadata": {},
     "output_type": "execute_result"
    }
   ],
   "source": [
    "kartezyen=[(a,b) for a in A for b in B]\n",
    "kartezyen"
   ]
  },
  {
   "cell_type": "code",
   "execution_count": 81,
   "metadata": {},
   "outputs": [
    {
     "name": "stdout",
     "output_type": "stream",
     "text": [
      "[6, 7, 8, 9, 7, 8, 9, 10, 8, 9, 10, 11, 9, 10, 11, 12, 10, 11, 12, 13]\n"
     ]
    }
   ],
   "source": [
    "toplama=[(a+ b) for a in A for b in B]\n",
    "print(toplama)"
   ]
  },
  {
   "cell_type": "code",
   "execution_count": 82,
   "metadata": {},
   "outputs": [
    {
     "name": "stdout",
     "output_type": "stream",
     "text": [
      "[-6, -7, -8, -9, -5, -6, -7, -8, -4, -5, -6, -7, -3, -4, -5, -6, -2, -3, -4, -5]\n"
     ]
    }
   ],
   "source": [
    "cikarma=[(a- b) for a in A for b in B]\n",
    "print(cikarma)\n"
   ]
  },
  {
   "cell_type": "code",
   "execution_count": 84,
   "metadata": {},
   "outputs": [
    {
     "name": "stdout",
     "output_type": "stream",
     "text": [
      "[0, 0, 0, 0, 6, 7, 8, 9, 12, 14, 16, 18, 18, 21, 24, 27, 24, 28, 32, 36]\n"
     ]
    }
   ],
   "source": [
    "\n",
    "carpma=[(a* b) for a in A for b in B]\n",
    "print(carpma)\n"
   ]
  },
  {
   "cell_type": "code",
   "execution_count": 86,
   "metadata": {},
   "outputs": [
    {
     "name": "stdout",
     "output_type": "stream",
     "text": [
      "[0.0, 0.0, 0.0, 0.0, 0.16666666666666666, 0.14285714285714285, 0.125, 0.1111111111111111, 0.3333333333333333, 0.2857142857142857, 0.25, 0.2222222222222222, 0.5, 0.42857142857142855, 0.375, 0.3333333333333333, 0.6666666666666666, 0.5714285714285714, 0.5, 0.4444444444444444]\n"
     ]
    }
   ],
   "source": [
    "\n",
    "bolme=[(a/ b) for a in A for b in B]\n",
    "print(bolme)"
   ]
  },
  {
   "cell_type": "code",
   "execution_count": 87,
   "metadata": {},
   "outputs": [
    {
     "name": "stdout",
     "output_type": "stream",
     "text": [
      "[]\n"
     ]
    }
   ],
   "source": [
    "bolmeK=[(a/ b) for a in A for b in B if a//4==0 and b==4]\n",
    "print(bolmeK)"
   ]
  },
  {
   "cell_type": "markdown",
   "metadata": {},
   "source": [
    "-----\n",
    "-----"
   ]
  },
  {
   "cell_type": "code",
   "execution_count": 88,
   "metadata": {},
   "outputs": [
    {
     "name": "stdout",
     "output_type": "stream",
     "text": [
      "*****yazdir kopek****\n",
      "Duck no bark\n",
      "Duck has fur\n",
      "Duck no meov\n",
      "Duck qwaks\n",
      "Insan can bark\n",
      "Insan has fur\n",
      "Insan can meov\n",
      "Insan can dwakcs\n",
      "Dog can bark\n",
      "Dog has fur\n",
      "Dog cannot meov\n",
      "Dog cannot dwakcs\n"
     ]
    }
   ],
   "source": [
    "#  !/usr/bin/python\n",
    "#  Copyright (c) akifciftci 2020. Aim to help new beginner to try hard and learn more.\n",
    "#\n",
    "#\n",
    "\n",
    "class Animalsactions:\n",
    "\n",
    "    def qwack(self):\n",
    "        return self.strings['qwack']\n",
    "\n",
    "    def fur(self):\n",
    "        return self.strings['fur']\n",
    "\n",
    "    def bark(self):\n",
    "        return self.strings['bark']\n",
    "\n",
    "    def meov(self):\n",
    "        return self.strings['meov']\n",
    "\n",
    "\n",
    "class Ordek(Animalsactions):\n",
    "    strings = dict(\n",
    "        qwack='Duck qwaks',\n",
    "        fur='Duck has fur',\n",
    "        bark='Duck no bark',\n",
    "        meov='Duck no meov'\n",
    "    )\n",
    "\n",
    "\n",
    "class Insan(Animalsactions):\n",
    "    strings = dict(\n",
    "        qwack='Insan can dwakcs',\n",
    "        fur='Insan has fur',\n",
    "        bark='Insan can bark',\n",
    "        meov='Insan can meov'\n",
    "    )\n",
    "\n",
    "\n",
    "class Kopek(Animalsactions):\n",
    "    strings = dict(\n",
    "        qwack='Dog cannot dwakcs',\n",
    "        fur='Dog has fur',\n",
    "        bark='Dog can bark',\n",
    "        meov='Dog cannot meov'\n",
    "    )\n",
    "\n",
    "\n",
    "def yazdirKopek(kopek):\n",
    "    print(kopek.bark())\n",
    "    print(kopek.fur())\n",
    "    print(kopek.meov())\n",
    "    print(kopek.qwack())\n",
    "\n",
    "\n",
    "def yazdirOrdek(ordek):\n",
    "    print(ordek.qwack())\n",
    "    print(ordek.meov())\n",
    "    print(ordek.fur())\n",
    "    print(ordek.bark())\n",
    "\n",
    "\n",
    "def yazirInsan(insan):\n",
    "    print(insan.meov())\n",
    "    print(insan.fur())\n",
    "    print(insan.qwack())\n",
    "    print(insan.bark())\n",
    "\n",
    "\n",
    "def main():\n",
    "    Donald = Ordek()\n",
    "    Tumaz = Kopek()\n",
    "    Ahmet = Insan()\n",
    "\n",
    "    print('*****yazdir kopek****')\n",
    "    for o in (Donald, Ahmet, Tumaz):\n",
    "        yazdirKopek(o)\n",
    "\n",
    "\n",
    "if __name__ == '__main__': main()\n"
   ]
  },
  {
   "cell_type": "markdown",
   "metadata": {},
   "source": [
    "-----\n",
    "-----"
   ]
  },
  {
   "cell_type": "code",
   "execution_count": 89,
   "metadata": {},
   "outputs": [
    {
     "name": "stdout",
     "output_type": "stream",
     "text": [
      "Kedi is 30 cm tall and 10 kilograms and says Meow\n",
      "Benekli is 53 cm tall and 27 kilograms and says Ruff. His owner is Derek\n",
      "Hayvan\n",
      "Dog\n",
      "RuffRuffRuffRuff\n"
     ]
    }
   ],
   "source": [
    "\n",
    "#  !/usr/bin/python\n",
    "#  Copyright (c) akifciftci 2020. Aim to help new beginner to try hard and learn more.\n",
    "#\n",
    "#\n",
    "\n",
    "\n",
    "class Hayvan:\n",
    "    # None signifies the lack of a value\n",
    "    # You can make a variable private by starting it with __\n",
    "    __name = None\n",
    "    __height = None\n",
    "    __weight = None\n",
    "    __sound = None\n",
    "\n",
    "    # The constructor is called to set up or initialize an object\n",
    "    # self allows an object to refer to itself inside of the class\n",
    "    def __init__(self, name, height, weight, sound):\n",
    "        self.__name = name\n",
    "        self.__height = height\n",
    "        self.__weight = weight\n",
    "        self.__sound = sound\n",
    "\n",
    "    def set_name(self, name):\n",
    "        self.__name = name\n",
    "\n",
    "    def set_height(self, height):\n",
    "        self.__height = height\n",
    "\n",
    "    def set_weight(self, height):\n",
    "        self.__height = height\n",
    "\n",
    "    def set_sound(self, sound):\n",
    "        self.__sound = sound\n",
    "\n",
    "    def get_name(self):\n",
    "        return self.__name\n",
    "\n",
    "    def get_height(self):\n",
    "        return str(self.__height)\n",
    "\n",
    "    def get_weight(self):\n",
    "        return str(self.__weight)\n",
    "\n",
    "    def get_sound(self):\n",
    "        return self.__sound\n",
    "\n",
    "    def get_type(self):\n",
    "        print(\"Hayvan\")\n",
    "\n",
    "    def toString(self):\n",
    "        return \"{} is {} cm tall and {} kilograms and says {}\".format(self.__name, self.__height, self.__weight, self.__sound)\n",
    "\n",
    "# How to create a Hayvan object\n",
    "cat = Hayvan('Kedi', 30, 10, 'Meow')\n",
    "\n",
    "print(cat.toString())\n",
    "\n",
    "# You can't access this value directly because it is private\n",
    "#print(cat.__name)\n",
    "\n",
    "# INHERITANCE -------------\n",
    "# You can inherit all of the variables and methods from another class\n",
    "\n",
    "class Dog(Hayvan):\n",
    "    __owner = None\n",
    "\n",
    "    def __init__(self, name, height, weight, sound, owner):\n",
    "        self.__owner = owner\n",
    "        self.__Hayvan_type = None\n",
    "\n",
    "        # How to call the super class constructor\n",
    "        super(Dog, self).__init__(name, height, weight, sound)\n",
    "\n",
    "    def set_owner(self, owner):\n",
    "        self.__owner = owner\n",
    "\n",
    "    def get_owner(self):\n",
    "        return self.__owner\n",
    "\n",
    "    def get_type(self):\n",
    "        print (\"Dog\")\n",
    "\n",
    "    # We can overwrite functions in the super class\n",
    "    def toString(self):\n",
    "        return \"{} is {} cm tall and {} kilograms and says {}. His owner is {}\".format(self.get_name(), self.get_height(), self.get_weight(), self.get_sound(), self.__owner)\n",
    "\n",
    "    # You don't have to require attributes to be sent\n",
    "    # This allows for method overloading\n",
    "    def multiple_sounds(self, how_many=None):\n",
    "        if how_many is None:\n",
    "            print(self.get_sound)\n",
    "        else:\n",
    "            print(self.get_sound() * how_many)\n",
    "\n",
    "Benekli = Dog(\"Benekli\", 53, 27, \"Ruff\", \"Derek\")\n",
    "\n",
    "print(Benekli.toString())\n",
    "\n",
    "# Polymorphism allows use to refer to objects as their super class\n",
    "# and the correct functions are called automatically\n",
    "\n",
    "class HayvanTesting:\n",
    "    def get_type(self, Hayvan):\n",
    "        Hayvan.get_type()\n",
    "\n",
    "test_Hayvans = HayvanTesting()\n",
    "\n",
    "test_Hayvans.get_type(cat)\n",
    "test_Hayvans.get_type(Benekli)\n",
    "\n",
    "Benekli.multiple_sounds(4)"
   ]
  },
  {
   "cell_type": "markdown",
   "metadata": {},
   "source": [
    "-----\n",
    "---------\n",
    "-------"
   ]
  },
  {
   "cell_type": "code",
   "execution_count": 90,
   "metadata": {},
   "outputs": [
    {
     "name": "stdout",
     "output_type": "stream",
     "text": [
      "Cekilecek para  Yetersiz bakiye\n",
      "Miktar  900\n",
      "Cekilen para  800\n",
      "Miktar  100\n"
     ]
    }
   ],
   "source": [
    "#  !/usr/bin/python\n",
    "#  Copyright (c) akifciftci 2020. Aim to help new beginner to try hard and learn more.\n",
    "#\n",
    "\n",
    "class BankAccount:\n",
    "\n",
    "    # constructor or initializer\n",
    "    def __init__(self, name, money):\n",
    "        self.__name = name\n",
    "        self.__balance = money  # __balance is private now, so it is only accessible inside the class\n",
    "\n",
    "    def deposit(self, money):\n",
    "        self.__balance += money\n",
    "\n",
    "    def withdraw(self, money):\n",
    "        if self.__balance > money:\n",
    "            self.__balance -= money\n",
    "            return money\n",
    "        else:\n",
    "            return \"Yetersiz bakiye\"\n",
    "\n",
    "    def checkbalance(self):\n",
    "        return self.__balance\n",
    "\n",
    "\n",
    "b1 = BankAccount ('mahmut', 400)\n",
    "print ('Cekilecek para ',b1.withdraw (500))\n",
    "b1.deposit (500)\n",
    "\n",
    "print ('Miktar ',b1.checkbalance ())\n",
    "print ('Cekilen para ',b1.withdraw (800))\n",
    "print ('Miktar ',b1.checkbalance ())"
   ]
  },
  {
   "cell_type": "markdown",
   "metadata": {},
   "source": [
    "-----\n",
    "-----\n",
    "---"
   ]
  },
  {
   "cell_type": "code",
   "execution_count": 98,
   "metadata": {},
   "outputs": [
    {
     "name": "stdout",
     "output_type": "stream",
     "text": [
      "New List: [1, 2, 3, 4, 5, 6, 7, 8, 'c', 'd', 'son']\n",
      "Old List: [1, 2, 3, 4, 5, 6, 7, 8]\n"
     ]
    }
   ],
   "source": [
    "old_listem = [1, 2, 3,4,5,6,7,8]\n",
    "new_listem=old_listem.copy()\n",
    "\n",
    "# add element to list\n",
    "new_listem.append('a')\n",
    "new_listem.append('b')\n",
    "\n",
    "new_listem.append('c')\n",
    "new_listem.append('d')\n",
    "new_listem.append('son')\n",
    "\n",
    "if 'a' in new_listem:\n",
    "    new_listem.remove('a')\n",
    "\n",
    "    \n",
    "if 'b' in new_listem:\n",
    "    new_listem.remove('b')    \n",
    "    \n",
    "    \n",
    "print('New List:', new_listem )\n",
    "print('Old List:', old_listem )"
   ]
  },
  {
   "cell_type": "markdown",
   "metadata": {},
   "source": [
    "---------\n",
    "-------"
   ]
  },
  {
   "cell_type": "code",
   "execution_count": 99,
   "metadata": {},
   "outputs": [
    {
     "name": "stdout",
     "output_type": "stream",
     "text": [
      "name Cenk\n",
      "sport football\n",
      "roll 19\n",
      "goba stupid\n",
      "1 2 3\n",
      "5 6 7\n"
     ]
    }
   ],
   "source": [
    "def keywords_func(**key_args):\n",
    "    for i, j in key_args.items():\n",
    "        print(i, j)\n",
    "\n",
    "\n",
    "keywords_func(\n",
    "    name='Cenk',\n",
    "    sport='football',\n",
    "    roll=19,\n",
    "    goba='stupid'\n",
    "\n",
    ")  # istedigin kadar keywords pass et\n",
    "\n",
    "\n",
    "def my_three(a, b, c):\n",
    "    print(a, b, c)\n",
    "\n",
    "\n",
    "a = [1, 2, 3]\n",
    "b = [5, 6, 7]\n",
    "my_three(*a)  # here list is broken into three elements\n",
    "my_three(*b)\n"
   ]
  },
  {
   "cell_type": "markdown",
   "metadata": {},
   "source": [
    "-----\n",
    "----"
   ]
  },
  {
   "cell_type": "markdown",
   "metadata": {},
   "source": [
    "#### Guessing games"
   ]
  },
  {
   "cell_type": "code",
   "execution_count": 107,
   "metadata": {},
   "outputs": [
    {
     "name": "stdout",
     "output_type": "stream",
     "text": [
      "enter a number between 0-10026\n",
      "Your number is : 26\n",
      "\n",
      "it is too high\n"
     ]
    }
   ],
   "source": [
    "#Do it\n",
    "\n",
    "number=int(input('enter a number between 0-100'))\n",
    "print('Your number is :', number)\n",
    "print('')\n",
    "desiredNumber=25\n",
    "if number >desiredNumber:\n",
    "    print('it is too high')\n",
    "elif number < desiredNumber:\n",
    "        print('it is too low')\n",
    "else:\n",
    "    print('It is correct',number)\n"
   ]
  },
  {
   "cell_type": "markdown",
   "metadata": {},
   "source": [
    "---\n",
    "---\n",
    "---"
   ]
  },
  {
   "cell_type": "code",
   "execution_count": null,
   "metadata": {},
   "outputs": [],
   "source": []
  }
 ],
 "metadata": {
  "kernelspec": {
   "display_name": "Python 3.7.4 64-bit ('miniconda3': virtualenv)",
   "language": "python",
   "name": "python37464bitminiconda3virtualenv0874ec4b65004acdac879cc1bfcb658e"
  },
  "language_info": {
   "codemirror_mode": {
    "name": "ipython",
    "version": 3
   },
   "file_extension": ".py",
   "mimetype": "text/x-python",
   "name": "python",
   "nbconvert_exporter": "python",
   "pygments_lexer": "ipython3",
   "version": "3.7.4"
  }
 },
 "nbformat": 4,
 "nbformat_minor": 2
}
