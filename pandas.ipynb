{
  "nbformat": 4,
  "nbformat_minor": 0,
  "metadata": {
    "kernelspec": {
      "display_name": "Python 3",
      "language": "python",
      "name": "python3"
    },
    "language_info": {
      "codemirror_mode": {
        "name": "ipython",
        "version": 3
      },
      "file_extension": ".py",
      "mimetype": "text/x-python",
      "name": "python",
      "nbconvert_exporter": "python",
      "pygments_lexer": "ipython3",
      "version": "3.7.6"
    },
    "colab": {
      "name": "pandas.ipynb",
      "provenance": [],
      "collapsed_sections": [],
      "toc_visible": true,
      "include_colab_link": true
    }
  },
  "cells": [
    {
      "cell_type": "markdown",
      "metadata": {
        "id": "view-in-github",
        "colab_type": "text"
      },
      "source": [
        "<a href=\"https://colab.research.google.com/github/themanoftalent/pythondata/blob/master/pandas.ipynb\" target=\"_parent\"><img src=\"https://colab.research.google.com/assets/colab-badge.svg\" alt=\"Open In Colab\"/></a>"
      ]
    },
    {
      "cell_type": "markdown",
      "metadata": {
        "id": "3jrnilsKjOsn",
        "colab_type": "text"
      },
      "source": [
        "#### Here we are doing one and two or multi dimensional pandas. Pandas series, dataframes etc. Pandas panel data. "
      ]
    },
    {
      "cell_type": "code",
      "metadata": {
        "id": "PACQwwKQjOsq",
        "colab_type": "code",
        "colab": {}
      },
      "source": [
        "import pandas as pd"
      ],
      "execution_count": 0,
      "outputs": []
    },
    {
      "cell_type": "code",
      "metadata": {
        "id": "Izf_S_C7jOsu",
        "colab_type": "code",
        "colab": {}
      },
      "source": [
        "datam=[1,2,3,4,5,6,7,8,9]\n",
        "series1=pd.Series(datam)"
      ],
      "execution_count": 0,
      "outputs": []
    },
    {
      "cell_type": "code",
      "metadata": {
        "id": "afDnUE3MjOsx",
        "colab_type": "code",
        "outputId": "81fb4b6b-b8d3-481b-f559-1cccbcfad153",
        "colab": {
          "base_uri": "https://localhost:8080/",
          "height": 185
        }
      },
      "source": [
        "series1"
      ],
      "execution_count": 0,
      "outputs": [
        {
          "output_type": "execute_result",
          "data": {
            "text/plain": [
              "0    1\n",
              "1    2\n",
              "2    3\n",
              "3    4\n",
              "4    5\n",
              "5    6\n",
              "6    7\n",
              "7    8\n",
              "8    9\n",
              "dtype: int64"
            ]
          },
          "metadata": {
            "tags": []
          },
          "execution_count": 4
        }
      ]
    },
    {
      "cell_type": "code",
      "metadata": {
        "id": "VaabD1CHjOs2",
        "colab_type": "code",
        "outputId": "7a8dd6b9-0bcd-4122-dbe4-cbb9f9121801",
        "colab": {
          "base_uri": "https://localhost:8080/",
          "height": 34
        }
      },
      "source": [
        "type(series1)"
      ],
      "execution_count": 0,
      "outputs": [
        {
          "output_type": "execute_result",
          "data": {
            "text/plain": [
              "pandas.core.series.Series"
            ]
          },
          "metadata": {
            "tags": []
          },
          "execution_count": 5
        }
      ]
    },
    {
      "cell_type": "markdown",
      "metadata": {
        "id": "E4dqdPKdjOs5",
        "colab_type": "text"
      },
      "source": [
        "Create dataframe"
      ]
    },
    {
      "cell_type": "code",
      "metadata": {
        "id": "9xc6g4BxjOs6",
        "colab_type": "code",
        "outputId": "2ae405b7-ab0b-4893-bc28-5a8fe7285786",
        "colab": {
          "base_uri": "https://localhost:8080/",
          "height": 34
        }
      },
      "source": [
        "import random\n",
        "\n",
        "dframe=random.random()\n",
        "dframe"
      ],
      "execution_count": 0,
      "outputs": [
        {
          "output_type": "execute_result",
          "data": {
            "text/plain": [
              "0.3388993909894171"
            ]
          },
          "metadata": {
            "tags": []
          },
          "execution_count": 6
        }
      ]
    },
    {
      "cell_type": "code",
      "metadata": {
        "id": "Cubxtr0HjOs-",
        "colab_type": "code",
        "outputId": "d5a42244-a199-4246-8618-698b900f72ab",
        "colab": {
          "base_uri": "https://localhost:8080/",
          "height": 314
        }
      },
      "source": [
        "dataframes=pd.DataFrame(datam)\n",
        "dataframes"
      ],
      "execution_count": 0,
      "outputs": [
        {
          "output_type": "execute_result",
          "data": {
            "text/html": [
              "<div>\n",
              "<style scoped>\n",
              "    .dataframe tbody tr th:only-of-type {\n",
              "        vertical-align: middle;\n",
              "    }\n",
              "\n",
              "    .dataframe tbody tr th {\n",
              "        vertical-align: top;\n",
              "    }\n",
              "\n",
              "    .dataframe thead th {\n",
              "        text-align: right;\n",
              "    }\n",
              "</style>\n",
              "<table border=\"1\" class=\"dataframe\">\n",
              "  <thead>\n",
              "    <tr style=\"text-align: right;\">\n",
              "      <th></th>\n",
              "      <th>0</th>\n",
              "    </tr>\n",
              "  </thead>\n",
              "  <tbody>\n",
              "    <tr>\n",
              "      <th>0</th>\n",
              "      <td>1</td>\n",
              "    </tr>\n",
              "    <tr>\n",
              "      <th>1</th>\n",
              "      <td>2</td>\n",
              "    </tr>\n",
              "    <tr>\n",
              "      <th>2</th>\n",
              "      <td>3</td>\n",
              "    </tr>\n",
              "    <tr>\n",
              "      <th>3</th>\n",
              "      <td>4</td>\n",
              "    </tr>\n",
              "    <tr>\n",
              "      <th>4</th>\n",
              "      <td>5</td>\n",
              "    </tr>\n",
              "    <tr>\n",
              "      <th>5</th>\n",
              "      <td>6</td>\n",
              "    </tr>\n",
              "    <tr>\n",
              "      <th>6</th>\n",
              "      <td>7</td>\n",
              "    </tr>\n",
              "    <tr>\n",
              "      <th>7</th>\n",
              "      <td>8</td>\n",
              "    </tr>\n",
              "    <tr>\n",
              "      <th>8</th>\n",
              "      <td>9</td>\n",
              "    </tr>\n",
              "  </tbody>\n",
              "</table>\n",
              "</div>"
            ],
            "text/plain": [
              "   0\n",
              "0  1\n",
              "1  2\n",
              "2  3\n",
              "3  4\n",
              "4  5\n",
              "5  6\n",
              "6  7\n",
              "7  8\n",
              "8  9"
            ]
          },
          "metadata": {
            "tags": []
          },
          "execution_count": 7
        }
      ]
    },
    {
      "cell_type": "markdown",
      "metadata": {
        "id": "x5TZlZ6njOtB",
        "colab_type": "text"
      },
      "source": [
        "Lets do with dictionary"
      ]
    },
    {
      "cell_type": "code",
      "metadata": {
        "id": "dqKychmWjOtC",
        "colab_type": "code",
        "outputId": "fbe3c7d6-fc31-4501-cd75-2f6216a1ca9f",
        "colab": {
          "base_uri": "https://localhost:8080/",
          "height": 136
        }
      },
      "source": [
        "myDict={\"FruitName\":[\"apple\",\"banana\",\"melon\"], \"Counts\":[10,15,25]}\n",
        "myDictframe=pd.DataFrame(myDict)\n",
        "myDictframe"
      ],
      "execution_count": 0,
      "outputs": [
        {
          "output_type": "execute_result",
          "data": {
            "text/html": [
              "<div>\n",
              "<style scoped>\n",
              "    .dataframe tbody tr th:only-of-type {\n",
              "        vertical-align: middle;\n",
              "    }\n",
              "\n",
              "    .dataframe tbody tr th {\n",
              "        vertical-align: top;\n",
              "    }\n",
              "\n",
              "    .dataframe thead th {\n",
              "        text-align: right;\n",
              "    }\n",
              "</style>\n",
              "<table border=\"1\" class=\"dataframe\">\n",
              "  <thead>\n",
              "    <tr style=\"text-align: right;\">\n",
              "      <th></th>\n",
              "      <th>FruitName</th>\n",
              "      <th>Counts</th>\n",
              "    </tr>\n",
              "  </thead>\n",
              "  <tbody>\n",
              "    <tr>\n",
              "      <th>0</th>\n",
              "      <td>apple</td>\n",
              "      <td>10</td>\n",
              "    </tr>\n",
              "    <tr>\n",
              "      <th>1</th>\n",
              "      <td>banana</td>\n",
              "      <td>15</td>\n",
              "    </tr>\n",
              "    <tr>\n",
              "      <th>2</th>\n",
              "      <td>melon</td>\n",
              "      <td>25</td>\n",
              "    </tr>\n",
              "  </tbody>\n",
              "</table>\n",
              "</div>"
            ],
            "text/plain": [
              "  FruitName  Counts\n",
              "0     apple      10\n",
              "1    banana      15\n",
              "2     melon      25"
            ]
          },
          "metadata": {
            "tags": []
          },
          "execution_count": 8
        }
      ]
    },
    {
      "cell_type": "markdown",
      "metadata": {
        "id": "f6ItQUvKjOtF",
        "colab_type": "text"
      },
      "source": [
        "##### Now lets create dataframe using numpy"
      ]
    },
    {
      "cell_type": "code",
      "metadata": {
        "id": "WHtC6j00jOtG",
        "colab_type": "code",
        "outputId": "72f68f63-6bb5-4d2a-b47d-80b2b9bace93",
        "colab": {
          "base_uri": "https://localhost:8080/",
          "height": 136
        }
      },
      "source": [
        "import numpy as np\n",
        "numparray=np.array([[15000,16000,12500],['Ahmet','Ali',\"Can\"],[20,30,40]]) \n",
        "#it should be double brackets \n",
        "df=pd.DataFrame({\"Name\":numparray[1],\"Salary\":numparray[0],\"Age\":numparray[2]})\n",
        "df\n"
      ],
      "execution_count": 0,
      "outputs": [
        {
          "output_type": "execute_result",
          "data": {
            "text/html": [
              "<div>\n",
              "<style scoped>\n",
              "    .dataframe tbody tr th:only-of-type {\n",
              "        vertical-align: middle;\n",
              "    }\n",
              "\n",
              "    .dataframe tbody tr th {\n",
              "        vertical-align: top;\n",
              "    }\n",
              "\n",
              "    .dataframe thead th {\n",
              "        text-align: right;\n",
              "    }\n",
              "</style>\n",
              "<table border=\"1\" class=\"dataframe\">\n",
              "  <thead>\n",
              "    <tr style=\"text-align: right;\">\n",
              "      <th></th>\n",
              "      <th>Name</th>\n",
              "      <th>Salary</th>\n",
              "      <th>Age</th>\n",
              "    </tr>\n",
              "  </thead>\n",
              "  <tbody>\n",
              "    <tr>\n",
              "      <th>0</th>\n",
              "      <td>Ahmet</td>\n",
              "      <td>15000</td>\n",
              "      <td>20</td>\n",
              "    </tr>\n",
              "    <tr>\n",
              "      <th>1</th>\n",
              "      <td>Ali</td>\n",
              "      <td>16000</td>\n",
              "      <td>30</td>\n",
              "    </tr>\n",
              "    <tr>\n",
              "      <th>2</th>\n",
              "      <td>Can</td>\n",
              "      <td>12500</td>\n",
              "      <td>40</td>\n",
              "    </tr>\n",
              "  </tbody>\n",
              "</table>\n",
              "</div>"
            ],
            "text/plain": [
              "    Name Salary Age\n",
              "0  Ahmet  15000  20\n",
              "1    Ali  16000  30\n",
              "2    Can  12500  40"
            ]
          },
          "metadata": {
            "tags": []
          },
          "execution_count": 9
        }
      ]
    },
    {
      "cell_type": "markdown",
      "metadata": {
        "id": "gvNUybgajOtL",
        "colab_type": "text"
      },
      "source": [
        "#### Merge opetation"
      ]
    },
    {
      "cell_type": "code",
      "metadata": {
        "id": "zht0JzRyjOtM",
        "colab_type": "code",
        "outputId": "866842e1-dc41-4fc0-ef8e-58a8be50fbb5",
        "colab": {
          "base_uri": "https://localhost:8080/",
          "height": 166
        }
      },
      "source": [
        "oyuncu=[\"player1\",\"player2\",\"player3\",\"player4\"]\n",
        "puanlar=[70,60,80,100]\n",
        "baslik=[\"oyun1\",\"oyun2\",\"oyun3\",\"oyun4\"]\n",
        "dfOyun=pd.DataFrame({\"Oyuncu\":oyuncu,\"Puanlar\":puanlar,\"Başlık\":baslik})\n",
        "dfOyun"
      ],
      "execution_count": 0,
      "outputs": [
        {
          "output_type": "execute_result",
          "data": {
            "text/html": [
              "<div>\n",
              "<style scoped>\n",
              "    .dataframe tbody tr th:only-of-type {\n",
              "        vertical-align: middle;\n",
              "    }\n",
              "\n",
              "    .dataframe tbody tr th {\n",
              "        vertical-align: top;\n",
              "    }\n",
              "\n",
              "    .dataframe thead th {\n",
              "        text-align: right;\n",
              "    }\n",
              "</style>\n",
              "<table border=\"1\" class=\"dataframe\">\n",
              "  <thead>\n",
              "    <tr style=\"text-align: right;\">\n",
              "      <th></th>\n",
              "      <th>Oyuncu</th>\n",
              "      <th>Puanlar</th>\n",
              "      <th>Başlık</th>\n",
              "    </tr>\n",
              "  </thead>\n",
              "  <tbody>\n",
              "    <tr>\n",
              "      <th>0</th>\n",
              "      <td>player1</td>\n",
              "      <td>70</td>\n",
              "      <td>oyun1</td>\n",
              "    </tr>\n",
              "    <tr>\n",
              "      <th>1</th>\n",
              "      <td>player2</td>\n",
              "      <td>60</td>\n",
              "      <td>oyun2</td>\n",
              "    </tr>\n",
              "    <tr>\n",
              "      <th>2</th>\n",
              "      <td>player3</td>\n",
              "      <td>80</td>\n",
              "      <td>oyun3</td>\n",
              "    </tr>\n",
              "    <tr>\n",
              "      <th>3</th>\n",
              "      <td>player4</td>\n",
              "      <td>100</td>\n",
              "      <td>oyun4</td>\n",
              "    </tr>\n",
              "  </tbody>\n",
              "</table>\n",
              "</div>"
            ],
            "text/plain": [
              "    Oyuncu  Puanlar Başlık\n",
              "0  player1       70  oyun1\n",
              "1  player2       60  oyun2\n",
              "2  player3       80  oyun3\n",
              "3  player4      100  oyun4"
            ]
          },
          "metadata": {
            "tags": []
          },
          "execution_count": 10
        }
      ]
    },
    {
      "cell_type": "code",
      "metadata": {
        "id": "0zAn5tyDjOtP",
        "colab_type": "code",
        "outputId": "924190ae-0a42-468b-ce10-6b88ce55d492",
        "colab": {
          "base_uri": "https://localhost:8080/",
          "height": 166
        }
      },
      "source": [
        "oyuncu2=[\"player5\",\"player6\",\"player7\",\"player8\"]\n",
        "puanlar=[120,130,140,160]\n",
        "baslik=[\"oyun5\",\"oyun6\",\"oyun7\",\"oyun8\"]\n",
        "dfoyun2=pd.DataFrame({\"oyuncu\":oyuncu2,\"puanlar\":puanlar,\"Title\":baslik})\n",
        "dfoyun2"
      ],
      "execution_count": 0,
      "outputs": [
        {
          "output_type": "execute_result",
          "data": {
            "text/html": [
              "<div>\n",
              "<style scoped>\n",
              "    .dataframe tbody tr th:only-of-type {\n",
              "        vertical-align: middle;\n",
              "    }\n",
              "\n",
              "    .dataframe tbody tr th {\n",
              "        vertical-align: top;\n",
              "    }\n",
              "\n",
              "    .dataframe thead th {\n",
              "        text-align: right;\n",
              "    }\n",
              "</style>\n",
              "<table border=\"1\" class=\"dataframe\">\n",
              "  <thead>\n",
              "    <tr style=\"text-align: right;\">\n",
              "      <th></th>\n",
              "      <th>oyuncu</th>\n",
              "      <th>puanlar</th>\n",
              "      <th>Title</th>\n",
              "    </tr>\n",
              "  </thead>\n",
              "  <tbody>\n",
              "    <tr>\n",
              "      <th>0</th>\n",
              "      <td>player5</td>\n",
              "      <td>120</td>\n",
              "      <td>oyun5</td>\n",
              "    </tr>\n",
              "    <tr>\n",
              "      <th>1</th>\n",
              "      <td>player6</td>\n",
              "      <td>130</td>\n",
              "      <td>oyun6</td>\n",
              "    </tr>\n",
              "    <tr>\n",
              "      <th>2</th>\n",
              "      <td>player7</td>\n",
              "      <td>140</td>\n",
              "      <td>oyun7</td>\n",
              "    </tr>\n",
              "    <tr>\n",
              "      <th>3</th>\n",
              "      <td>player8</td>\n",
              "      <td>160</td>\n",
              "      <td>oyun8</td>\n",
              "    </tr>\n",
              "  </tbody>\n",
              "</table>\n",
              "</div>"
            ],
            "text/plain": [
              "    oyuncu  puanlar  Title\n",
              "0  player5      120  oyun5\n",
              "1  player6      130  oyun6\n",
              "2  player7      140  oyun7\n",
              "3  player8      160  oyun8"
            ]
          },
          "metadata": {
            "tags": []
          },
          "execution_count": 11
        }
      ]
    },
    {
      "cell_type": "code",
      "metadata": {
        "scrolled": true,
        "id": "kmLnngyajOtR",
        "colab_type": "code",
        "outputId": "953d41a1-e5b2-4902-a105-b23b60f67f15",
        "colab": {
          "base_uri": "https://localhost:8080/",
          "height": 166
        }
      },
      "source": [
        "dfoyunToplam1=dfOyun.join(dfoyun2,how=\"right\")\n",
        "dfoyunToplam1"
      ],
      "execution_count": 0,
      "outputs": [
        {
          "output_type": "execute_result",
          "data": {
            "text/html": [
              "<div>\n",
              "<style scoped>\n",
              "    .dataframe tbody tr th:only-of-type {\n",
              "        vertical-align: middle;\n",
              "    }\n",
              "\n",
              "    .dataframe tbody tr th {\n",
              "        vertical-align: top;\n",
              "    }\n",
              "\n",
              "    .dataframe thead th {\n",
              "        text-align: right;\n",
              "    }\n",
              "</style>\n",
              "<table border=\"1\" class=\"dataframe\">\n",
              "  <thead>\n",
              "    <tr style=\"text-align: right;\">\n",
              "      <th></th>\n",
              "      <th>Oyuncu</th>\n",
              "      <th>Puanlar</th>\n",
              "      <th>Başlık</th>\n",
              "      <th>oyuncu</th>\n",
              "      <th>puanlar</th>\n",
              "      <th>Title</th>\n",
              "    </tr>\n",
              "  </thead>\n",
              "  <tbody>\n",
              "    <tr>\n",
              "      <th>0</th>\n",
              "      <td>player1</td>\n",
              "      <td>70</td>\n",
              "      <td>oyun1</td>\n",
              "      <td>player5</td>\n",
              "      <td>120</td>\n",
              "      <td>oyun5</td>\n",
              "    </tr>\n",
              "    <tr>\n",
              "      <th>1</th>\n",
              "      <td>player2</td>\n",
              "      <td>60</td>\n",
              "      <td>oyun2</td>\n",
              "      <td>player6</td>\n",
              "      <td>130</td>\n",
              "      <td>oyun6</td>\n",
              "    </tr>\n",
              "    <tr>\n",
              "      <th>2</th>\n",
              "      <td>player3</td>\n",
              "      <td>80</td>\n",
              "      <td>oyun3</td>\n",
              "      <td>player7</td>\n",
              "      <td>140</td>\n",
              "      <td>oyun7</td>\n",
              "    </tr>\n",
              "    <tr>\n",
              "      <th>3</th>\n",
              "      <td>player4</td>\n",
              "      <td>100</td>\n",
              "      <td>oyun4</td>\n",
              "      <td>player8</td>\n",
              "      <td>160</td>\n",
              "      <td>oyun8</td>\n",
              "    </tr>\n",
              "  </tbody>\n",
              "</table>\n",
              "</div>"
            ],
            "text/plain": [
              "    Oyuncu  Puanlar Başlık   oyuncu  puanlar  Title\n",
              "0  player1       70  oyun1  player5      120  oyun5\n",
              "1  player2       60  oyun2  player6      130  oyun6\n",
              "2  player3       80  oyun3  player7      140  oyun7\n",
              "3  player4      100  oyun4  player8      160  oyun8"
            ]
          },
          "metadata": {
            "tags": []
          },
          "execution_count": 12
        }
      ]
    },
    {
      "cell_type": "code",
      "metadata": {
        "id": "2bVi7G3ljOtU",
        "colab_type": "code",
        "outputId": "c220510e-5277-4c31-82db-2f383b094868",
        "colab": {
          "base_uri": "https://localhost:8080/",
          "height": 166
        }
      },
      "source": [
        "dfoyunToplam2=dfOyun.join(dfoyun2,how=\"left\")\n",
        "dfoyunToplam2"
      ],
      "execution_count": 0,
      "outputs": [
        {
          "output_type": "execute_result",
          "data": {
            "text/html": [
              "<div>\n",
              "<style scoped>\n",
              "    .dataframe tbody tr th:only-of-type {\n",
              "        vertical-align: middle;\n",
              "    }\n",
              "\n",
              "    .dataframe tbody tr th {\n",
              "        vertical-align: top;\n",
              "    }\n",
              "\n",
              "    .dataframe thead th {\n",
              "        text-align: right;\n",
              "    }\n",
              "</style>\n",
              "<table border=\"1\" class=\"dataframe\">\n",
              "  <thead>\n",
              "    <tr style=\"text-align: right;\">\n",
              "      <th></th>\n",
              "      <th>Oyuncu</th>\n",
              "      <th>Puanlar</th>\n",
              "      <th>Başlık</th>\n",
              "      <th>oyuncu</th>\n",
              "      <th>puanlar</th>\n",
              "      <th>Title</th>\n",
              "    </tr>\n",
              "  </thead>\n",
              "  <tbody>\n",
              "    <tr>\n",
              "      <th>0</th>\n",
              "      <td>player1</td>\n",
              "      <td>70</td>\n",
              "      <td>oyun1</td>\n",
              "      <td>player5</td>\n",
              "      <td>120</td>\n",
              "      <td>oyun5</td>\n",
              "    </tr>\n",
              "    <tr>\n",
              "      <th>1</th>\n",
              "      <td>player2</td>\n",
              "      <td>60</td>\n",
              "      <td>oyun2</td>\n",
              "      <td>player6</td>\n",
              "      <td>130</td>\n",
              "      <td>oyun6</td>\n",
              "    </tr>\n",
              "    <tr>\n",
              "      <th>2</th>\n",
              "      <td>player3</td>\n",
              "      <td>80</td>\n",
              "      <td>oyun3</td>\n",
              "      <td>player7</td>\n",
              "      <td>140</td>\n",
              "      <td>oyun7</td>\n",
              "    </tr>\n",
              "    <tr>\n",
              "      <th>3</th>\n",
              "      <td>player4</td>\n",
              "      <td>100</td>\n",
              "      <td>oyun4</td>\n",
              "      <td>player8</td>\n",
              "      <td>160</td>\n",
              "      <td>oyun8</td>\n",
              "    </tr>\n",
              "  </tbody>\n",
              "</table>\n",
              "</div>"
            ],
            "text/plain": [
              "    Oyuncu  Puanlar Başlık   oyuncu  puanlar  Title\n",
              "0  player1       70  oyun1  player5      120  oyun5\n",
              "1  player2       60  oyun2  player6      130  oyun6\n",
              "2  player3       80  oyun3  player7      140  oyun7\n",
              "3  player4      100  oyun4  player8      160  oyun8"
            ]
          },
          "metadata": {
            "tags": []
          },
          "execution_count": 13
        }
      ]
    },
    {
      "cell_type": "code",
      "metadata": {
        "scrolled": false,
        "id": "G7nobW7cjOtX",
        "colab_type": "code",
        "outputId": "cbdb19a9-4b0c-4ae0-eca0-6fd6de01edcb",
        "colab": {
          "base_uri": "https://localhost:8080/",
          "height": 166
        }
      },
      "source": [
        "dfoyunToplam3=dfOyun.join(dfoyun2,how=\"inner\")\n",
        "dfoyunToplam3"
      ],
      "execution_count": 0,
      "outputs": [
        {
          "output_type": "execute_result",
          "data": {
            "text/html": [
              "<div>\n",
              "<style scoped>\n",
              "    .dataframe tbody tr th:only-of-type {\n",
              "        vertical-align: middle;\n",
              "    }\n",
              "\n",
              "    .dataframe tbody tr th {\n",
              "        vertical-align: top;\n",
              "    }\n",
              "\n",
              "    .dataframe thead th {\n",
              "        text-align: right;\n",
              "    }\n",
              "</style>\n",
              "<table border=\"1\" class=\"dataframe\">\n",
              "  <thead>\n",
              "    <tr style=\"text-align: right;\">\n",
              "      <th></th>\n",
              "      <th>Oyuncu</th>\n",
              "      <th>Puanlar</th>\n",
              "      <th>Başlık</th>\n",
              "      <th>oyuncu</th>\n",
              "      <th>puanlar</th>\n",
              "      <th>Title</th>\n",
              "    </tr>\n",
              "  </thead>\n",
              "  <tbody>\n",
              "    <tr>\n",
              "      <th>0</th>\n",
              "      <td>player1</td>\n",
              "      <td>70</td>\n",
              "      <td>oyun1</td>\n",
              "      <td>player5</td>\n",
              "      <td>120</td>\n",
              "      <td>oyun5</td>\n",
              "    </tr>\n",
              "    <tr>\n",
              "      <th>1</th>\n",
              "      <td>player2</td>\n",
              "      <td>60</td>\n",
              "      <td>oyun2</td>\n",
              "      <td>player6</td>\n",
              "      <td>130</td>\n",
              "      <td>oyun6</td>\n",
              "    </tr>\n",
              "    <tr>\n",
              "      <th>2</th>\n",
              "      <td>player3</td>\n",
              "      <td>80</td>\n",
              "      <td>oyun3</td>\n",
              "      <td>player7</td>\n",
              "      <td>140</td>\n",
              "      <td>oyun7</td>\n",
              "    </tr>\n",
              "    <tr>\n",
              "      <th>3</th>\n",
              "      <td>player4</td>\n",
              "      <td>100</td>\n",
              "      <td>oyun4</td>\n",
              "      <td>player8</td>\n",
              "      <td>160</td>\n",
              "      <td>oyun8</td>\n",
              "    </tr>\n",
              "  </tbody>\n",
              "</table>\n",
              "</div>"
            ],
            "text/plain": [
              "    Oyuncu  Puanlar Başlık   oyuncu  puanlar  Title\n",
              "0  player1       70  oyun1  player5      120  oyun5\n",
              "1  player2       60  oyun2  player6      130  oyun6\n",
              "2  player3       80  oyun3  player7      140  oyun7\n",
              "3  player4      100  oyun4  player8      160  oyun8"
            ]
          },
          "metadata": {
            "tags": []
          },
          "execution_count": 14
        }
      ]
    },
    {
      "cell_type": "code",
      "metadata": {
        "id": "0ygFHlG1jOtb",
        "colab_type": "code",
        "outputId": "7a1b673b-aab6-43b6-f621-39290d9752ad",
        "colab": {
          "base_uri": "https://localhost:8080/",
          "height": 166
        }
      },
      "source": [
        "dfoyunToplam4=dfOyun.join(dfoyun2,how=\"outer\")\n",
        "dfoyunToplam4"
      ],
      "execution_count": 0,
      "outputs": [
        {
          "output_type": "execute_result",
          "data": {
            "text/html": [
              "<div>\n",
              "<style scoped>\n",
              "    .dataframe tbody tr th:only-of-type {\n",
              "        vertical-align: middle;\n",
              "    }\n",
              "\n",
              "    .dataframe tbody tr th {\n",
              "        vertical-align: top;\n",
              "    }\n",
              "\n",
              "    .dataframe thead th {\n",
              "        text-align: right;\n",
              "    }\n",
              "</style>\n",
              "<table border=\"1\" class=\"dataframe\">\n",
              "  <thead>\n",
              "    <tr style=\"text-align: right;\">\n",
              "      <th></th>\n",
              "      <th>Oyuncu</th>\n",
              "      <th>Puanlar</th>\n",
              "      <th>Başlık</th>\n",
              "      <th>oyuncu</th>\n",
              "      <th>puanlar</th>\n",
              "      <th>Title</th>\n",
              "    </tr>\n",
              "  </thead>\n",
              "  <tbody>\n",
              "    <tr>\n",
              "      <th>0</th>\n",
              "      <td>player1</td>\n",
              "      <td>70</td>\n",
              "      <td>oyun1</td>\n",
              "      <td>player5</td>\n",
              "      <td>120</td>\n",
              "      <td>oyun5</td>\n",
              "    </tr>\n",
              "    <tr>\n",
              "      <th>1</th>\n",
              "      <td>player2</td>\n",
              "      <td>60</td>\n",
              "      <td>oyun2</td>\n",
              "      <td>player6</td>\n",
              "      <td>130</td>\n",
              "      <td>oyun6</td>\n",
              "    </tr>\n",
              "    <tr>\n",
              "      <th>2</th>\n",
              "      <td>player3</td>\n",
              "      <td>80</td>\n",
              "      <td>oyun3</td>\n",
              "      <td>player7</td>\n",
              "      <td>140</td>\n",
              "      <td>oyun7</td>\n",
              "    </tr>\n",
              "    <tr>\n",
              "      <th>3</th>\n",
              "      <td>player4</td>\n",
              "      <td>100</td>\n",
              "      <td>oyun4</td>\n",
              "      <td>player8</td>\n",
              "      <td>160</td>\n",
              "      <td>oyun8</td>\n",
              "    </tr>\n",
              "  </tbody>\n",
              "</table>\n",
              "</div>"
            ],
            "text/plain": [
              "    Oyuncu  Puanlar Başlık   oyuncu  puanlar  Title\n",
              "0  player1       70  oyun1  player5      120  oyun5\n",
              "1  player2       60  oyun2  player6      130  oyun6\n",
              "2  player3       80  oyun3  player7      140  oyun7\n",
              "3  player4      100  oyun4  player8      160  oyun8"
            ]
          },
          "metadata": {
            "tags": []
          },
          "execution_count": 15
        }
      ]
    },
    {
      "cell_type": "markdown",
      "metadata": {
        "id": "zTmFGc0CjOtk",
        "colab_type": "text"
      },
      "source": [
        "Lets do concatanate"
      ]
    },
    {
      "cell_type": "code",
      "metadata": {
        "scrolled": true,
        "id": "LdNnoHuRjOtk",
        "colab_type": "code",
        "outputId": "80a8a0bc-2b20-4802-c097-2b010226e5d4",
        "colab": {
          "base_uri": "https://localhost:8080/",
          "height": 418
        }
      },
      "source": [
        "pdCon=pd.concat([dfOyun,dfoyun2])\n",
        "pdCon\n"
      ],
      "execution_count": 0,
      "outputs": [
        {
          "output_type": "stream",
          "text": [
            "/usr/local/lib/python3.6/dist-packages/ipykernel_launcher.py:1: FutureWarning: Sorting because non-concatenation axis is not aligned. A future version\n",
            "of pandas will change to not sort by default.\n",
            "\n",
            "To accept the future behavior, pass 'sort=False'.\n",
            "\n",
            "To retain the current behavior and silence the warning, pass 'sort=True'.\n",
            "\n",
            "  \"\"\"Entry point for launching an IPython kernel.\n"
          ],
          "name": "stderr"
        },
        {
          "output_type": "execute_result",
          "data": {
            "text/html": [
              "<div>\n",
              "<style scoped>\n",
              "    .dataframe tbody tr th:only-of-type {\n",
              "        vertical-align: middle;\n",
              "    }\n",
              "\n",
              "    .dataframe tbody tr th {\n",
              "        vertical-align: top;\n",
              "    }\n",
              "\n",
              "    .dataframe thead th {\n",
              "        text-align: right;\n",
              "    }\n",
              "</style>\n",
              "<table border=\"1\" class=\"dataframe\">\n",
              "  <thead>\n",
              "    <tr style=\"text-align: right;\">\n",
              "      <th></th>\n",
              "      <th>Başlık</th>\n",
              "      <th>Oyuncu</th>\n",
              "      <th>Puanlar</th>\n",
              "      <th>Title</th>\n",
              "      <th>oyuncu</th>\n",
              "      <th>puanlar</th>\n",
              "    </tr>\n",
              "  </thead>\n",
              "  <tbody>\n",
              "    <tr>\n",
              "      <th>0</th>\n",
              "      <td>oyun1</td>\n",
              "      <td>player1</td>\n",
              "      <td>70.0</td>\n",
              "      <td>NaN</td>\n",
              "      <td>NaN</td>\n",
              "      <td>NaN</td>\n",
              "    </tr>\n",
              "    <tr>\n",
              "      <th>1</th>\n",
              "      <td>oyun2</td>\n",
              "      <td>player2</td>\n",
              "      <td>60.0</td>\n",
              "      <td>NaN</td>\n",
              "      <td>NaN</td>\n",
              "      <td>NaN</td>\n",
              "    </tr>\n",
              "    <tr>\n",
              "      <th>2</th>\n",
              "      <td>oyun3</td>\n",
              "      <td>player3</td>\n",
              "      <td>80.0</td>\n",
              "      <td>NaN</td>\n",
              "      <td>NaN</td>\n",
              "      <td>NaN</td>\n",
              "    </tr>\n",
              "    <tr>\n",
              "      <th>3</th>\n",
              "      <td>oyun4</td>\n",
              "      <td>player4</td>\n",
              "      <td>100.0</td>\n",
              "      <td>NaN</td>\n",
              "      <td>NaN</td>\n",
              "      <td>NaN</td>\n",
              "    </tr>\n",
              "    <tr>\n",
              "      <th>0</th>\n",
              "      <td>NaN</td>\n",
              "      <td>NaN</td>\n",
              "      <td>NaN</td>\n",
              "      <td>oyun5</td>\n",
              "      <td>player5</td>\n",
              "      <td>120.0</td>\n",
              "    </tr>\n",
              "    <tr>\n",
              "      <th>1</th>\n",
              "      <td>NaN</td>\n",
              "      <td>NaN</td>\n",
              "      <td>NaN</td>\n",
              "      <td>oyun6</td>\n",
              "      <td>player6</td>\n",
              "      <td>130.0</td>\n",
              "    </tr>\n",
              "    <tr>\n",
              "      <th>2</th>\n",
              "      <td>NaN</td>\n",
              "      <td>NaN</td>\n",
              "      <td>NaN</td>\n",
              "      <td>oyun7</td>\n",
              "      <td>player7</td>\n",
              "      <td>140.0</td>\n",
              "    </tr>\n",
              "    <tr>\n",
              "      <th>3</th>\n",
              "      <td>NaN</td>\n",
              "      <td>NaN</td>\n",
              "      <td>NaN</td>\n",
              "      <td>oyun8</td>\n",
              "      <td>player8</td>\n",
              "      <td>160.0</td>\n",
              "    </tr>\n",
              "  </tbody>\n",
              "</table>\n",
              "</div>"
            ],
            "text/plain": [
              "  Başlık   Oyuncu  Puanlar  Title   oyuncu  puanlar\n",
              "0  oyun1  player1     70.0    NaN      NaN      NaN\n",
              "1  oyun2  player2     60.0    NaN      NaN      NaN\n",
              "2  oyun3  player3     80.0    NaN      NaN      NaN\n",
              "3  oyun4  player4    100.0    NaN      NaN      NaN\n",
              "0    NaN      NaN      NaN  oyun5  player5    120.0\n",
              "1    NaN      NaN      NaN  oyun6  player6    130.0\n",
              "2    NaN      NaN      NaN  oyun7  player7    140.0\n",
              "3    NaN      NaN      NaN  oyun8  player8    160.0"
            ]
          },
          "metadata": {
            "tags": []
          },
          "execution_count": 16
        }
      ]
    },
    {
      "cell_type": "markdown",
      "metadata": {
        "id": "PU4_w4TSjOtn",
        "colab_type": "text"
      },
      "source": [
        "Before importing data"
      ]
    },
    {
      "cell_type": "code",
      "metadata": {
        "scrolled": true,
        "id": "3foAvp5bjOto",
        "colab_type": "code",
        "outputId": "af03f197-34cd-466b-8cef-d8d092a3e2fd",
        "colab": {
          "base_uri": "https://localhost:8080/",
          "height": 136
        }
      },
      "source": [
        "import pandas as pd\n",
        "import numpy as np\n",
        "dfer = pd.DataFrame(np.random.randn(3, 3), columns=['num1', 'num2',\"num3\"])\n",
        "dfer"
      ],
      "execution_count": 0,
      "outputs": [
        {
          "output_type": "execute_result",
          "data": {
            "text/html": [
              "<div>\n",
              "<style scoped>\n",
              "    .dataframe tbody tr th:only-of-type {\n",
              "        vertical-align: middle;\n",
              "    }\n",
              "\n",
              "    .dataframe tbody tr th {\n",
              "        vertical-align: top;\n",
              "    }\n",
              "\n",
              "    .dataframe thead th {\n",
              "        text-align: right;\n",
              "    }\n",
              "</style>\n",
              "<table border=\"1\" class=\"dataframe\">\n",
              "  <thead>\n",
              "    <tr style=\"text-align: right;\">\n",
              "      <th></th>\n",
              "      <th>num1</th>\n",
              "      <th>num2</th>\n",
              "      <th>num3</th>\n",
              "    </tr>\n",
              "  </thead>\n",
              "  <tbody>\n",
              "    <tr>\n",
              "      <th>0</th>\n",
              "      <td>0.017221</td>\n",
              "      <td>-0.509342</td>\n",
              "      <td>-0.070332</td>\n",
              "    </tr>\n",
              "    <tr>\n",
              "      <th>1</th>\n",
              "      <td>0.018786</td>\n",
              "      <td>-0.239330</td>\n",
              "      <td>1.500223</td>\n",
              "    </tr>\n",
              "    <tr>\n",
              "      <th>2</th>\n",
              "      <td>-1.623171</td>\n",
              "      <td>-0.782267</td>\n",
              "      <td>-0.077052</td>\n",
              "    </tr>\n",
              "  </tbody>\n",
              "</table>\n",
              "</div>"
            ],
            "text/plain": [
              "       num1      num2      num3\n",
              "0  0.017221 -0.509342 -0.070332\n",
              "1  0.018786 -0.239330  1.500223\n",
              "2 -1.623171 -0.782267 -0.077052"
            ]
          },
          "metadata": {
            "tags": []
          },
          "execution_count": 17
        }
      ]
    },
    {
      "cell_type": "code",
      "metadata": {
        "scrolled": true,
        "id": "fqp2q7ULjOtr",
        "colab_type": "code",
        "outputId": "24c25984-cef9-490f-e833-25585a1eef0c",
        "colab": {
          "base_uri": "https://localhost:8080/",
          "height": 136
        }
      },
      "source": [
        "dfer['num3'] = 3\n",
        "dfer\n"
      ],
      "execution_count": 0,
      "outputs": [
        {
          "output_type": "execute_result",
          "data": {
            "text/html": [
              "<div>\n",
              "<style scoped>\n",
              "    .dataframe tbody tr th:only-of-type {\n",
              "        vertical-align: middle;\n",
              "    }\n",
              "\n",
              "    .dataframe tbody tr th {\n",
              "        vertical-align: top;\n",
              "    }\n",
              "\n",
              "    .dataframe thead th {\n",
              "        text-align: right;\n",
              "    }\n",
              "</style>\n",
              "<table border=\"1\" class=\"dataframe\">\n",
              "  <thead>\n",
              "    <tr style=\"text-align: right;\">\n",
              "      <th></th>\n",
              "      <th>num1</th>\n",
              "      <th>num2</th>\n",
              "      <th>num3</th>\n",
              "    </tr>\n",
              "  </thead>\n",
              "  <tbody>\n",
              "    <tr>\n",
              "      <th>0</th>\n",
              "      <td>0.017221</td>\n",
              "      <td>-0.509342</td>\n",
              "      <td>3</td>\n",
              "    </tr>\n",
              "    <tr>\n",
              "      <th>1</th>\n",
              "      <td>0.018786</td>\n",
              "      <td>-0.239330</td>\n",
              "      <td>3</td>\n",
              "    </tr>\n",
              "    <tr>\n",
              "      <th>2</th>\n",
              "      <td>-1.623171</td>\n",
              "      <td>-0.782267</td>\n",
              "      <td>3</td>\n",
              "    </tr>\n",
              "  </tbody>\n",
              "</table>\n",
              "</div>"
            ],
            "text/plain": [
              "       num1      num2  num3\n",
              "0  0.017221 -0.509342     3\n",
              "1  0.018786 -0.239330     3\n",
              "2 -1.623171 -0.782267     3"
            ]
          },
          "metadata": {
            "tags": []
          },
          "execution_count": 18
        }
      ]
    },
    {
      "cell_type": "code",
      "metadata": {
        "scrolled": true,
        "id": "RmklVmP5jOtu",
        "colab_type": "code",
        "outputId": "11730900-5cef-45d7-fc4e-1e4bbe72d2f7",
        "colab": {
          "base_uri": "https://localhost:8080/",
          "height": 136
        }
      },
      "source": [
        "dfer[\"num5\"]=\"Hello\"\n",
        "dfer"
      ],
      "execution_count": 0,
      "outputs": [
        {
          "output_type": "execute_result",
          "data": {
            "text/html": [
              "<div>\n",
              "<style scoped>\n",
              "    .dataframe tbody tr th:only-of-type {\n",
              "        vertical-align: middle;\n",
              "    }\n",
              "\n",
              "    .dataframe tbody tr th {\n",
              "        vertical-align: top;\n",
              "    }\n",
              "\n",
              "    .dataframe thead th {\n",
              "        text-align: right;\n",
              "    }\n",
              "</style>\n",
              "<table border=\"1\" class=\"dataframe\">\n",
              "  <thead>\n",
              "    <tr style=\"text-align: right;\">\n",
              "      <th></th>\n",
              "      <th>num1</th>\n",
              "      <th>num2</th>\n",
              "      <th>num3</th>\n",
              "      <th>num5</th>\n",
              "    </tr>\n",
              "  </thead>\n",
              "  <tbody>\n",
              "    <tr>\n",
              "      <th>0</th>\n",
              "      <td>0.017221</td>\n",
              "      <td>-0.509342</td>\n",
              "      <td>3</td>\n",
              "      <td>Hello</td>\n",
              "    </tr>\n",
              "    <tr>\n",
              "      <th>1</th>\n",
              "      <td>0.018786</td>\n",
              "      <td>-0.239330</td>\n",
              "      <td>3</td>\n",
              "      <td>Hello</td>\n",
              "    </tr>\n",
              "    <tr>\n",
              "      <th>2</th>\n",
              "      <td>-1.623171</td>\n",
              "      <td>-0.782267</td>\n",
              "      <td>3</td>\n",
              "      <td>Hello</td>\n",
              "    </tr>\n",
              "  </tbody>\n",
              "</table>\n",
              "</div>"
            ],
            "text/plain": [
              "       num1      num2  num3   num5\n",
              "0  0.017221 -0.509342     3  Hello\n",
              "1  0.018786 -0.239330     3  Hello\n",
              "2 -1.623171 -0.782267     3  Hello"
            ]
          },
          "metadata": {
            "tags": []
          },
          "execution_count": 19
        }
      ]
    },
    {
      "cell_type": "code",
      "metadata": {
        "id": "ShASdaPEjOtx",
        "colab_type": "code",
        "colab": {}
      },
      "source": [
        ""
      ],
      "execution_count": 0,
      "outputs": []
    },
    {
      "cell_type": "code",
      "metadata": {
        "id": "ZseiVmiJjOtz",
        "colab_type": "code",
        "colab": {}
      },
      "source": [
        ""
      ],
      "execution_count": 0,
      "outputs": []
    },
    {
      "cell_type": "markdown",
      "metadata": {
        "id": "9V2WPu-UjOt1",
        "colab_type": "text"
      },
      "source": [
        "__________________________________"
      ]
    },
    {
      "cell_type": "code",
      "metadata": {
        "id": "jbKaAYIfjOt5",
        "colab_type": "code",
        "colab": {}
      },
      "source": [
        "dataevlim.tail()"
      ],
      "execution_count": 0,
      "outputs": []
    },
    {
      "cell_type": "code",
      "metadata": {
        "id": "EsCSiNT4noHG",
        "colab_type": "code",
        "colab": {}
      },
      "source": [
        "from google.colab import drive\n",
        "drive.mount('/content/drive')"
      ],
      "execution_count": 0,
      "outputs": []
    },
    {
      "cell_type": "code",
      "metadata": {
        "id": "ojX0CbzWjOt2",
        "colab_type": "code",
        "outputId": "6d3528a3-8b4a-4806-a56a-98292df6fbbf",
        "colab": {
          "base_uri": "https://localhost:8080/",
          "height": 121
        }
      },
      "source": [
        "import csv\n",
        "from google.colab import drive\n",
        "drive.mount('/content/drive')\n",
        "\n",
        "\n",
        "#dataevlim=pd.read_csv()"
      ],
      "execution_count": 0,
      "outputs": [
        {
          "output_type": "stream",
          "text": [
            "Go to this URL in a browser: https://accounts.google.com/o/oauth2/auth?client_id=947318989803-6bn6qk8qdgf4n4g3pfee6491hc0brc4i.apps.googleusercontent.com&redirect_uri=urn%3aietf%3awg%3aoauth%3a2.0%3aoob&response_type=code&scope=email%20https%3a%2f%2fwww.googleapis.com%2fauth%2fdocs.test%20https%3a%2f%2fwww.googleapis.com%2fauth%2fdrive%20https%3a%2f%2fwww.googleapis.com%2fauth%2fdrive.photos.readonly%20https%3a%2f%2fwww.googleapis.com%2fauth%2fpeopleapi.readonly\n",
            "\n",
            "Enter your authorization code:\n",
            "··········\n",
            "Mounted at /content/drive\n"
          ],
          "name": "stdout"
        }
      ]
    },
    {
      "cell_type": "code",
      "metadata": {
        "id": "S4AsCRCapmD-",
        "colab_type": "code",
        "outputId": "f7bb5c59-6aa5-4273-e192-a2a7a18a70a2",
        "colab": {
          "base_uri": "https://localhost:8080/",
          "height": 34
        }
      },
      "source": [
        "!ls '/content/drive/My Drive/evli.csv'\n",
        "dataevli='/content/drive/My Drive/evli.csv'"
      ],
      "execution_count": 0,
      "outputs": [
        {
          "output_type": "stream",
          "text": [
            "'/content/drive/My Drive/evli.csv'\n"
          ],
          "name": "stdout"
        }
      ]
    },
    {
      "cell_type": "code",
      "metadata": {
        "id": "Rkc8tDzsp723",
        "colab_type": "code",
        "colab": {}
      },
      "source": [
        "import pandas as pd\n",
        "dataevlim=pd.read_csv(dataevli)\n"
      ],
      "execution_count": 0,
      "outputs": []
    },
    {
      "cell_type": "code",
      "metadata": {
        "id": "XfVU1fXcjOt8",
        "colab_type": "code",
        "outputId": "6ee7bfc1-260c-4c94-8528-f4f4cd1fb2ce",
        "colab": {
          "base_uri": "https://localhost:8080/",
          "height": 195
        }
      },
      "source": [
        "dataevlim.head()"
      ],
      "execution_count": 0,
      "outputs": [
        {
          "output_type": "execute_result",
          "data": {
            "text/html": [
              "<div>\n",
              "<style scoped>\n",
              "    .dataframe tbody tr th:only-of-type {\n",
              "        vertical-align: middle;\n",
              "    }\n",
              "\n",
              "    .dataframe tbody tr th {\n",
              "        vertical-align: top;\n",
              "    }\n",
              "\n",
              "    .dataframe thead th {\n",
              "        text-align: right;\n",
              "    }\n",
              "</style>\n",
              "<table border=\"1\" class=\"dataframe\">\n",
              "  <thead>\n",
              "    <tr style=\"text-align: right;\">\n",
              "      <th></th>\n",
              "      <th>isim</th>\n",
              "      <th>gelir</th>\n",
              "      <th>ay</th>\n",
              "      <th>evli</th>\n",
              "    </tr>\n",
              "  </thead>\n",
              "  <tbody>\n",
              "    <tr>\n",
              "      <th>0</th>\n",
              "      <td>ali</td>\n",
              "      <td>100</td>\n",
              "      <td>ocak</td>\n",
              "      <td>evet</td>\n",
              "    </tr>\n",
              "    <tr>\n",
              "      <th>1</th>\n",
              "      <td>burak</td>\n",
              "      <td>80</td>\n",
              "      <td>şubat</td>\n",
              "      <td>hayır</td>\n",
              "    </tr>\n",
              "    <tr>\n",
              "      <th>2</th>\n",
              "      <td>veli</td>\n",
              "      <td>110</td>\n",
              "      <td>ocak</td>\n",
              "      <td>evet</td>\n",
              "    </tr>\n",
              "    <tr>\n",
              "      <th>3</th>\n",
              "      <td>fuat</td>\n",
              "      <td>45</td>\n",
              "      <td>mart</td>\n",
              "      <td>hayır</td>\n",
              "    </tr>\n",
              "    <tr>\n",
              "      <th>4</th>\n",
              "      <td>galip</td>\n",
              "      <td>60</td>\n",
              "      <td>mart</td>\n",
              "      <td>evet</td>\n",
              "    </tr>\n",
              "  </tbody>\n",
              "</table>\n",
              "</div>"
            ],
            "text/plain": [
              "    isim  gelir     ay   evli\n",
              "0    ali    100   ocak   evet\n",
              "1  burak     80  şubat  hayır\n",
              "2   veli    110   ocak   evet\n",
              "3   fuat     45   mart  hayır\n",
              "4  galip     60   mart   evet"
            ]
          },
          "metadata": {
            "tags": []
          },
          "execution_count": 15
        }
      ]
    },
    {
      "cell_type": "code",
      "metadata": {
        "id": "i9uKMSoxjOuC",
        "colab_type": "code",
        "colab": {}
      },
      "source": [
        "dataevlim.iloc[:4]"
      ],
      "execution_count": 0,
      "outputs": []
    },
    {
      "cell_type": "code",
      "metadata": {
        "id": "-HSZJAgnjOuE",
        "colab_type": "code",
        "colab": {}
      },
      "source": [
        "dataevlim.iloc[:14,3]"
      ],
      "execution_count": 0,
      "outputs": []
    },
    {
      "cell_type": "code",
      "metadata": {
        "id": "ykk-05JgjOuH",
        "colab_type": "code",
        "colab": {}
      },
      "source": [
        "dataevlim.describe()"
      ],
      "execution_count": 0,
      "outputs": []
    },
    {
      "cell_type": "code",
      "metadata": {
        "id": "iTlrcyWujOuL",
        "colab_type": "code",
        "colab": {}
      },
      "source": [
        "dataevlim.gelir.abs()"
      ],
      "execution_count": 0,
      "outputs": []
    },
    {
      "cell_type": "code",
      "metadata": {
        "id": "dS6CesP_jOuQ",
        "colab_type": "code",
        "colab": {}
      },
      "source": [
        "dataevlim.gelir[:1]"
      ],
      "execution_count": 0,
      "outputs": []
    },
    {
      "cell_type": "code",
      "metadata": {
        "id": "iYBVzkkqjOuU",
        "colab_type": "code",
        "colab": {}
      },
      "source": [
        "dataevlim.sum()\n",
        "#axis choosing\n",
        "dataevlim.sum(1)"
      ],
      "execution_count": 0,
      "outputs": []
    },
    {
      "cell_type": "code",
      "metadata": {
        "id": "yRcawtJhjOuX",
        "colab_type": "code",
        "colab": {}
      },
      "source": [
        "dataevlim.mean(1)\n",
        "dataevlim.mean()"
      ],
      "execution_count": 0,
      "outputs": []
    },
    {
      "cell_type": "code",
      "metadata": {
        "id": "ZYTeyji9jOub",
        "colab_type": "code",
        "colab": {}
      },
      "source": [
        "dataevlim.std()"
      ],
      "execution_count": 0,
      "outputs": []
    },
    {
      "cell_type": "code",
      "metadata": {
        "id": "vMHnwnH2jOug",
        "colab_type": "code",
        "colab": {}
      },
      "source": [
        "dataevlim.describe(include=['object'])"
      ],
      "execution_count": 0,
      "outputs": []
    },
    {
      "cell_type": "code",
      "metadata": {
        "id": "yCKlcezdjOuj",
        "colab_type": "code",
        "colab": {}
      },
      "source": [
        "dataevlim.describe(exclude=[\"object\"])"
      ],
      "execution_count": 0,
      "outputs": []
    },
    {
      "cell_type": "code",
      "metadata": {
        "id": "LaQvrWJvjOum",
        "colab_type": "code",
        "colab": {}
      },
      "source": [
        "dataevlim. describe(include='all')"
      ],
      "execution_count": 0,
      "outputs": []
    },
    {
      "cell_type": "code",
      "metadata": {
        "id": "4y7JXvTRjOup",
        "colab_type": "code",
        "colab": {}
      },
      "source": [
        "dataevlim"
      ],
      "execution_count": 0,
      "outputs": []
    },
    {
      "cell_type": "code",
      "metadata": {
        "id": "LP415zZ8jOur",
        "colab_type": "code",
        "colab": {}
      },
      "source": [
        "dataevlim.iloc[:,0]"
      ],
      "execution_count": 0,
      "outputs": []
    },
    {
      "cell_type": "code",
      "metadata": {
        "id": "cdloKQsHjOuv",
        "colab_type": "code",
        "colab": {}
      },
      "source": [
        "dataevlim.iloc[:,3]"
      ],
      "execution_count": 0,
      "outputs": []
    },
    {
      "cell_type": "code",
      "metadata": {
        "id": "vED2YHp9jOuy",
        "colab_type": "code",
        "colab": {}
      },
      "source": [
        "dataevlim.iloc[:,[0,3]]"
      ],
      "execution_count": 0,
      "outputs": []
    },
    {
      "cell_type": "code",
      "metadata": {
        "id": "TYaRlonrjOu1",
        "colab_type": "code",
        "colab": {}
      },
      "source": [
        "dataevlim.iloc[[1-10],[0,3]]"
      ],
      "execution_count": 0,
      "outputs": []
    },
    {
      "cell_type": "code",
      "metadata": {
        "id": "Fh43QEQtjOu3",
        "colab_type": "code",
        "colab": {}
      },
      "source": [
        "dataevlim.iloc[[1,2,5,8,10],[0,3]]"
      ],
      "execution_count": 0,
      "outputs": []
    },
    {
      "cell_type": "code",
      "metadata": {
        "id": "8Keos7DSjOu9",
        "colab_type": "code",
        "colab": {}
      },
      "source": [
        "dataevlim.iloc[:1]==\"evli\""
      ],
      "execution_count": 0,
      "outputs": []
    },
    {
      "cell_type": "code",
      "metadata": {
        "id": "GYUCmPjXjOu_",
        "colab_type": "code",
        "colab": {}
      },
      "source": [
        ""
      ],
      "execution_count": 0,
      "outputs": []
    },
    {
      "cell_type": "code",
      "metadata": {
        "id": "xoqmyzcvjOvD",
        "colab_type": "code",
        "colab": {}
      },
      "source": [
        ""
      ],
      "execution_count": 0,
      "outputs": []
    }
  ]
}