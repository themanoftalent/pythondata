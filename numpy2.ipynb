{
  "nbformat": 4,
  "nbformat_minor": 0,
  "metadata": {
    "colab": {
      "name": "numpy2.ipynb",
      "provenance": [],
      "authorship_tag": "ABX9TyM5zGZCGLZ6VhpWfU1L7ITc",
      "include_colab_link": true
    },
    "kernelspec": {
      "name": "python3",
      "display_name": "Python 3"
    }
  },
  "cells": [
    {
      "cell_type": "markdown",
      "metadata": {
        "id": "view-in-github",
        "colab_type": "text"
      },
      "source": [
        "<a href=\"https://colab.research.google.com/github/themanoftalent/pythondata/blob/master/numpy2.ipynb\" target=\"_parent\"><img src=\"https://colab.research.google.com/assets/colab-badge.svg\" alt=\"Open In Colab\"/></a>"
      ]
    },
    {
      "cell_type": "code",
      "metadata": {
        "id": "Mh2zPyzzlEqh",
        "colab_type": "code",
        "colab": {}
      },
      "source": [
        "import numpy as np\n",
        "import random "
      ],
      "execution_count": 0,
      "outputs": []
    },
    {
      "cell_type": "code",
      "metadata": {
        "id": "0kXsMWc5lR68",
        "colab_type": "code",
        "outputId": "8162b7f2-67c3-4c38-bab3-125f9422ef38",
        "colab": {
          "base_uri": "https://localhost:8080/",
          "height": 319
        }
      },
      "source": [
        "np.random.rand(9,9)"
      ],
      "execution_count": 0,
      "outputs": [
        {
          "output_type": "execute_result",
          "data": {
            "text/plain": [
              "array([[0.47202912, 0.57241528, 0.92720764, 0.7817494 , 0.84098218,\n",
              "        0.63229603, 0.75522514, 0.42139471, 0.49358763],\n",
              "       [0.82566367, 0.32804651, 0.09353678, 0.36496682, 0.50849041,\n",
              "        0.22999495, 0.80050224, 0.33389657, 0.72585205],\n",
              "       [0.33209295, 0.59064545, 0.37825629, 0.58909563, 0.56552753,\n",
              "        0.91337492, 0.94427676, 0.91968349, 0.10555414],\n",
              "       [0.66423513, 0.46916781, 0.26870564, 0.18622221, 0.2362905 ,\n",
              "        0.5730197 , 0.14677256, 0.1621807 , 0.5802519 ],\n",
              "       [0.2263845 , 0.09042801, 0.04609924, 0.37588347, 0.71621518,\n",
              "        0.91221611, 0.04288386, 0.26941237, 0.95043189],\n",
              "       [0.31695084, 0.82452922, 0.28832914, 0.23627791, 0.40065433,\n",
              "        0.32749092, 0.16025283, 0.93354865, 0.58833915],\n",
              "       [0.22675123, 0.04550718, 0.05230502, 0.12058046, 0.74661767,\n",
              "        0.655326  , 0.90341369, 0.18397222, 0.06180967],\n",
              "       [0.17750984, 0.29546625, 0.95017975, 0.03099385, 0.64634751,\n",
              "        0.9085283 , 0.2862046 , 0.7732566 , 0.55271942],\n",
              "       [0.41694169, 0.78905158, 0.83784801, 0.12896653, 0.01346045,\n",
              "        0.19736077, 0.41595315, 0.32721193, 0.96192064]])"
            ]
          },
          "metadata": {
            "tags": []
          },
          "execution_count": 7
        }
      ]
    },
    {
      "cell_type": "code",
      "metadata": {
        "id": "EEvs5Ot9lXoV",
        "colab_type": "code",
        "outputId": "d282a9a6-3300-4de2-fd6b-93db07f42f0c",
        "colab": {
          "base_uri": "https://localhost:8080/",
          "height": 50
        }
      },
      "source": [
        "np.random.random((2,3))"
      ],
      "execution_count": 0,
      "outputs": [
        {
          "output_type": "execute_result",
          "data": {
            "text/plain": [
              "array([[0.99796915, 0.50459915, 0.31247012],\n",
              "       [0.24423006, 0.25205661, 0.4677123 ]])"
            ]
          },
          "metadata": {
            "tags": []
          },
          "execution_count": 6
        }
      ]
    },
    {
      "cell_type": "code",
      "metadata": {
        "id": "dRnl77IkliaD",
        "colab_type": "code",
        "outputId": "0a897172-f698-4fea-d39a-14bf8ed3e23d",
        "colab": {
          "base_uri": "https://localhost:8080/",
          "height": 34
        }
      },
      "source": [
        "np.random.randint((12,5))"
      ],
      "execution_count": 0,
      "outputs": [
        {
          "output_type": "execute_result",
          "data": {
            "text/plain": [
              "array([8, 1])"
            ]
          },
          "metadata": {
            "tags": []
          },
          "execution_count": 12
        }
      ]
    },
    {
      "cell_type": "code",
      "metadata": {
        "id": "mcf-p48olpZY",
        "colab_type": "code",
        "outputId": "71b1d660-705e-45c5-ef5d-db4e41cff44d",
        "colab": {
          "base_uri": "https://localhost:8080/",
          "height": 34
        }
      },
      "source": [
        "np.random.random_sample(3)"
      ],
      "execution_count": 0,
      "outputs": [
        {
          "output_type": "execute_result",
          "data": {
            "text/plain": [
              "array([0.51572584, 0.08871721, 0.06089343])"
            ]
          },
          "metadata": {
            "tags": []
          },
          "execution_count": 14
        }
      ]
    },
    {
      "cell_type": "code",
      "metadata": {
        "id": "cyhrF0HCl1Go",
        "colab_type": "code",
        "outputId": "7d6f5707-23c7-482b-e626-8b121c3f137c",
        "colab": {
          "base_uri": "https://localhost:8080/",
          "height": 50
        }
      },
      "source": [
        "np.arange(100,25,-5,dtype=float)"
      ],
      "execution_count": 0,
      "outputs": [
        {
          "output_type": "execute_result",
          "data": {
            "text/plain": [
              "array([100.,  95.,  90.,  85.,  80.,  75.,  70.,  65.,  60.,  55.,  50.,\n",
              "        45.,  40.,  35.,  30.])"
            ]
          },
          "metadata": {
            "tags": []
          },
          "execution_count": 22
        }
      ]
    },
    {
      "cell_type": "code",
      "metadata": {
        "id": "CJwbvfNimD8G",
        "colab_type": "code",
        "outputId": "4361d74f-3b9f-47fc-ac80-c5122cc36284",
        "colab": {
          "base_uri": "https://localhost:8080/",
          "height": 34
        }
      },
      "source": [
        "zamanBul=np.arange(1,100000,1)\n",
        "print(zamanBul)"
      ],
      "execution_count": 0,
      "outputs": [
        {
          "output_type": "stream",
          "text": [
            "[    1     2     3 ... 99997 99998 99999]\n"
          ],
          "name": "stdout"
        }
      ]
    },
    {
      "cell_type": "code",
      "metadata": {
        "id": "1zdAx3UWmXsj",
        "colab_type": "code",
        "outputId": "ce6ec6c8-826a-44b9-ed98-364553bd41a0",
        "colab": {
          "base_uri": "https://localhost:8080/",
          "height": 34
        }
      },
      "source": [
        "%timeit zamanBul"
      ],
      "execution_count": 0,
      "outputs": [
        {
          "output_type": "stream",
          "text": [
            "10000000 loops, best of 3: 24 ns per loop\n"
          ],
          "name": "stdout"
        }
      ]
    },
    {
      "cell_type": "markdown",
      "metadata": {
        "id": "XvbA-0IHnGOo",
        "colab_type": "text"
      },
      "source": [
        "_______________________________________"
      ]
    },
    {
      "cell_type": "code",
      "metadata": {
        "id": "oB4a9TgWmlOQ",
        "colab_type": "code",
        "colab": {}
      },
      "source": [
        "import numpy as np\n",
        "import pandas as pd\n",
        "\n",
        "# use pandas to extract rainfall inches as a NumPy array\n",
        "from google.colab import drive"
      ],
      "execution_count": 0,
      "outputs": []
    },
    {
      "cell_type": "code",
      "metadata": {
        "id": "FyR7oZAln1Pt",
        "colab_type": "code",
        "colab": {
          "base_uri": "https://localhost:8080/",
          "height": 121
        },
        "outputId": "a3d19193-b1fb-4344-b5d8-08331e33909a"
      },
      "source": [
        "drive.mount(\"/content/drive\")"
      ],
      "execution_count": 40,
      "outputs": [
        {
          "output_type": "stream",
          "text": [
            "Go to this URL in a browser: https://accounts.google.com/o/oauth2/auth?client_id=947318989803-6bn6qk8qdgf4n4g3pfee6491hc0brc4i.apps.googleusercontent.com&redirect_uri=urn%3aietf%3awg%3aoauth%3a2.0%3aoob&response_type=code&scope=email%20https%3a%2f%2fwww.googleapis.com%2fauth%2fdocs.test%20https%3a%2f%2fwww.googleapis.com%2fauth%2fdrive%20https%3a%2f%2fwww.googleapis.com%2fauth%2fdrive.photos.readonly%20https%3a%2f%2fwww.googleapis.com%2fauth%2fpeopleapi.readonly\n",
            "\n",
            "Enter your authorization code:\n",
            "··········\n",
            "Mounted at /content/drive\n"
          ],
          "name": "stdout"
        }
      ]
    },
    {
      "cell_type": "code",
      "metadata": {
        "id": "1KV4RvVEoPz4",
        "colab_type": "code",
        "colab": {
          "base_uri": "https://localhost:8080/",
          "height": 34
        },
        "outputId": "510316c6-5010-4167-c445-877acb52f24a"
      },
      "source": [
        "!ls \"/content/drive/My Drive/PythonDataScienceHandbook-master/notebooks/data/Seattle2014.csv\"\n",
        "rainfallz=\"/content/drive/My Drive/PythonDataScienceHandbook-master/notebooks/data/Seattle2014.csv\""
      ],
      "execution_count": 48,
      "outputs": [
        {
          "output_type": "stream",
          "text": [
            "'/content/drive/My Drive/PythonDataScienceHandbook-master/notebooks/data/Seattle2014.csv'\n"
          ],
          "name": "stdout"
        }
      ]
    },
    {
      "cell_type": "code",
      "metadata": {
        "id": "VHfwuIvInLk4",
        "colab_type": "code",
        "outputId": "fb24d804-c98c-44f7-8632-830dc6ffea69",
        "colab": {
          "base_uri": "https://localhost:8080/",
          "height": 504
        }
      },
      "source": [
        "rainfall = pd.read_csv(rainfallz)['PRCP'].values\n",
        "rainfall"
      ],
      "execution_count": 52,
      "outputs": [
        {
          "output_type": "execute_result",
          "data": {
            "text/plain": [
              "array([  0,  41,  15,   0,   0,   3, 122,  97,  58,  43, 213,  15,   0,\n",
              "         0,   0,   0,   0,   0,   0,   0,   0,   5,   0,   0,   0,   0,\n",
              "         0,  89, 216,   0,  23,  20,   0,   0,   0,   0,   0,   0,  51,\n",
              "         5, 183, 170,  46,  18,  94, 117, 264, 145, 152,  10,  30,  28,\n",
              "        25,  61, 130,   3,   0,   0,   0,   5, 191, 107, 165, 467,  30,\n",
              "         0, 323,  43, 188,   0,   0,   5,  69,  81, 277,   3,   0,   5,\n",
              "         0,   0,   0,   0,   0,  41,  36,   3, 221, 140,   0,   0,   0,\n",
              "         0,  25,   0,  46,   0,   0,  46,   0,   0,   0,   0,   0,   0,\n",
              "         5, 109, 185,   0, 137,   0,  51, 142,  89, 124,   0,  33,  69,\n",
              "         0,   0,   0,   0,   0, 333, 160,  51,   0,   0, 137,  20,   5,\n",
              "         0,   0,   0,   0,   0,   0,   0,   0,   0,   0,   0,   0,  38,\n",
              "         0,  56,   0,   0,   0,   0,   0,   0,   0,   0,   0,   0,   0,\n",
              "         0,   0,   0,   0,   0,   0,  18,  64,   0,   5,  36,  13,   0,\n",
              "         8,   3,   0,   0,   0,   0,   0,   0,  18,  23,   0,   0,   0,\n",
              "         0,   0,   0,   0,   0,   0,   0,   0,   0,   0,   0,   0,   0,\n",
              "         0,   0,   0,   0,   0,   0,   0,   3, 193,   0,   0,   0,   0,\n",
              "         0,   0,   0,   0,   0,   5,   0,   0,   0,   0,   0,   0,   0,\n",
              "         0,   5, 127, 216,   0,  10,   0,   0,   0,   0,   0,   0,   0,\n",
              "         0,   0,   0,   0,   0,   0,   0,  84,  13,   0,  30,   0,   0,\n",
              "         0,   0,   0,   0,   0,   0,   0,   0,   0,   0,   0,   0,   5,\n",
              "         3,   0,   0,   0,   3, 183, 203,  43,  89,   0,   0,   8,   0,\n",
              "         0,   0,   0,   0,   0,   0,   0,   0,   0,   3,  74,   0,  76,\n",
              "        71,  86,   0,  33, 150,   0, 117,  10, 320,  94,  41,  61,  15,\n",
              "         8, 127,   5, 254, 170,   0,  18, 109,  41,  48,  41,   0,   0,\n",
              "        51,   0,   0,   0,   0,   0,   0,   0,   0,   0,   0,  36, 152,\n",
              "         5, 119,  13, 183,   3,  33, 343,  36,   0,   0,   0,   0,   8,\n",
              "        30,  74,   0,  91,  99, 130,  69,   0,   0,   0,   0,   0,  28,\n",
              "       130,  30, 196,   0,   0, 206,  53,   0,   0,  33,  41,   0,   0,\n",
              "         0])"
            ]
          },
          "metadata": {
            "tags": []
          },
          "execution_count": 52
        }
      ]
    },
    {
      "cell_type": "code",
      "metadata": {
        "id": "LIspXyQtpC5o",
        "colab_type": "code",
        "colab": {
          "base_uri": "https://localhost:8080/",
          "height": 34
        },
        "outputId": "092289a1-11d1-48fd-c023-e3251746e56f"
      },
      "source": [
        "inches = rainfall / 254.0  # 1/10mm -> inches\n",
        "inches.shape"
      ],
      "execution_count": 54,
      "outputs": [
        {
          "output_type": "execute_result",
          "data": {
            "text/plain": [
              "(365,)"
            ]
          },
          "metadata": {
            "tags": []
          },
          "execution_count": 54
        }
      ]
    },
    {
      "cell_type": "code",
      "metadata": {
        "id": "kzHK1SpqpLHN",
        "colab_type": "code",
        "colab": {}
      },
      "source": [
        "%matplotlib inline\n",
        "import matplotlib.pyplot as plt\n",
        "import seaborn; seaborn.set()  # set plot styles"
      ],
      "execution_count": 0,
      "outputs": []
    },
    {
      "cell_type": "code",
      "metadata": {
        "id": "WuA1x8G_pQVZ",
        "colab_type": "code",
        "colab": {
          "base_uri": "https://localhost:8080/",
          "height": 268
        },
        "outputId": "6e9f5949-bc5b-4ff2-83c6-af76f53b8ca8"
      },
      "source": [
        "plt.hist(inches, 15);"
      ],
      "execution_count": 61,
      "outputs": [
        {
          "output_type": "display_data",
          "data": {
            "image/png": "[encoded data removed]",
            "text/plain": [
              "<Figure size 432x288 with 1 Axes>"
            ]
          },
          "metadata": {
            "tags": []
          }
        }
      ]
    },
    {
      "cell_type": "markdown",
      "metadata": {
        "id": "fQffEuw1pmZ8",
        "colab_type": "text"
      },
      "source": [
        "__________________________________________________________"
      ]
    },
    {
      "cell_type": "markdown",
      "metadata": {
        "id": "Xk6MZ2N8pfEo",
        "colab_type": "text"
      },
      "source": [
        "    A summary of the comparison operators and their equivalent ufunc is shown here:\n",
        "\n",
        "| Operator\t    | Equivalent ufunc    || Operator\t   | Equivalent ufunc    |\n",
        "|---------------|---------------------||---------------|---------------------|\n",
        "|``==``         |``np.equal``         ||``!=``         |``np.not_equal``     |\n",
        "|``<``          |``np.less``          ||``<=``         |``np.less_equal``    |\n",
        "|``>``          |``np.greater``       ||``>=``         |``np.greater_equal`` |"
      ]
    },
    {
      "cell_type": "code",
      "metadata": {
        "id": "jVd2PPS0p0RH",
        "colab_type": "code",
        "colab": {
          "base_uri": "https://localhost:8080/",
          "height": 504
        },
        "outputId": "e65a2900-cebd-44ae-a820-3060501703e8"
      },
      "source": [
        "days = np.arange(365)\n",
        "days"
      ],
      "execution_count": 66,
      "outputs": [
        {
          "output_type": "execute_result",
          "data": {
            "text/plain": [
              "array([  0,   1,   2,   3,   4,   5,   6,   7,   8,   9,  10,  11,  12,\n",
              "        13,  14,  15,  16,  17,  18,  19,  20,  21,  22,  23,  24,  25,\n",
              "        26,  27,  28,  29,  30,  31,  32,  33,  34,  35,  36,  37,  38,\n",
              "        39,  40,  41,  42,  43,  44,  45,  46,  47,  48,  49,  50,  51,\n",
              "        52,  53,  54,  55,  56,  57,  58,  59,  60,  61,  62,  63,  64,\n",
              "        65,  66,  67,  68,  69,  70,  71,  72,  73,  74,  75,  76,  77,\n",
              "        78,  79,  80,  81,  82,  83,  84,  85,  86,  87,  88,  89,  90,\n",
              "        91,  92,  93,  94,  95,  96,  97,  98,  99, 100, 101, 102, 103,\n",
              "       104, 105, 106, 107, 108, 109, 110, 111, 112, 113, 114, 115, 116,\n",
              "       117, 118, 119, 120, 121, 122, 123, 124, 125, 126, 127, 128, 129,\n",
              "       130, 131, 132, 133, 134, 135, 136, 137, 138, 139, 140, 141, 142,\n",
              "       143, 144, 145, 146, 147, 148, 149, 150, 151, 152, 153, 154, 155,\n",
              "       156, 157, 158, 159, 160, 161, 162, 163, 164, 165, 166, 167, 168,\n",
              "       169, 170, 171, 172, 173, 174, 175, 176, 177, 178, 179, 180, 181,\n",
              "       182, 183, 184, 185, 186, 187, 188, 189, 190, 191, 192, 193, 194,\n",
              "       195, 196, 197, 198, 199, 200, 201, 202, 203, 204, 205, 206, 207,\n",
              "       208, 209, 210, 211, 212, 213, 214, 215, 216, 217, 218, 219, 220,\n",
              "       221, 222, 223, 224, 225, 226, 227, 228, 229, 230, 231, 232, 233,\n",
              "       234, 235, 236, 237, 238, 239, 240, 241, 242, 243, 244, 245, 246,\n",
              "       247, 248, 249, 250, 251, 252, 253, 254, 255, 256, 257, 258, 259,\n",
              "       260, 261, 262, 263, 264, 265, 266, 267, 268, 269, 270, 271, 272,\n",
              "       273, 274, 275, 276, 277, 278, 279, 280, 281, 282, 283, 284, 285,\n",
              "       286, 287, 288, 289, 290, 291, 292, 293, 294, 295, 296, 297, 298,\n",
              "       299, 300, 301, 302, 303, 304, 305, 306, 307, 308, 309, 310, 311,\n",
              "       312, 313, 314, 315, 316, 317, 318, 319, 320, 321, 322, 323, 324,\n",
              "       325, 326, 327, 328, 329, 330, 331, 332, 333, 334, 335, 336, 337,\n",
              "       338, 339, 340, 341, 342, 343, 344, 345, 346, 347, 348, 349, 350,\n",
              "       351, 352, 353, 354, 355, 356, 357, 358, 359, 360, 361, 362, 363,\n",
              "       364])"
            ]
          },
          "metadata": {
            "tags": []
          },
          "execution_count": 66
        }
      ]
    },
    {
      "cell_type": "code",
      "metadata": {
        "id": "FW_AKnpAp6At",
        "colab_type": "code",
        "colab": {
          "base_uri": "https://localhost:8080/",
          "height": 706
        },
        "outputId": "72d56bea-17e8-490e-d42d-e324913b00dd"
      },
      "source": [
        "summer = (days > 172) & (days < 262)\n",
        "summer"
      ],
      "execution_count": 68,
      "outputs": [
        {
          "output_type": "execute_result",
          "data": {
            "text/plain": [
              "array([False, False, False, False, False, False, False, False, False,\n",
              "       False, False, False, False, False, False, False, False, False,\n",
              "       False, False, False, False, False, False, False, False, False,\n",
              "       False, False, False, False, False, False, False, False, False,\n",
              "       False, False, False, False, False, False, False, False, False,\n",
              "       False, False, False, False, False, False, False, False, False,\n",
              "       False, False, False, False, False, False, False, False, False,\n",
              "       False, False, False, False, False, False, False, False, False,\n",
              "       False, False, False, False, False, False, False, False, False,\n",
              "       False, False, False, False, False, False, False, False, False,\n",
              "       False, False, False, False, False, False, False, False, False,\n",
              "       False, False, False, False, False, False, False, False, False,\n",
              "       False, False, False, False, False, False, False, False, False,\n",
              "       False, False, False, False, False, False, False, False, False,\n",
              "       False, False, False, False, False, False, False, False, False,\n",
              "       False, False, False, False, False, False, False, False, False,\n",
              "       False, False, False, False, False, False, False, False, False,\n",
              "       False, False, False, False, False, False, False, False, False,\n",
              "       False, False, False, False, False, False, False, False, False,\n",
              "       False, False,  True,  True,  True,  True,  True,  True,  True,\n",
              "        True,  True,  True,  True,  True,  True,  True,  True,  True,\n",
              "        True,  True,  True,  True,  True,  True,  True,  True,  True,\n",
              "        True,  True,  True,  True,  True,  True,  True,  True,  True,\n",
              "        True,  True,  True,  True,  True,  True,  True,  True,  True,\n",
              "        True,  True,  True,  True,  True,  True,  True,  True,  True,\n",
              "        True,  True,  True,  True,  True,  True,  True,  True,  True,\n",
              "        True,  True,  True,  True,  True,  True,  True,  True,  True,\n",
              "        True,  True,  True,  True,  True,  True,  True,  True,  True,\n",
              "        True,  True,  True,  True,  True,  True,  True,  True,  True,\n",
              "        True, False, False, False, False, False, False, False, False,\n",
              "       False, False, False, False, False, False, False, False, False,\n",
              "       False, False, False, False, False, False, False, False, False,\n",
              "       False, False, False, False, False, False, False, False, False,\n",
              "       False, False, False, False, False, False, False, False, False,\n",
              "       False, False, False, False, False, False, False, False, False,\n",
              "       False, False, False, False, False, False, False, False, False,\n",
              "       False, False, False, False, False, False, False, False, False,\n",
              "       False, False, False, False, False, False, False, False, False,\n",
              "       False, False, False, False, False, False, False, False, False,\n",
              "       False, False, False, False, False, False, False, False, False,\n",
              "       False, False, False, False, False])"
            ]
          },
          "metadata": {
            "tags": []
          },
          "execution_count": 68
        }
      ]
    },
    {
      "cell_type": "code",
      "metadata": {
        "id": "T_MFE1gdqChd",
        "colab_type": "code",
        "colab": {
          "base_uri": "https://localhost:8080/",
          "height": 706
        },
        "outputId": "f05a2a66-1c26-4ae3-a8e5-140c6895acb1"
      },
      "source": [
        "snowy = (inches < 1)\n",
        "snowy"
      ],
      "execution_count": 71,
      "outputs": [
        {
          "output_type": "execute_result",
          "data": {
            "text/plain": [
              "array([ True,  True,  True,  True,  True,  True,  True,  True,  True,\n",
              "        True,  True,  True,  True,  True,  True,  True,  True,  True,\n",
              "        True,  True,  True,  True,  True,  True,  True,  True,  True,\n",
              "        True,  True,  True,  True,  True,  True,  True,  True,  True,\n",
              "        True,  True,  True,  True,  True,  True,  True,  True,  True,\n",
              "        True, False,  True,  True,  True,  True,  True,  True,  True,\n",
              "        True,  True,  True,  True,  True,  True,  True,  True,  True,\n",
              "       False,  True,  True, False,  True,  True,  True,  True,  True,\n",
              "        True,  True, False,  True,  True,  True,  True,  True,  True,\n",
              "        True,  True,  True,  True,  True,  True,  True,  True,  True,\n",
              "        True,  True,  True,  True,  True,  True,  True,  True,  True,\n",
              "        True,  True,  True,  True,  True,  True,  True,  True,  True,\n",
              "        True,  True,  True,  True,  True,  True,  True,  True,  True,\n",
              "        True,  True,  True,  True,  True, False,  True,  True,  True,\n",
              "        True,  True,  True,  True,  True,  True,  True,  True,  True,\n",
              "        True,  True,  True,  True,  True,  True,  True,  True,  True,\n",
              "        True,  True,  True,  True,  True,  True,  True,  True,  True,\n",
              "        True,  True,  True,  True,  True,  True,  True,  True,  True,\n",
              "        True,  True,  True,  True,  True,  True,  True,  True,  True,\n",
              "        True,  True,  True,  True,  True,  True,  True,  True,  True,\n",
              "        True,  True,  True,  True,  True,  True,  True,  True,  True,\n",
              "        True,  True,  True,  True,  True,  True,  True,  True,  True,\n",
              "        True,  True,  True,  True,  True,  True,  True,  True,  True,\n",
              "        True,  True,  True,  True,  True,  True,  True,  True,  True,\n",
              "        True,  True,  True,  True,  True,  True,  True,  True,  True,\n",
              "        True,  True,  True,  True,  True,  True,  True,  True,  True,\n",
              "        True,  True,  True,  True,  True,  True,  True,  True,  True,\n",
              "        True,  True,  True,  True,  True,  True,  True,  True,  True,\n",
              "        True,  True,  True,  True,  True,  True,  True,  True,  True,\n",
              "        True,  True,  True,  True,  True,  True,  True,  True,  True,\n",
              "        True,  True,  True,  True,  True,  True,  True,  True,  True,\n",
              "        True,  True,  True,  True,  True,  True,  True,  True,  True,\n",
              "        True,  True,  True,  True,  True,  True, False,  True,  True,\n",
              "        True,  True,  True,  True,  True, False,  True,  True,  True,\n",
              "        True,  True,  True,  True,  True,  True,  True,  True,  True,\n",
              "        True,  True,  True,  True,  True,  True,  True,  True,  True,\n",
              "        True,  True,  True,  True,  True,  True,  True, False,  True,\n",
              "        True,  True,  True,  True,  True,  True,  True,  True,  True,\n",
              "        True,  True,  True,  True,  True,  True,  True,  True,  True,\n",
              "        True,  True,  True,  True,  True,  True,  True,  True,  True,\n",
              "        True,  True,  True,  True,  True])"
            ]
          },
          "metadata": {
            "tags": []
          },
          "execution_count": 71
        }
      ]
    },
    {
      "cell_type": "code",
      "metadata": {
        "id": "tmRZxpdaqit4",
        "colab_type": "code",
        "colab": {
          "base_uri": "https://localhost:8080/",
          "height": 84
        },
        "outputId": "8935effe-babb-4831-be37-8f8940b82cc5"
      },
      "source": [
        "print(\"Median precip on snowy days  (inches):   \",\n",
        "      np.median(inches[snowy]))\n",
        "print(\"Median precip on summer days (inches):  \",\n",
        "      np.median(inches[summer]))\n",
        "print(\"Maximum precip on summer days  (inches): \",\n",
        "      np.max(inches[summer]))\n",
        "print(\"Median precip on non-summer rainy days (inches):\",\n",
        "      np.median(inches[rainy & ~summer]))"
      ],
      "execution_count": 76,
      "outputs": [
        {
          "output_type": "stream",
          "text": [
            "Median precip on snowy days  (inches):    0.0\n",
            "Median precip on summer days (inches):   0.0\n",
            "Maximum precip on summer days  (inches):  0.8503937007874016\n",
            "Median precip on non-summer rainy days (inches): 0.20078740157480315\n"
          ],
          "name": "stdout"
        }
      ]
    },
    {
      "cell_type": "code",
      "metadata": {
        "id": "IrwqODyFqsJ4",
        "colab_type": "code",
        "colab": {
          "base_uri": "https://localhost:8080/",
          "height": 34
        },
        "outputId": "5bd055c7-0126-41dc-d190-4662cff10ee3"
      },
      "source": [
        "inchez=plt.hsv()"
      ],
      "execution_count": 81,
      "outputs": [
        {
          "output_type": "display_data",
          "data": {
            "text/plain": [
              "<Figure size 432x288 with 0 Axes>"
            ]
          },
          "metadata": {
            "tags": []
          }
        }
      ]
    },
    {
      "cell_type": "code",
      "metadata": {
        "id": "2n8-FM_bsA0q",
        "colab_type": "code",
        "colab": {}
      },
      "source": [
        ""
      ],
      "execution_count": 0,
      "outputs": []
    },
    {
      "cell_type": "markdown",
      "metadata": {
        "id": "KkGE4Li-so-y",
        "colab_type": "text"
      },
      "source": [
        "________________________________________________\n",
        "\n",
        "---\n",
        "\n",
        "\n",
        "\n",
        "---\n",
        "\n"
      ]
    },
    {
      "cell_type": "code",
      "metadata": {
        "id": "E9C2CSjVshkU",
        "colab_type": "code",
        "outputId": "331c937e-ef7d-4393-9362-fd99fe7b514f",
        "colab": {
          "base_uri": "https://localhost:8080/",
          "height": 34
        }
      },
      "source": [
        "import numpy as np\n",
        "rand = np.random.RandomState(100)\n",
        "\n",
        "x = rand.randint(100, size=15)\n",
        "print(x)"
      ],
      "execution_count": 86,
      "outputs": [
        {
          "output_type": "stream",
          "text": [
            "[ 8 24 67 87 79 48 10 94 52 98 53 66 98 14 34]\n"
          ],
          "name": "stdout"
        }
      ]
    },
    {
      "cell_type": "code",
      "metadata": {
        "id": "OByh8qqFstFV",
        "colab_type": "code",
        "colab": {
          "base_uri": "https://localhost:8080/",
          "height": 34
        },
        "outputId": "0a3fdeab-03f0-4777-8249-bde9bddcbbca"
      },
      "source": [
        "[x[2], x[4], x[8]]"
      ],
      "execution_count": 87,
      "outputs": [
        {
          "output_type": "execute_result",
          "data": {
            "text/plain": [
              "[67, 79, 52]"
            ]
          },
          "metadata": {
            "tags": []
          },
          "execution_count": 87
        }
      ]
    },
    {
      "cell_type": "code",
      "metadata": {
        "id": "_67RzQHts6Qs",
        "colab_type": "code",
        "colab": {
          "base_uri": "https://localhost:8080/",
          "height": 34
        },
        "outputId": "4b0718d0-22e6-4332-8980-7bd70ab4286f"
      },
      "source": [
        "indeks = [3, 7, 4]\n",
        "x[indeks]"
      ],
      "execution_count": 92,
      "outputs": [
        {
          "output_type": "execute_result",
          "data": {
            "text/plain": [
              "array([87, 94, 79])"
            ]
          },
          "metadata": {
            "tags": []
          },
          "execution_count": 92
        }
      ]
    },
    {
      "cell_type": "code",
      "metadata": {
        "id": "CWS15wwgtS8H",
        "colab_type": "code",
        "colab": {
          "base_uri": "https://localhost:8080/",
          "height": 84
        },
        "outputId": "6b355562-34c2-4f4c-9cf2-3deeb09678da"
      },
      "source": [
        "X = np.arange(16).reshape((4, 4))\n",
        "X"
      ],
      "execution_count": 95,
      "outputs": [
        {
          "output_type": "execute_result",
          "data": {
            "text/plain": [
              "array([[ 0,  1,  2,  3],\n",
              "       [ 4,  5,  6,  7],\n",
              "       [ 8,  9, 10, 11],\n",
              "       [12, 13, 14, 15]])"
            ]
          },
          "metadata": {
            "tags": []
          },
          "execution_count": 95
        }
      ]
    },
    {
      "cell_type": "code",
      "metadata": {
        "id": "XM5rLcTntXMV",
        "colab_type": "code",
        "colab": {
          "base_uri": "https://localhost:8080/",
          "height": 34
        },
        "outputId": "21afc4aa-4940-445f-ccce-ba33f4b8a95a"
      },
      "source": [
        "row = np.array([0, 1, 2])\n",
        "col = np.array([2, 1, 3])\n",
        "X[row, col]"
      ],
      "execution_count": 97,
      "outputs": [
        {
          "output_type": "execute_result",
          "data": {
            "text/plain": [
              "array([ 2,  5, 11])"
            ]
          },
          "metadata": {
            "tags": []
          },
          "execution_count": 97
        }
      ]
    },
    {
      "cell_type": "code",
      "metadata": {
        "id": "NUZVUJkEtjrk",
        "colab_type": "code",
        "colab": {
          "base_uri": "https://localhost:8080/",
          "height": 67
        },
        "outputId": "525c4864-4839-484c-cebb-e05a33999721"
      },
      "source": [
        "X[row[:, np.newaxis], col]"
      ],
      "execution_count": 99,
      "outputs": [
        {
          "output_type": "execute_result",
          "data": {
            "text/plain": [
              "array([[ 2,  1,  3],\n",
              "       [ 6,  5,  7],\n",
              "       [10,  9, 11]])"
            ]
          },
          "metadata": {
            "tags": []
          },
          "execution_count": 99
        }
      ]
    },
    {
      "cell_type": "code",
      "metadata": {
        "id": "qLMx5yVztvpH",
        "colab_type": "code",
        "colab": {}
      },
      "source": [
        "np.random.seed(40)\n",
        "x = np.random.randn(400)\n",
        "\n",
        "# compute a histogram by hand\n",
        "bins = np.linspace(-5, 5, 200)\n",
        "counts = np.zeros_like(bins)\n",
        "\n",
        "# find the appropriate bin for each x\n",
        "i = np.searchsorted(bins, x)\n",
        "\n",
        "# add 1 to each of these bins\n",
        "np.add.at(counts, i, 1)"
      ],
      "execution_count": 0,
      "outputs": []
    },
    {
      "cell_type": "code",
      "metadata": {
        "id": "Bc8RvJ7Jt1OS",
        "colab_type": "code",
        "colab": {
          "base_uri": "https://localhost:8080/",
          "height": 322
        },
        "outputId": "edd40075-39f5-4e14-8a05-d034d4fdfe08"
      },
      "source": [
        "# plot the results\n",
        "plt.plot(bins, counts, linestyle='steps');"
      ],
      "execution_count": 104,
      "outputs": [
        {
          "output_type": "stream",
          "text": [
            "/usr/local/lib/python3.6/dist-packages/ipykernel_launcher.py:1: MatplotlibDeprecationWarning: Passing the drawstyle with the linestyle as a single string is deprecated since Matplotlib 3.1 and support will be removed in 3.3; please pass the drawstyle separately using the drawstyle keyword argument to Line2D or set_drawstyle() method (or ds/set_ds()).\n",
            "  \"\"\"Entry point for launching an IPython kernel.\n"
          ],
          "name": "stderr"
        },
        {
          "output_type": "display_data",
          "data": {
            "image/png": "[encoded data removed]",
            "text/plain": [
              "<Figure size 432x288 with 1 Axes>"
            ]
          },
          "metadata": {
            "tags": []
          }
        }
      ]
    },
    {
      "cell_type": "markdown",
      "metadata": {
        "id": "uv0YD7HauVSv",
        "colab_type": "text"
      },
      "source": [
        "\n",
        "\n",
        "---\n",
        "\n",
        "\n",
        "\n",
        "---\n",
        "\n"
      ]
    },
    {
      "cell_type": "code",
      "metadata": {
        "id": "krmT5ggYt1uK",
        "colab_type": "code",
        "colab": {
          "base_uri": "https://localhost:8080/",
          "height": 1000
        },
        "outputId": "b58b9ff1-c2ba-4e83-e948-241d73dbaefe"
      },
      "source": [
        "import numpy as np\n",
        "\n",
        "def selection_sort(x):\n",
        "    for i in range(len(x)):\n",
        "        swap = i + np.argmin(x[i:])\n",
        "        (x[i], x[swap]) = (x[swap], x[i])\n",
        "    return x\n",
        "    x = np.array([2, 1, 4, 3, 5])\n",
        "selection_sort(x)"
      ],
      "execution_count": 105,
      "outputs": [
        {
          "output_type": "execute_result",
          "data": {
            "text/plain": [
              "array([-3.06727850e+00, -2.91223688e+00, -2.88099459e+00, -2.86394448e+00,\n",
              "       -2.51001044e+00, -2.43705313e+00, -2.11994550e+00, -2.03290956e+00,\n",
              "       -1.95006898e+00, -1.84805054e+00, -1.84440103e+00, -1.82835256e+00,\n",
              "       -1.81352177e+00, -1.74137720e+00, -1.72548164e+00, -1.70632707e+00,\n",
              "       -1.70582163e+00, -1.70273142e+00, -1.69268465e+00, -1.67294131e+00,\n",
              "       -1.66413070e+00, -1.64251902e+00, -1.63205299e+00, -1.59091536e+00,\n",
              "       -1.58809051e+00, -1.56856241e+00, -1.53124960e+00, -1.51702699e+00,\n",
              "       -1.50239856e+00, -1.50206817e+00, -1.49211459e+00, -1.47674443e+00,\n",
              "       -1.45378724e+00, -1.45017724e+00, -1.43838044e+00, -1.42432130e+00,\n",
              "       -1.39684244e+00, -1.39488544e+00, -1.38447039e+00, -1.37923991e+00,\n",
              "       -1.33974061e+00, -1.33703450e+00, -1.30261770e+00, -1.27498361e+00,\n",
              "       -1.24751009e+00, -1.23470323e+00, -1.21858776e+00, -1.21598295e+00,\n",
              "       -1.20297249e+00, -1.18872510e+00, -1.14526246e+00, -1.12614983e+00,\n",
              "       -1.11206497e+00, -1.11051154e+00, -1.10791517e+00, -1.10703555e+00,\n",
              "       -1.09249544e+00, -1.05905649e+00, -1.05247805e+00, -1.04661354e+00,\n",
              "       -1.04214031e+00, -1.01888711e+00, -1.01702346e+00, -1.01700702e+00,\n",
              "       -1.01337973e+00, -1.00424679e+00, -9.82779182e-01, -9.79717617e-01,\n",
              "       -9.76299275e-01, -9.28524586e-01, -9.28010501e-01, -9.24102211e-01,\n",
              "       -8.95249695e-01, -8.91310634e-01, -8.90374602e-01, -8.81930051e-01,\n",
              "       -8.75534353e-01, -8.60259761e-01, -8.48434311e-01, -8.46170405e-01,\n",
              "       -8.39192480e-01, -8.27757385e-01, -8.21839798e-01, -8.15737437e-01,\n",
              "       -8.11073411e-01, -8.05235276e-01, -7.95788298e-01, -7.71470895e-01,\n",
              "       -7.61096259e-01, -7.52908804e-01, -7.42375756e-01, -7.33489834e-01,\n",
              "       -7.33173122e-01, -7.29998008e-01, -7.29980979e-01, -6.89567082e-01,\n",
              "       -6.84606359e-01, -6.55611405e-01, -6.39845459e-01, -6.38950860e-01,\n",
              "       -6.25322233e-01, -6.19634653e-01, -6.15067284e-01, -6.07547697e-01,\n",
              "       -6.03379403e-01, -6.00540860e-01, -5.81097620e-01, -5.78639110e-01,\n",
              "       -5.53895194e-01, -5.53476853e-01, -5.53166520e-01, -5.49924898e-01,\n",
              "       -5.43870285e-01, -5.41154714e-01, -5.33716740e-01, -5.26602279e-01,\n",
              "       -5.25257651e-01, -5.18780977e-01, -5.18701415e-01, -5.11205131e-01,\n",
              "       -5.07994972e-01, -5.05619833e-01, -4.94581215e-01, -4.85597629e-01,\n",
              "       -4.67002424e-01, -4.66444294e-01, -4.57463523e-01, -4.49940165e-01,\n",
              "       -4.43472989e-01, -4.38185501e-01, -4.35000775e-01, -4.33428919e-01,\n",
              "       -4.29648275e-01, -4.13302738e-01, -4.03169625e-01, -3.95186613e-01,\n",
              "       -3.91557359e-01, -3.80624822e-01, -3.79497625e-01, -3.66123836e-01,\n",
              "       -3.52509201e-01, -3.31696855e-01, -3.30147892e-01, -3.26717171e-01,\n",
              "       -3.20399577e-01, -3.17208764e-01, -3.14849568e-01, -3.13574204e-01,\n",
              "       -3.11378917e-01, -3.05342720e-01, -3.03629543e-01, -3.03524113e-01,\n",
              "       -2.94281336e-01, -2.93105964e-01, -2.60192777e-01, -2.56935261e-01,\n",
              "       -2.54058092e-01, -2.46718404e-01, -2.33584518e-01, -2.20368748e-01,\n",
              "       -2.12550792e-01, -2.12516069e-01, -2.12251774e-01, -2.11377609e-01,\n",
              "       -1.99009120e-01, -1.98228889e-01, -1.86393597e-01, -1.77707158e-01,\n",
              "       -1.76710569e-01, -1.73893843e-01, -1.72961737e-01, -1.70051171e-01,\n",
              "       -1.66825675e-01, -1.59869600e-01, -1.54794096e-01, -1.50285128e-01,\n",
              "       -1.36263295e-01, -1.33693031e-01, -1.26868357e-01, -1.26136415e-01,\n",
              "       -1.21892650e-01, -1.19602864e-01, -1.04745722e-01, -9.22725643e-02,\n",
              "       -8.44797041e-02, -8.13770337e-02, -7.14700297e-02, -6.45567815e-02,\n",
              "       -4.18781122e-02, -3.81370420e-02, -2.39828502e-02, -2.07027816e-02,\n",
              "       -2.00525120e-02, -1.83800459e-02, -1.75524260e-02, -1.57232835e-02,\n",
              "       -1.48323622e-02, -1.58403144e-03,  8.03837730e-03,  8.98940838e-03,\n",
              "        1.35964592e-02,  2.77116523e-02,  2.83395081e-02,  3.00761381e-02,\n",
              "        3.13769588e-02,  3.17267859e-02,  3.42900890e-02,  5.40731003e-02,\n",
              "        6.84019696e-02,  6.93299159e-02,  7.47986440e-02,  7.68315380e-02,\n",
              "        8.13231006e-02,  8.27242838e-02,  8.80633565e-02,  8.81400531e-02,\n",
              "        1.03499958e-01,  1.08950312e-01,  1.14489893e-01,  1.21698747e-01,\n",
              "        1.23747463e-01,  1.26492990e-01,  1.27790878e-01,  1.36138116e-01,\n",
              "        1.44525409e-01,  1.53561693e-01,  1.60145494e-01,  1.72549074e-01,\n",
              "        1.73424886e-01,  1.82609707e-01,  1.95137385e-01,  1.99403491e-01,\n",
              "        2.01655143e-01,  2.03521893e-01,  2.07976299e-01,  2.09172171e-01,\n",
              "        2.12288320e-01,  2.12937147e-01,  2.14333068e-01,  2.18784026e-01,\n",
              "        2.24633861e-01,  2.25122178e-01,  2.31560457e-01,  2.43855029e-01,\n",
              "        2.47657601e-01,  2.57953416e-01,  2.58664734e-01,  2.66716306e-01,\n",
              "        2.68831363e-01,  2.93494154e-01,  2.97899509e-01,  3.02212446e-01,\n",
              "        3.03953538e-01,  3.03993336e-01,  3.05636445e-01,  3.17319553e-01,\n",
              "        3.35615883e-01,  3.46884585e-01,  3.48575462e-01,  3.51909734e-01,\n",
              "        3.51958530e-01,  3.54308532e-01,  3.57700540e-01,  3.68097716e-01,\n",
              "        3.70728925e-01,  3.79344760e-01,  4.10453085e-01,  4.11422610e-01,\n",
              "        4.13941177e-01,  4.15818012e-01,  4.20738845e-01,  4.33449228e-01,\n",
              "        4.36006110e-01,  4.41658820e-01,  4.44807357e-01,  4.50060174e-01,\n",
              "        4.56002764e-01,  4.56667215e-01,  4.57259433e-01,  4.68913127e-01,\n",
              "        4.70275341e-01,  4.81494757e-01,  4.88228959e-01,  4.88810054e-01,\n",
              "        4.89982373e-01,  4.93443494e-01,  5.31874043e-01,  5.31890809e-01,\n",
              "        5.42881679e-01,  5.46276257e-01,  5.52994398e-01,  5.55768994e-01,\n",
              "        5.71958603e-01,  5.73096814e-01,  5.88281650e-01,  5.96749567e-01,\n",
              "        5.97110030e-01,  5.98360513e-01,  6.03596284e-01,  6.11665537e-01,\n",
              "        6.13964005e-01,  6.33108263e-01,  6.39726400e-01,  6.41102753e-01,\n",
              "        6.42120209e-01,  6.44259967e-01,  6.65395883e-01,  6.92471248e-01,\n",
              "        6.96277612e-01,  7.01752362e-01,  7.10266991e-01,  7.48422737e-01,\n",
              "        7.68408733e-01,  7.69559486e-01,  7.82594279e-01,  7.86201533e-01,\n",
              "        7.95117393e-01,  8.04325707e-01,  8.06940890e-01,  8.20008710e-01,\n",
              "        8.22824861e-01,  8.23255374e-01,  8.35243079e-01,  8.36348771e-01,\n",
              "        8.36649241e-01,  8.57870222e-01,  8.70725879e-01,  8.74325168e-01,\n",
              "        8.74648202e-01,  8.76036334e-01,  8.85244239e-01,  8.86166522e-01,\n",
              "        8.87297904e-01,  8.88519295e-01,  8.96027014e-01,  9.15757212e-01,\n",
              "        9.20276153e-01,  9.28714749e-01,  9.43187120e-01,  9.47082680e-01,\n",
              "        9.48440441e-01,  9.71400408e-01,  9.78212473e-01,  1.00055791e+00,\n",
              "        1.00777224e+00,  1.01326978e+00,  1.03090260e+00,  1.05240778e+00,\n",
              "        1.05553444e+00,  1.07144790e+00,  1.07569096e+00,  1.09753198e+00,\n",
              "        1.09914036e+00,  1.13819868e+00,  1.15626258e+00,  1.16034512e+00,\n",
              "        1.16415460e+00,  1.18997822e+00,  1.20930302e+00,  1.21868257e+00,\n",
              "        1.22609704e+00,  1.27263986e+00,  1.28408270e+00,  1.29201502e+00,\n",
              "        1.30847943e+00,  1.31754825e+00,  1.32163306e+00,  1.33759376e+00,\n",
              "        1.36952759e+00,  1.37140879e+00,  1.40791780e+00,  1.44466475e+00,\n",
              "        1.44811151e+00,  1.49097724e+00,  1.52783550e+00,  1.55067923e+00,\n",
              "        1.55140428e+00,  1.55630085e+00,  1.59195605e+00,  1.61796415e+00,\n",
              "        1.62973574e+00,  1.68778715e+00,  1.71177176e+00,  1.71951901e+00,\n",
              "        1.72169283e+00,  1.74175110e+00,  1.76101748e+00,  1.76934996e+00,\n",
              "        1.80834008e+00,  1.86825697e+00,  1.89585828e+00,  1.90815890e+00,\n",
              "        1.95102122e+00,  1.95555395e+00,  2.21274689e+00,  2.27021905e+00,\n",
              "        2.29249034e+00,  2.45235380e+00,  2.50830120e+00,  3.43744895e+00])"
            ]
          },
          "metadata": {
            "tags": []
          },
          "execution_count": 105
        }
      ]
    },
    {
      "cell_type": "code",
      "metadata": {
        "id": "QsnhF5ZtuYMl",
        "colab_type": "code",
        "colab": {
          "base_uri": "https://localhost:8080/",
          "height": 1000
        },
        "outputId": "11ab2bc7-8084-4b2a-f413-771dbdc46012"
      },
      "source": [
        "def bogosort(x):\n",
        "    while np.any(x[:-1] > x[1:]):\n",
        "        np.random.shuffle(x)\n",
        "    return x\n",
        "    x = np.array([2, 1, 4, 3, 5])\n",
        "bogosort(x)"
      ],
      "execution_count": 106,
      "outputs": [
        {
          "output_type": "execute_result",
          "data": {
            "text/plain": [
              "array([-3.06727850e+00, -2.91223688e+00, -2.88099459e+00, -2.86394448e+00,\n",
              "       -2.51001044e+00, -2.43705313e+00, -2.11994550e+00, -2.03290956e+00,\n",
              "       -1.95006898e+00, -1.84805054e+00, -1.84440103e+00, -1.82835256e+00,\n",
              "       -1.81352177e+00, -1.74137720e+00, -1.72548164e+00, -1.70632707e+00,\n",
              "       -1.70582163e+00, -1.70273142e+00, -1.69268465e+00, -1.67294131e+00,\n",
              "       -1.66413070e+00, -1.64251902e+00, -1.63205299e+00, -1.59091536e+00,\n",
              "       -1.58809051e+00, -1.56856241e+00, -1.53124960e+00, -1.51702699e+00,\n",
              "       -1.50239856e+00, -1.50206817e+00, -1.49211459e+00, -1.47674443e+00,\n",
              "       -1.45378724e+00, -1.45017724e+00, -1.43838044e+00, -1.42432130e+00,\n",
              "       -1.39684244e+00, -1.39488544e+00, -1.38447039e+00, -1.37923991e+00,\n",
              "       -1.33974061e+00, -1.33703450e+00, -1.30261770e+00, -1.27498361e+00,\n",
              "       -1.24751009e+00, -1.23470323e+00, -1.21858776e+00, -1.21598295e+00,\n",
              "       -1.20297249e+00, -1.18872510e+00, -1.14526246e+00, -1.12614983e+00,\n",
              "       -1.11206497e+00, -1.11051154e+00, -1.10791517e+00, -1.10703555e+00,\n",
              "       -1.09249544e+00, -1.05905649e+00, -1.05247805e+00, -1.04661354e+00,\n",
              "       -1.04214031e+00, -1.01888711e+00, -1.01702346e+00, -1.01700702e+00,\n",
              "       -1.01337973e+00, -1.00424679e+00, -9.82779182e-01, -9.79717617e-01,\n",
              "       -9.76299275e-01, -9.28524586e-01, -9.28010501e-01, -9.24102211e-01,\n",
              "       -8.95249695e-01, -8.91310634e-01, -8.90374602e-01, -8.81930051e-01,\n",
              "       -8.75534353e-01, -8.60259761e-01, -8.48434311e-01, -8.46170405e-01,\n",
              "       -8.39192480e-01, -8.27757385e-01, -8.21839798e-01, -8.15737437e-01,\n",
              "       -8.11073411e-01, -8.05235276e-01, -7.95788298e-01, -7.71470895e-01,\n",
              "       -7.61096259e-01, -7.52908804e-01, -7.42375756e-01, -7.33489834e-01,\n",
              "       -7.33173122e-01, -7.29998008e-01, -7.29980979e-01, -6.89567082e-01,\n",
              "       -6.84606359e-01, -6.55611405e-01, -6.39845459e-01, -6.38950860e-01,\n",
              "       -6.25322233e-01, -6.19634653e-01, -6.15067284e-01, -6.07547697e-01,\n",
              "       -6.03379403e-01, -6.00540860e-01, -5.81097620e-01, -5.78639110e-01,\n",
              "       -5.53895194e-01, -5.53476853e-01, -5.53166520e-01, -5.49924898e-01,\n",
              "       -5.43870285e-01, -5.41154714e-01, -5.33716740e-01, -5.26602279e-01,\n",
              "       -5.25257651e-01, -5.18780977e-01, -5.18701415e-01, -5.11205131e-01,\n",
              "       -5.07994972e-01, -5.05619833e-01, -4.94581215e-01, -4.85597629e-01,\n",
              "       -4.67002424e-01, -4.66444294e-01, -4.57463523e-01, -4.49940165e-01,\n",
              "       -4.43472989e-01, -4.38185501e-01, -4.35000775e-01, -4.33428919e-01,\n",
              "       -4.29648275e-01, -4.13302738e-01, -4.03169625e-01, -3.95186613e-01,\n",
              "       -3.91557359e-01, -3.80624822e-01, -3.79497625e-01, -3.66123836e-01,\n",
              "       -3.52509201e-01, -3.31696855e-01, -3.30147892e-01, -3.26717171e-01,\n",
              "       -3.20399577e-01, -3.17208764e-01, -3.14849568e-01, -3.13574204e-01,\n",
              "       -3.11378917e-01, -3.05342720e-01, -3.03629543e-01, -3.03524113e-01,\n",
              "       -2.94281336e-01, -2.93105964e-01, -2.60192777e-01, -2.56935261e-01,\n",
              "       -2.54058092e-01, -2.46718404e-01, -2.33584518e-01, -2.20368748e-01,\n",
              "       -2.12550792e-01, -2.12516069e-01, -2.12251774e-01, -2.11377609e-01,\n",
              "       -1.99009120e-01, -1.98228889e-01, -1.86393597e-01, -1.77707158e-01,\n",
              "       -1.76710569e-01, -1.73893843e-01, -1.72961737e-01, -1.70051171e-01,\n",
              "       -1.66825675e-01, -1.59869600e-01, -1.54794096e-01, -1.50285128e-01,\n",
              "       -1.36263295e-01, -1.33693031e-01, -1.26868357e-01, -1.26136415e-01,\n",
              "       -1.21892650e-01, -1.19602864e-01, -1.04745722e-01, -9.22725643e-02,\n",
              "       -8.44797041e-02, -8.13770337e-02, -7.14700297e-02, -6.45567815e-02,\n",
              "       -4.18781122e-02, -3.81370420e-02, -2.39828502e-02, -2.07027816e-02,\n",
              "       -2.00525120e-02, -1.83800459e-02, -1.75524260e-02, -1.57232835e-02,\n",
              "       -1.48323622e-02, -1.58403144e-03,  8.03837730e-03,  8.98940838e-03,\n",
              "        1.35964592e-02,  2.77116523e-02,  2.83395081e-02,  3.00761381e-02,\n",
              "        3.13769588e-02,  3.17267859e-02,  3.42900890e-02,  5.40731003e-02,\n",
              "        6.84019696e-02,  6.93299159e-02,  7.47986440e-02,  7.68315380e-02,\n",
              "        8.13231006e-02,  8.27242838e-02,  8.80633565e-02,  8.81400531e-02,\n",
              "        1.03499958e-01,  1.08950312e-01,  1.14489893e-01,  1.21698747e-01,\n",
              "        1.23747463e-01,  1.26492990e-01,  1.27790878e-01,  1.36138116e-01,\n",
              "        1.44525409e-01,  1.53561693e-01,  1.60145494e-01,  1.72549074e-01,\n",
              "        1.73424886e-01,  1.82609707e-01,  1.95137385e-01,  1.99403491e-01,\n",
              "        2.01655143e-01,  2.03521893e-01,  2.07976299e-01,  2.09172171e-01,\n",
              "        2.12288320e-01,  2.12937147e-01,  2.14333068e-01,  2.18784026e-01,\n",
              "        2.24633861e-01,  2.25122178e-01,  2.31560457e-01,  2.43855029e-01,\n",
              "        2.47657601e-01,  2.57953416e-01,  2.58664734e-01,  2.66716306e-01,\n",
              "        2.68831363e-01,  2.93494154e-01,  2.97899509e-01,  3.02212446e-01,\n",
              "        3.03953538e-01,  3.03993336e-01,  3.05636445e-01,  3.17319553e-01,\n",
              "        3.35615883e-01,  3.46884585e-01,  3.48575462e-01,  3.51909734e-01,\n",
              "        3.51958530e-01,  3.54308532e-01,  3.57700540e-01,  3.68097716e-01,\n",
              "        3.70728925e-01,  3.79344760e-01,  4.10453085e-01,  4.11422610e-01,\n",
              "        4.13941177e-01,  4.15818012e-01,  4.20738845e-01,  4.33449228e-01,\n",
              "        4.36006110e-01,  4.41658820e-01,  4.44807357e-01,  4.50060174e-01,\n",
              "        4.56002764e-01,  4.56667215e-01,  4.57259433e-01,  4.68913127e-01,\n",
              "        4.70275341e-01,  4.81494757e-01,  4.88228959e-01,  4.88810054e-01,\n",
              "        4.89982373e-01,  4.93443494e-01,  5.31874043e-01,  5.31890809e-01,\n",
              "        5.42881679e-01,  5.46276257e-01,  5.52994398e-01,  5.55768994e-01,\n",
              "        5.71958603e-01,  5.73096814e-01,  5.88281650e-01,  5.96749567e-01,\n",
              "        5.97110030e-01,  5.98360513e-01,  6.03596284e-01,  6.11665537e-01,\n",
              "        6.13964005e-01,  6.33108263e-01,  6.39726400e-01,  6.41102753e-01,\n",
              "        6.42120209e-01,  6.44259967e-01,  6.65395883e-01,  6.92471248e-01,\n",
              "        6.96277612e-01,  7.01752362e-01,  7.10266991e-01,  7.48422737e-01,\n",
              "        7.68408733e-01,  7.69559486e-01,  7.82594279e-01,  7.86201533e-01,\n",
              "        7.95117393e-01,  8.04325707e-01,  8.06940890e-01,  8.20008710e-01,\n",
              "        8.22824861e-01,  8.23255374e-01,  8.35243079e-01,  8.36348771e-01,\n",
              "        8.36649241e-01,  8.57870222e-01,  8.70725879e-01,  8.74325168e-01,\n",
              "        8.74648202e-01,  8.76036334e-01,  8.85244239e-01,  8.86166522e-01,\n",
              "        8.87297904e-01,  8.88519295e-01,  8.96027014e-01,  9.15757212e-01,\n",
              "        9.20276153e-01,  9.28714749e-01,  9.43187120e-01,  9.47082680e-01,\n",
              "        9.48440441e-01,  9.71400408e-01,  9.78212473e-01,  1.00055791e+00,\n",
              "        1.00777224e+00,  1.01326978e+00,  1.03090260e+00,  1.05240778e+00,\n",
              "        1.05553444e+00,  1.07144790e+00,  1.07569096e+00,  1.09753198e+00,\n",
              "        1.09914036e+00,  1.13819868e+00,  1.15626258e+00,  1.16034512e+00,\n",
              "        1.16415460e+00,  1.18997822e+00,  1.20930302e+00,  1.21868257e+00,\n",
              "        1.22609704e+00,  1.27263986e+00,  1.28408270e+00,  1.29201502e+00,\n",
              "        1.30847943e+00,  1.31754825e+00,  1.32163306e+00,  1.33759376e+00,\n",
              "        1.36952759e+00,  1.37140879e+00,  1.40791780e+00,  1.44466475e+00,\n",
              "        1.44811151e+00,  1.49097724e+00,  1.52783550e+00,  1.55067923e+00,\n",
              "        1.55140428e+00,  1.55630085e+00,  1.59195605e+00,  1.61796415e+00,\n",
              "        1.62973574e+00,  1.68778715e+00,  1.71177176e+00,  1.71951901e+00,\n",
              "        1.72169283e+00,  1.74175110e+00,  1.76101748e+00,  1.76934996e+00,\n",
              "        1.80834008e+00,  1.86825697e+00,  1.89585828e+00,  1.90815890e+00,\n",
              "        1.95102122e+00,  1.95555395e+00,  2.21274689e+00,  2.27021905e+00,\n",
              "        2.29249034e+00,  2.45235380e+00,  2.50830120e+00,  3.43744895e+00])"
            ]
          },
          "metadata": {
            "tags": []
          },
          "execution_count": 106
        }
      ]
    },
    {
      "cell_type": "markdown",
      "metadata": {
        "id": "Uymo-Q4tunZY",
        "colab_type": "text"
      },
      "source": [
        "\n",
        "\n",
        "---\n",
        "\n",
        "\n",
        "\n",
        "---\n",
        "\n"
      ]
    },
    {
      "cell_type": "code",
      "metadata": {
        "id": "Mrg4hYV4uhCj",
        "colab_type": "code",
        "colab": {}
      },
      "source": [
        "#sorting"
      ],
      "execution_count": 0,
      "outputs": []
    },
    {
      "cell_type": "code",
      "metadata": {
        "id": "DNhnRlV3uo8Y",
        "colab_type": "code",
        "colab": {
          "base_uri": "https://localhost:8080/",
          "height": 34
        },
        "outputId": "baab9c71-3faa-4b03-a257-84b93e8b004c"
      },
      "source": [
        "x = np.array([2,8, 1,6, 4,7, 3, 5])\n",
        "np.sort(x)"
      ],
      "execution_count": 111,
      "outputs": [
        {
          "output_type": "execute_result",
          "data": {
            "text/plain": [
              "array([1, 2, 3, 4, 5, 6, 7, 8])"
            ]
          },
          "metadata": {
            "tags": []
          },
          "execution_count": 111
        }
      ]
    },
    {
      "cell_type": "code",
      "metadata": {
        "id": "CZXnh45gu0Tz",
        "colab_type": "code",
        "colab": {
          "base_uri": "https://localhost:8080/",
          "height": 34
        },
        "outputId": "562367c7-a991-4a33-b045-f8b1d953234e"
      },
      "source": [
        "x = np.array([2,8, 1,6, 4,7, 3, 5])\n",
        "i = np.argsort(x)\n",
        "print(i)"
      ],
      "execution_count": 113,
      "outputs": [
        {
          "output_type": "stream",
          "text": [
            "[2 0 6 4 7 3 5 1]\n"
          ],
          "name": "stdout"
        }
      ]
    },
    {
      "cell_type": "markdown",
      "metadata": {
        "id": "g0zofLecvAw0",
        "colab_type": "text"
      },
      "source": [
        "K means"
      ]
    },
    {
      "cell_type": "code",
      "metadata": {
        "id": "MsQ_GvdpvAJY",
        "colab_type": "code",
        "colab": {
          "base_uri": "https://localhost:8080/",
          "height": 353
        },
        "outputId": "94a938c9-aa7a-48f2-841b-0a459050fd10"
      },
      "source": [
        "Xs = rand.rand(20, 2)\n",
        "Xs"
      ],
      "execution_count": 118,
      "outputs": [
        {
          "output_type": "execute_result",
          "data": {
            "text/plain": [
              "array([[0.65503521, 0.71103799],\n",
              "       [0.11353758, 0.13302869],\n",
              "       [0.45603906, 0.15973623],\n",
              "       [0.9616419 , 0.83761574],\n",
              "       [0.52016069, 0.21827226],\n",
              "       [0.13491872, 0.97907035],\n",
              "       [0.7070435 , 0.85997556],\n",
              "       [0.38717263, 0.25083402],\n",
              "       [0.29943802, 0.85689553],\n",
              "       [0.47298399, 0.66327705],\n",
              "       [0.80572861, 0.2529805 ],\n",
              "       [0.07957344, 0.73276061],\n",
              "       [0.96139748, 0.95380473],\n",
              "       [0.49049905, 0.63219206],\n",
              "       [0.73299502, 0.9024095 ],\n",
              "       [0.16224692, 0.40588132],\n",
              "       [0.41709074, 0.69559103],\n",
              "       [0.42484724, 0.85811423],\n",
              "       [0.84693248, 0.07019911],\n",
              "       [0.30175241, 0.97962368]])"
            ]
          },
          "metadata": {
            "tags": []
          },
          "execution_count": 118
        }
      ]
    },
    {
      "cell_type": "code",
      "metadata": {
        "id": "F2LQuNbTvXlk",
        "colab_type": "code",
        "colab": {}
      },
      "source": [
        "Xd = rand.rand(200, 5)"
      ],
      "execution_count": 0,
      "outputs": []
    },
    {
      "cell_type": "code",
      "metadata": {
        "id": "hMdtK2SzvEyn",
        "colab_type": "code",
        "colab": {
          "base_uri": "https://localhost:8080/",
          "height": 268
        },
        "outputId": "a9bc27fc-889d-4ea9-815a-25b6f1e5d2fd"
      },
      "source": [
        "%matplotlib inline\n",
        "import matplotlib.pyplot as plt\n",
        "import seaborn; seaborn.set() # Plot styling\n",
        "plt.scatter(Xd[:, 0], Xd[:, 1], s=100, marker=\"*\",edgecolors=\"r\");"
      ],
      "execution_count": 130,
      "outputs": [
        {
          "output_type": "display_data",
          "data": {
            "image/png": "[encoded data removed]",
            "text/plain": [
              "<Figure size 432x288 with 1 Axes>"
            ]
          },
          "metadata": {
            "tags": []
          }
        }
      ]
    },
    {
      "cell_type": "code",
      "metadata": {
        "id": "t9sbq1q0v1qE",
        "colab_type": "code",
        "colab": {
          "base_uri": "https://localhost:8080/",
          "height": 1000
        },
        "outputId": "8bab2add-9221-4021-b31b-76009460164c"
      },
      "source": [
        "fd=rand.random((13,50))\n",
        "fd"
      ],
      "execution_count": 143,
      "outputs": [
        {
          "output_type": "execute_result",
          "data": {
            "text/plain": [
              "array([[2.97634644e-01, 7.36329953e-01, 2.50750408e-02, 8.01213108e-01,\n",
              "        6.41621631e-01, 3.55344727e-01, 8.92297794e-01, 1.79215115e-01,\n",
              "        7.88455115e-01, 7.81938220e-02, 1.88247503e-02, 2.74958769e-01,\n",
              "        9.94425589e-01, 3.51679215e-01, 4.80693505e-01, 9.02242225e-01,\n",
              "        5.86111558e-02, 9.49577698e-01, 3.00145526e-01, 8.00495958e-01,\n",
              "        6.20491590e-01, 1.55976256e-01, 8.05375369e-01, 5.20965795e-01,\n",
              "        5.54111913e-01, 3.64735266e-01, 9.56889868e-01, 6.12704706e-01,\n",
              "        2.30135722e-01, 9.46215193e-01, 1.91309222e-01, 1.89381339e-01,\n",
              "        7.11774414e-01, 7.79661839e-01, 5.02918607e-01, 7.10212258e-01,\n",
              "        9.30447037e-01, 9.84475568e-01, 3.71295886e-01, 7.62315158e-01,\n",
              "        5.78712729e-01, 7.80522400e-01, 5.71008966e-01, 4.85641594e-03,\n",
              "        2.49796686e-02, 9.56691089e-01, 1.27204172e-01, 2.45931735e-01,\n",
              "        3.06711331e-01, 6.25025184e-01],\n",
              "       [3.12434111e-01, 9.95321350e-01, 1.01574808e-01, 1.89068372e-03,\n",
              "        4.49928112e-01, 4.74994166e-01, 4.90157377e-01, 3.45756689e-02,\n",
              "        2.34368735e-01, 2.34548064e-01, 8.12617592e-01, 8.92493284e-01,\n",
              "        6.64032587e-01, 7.69301131e-01, 5.69148458e-01, 6.03476884e-02,\n",
              "        3.73879833e-02, 8.76905916e-01, 2.57236393e-01, 8.21936662e-01,\n",
              "        9.45468535e-01, 9.69145335e-01, 3.27475273e-01, 3.20743836e-01,\n",
              "        3.75008559e-01, 1.67680344e-01, 1.14873592e-01, 6.14190972e-01,\n",
              "        4.69720908e-01, 3.28475244e-01, 4.69266863e-01, 3.61828195e-01,\n",
              "        6.12580988e-01, 5.35746537e-01, 5.16732203e-01, 9.44280732e-01,\n",
              "        4.98475111e-01, 3.56658271e-01, 9.59423229e-02, 3.74080102e-01,\n",
              "        1.19277507e-01, 9.49505711e-01, 3.49970848e-01, 7.03705708e-01,\n",
              "        5.63976374e-01, 3.19079950e-01, 6.93841929e-01, 6.29741332e-01,\n",
              "        5.55849759e-01, 6.73616373e-01],\n",
              "       [9.17605559e-02, 1.37704556e-01, 2.93627202e-01, 4.46053933e-01,\n",
              "        1.36569441e-01, 1.22879098e-01, 6.31213042e-01, 3.95138600e-01,\n",
              "        8.35614973e-02, 6.50475272e-01, 1.09835171e-01, 3.93385384e-01,\n",
              "        5.10477293e-01, 3.96777112e-02, 2.75128599e-01, 5.49312181e-01,\n",
              "        7.62400112e-01, 2.01174347e-01, 8.09665244e-01, 6.91997621e-01,\n",
              "        6.61369071e-03, 9.60240496e-01, 7.91202874e-01, 9.01754107e-01,\n",
              "        8.71514301e-01, 2.56523532e-01, 8.49264160e-01, 5.59959557e-01,\n",
              "        3.23593518e-01, 4.50171347e-01, 3.33587138e-01, 3.52459339e-03,\n",
              "        5.81359463e-01, 9.10539426e-01, 1.62364315e-02, 2.28224138e-01,\n",
              "        6.26812709e-02, 8.20101364e-01, 1.69907486e-02, 2.65185850e-01,\n",
              "        8.14179552e-01, 8.60980585e-01, 1.36094024e-01, 4.21517306e-01,\n",
              "        1.35168409e-01, 7.30343102e-01, 6.81685397e-01, 8.82603302e-01,\n",
              "        5.86673864e-01, 3.84925367e-01],\n",
              "       [6.98287574e-01, 1.57485172e-01, 4.46368076e-01, 5.60603563e-01,\n",
              "        3.51169112e-01, 7.48927543e-02, 6.49643279e-01, 7.26060130e-01,\n",
              "        1.06243052e-01, 6.81556958e-01, 2.38046844e-01, 6.33938835e-01,\n",
              "        4.35336355e-01, 8.20621863e-01, 7.66104261e-01, 6.23286416e-01,\n",
              "        5.18890790e-01, 6.57093902e-01, 7.31314582e-01, 9.83849804e-01,\n",
              "        3.44125409e-01, 8.26811370e-01, 5.15718881e-02, 5.13455039e-01,\n",
              "        7.97539133e-01, 6.37848486e-01, 7.48724155e-01, 8.47616969e-01,\n",
              "        9.15397063e-02, 6.92401758e-01, 2.20871542e-01, 9.90763864e-01,\n",
              "        6.83049598e-01, 1.71926698e-02, 4.07751675e-01, 2.69782017e-01,\n",
              "        4.72248927e-01, 9.81508452e-01, 2.64812094e-01, 6.83536333e-01,\n",
              "        5.06487814e-01, 4.49281604e-01, 5.17006367e-01, 1.99005803e-01,\n",
              "        2.74140693e-01, 4.35024316e-01, 6.01375458e-01, 7.22211430e-01,\n",
              "        4.01335083e-01, 9.36384708e-02],\n",
              "       [1.80670949e-01, 9.89232247e-02, 5.64600118e-01, 6.87489314e-01,\n",
              "        6.14407160e-01, 8.92195652e-01, 5.79929300e-01, 5.30921329e-01,\n",
              "        4.70513625e-01, 4.27613870e-01, 7.16753317e-01, 2.60063977e-01,\n",
              "        4.65135641e-01, 8.14482630e-01, 2.30687217e-01, 2.45096476e-01,\n",
              "        1.17121682e-01, 3.47926533e-01, 6.80904249e-01, 9.27867629e-02,\n",
              "        7.95708938e-01, 9.56007367e-01, 7.92279742e-01, 3.44259770e-01,\n",
              "        7.84827797e-01, 2.50186391e-01, 5.92246682e-01, 6.33660881e-01,\n",
              "        4.62045760e-01, 4.60904902e-01, 1.52215251e-01, 3.86191743e-01,\n",
              "        8.82001205e-01, 8.54250267e-01, 9.49315716e-01, 1.53460063e-01,\n",
              "        4.34487099e-02, 4.18644928e-01, 2.71023753e-01, 8.16587813e-01,\n",
              "        9.79922789e-01, 9.60886790e-01, 5.73623847e-01, 7.98126732e-01,\n",
              "        5.13964428e-01, 1.77931847e-01, 3.23149131e-01, 6.72480155e-01,\n",
              "        6.68468886e-01, 6.64989249e-01],\n",
              "       [7.27528480e-01, 8.04640782e-01, 4.81998244e-01, 4.47895244e-01,\n",
              "        6.64729771e-01, 6.04757732e-01, 6.24402767e-01, 8.86340183e-01,\n",
              "        7.30830431e-01, 8.43606673e-01, 9.86962055e-01, 4.51687880e-01,\n",
              "        8.02398629e-01, 9.85709075e-01, 9.46265169e-01, 3.41287318e-01,\n",
              "        7.82043226e-01, 2.13089925e-01, 3.49721610e-01, 9.18836963e-01,\n",
              "        3.55372188e-01, 8.87271539e-01, 5.08678383e-01, 3.12267371e-01,\n",
              "        3.12406444e-01, 1.60267193e-01, 5.60950216e-01, 3.91931873e-02,\n",
              "        2.89703713e-01, 8.88202721e-01, 7.68550348e-02, 2.26204134e-02,\n",
              "        1.11709500e-01, 9.96704932e-01, 4.70568764e-01, 9.90285042e-01,\n",
              "        7.36183738e-01, 8.69510271e-01, 3.00110391e-01, 4.38645716e-01,\n",
              "        6.39272907e-01, 1.35108757e-01, 8.96483705e-02, 6.94274499e-01,\n",
              "        1.16334774e-01, 3.43670242e-01, 4.29691999e-01, 9.96391564e-01,\n",
              "        9.94631629e-01, 4.84910379e-01],\n",
              "       [7.48575938e-01, 3.10887826e-01, 8.32848998e-01, 5.76720780e-01,\n",
              "        4.82032038e-02, 4.63100373e-01, 1.61091291e-01, 7.41316767e-01,\n",
              "        6.33803386e-02, 3.99093874e-01, 3.90608905e-01, 2.47313267e-01,\n",
              "        4.65937522e-02, 2.42420603e-01, 2.61772652e-01, 9.21051966e-01,\n",
              "        3.03392525e-01, 3.14053303e-01, 4.80314931e-02, 3.28835163e-01,\n",
              "        4.66535268e-01, 5.32248812e-02, 7.73585401e-01, 1.72007963e-05,\n",
              "        3.31318926e-01, 4.98067663e-02, 6.11716020e-02, 7.45585682e-01,\n",
              "        1.28548725e-01, 7.90110979e-01, 4.13649148e-01, 8.59100125e-01,\n",
              "        3.02645849e-01, 4.90274913e-02, 1.53726903e-01, 2.33321065e-01,\n",
              "        6.82091807e-01, 2.05850832e-01, 8.82233999e-01, 4.66498281e-01,\n",
              "        8.99800108e-01, 8.93903248e-01, 5.86035002e-02, 4.87798820e-01,\n",
              "        9.25277995e-01, 3.72752212e-01, 5.80621260e-02, 3.61004971e-01,\n",
              "        6.46829446e-01, 5.59062172e-01],\n",
              "       [3.86999291e-01, 6.41470812e-01, 8.80591349e-01, 8.28695862e-01,\n",
              "        3.87948595e-01, 4.71197040e-01, 3.29762924e-01, 6.36148691e-01,\n",
              "        5.96610235e-01, 8.88676608e-01, 1.59054448e-01, 3.28445485e-01,\n",
              "        2.96199062e-01, 9.95631808e-01, 8.74730915e-03, 5.92659933e-01,\n",
              "        5.21420585e-01, 4.68252752e-01, 2.43807293e-01, 9.33839397e-01,\n",
              "        3.71151907e-01, 8.82651743e-01, 4.88692427e-04, 7.71734508e-02,\n",
              "        6.23639014e-01, 6.99312791e-02, 4.81781857e-01, 1.93880084e-01,\n",
              "        2.18375587e-01, 5.42082104e-01, 7.39181102e-01, 7.83973289e-01,\n",
              "        5.71373475e-01, 5.38364175e-01, 9.60207314e-01, 5.07329222e-01,\n",
              "        6.16736324e-01, 2.98162420e-01, 5.05979023e-01, 5.34790481e-01,\n",
              "        8.44756518e-01, 7.39484648e-02, 1.28944572e-01, 4.99725174e-01,\n",
              "        2.71908927e-01, 6.18331646e-01, 6.12310362e-01, 8.20286772e-01,\n",
              "        5.43396634e-01, 2.41396007e-01],\n",
              "       [4.34588194e-01, 3.72940158e-01, 9.85122491e-01, 7.47953982e-01,\n",
              "        4.12481511e-01, 4.72578743e-01, 3.20040861e-01, 3.63430198e-01,\n",
              "        9.22601497e-01, 9.34196883e-01, 5.74897755e-01, 5.55036145e-01,\n",
              "        6.43410342e-01, 3.15960144e-01, 2.55937608e-01, 9.32939000e-01,\n",
              "        1.57876529e-01, 4.22407496e-01, 6.78031627e-01, 9.50851535e-01,\n",
              "        6.79444437e-01, 1.91262064e-01, 9.10690752e-01, 2.80808575e-01,\n",
              "        5.24234300e-01, 5.56673908e-01, 6.35902947e-01, 1.19593976e-02,\n",
              "        8.11419186e-01, 6.29199804e-02, 3.61193115e-01, 9.66264519e-01,\n",
              "        6.44358911e-01, 8.16825888e-01, 7.65910492e-01, 5.33219875e-01,\n",
              "        2.25837434e-01, 6.50036925e-01, 6.03840179e-01, 5.93314627e-01,\n",
              "        9.13863620e-03, 3.77956264e-01, 5.40730422e-01, 8.47766760e-01,\n",
              "        4.04915009e-01, 7.75454640e-01, 1.77405434e-01, 8.06573079e-01,\n",
              "        5.83487999e-01, 9.77038063e-01],\n",
              "       [2.38350264e-01, 3.05771782e-01, 4.40701646e-01, 2.88079175e-01,\n",
              "        5.17414760e-01, 5.38683726e-01, 5.66421038e-02, 8.30165176e-01,\n",
              "        9.96548619e-01, 1.35839360e-01, 9.16463747e-01, 2.20093297e-01,\n",
              "        3.52234417e-01, 2.57793675e-01, 9.53119993e-01, 9.68447345e-01,\n",
              "        6.01857466e-01, 9.80887601e-01, 7.13359032e-01, 5.82250861e-01,\n",
              "        5.76589982e-01, 3.90404043e-01, 1.46114400e-01, 1.94065180e-01,\n",
              "        1.12429500e-01, 9.61940663e-01, 5.41229247e-01, 8.55999832e-01,\n",
              "        5.74073675e-01, 3.61765176e-01, 4.67342095e-01, 4.23019028e-01,\n",
              "        7.54410862e-01, 7.14931771e-01, 9.67987280e-01, 1.57208370e-02,\n",
              "        3.97513270e-01, 8.30143552e-01, 8.96646277e-01, 9.40113926e-01,\n",
              "        6.56281701e-01, 7.95382082e-02, 5.81946243e-01, 7.55703807e-01,\n",
              "        5.61438830e-01, 9.83442123e-01, 9.88816965e-01, 1.36569166e-02,\n",
              "        6.00343126e-01, 3.74650548e-01],\n",
              "       [4.83006466e-01, 8.54020707e-02, 2.56226008e-02, 7.40271811e-01,\n",
              "        5.88843589e-01, 3.32965363e-01, 5.76317017e-01, 1.21612736e-01,\n",
              "        3.07756281e-01, 5.68404378e-01, 5.87699709e-01, 7.24955696e-01,\n",
              "        2.03033199e-01, 2.28480072e-01, 5.81807048e-01, 6.54204193e-01,\n",
              "        9.32442967e-01, 3.81382025e-01, 6.83748329e-01, 5.85765306e-01,\n",
              "        2.52273551e-01, 3.14526576e-01, 9.28684836e-01, 1.20027930e-01,\n",
              "        8.08715524e-01, 8.75632885e-01, 7.79525929e-01, 2.72705193e-01,\n",
              "        4.72766409e-02, 2.61190083e-01, 1.17672310e-01, 7.58729969e-01,\n",
              "        2.94391776e-02, 5.96108175e-01, 7.01585981e-01, 4.28754060e-01,\n",
              "        4.57762364e-02, 4.58783349e-01, 4.16540070e-02, 8.48964263e-01,\n",
              "        8.89487659e-01, 5.20305399e-01, 4.02694211e-01, 6.88039657e-01,\n",
              "        3.42372116e-01, 6.37113379e-01, 1.36082722e-01, 5.26229829e-02,\n",
              "        4.37166099e-01, 1.09798078e-01],\n",
              "       [1.85937415e-01, 9.63532208e-01, 4.19412445e-01, 5.40859669e-02,\n",
              "        5.47676215e-01, 1.68449513e-01, 5.50718911e-02, 6.06188939e-01,\n",
              "        5.25555896e-04, 4.56279301e-01, 4.68089499e-01, 6.06449586e-02,\n",
              "        8.82177578e-01, 4.50655143e-01, 3.47052618e-01, 8.82871834e-01,\n",
              "        9.43786105e-01, 1.10195158e-01, 1.12685454e-01, 3.87573069e-01,\n",
              "        5.23640376e-01, 4.96868276e-01, 5.61110188e-01, 4.77931194e-01,\n",
              "        3.13728320e-01, 8.25381681e-01, 8.70140011e-01, 9.50995201e-01,\n",
              "        1.25395770e-01, 3.87377471e-01, 1.00325793e-01, 9.69801383e-02,\n",
              "        2.25672253e-02, 9.65519519e-02, 4.79560292e-01, 5.93858033e-01,\n",
              "        5.34642860e-01, 4.32762572e-02, 3.77637063e-01, 4.81672225e-01,\n",
              "        2.22859136e-01, 4.24376824e-01, 2.38590066e-01, 2.32019804e-01,\n",
              "        1.72611885e-01, 3.52384591e-01, 4.20419719e-01, 8.55451598e-01,\n",
              "        7.41320482e-01, 7.74085748e-01],\n",
              "       [7.18408260e-01, 6.55943662e-02, 8.11671654e-01, 2.84395651e-02,\n",
              "        9.67620340e-01, 3.73845423e-01, 8.27079087e-01, 8.43527570e-01,\n",
              "        6.45416725e-01, 4.85438220e-01, 4.19862996e-01, 6.54204739e-01,\n",
              "        9.30363390e-01, 3.81228201e-01, 5.24440796e-01, 3.95417252e-01,\n",
              "        6.45894497e-01, 2.26046677e-01, 7.39583764e-01, 4.89067226e-01,\n",
              "        6.69722792e-02, 7.56737869e-01, 8.30440581e-01, 5.04653359e-01,\n",
              "        3.16032719e-02, 6.84923956e-02, 6.98010511e-01, 1.97845337e-01,\n",
              "        1.18562728e-01, 1.31194421e-01, 5.56799939e-01, 4.04944276e-01,\n",
              "        1.84430308e-01, 1.12155952e-01, 2.56190255e-01, 5.07528493e-01,\n",
              "        6.29819969e-01, 9.02341717e-01, 1.37072022e-01, 7.30064813e-01,\n",
              "        4.51502257e-01, 7.76857241e-01, 9.50208344e-01, 6.57936685e-01,\n",
              "        4.32971152e-01, 6.83378867e-01, 3.30797304e-01, 1.88098223e-01,\n",
              "        9.72838462e-01, 5.87081495e-01]])"
            ]
          },
          "metadata": {
            "tags": []
          },
          "execution_count": 143
        }
      ]
    },
    {
      "cell_type": "code",
      "metadata": {
        "id": "cy6t8nKsv8Rj",
        "colab_type": "code",
        "colab": {
          "base_uri": "https://localhost:8080/",
          "height": 285
        },
        "outputId": "d97a74b7-1e46-4dbf-db03-5302be6cb630"
      },
      "source": [
        "plt.scatter(fd[:,0],fd[:,1],s=100 ,marker=\"o\",edgecolors=\"r\")"
      ],
      "execution_count": 144,
      "outputs": [
        {
          "output_type": "execute_result",
          "data": {
            "text/plain": [
              "<matplotlib.collections.PathCollection at 0x7f9f34861198>"
            ]
          },
          "metadata": {
            "tags": []
          },
          "execution_count": 144
        },
        {
          "output_type": "display_data",
          "data": {
            "image/png": "[encoded data removed]",
            "text/plain": [
              "<Figure size 432x288 with 1 Axes>"
            ]
          },
          "metadata": {
            "tags": []
          }
        }
      ]
    },
    {
      "cell_type": "code",
      "metadata": {
        "id": "Zy7yPtNXwL-3",
        "colab_type": "code",
        "colab": {
          "base_uri": "https://localhost:8080/",
          "height": 352
        },
        "outputId": "f5214b05-9f7d-45be-f2c6-6ad38d055cf3"
      },
      "source": [
        "plt.hist(fd[:,0])"
      ],
      "execution_count": 146,
      "outputs": [
        {
          "output_type": "execute_result",
          "data": {
            "text/plain": [
              "(array([1., 2., 1., 2., 1., 2., 0., 0., 0., 4.]),\n",
              " array([0.09176056, 0.15744209, 0.22312363, 0.28880517, 0.35448671,\n",
              "        0.42016825, 0.48584979, 0.55153132, 0.61721286, 0.6828944 ,\n",
              "        0.74857594]),\n",
              " <a list of 10 Patch objects>)"
            ]
          },
          "metadata": {
            "tags": []
          },
          "execution_count": 146
        },
        {
          "output_type": "display_data",
          "data": {
            "image/png": "[encoded data removed]",
            "text/plain": [
              "<Figure size 432x288 with 1 Axes>"
            ]
          },
          "metadata": {
            "tags": []
          }
        }
      ]
    },
    {
      "cell_type": "code",
      "metadata": {
        "id": "GpySTPKqwzSv",
        "colab_type": "code",
        "colab": {}
      },
      "source": [
        "X = rand.rand(10, 2)"
      ],
      "execution_count": 0,
      "outputs": []
    },
    {
      "cell_type": "code",
      "metadata": {
        "colab_type": "code",
        "outputId": "1a71fe16-d9bf-415d-a5e6-b011d2b4c903",
        "id": "hBPOPZMzw_w1",
        "colab": {
          "base_uri": "https://localhost:8080/",
          "height": 352
        }
      },
      "source": [
        "plt.hist(fd[:,1])"
      ],
      "execution_count": 147,
      "outputs": [
        {
          "output_type": "execute_result",
          "data": {
            "text/plain": [
              "(array([5., 0., 2., 1., 0., 0., 1., 2., 0., 2.]),\n",
              " array([0.06559437, 0.15856706, 0.25153976, 0.34451246, 0.43748516,\n",
              "        0.53045786, 0.62343056, 0.71640326, 0.80937595, 0.90234865,\n",
              "        0.99532135]),\n",
              " <a list of 10 Patch objects>)"
            ]
          },
          "metadata": {
            "tags": []
          },
          "execution_count": 147
        },
        {
          "output_type": "display_data",
          "data": {
            "image/png": "[encoded data removed]",
            "text/plain": [
              "<Figure size 432x288 with 1 Axes>"
            ]
          },
          "metadata": {
            "tags": []
          }
        }
      ]
    },
    {
      "cell_type": "code",
      "metadata": {
        "id": "PopnBzMaxBIU",
        "colab_type": "code",
        "colab": {}
      },
      "source": [
        ""
      ],
      "execution_count": 0,
      "outputs": []
    }
  ]
}