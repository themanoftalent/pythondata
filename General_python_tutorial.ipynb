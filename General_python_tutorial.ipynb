{
  "nbformat": 4,
  "nbformat_minor": 0,
  "metadata": {
    "colab": {
      "name": "General_python_tutorial.ipynb",
      "provenance": [],
      "collapsed_sections": [
        "SzvCeQ3P6786",
        "zRSvC60r679G",
        "Bm13r-al679M",
        "pBw0NtmC679Q",
        "qN3x1ulv679o",
        "UheI9Iau67-K",
        "blV4fLzx67-N",
        "drTuqVch67-o"
      ],
      "include_colab_link": true
    },
    "kernelspec": {
      "name": "python3",
      "display_name": "Python 3"
    },
    "language_info": {
      "codemirror_mode": {
        "name": "ipython",
        "version": 3
      },
      "file_extension": ".py",
      "mimetype": "text/x-python",
      "name": "python",
      "nbconvert_exporter": "python",
      "pygments_lexer": "ipython3",
      "version": "3.7.4"
    },
    "accelerator": "GPU"
  },
  "cells": [
    {
      "cell_type": "markdown",
      "metadata": {
        "id": "view-in-github",
        "colab_type": "text"
      },
      "source": [
        "<a href=\"https://colab.research.google.com/github/themanoftalent/pythondata/blob/master/General_python_tutorial.ipynb\" target=\"_parent\"><img src=\"https://colab.research.google.com/assets/colab-badge.svg\" alt=\"Open In Colab\"/></a>"
      ]
    },
    {
      "cell_type": "markdown",
      "metadata": {
        "colab_type": "text",
        "id": "FSPDQrlU674-"
      },
      "source": [
        "## Python in General"
      ]
    },
    {
      "cell_type": "markdown",
      "metadata": {
        "colab_type": "text",
        "id": "r9kM6ZMo675H"
      },
      "source": [
        "## Intro\n",
        "\n",
        "** Python **, a general purpose programming language, is a great environment for ** Machine Learning, Deep Learning, Optimization, Statistics and Data Science ** with the help of some popular libraries (* Numpy, Scipy, Pandas, Matplotlib * etc.) offered.\n",
        "\n",
        "Prepared by [Akif CIFTCI] (https://www.linkedin.com/in/themanoftalent/)"
      ]
    },
    {
      "cell_type": "markdown",
      "metadata": {
        "id": "hYAOiymmSe3A",
        "colab_type": "text"
      },
      "source": [
        "_____________________________________________________________________________________________________________"
      ]
    },
    {
      "cell_type": "markdown",
      "metadata": {
        "id": "cSD1aCsdSe3C",
        "colab_type": "text"
      },
      "source": [
        "_____"
      ]
    },
    {
      "cell_type": "markdown",
      "metadata": {
        "colab_type": "text",
        "id": "KRWMIJYz675W"
      },
      "source": [
        "## Python Basics"
      ]
    },
    {
      "cell_type": "markdown",
      "metadata": {
        "id": "J0OFQK7ESe3G",
        "colab_type": "text"
      },
      "source": [
        "<!-- # def putOrder(arr):\n",
        "#     if len(arr)<=1:\n",
        "#         return arr\n",
        "\n",
        "\n",
        "#     sayim=arr[len(arr)//2]\n",
        "#     left=[n for n in arr if n<sayim]\n",
        "#     middle=[n for n in arr if n ==sayim]\n",
        "#     right=[n for n in arr if n >sayim]\n",
        "#     return putOrder(left) + middle+ putOrder(right)\n",
        "\n",
        "\n",
        "# print(putOrder([1,4,5,2,3,8,7,3,6,8,10,1,2,1])) -->"
      ]
    },
    {
      "cell_type": "markdown",
      "metadata": {
        "colab_type": "text",
        "id": "ExKZ_5fK675m"
      },
      "source": [
        "### Checking Version\n"
      ]
    },
    {
      "cell_type": "markdown",
      "metadata": {
        "colab_type": "text",
        "id": "FFIeK5PM675o"
      },
      "source": [
        "`python --version`"
      ]
    },
    {
      "cell_type": "code",
      "metadata": {
        "colab_type": "code",
        "id": "MWuc1oBLc-zS",
        "outputId": "0e95effe-efa6-4737-a776-7d40b8fd6cb4",
        "colab": {
          "base_uri": "https://localhost:8080/",
          "height": 34
        }
      },
      "source": [
        "!python --version\n",
        "#or\n",
        "#!python -v"
      ],
      "execution_count": 0,
      "outputs": [
        {
          "output_type": "stream",
          "text": [
            "Python 3.6.9\n"
          ],
          "name": "stdout"
        }
      ]
    },
    {
      "cell_type": "markdown",
      "metadata": {
        "colab_type": "text",
        "id": "tdlo566Xc-zV"
      },
      "source": [
        "### Comment Lines\n",
        "\n",
        "Comment lines are not taken into consideration at compilation stage (executing codes and generating output).\n",
        "\n",
        "When you run the cell below, you don't see anything as output **because there is a `#` sign at the beginning of the line**."
      ]
    },
    {
      "cell_type": "code",
      "metadata": {
        "colab_type": "code",
        "id": "qv-z1hFdc-zW",
        "colab": {}
      },
      "source": [
        "# Single Comment Line"
      ],
      "execution_count": 0,
      "outputs": []
    },
    {
      "cell_type": "markdown",
      "metadata": {
        "colab_type": "text",
        "id": "Npn_aiLIc-za"
      },
      "source": [
        "### Print (function)\n",
        "\n",
        "We perform the screen printing operations with the `print ()` function. We can also see the type_ of the data with `type ()`, the length of the data with `len ()`."
      ]
    },
    {
      "cell_type": "code",
      "metadata": {
        "colab_type": "code",
        "id": "YJrv-jTSc-zb",
        "outputId": "12e3feec-6422-41f8-9be0-073c2fe6d1ef",
        "colab": {
          "base_uri": "https://localhost:8080/",
          "height": 34
        }
      },
      "source": [
        "# SINGLE COMMENT LINE\n",
        "\n",
        "\"\"\" This is supposed to be a multi comment line\n",
        "developed and improved via juipyter notebook\n",
        "where we all. and sometimes we use it for pyDoc.\"\"\"\n",
        "\n"
      ],
      "execution_count": 0,
      "outputs": [
        {
          "output_type": "execute_result",
          "data": {
            "text/plain": [
              "' This is supposed to be a multi comment line\\ndeveloped and improved via juipyter notebook\\nwhere we all. and sometimes we use it for pyDoc.'"
            ]
          },
          "metadata": {
            "tags": []
          },
          "execution_count": 75
        }
      ]
    },
    {
      "cell_type": "code",
      "metadata": {
        "id": "mRkV-o5KSe3b",
        "colab_type": "code",
        "outputId": "95d168b7-b0cf-4ec8-b8cd-aa2b688d5cd6",
        "colab": {
          "base_uri": "https://localhost:8080/",
          "height": 185
        }
      },
      "source": [
        "hi = \"hello\"\n",
        "\n",
        "print(\"Hello\")\n",
        "print (hi) \n",
        "print (\"{}\". format (hi)) # .format () \n",
        "print (\"{} {}\". format (hi, hi)) # .format () \n",
        "\n",
        "print (type (hi)) \n",
        "print (len (hi)) \n",
        "print()\n",
        "print (hi [0:]) \n",
        "print (hi [2])  \n",
        "print (hi [-1])\n"
      ],
      "execution_count": 0,
      "outputs": [
        {
          "output_type": "stream",
          "text": [
            "Hello\n",
            "hello\n",
            "hello\n",
            "hello hello\n",
            "<class 'str'>\n",
            "5\n",
            "\n",
            "hello\n",
            "l\n",
            "o\n"
          ],
          "name": "stdout"
        }
      ]
    },
    {
      "cell_type": "code",
      "metadata": {
        "scrolled": true,
        "id": "ObGdFh2_Se3e",
        "colab_type": "code",
        "colab": {}
      },
      "source": [
        ""
      ],
      "execution_count": 0,
      "outputs": []
    },
    {
      "cell_type": "code",
      "metadata": {
        "id": "gntAIocCSe3h",
        "colab_type": "code",
        "outputId": "8237f1d8-00d0-40bd-dbde-068b913a01f4",
        "colab": {
          "base_uri": "https://localhost:8080/",
          "height": 84
        }
      },
      "source": [
        "name = \"Candan\"\n",
        "print(\"Hello, %s.\" % name)  #%s format\n",
        "print\n",
        "last_name = \"Kaya\"\n",
        "age = 24\n",
        "profession = \"Teacher\"\n",
        "affiliation = \"School\"\n",
        "\n",
        "print(\"Hello, %s %s. You are %s. You are a %s. You are a member of %s.\" % (name, last_name, age, profession, affiliation))\n",
        "\n",
        "print()\n",
        "\n",
        "print(\"Hello, {}. You are {}.\".format(name, age))"
      ],
      "execution_count": 0,
      "outputs": [
        {
          "output_type": "stream",
          "text": [
            "Hello, Candan.\n",
            "Hello, Candan Kaya. You are 24. You are a Teacher. You are a member of School.\n",
            "\n",
            "Hello, Candan. You are 24.\n"
          ],
          "name": "stdout"
        }
      ]
    },
    {
      "cell_type": "code",
      "metadata": {
        "scrolled": true,
        "id": "ypI3KEAESe3l",
        "colab_type": "code",
        "outputId": "d08ffd11-06e2-436e-96b5-c76cdac49120",
        "colab": {
          "base_uri": "https://localhost:8080/",
          "height": 67
        }
      },
      "source": [
        "print(\"Hello, {0}. You are {1}.\".format(name, age))\n",
        "print()\n",
        "print(\"Hello, {1}. You are {0}.\".format(age, name)) #counting starts with 0 "
      ],
      "execution_count": 0,
      "outputs": [
        {
          "output_type": "stream",
          "text": [
            "Hello, Candan. You are 24.\n",
            "\n",
            "Hello, Candan. You are 24.\n"
          ],
          "name": "stdout"
        }
      ]
    },
    {
      "cell_type": "code",
      "metadata": {
        "id": "wqzCSD1WSe3p",
        "colab_type": "code",
        "outputId": "e9b4d2ca-0c2d-4bed-db66-a97ca8dd345c",
        "colab": {
          "base_uri": "https://localhost:8080/",
          "height": 67
        }
      },
      "source": [
        "person = {'name': 'Erkan', 'age': 14}\n",
        "print(\"Hello, {name}. You are {age}.\".format(name=person['name'], age=person['age']))\n",
        "print('or')\n",
        "person = {'name': 'Erkan', 'age': 14}\n",
        "print(\"Hello, {name}. You are {age}.\".format(**person)) #double asterix\n"
      ],
      "execution_count": 0,
      "outputs": [
        {
          "output_type": "stream",
          "text": [
            "Hello, Erkan. You are 14.\n",
            "or\n",
            "Hello, Erkan. You are 14.\n"
          ],
          "name": "stdout"
        }
      ]
    },
    {
      "cell_type": "code",
      "metadata": {
        "id": "vZeWA4KXSe3s",
        "colab_type": "code",
        "outputId": "3cc7e075-0b60-463d-cf5f-2948f5be7437",
        "colab": {
          "base_uri": "https://localhost:8080/",
          "height": 229
        }
      },
      "source": [
        "print((\"Hello, {name} {last_name}. You are {age}. \" +\n",
        "       \"You are a {profession}. You were a member of {affiliation}.\").\n",
        "      format(name=first_name, last_name=last_name, age=age,profession=profession, affiliation=affiliation))\n",
        "\n",
        "\n"
      ],
      "execution_count": 0,
      "outputs": [
        {
          "output_type": "error",
          "ename": "NameError",
          "evalue": "ignored",
          "traceback": [
            "\u001b[0;31m---------------------------------------------------------------------------\u001b[0m",
            "\u001b[0;31mNameError\u001b[0m                                 Traceback (most recent call last)",
            "\u001b[0;32m<ipython-input-80-d65329e877d1>\u001b[0m in \u001b[0;36m<module>\u001b[0;34m()\u001b[0m\n\u001b[1;32m      1\u001b[0m print((\"Hello, {name} {last_name}. You are {age}. \" +\n\u001b[1;32m      2\u001b[0m        \"You are a {profession}. You were a member of {affiliation}.\").\n\u001b[0;32m----> 3\u001b[0;31m       format(name=first_name, last_name=last_name, age=age,profession=profession, affiliation=affiliation))\n\u001b[0m\u001b[1;32m      4\u001b[0m \u001b[0;34m\u001b[0m\u001b[0m\n\u001b[1;32m      5\u001b[0m \u001b[0;34m\u001b[0m\u001b[0m\n",
            "\u001b[0;31mNameError\u001b[0m: name 'first_name' is not defined"
          ]
        }
      ]
    },
    {
      "cell_type": "markdown",
      "metadata": {
        "id": "53rcO0U-TalZ",
        "colab_type": "text"
      },
      "source": [
        "\n",
        "\n",
        "---\n",
        "\n"
      ]
    },
    {
      "cell_type": "markdown",
      "metadata": {
        "id": "FsAqRkZbSe3v",
        "colab_type": "text"
      },
      "source": [
        "### A new way of format printing \n",
        "\n",
        "____"
      ]
    },
    {
      "cell_type": "code",
      "metadata": {
        "id": "QcgJqPE3Se3w",
        "colab_type": "code",
        "colab": {}
      },
      "source": [
        "\n",
        "print(f'{name} is {age}')\n",
        "\n",
        "print('or')\n",
        "print(f\"Hello, {name}. You are {age}.\")"
      ],
      "execution_count": 0,
      "outputs": []
    },
    {
      "cell_type": "markdown",
      "metadata": {
        "colab_type": "text",
        "id": "m9DocN0pc-ze"
      },
      "source": [
        "### Help Functions\n",
        "\n",
        "You do not have to memorize all functions and function parameters. I recommend using `help (function_name)`."
      ]
    },
    {
      "cell_type": "code",
      "metadata": {
        "colab_type": "code",
        "id": "KvuK1aATc-zf",
        "scrolled": true,
        "colab": {}
      },
      "source": [
        "help(len)"
      ],
      "execution_count": 0,
      "outputs": []
    },
    {
      "cell_type": "markdown",
      "metadata": {
        "id": "m4oxIiF6Se35",
        "colab_type": "text"
      },
      "source": [
        "____"
      ]
    },
    {
      "cell_type": "code",
      "metadata": {
        "scrolled": false,
        "id": "YIJzIPnFSe36",
        "colab_type": "code",
        "colab": {}
      },
      "source": [
        "myname='akif'\n",
        "print(len(myname))"
      ],
      "execution_count": 0,
      "outputs": []
    },
    {
      "cell_type": "code",
      "metadata": {
        "id": "uyBq9hwUSe39",
        "colab_type": "code",
        "colab": {}
      },
      "source": [
        "def toLowerCase(word):\n",
        "    if len(word)<=3:\n",
        "        return word\n",
        "    return word.lower()\n",
        "\n",
        "\n",
        "naming='AKIF CIFTCI '\n",
        "print(f'We are making it all lowercase: {toLowerCase(naming)}')"
      ],
      "execution_count": 0,
      "outputs": []
    },
    {
      "cell_type": "markdown",
      "metadata": {
        "id": "LRwolawESe4A",
        "colab_type": "text"
      },
      "source": [
        "_______"
      ]
    },
    {
      "cell_type": "code",
      "metadata": {
        "id": "RKsJQLWMSe4B",
        "colab_type": "code",
        "colab": {}
      },
      "source": [
        "def toUpperCase(words):\n",
        "    if len(words)<=3:\n",
        "        return words\n",
        "    return words.upper()\n",
        "\n",
        "\n",
        "mynaming='akif ciftci '\n",
        "print(f'We are making it all lowercase: {toUpperCase(naming)}')"
      ],
      "execution_count": 0,
      "outputs": []
    },
    {
      "cell_type": "code",
      "metadata": {
        "id": "61t3M0XhSe4D",
        "colab_type": "code",
        "colab": {}
      },
      "source": [
        "#Break\n",
        "\n",
        "while True:\n",
        "    something = str(input('Enter something : '))\n",
        "    if something == 'quit':\n",
        "        break\n",
        "    else:\n",
        "    \tprint('Length of the string is', len (something))\n",
        "print('Done')"
      ],
      "execution_count": 0,
      "outputs": []
    },
    {
      "cell_type": "code",
      "metadata": {
        "id": "c2VEBm6ySe4I",
        "colab_type": "code",
        "colab": {}
      },
      "source": [
        "#Continue\n",
        "\n",
        "while True:\n",
        "    s = input('Enter something : ')\n",
        "    if s == 'quit':\n",
        "        break\n",
        "    if len(s) < 3:\n",
        "        print('Too small')\n",
        "        continue\n",
        "    print('Input is of sufficient length')\n",
        "'Done'"
      ],
      "execution_count": 0,
      "outputs": []
    },
    {
      "cell_type": "code",
      "metadata": {
        "id": "F1dt0Pm_Se4L",
        "colab_type": "code",
        "colab": {}
      },
      "source": [
        "def main():\n",
        "    x=input(\"Enter a Alphabet=\")\n",
        "    print('______________________')\n",
        "    \n",
        "    if(x>='a'):\n",
        "      print(x+\" is an Alphabet\")\n",
        "    \n",
        "    elif(x>='A'):\n",
        "      print(x+\" is an Alphabet\")\n",
        "    \n",
        "    else:\n",
        "      print(x+\" is not an Alphabet\")\n",
        "if __name__ == '__main__':\n",
        "    main()\n"
      ],
      "execution_count": 0,
      "outputs": []
    },
    {
      "cell_type": "code",
      "metadata": {
        "id": "PHg96-qSSe4O",
        "colab_type": "code",
        "colab": {}
      },
      "source": [
        "#Try Except\n",
        "\n",
        "try:\n",
        "    x=str(input(\"enter to count no of integers:\"))\n",
        "    print(\"the number of digits in integer is:\")+str(len(x))\n",
        "except:\n",
        "    print(\"Invalid Entry\")\n"
      ],
      "execution_count": 0,
      "outputs": []
    },
    {
      "cell_type": "code",
      "metadata": {
        "id": "3cdU2plhSe4Q",
        "colab_type": "code",
        "colab": {}
      },
      "source": [
        "#f string\n",
        "\n",
        "\n",
        "name='akif'\n",
        "surname='hopeful'\n",
        "age=32\n",
        "lang='python'\n",
        "\n",
        "sentence=f'My name is {name.title()} {surname.upper()} and I am {age} years old. I love {lang.title()} language...'\n",
        "#we use f string wuith python 3.6 before that we were using format()\n",
        "\n",
        "\n",
        "print(sentence)"
      ],
      "execution_count": 0,
      "outputs": []
    },
    {
      "cell_type": "code",
      "metadata": {
        "id": "jyI-Oi5cSe4T",
        "colab_type": "code",
        "colab": {}
      },
      "source": [
        "#for\n",
        "\n",
        "words = ['cat', 'window', 'car', 'defenestrate', 'car']\n",
        "for w in words:\n",
        "    print(w, len(w))\n",
        "\n",
        "print(type(words))\n",
        "words.append('dog')\n",
        "print(words)\n",
        "\n",
        "words.remove('cat')\n",
        "print(words)\n",
        "\n",
        "words.extend('starbucks')  # extend the word like 's', 't', 'a', 'r', 'b', 'u', 'c', 'k', 's']\n",
        "print(words)\n",
        "\n",
        "words.insert(2, 'Stars')  # 0 1 den sonra\n",
        "print(words)\n",
        "\n"
      ],
      "execution_count": 0,
      "outputs": []
    },
    {
      "cell_type": "markdown",
      "metadata": {
        "colab_type": "text",
        "id": "9Kn8t4LM675p"
      },
      "source": [
        "### Basic Data Types"
      ]
    },
    {
      "cell_type": "markdown",
      "metadata": {
        "id": "I0Jf0nRSTuH2",
        "colab_type": "text"
      },
      "source": [
        "\n",
        "\n",
        "---\n",
        "\n"
      ]
    },
    {
      "cell_type": "markdown",
      "metadata": {
        "colab_type": "text",
        "id": "8Fr6B1Rq675r"
      },
      "source": [
        "#### Numbers"
      ]
    },
    {
      "cell_type": "markdown",
      "metadata": {
        "colab_type": "text",
        "id": "CQ2yrZ3D675x"
      },
      "source": [
        "Numbers are defined as in other programming languages."
      ]
    },
    {
      "cell_type": "code",
      "metadata": {
        "colab_type": "code",
        "id": "KJbY-fBi675y",
        "colab": {}
      },
      "source": [
        "x = 343\n",
        "\n",
        "print(x) \n",
        "print(type(x)) \n",
        "print ('Here x is printed',x, type(x)) "
      ],
      "execution_count": 0,
      "outputs": []
    },
    {
      "cell_type": "code",
      "metadata": {
        "colab_type": "code",
        "id": "FpnT7z6S6759",
        "colab": {}
      },
      "source": [
        "print (x + 1)   \n",
        "print (x - 1)   \n",
        "print (x * 2)   \n",
        "print (x ** 2)  \n",
        "print (x // 2) \n",
        "# print (x / 2) \n",
        "# print (x % 2) \n",
        "# print (x << 2) \n",
        "# print (x >> 2) \n"
      ],
      "execution_count": 0,
      "outputs": []
    },
    {
      "cell_type": "code",
      "metadata": {
        "colab_type": "code",
        "id": "GaHrJDRH676E",
        "colab": {}
      },
      "source": [
        "x += 1 \n",
        "print (x) # old value of x, new value of 4 (x + 1)\n",
        "\n",
        "x *= 2 # x = x * 2 \n",
        "print (x) #  x old value 4, new value 8 (x * 2) "
      ],
      "execution_count": 0,
      "outputs": []
    },
    {
      "cell_type": "code",
      "metadata": {
        "colab_type": "code",
        "id": "NGQOOi0e676K",
        "colab": {}
      },
      "source": [
        "y = 2.5\n",
        "print (type(y)) # \"<class 'float'>\"\n",
        "print (y, y + 1, y * 2, y ** 2) # \"2.5 3.5 5.0 6.25\""
      ],
      "execution_count": 0,
      "outputs": []
    },
    {
      "cell_type": "markdown",
      "metadata": {
        "colab_type": "text",
        "id": "BfheGx_e676Q"
      },
      "source": [
        "**TIP** : Unlike other programming languages, there is no single increase (x ++) or decrease (x--) operator in Python."
      ]
    },
    {
      "cell_type": "markdown",
      "metadata": {
        "colab_type": "text",
        "id": "PTAHQLZT676R"
      },
      "source": [
        "#### Logical Operators  (Booleans)"
      ]
    },
    {
      "cell_type": "markdown",
      "metadata": {
        "colab_type": "text",
        "id": "dTyMhUTK676T"
      },
      "source": [
        "In Python, English words such as `and`,` or` and `note` are used for Boolean algebra instead of symbols like` && `and` || `."
      ]
    },
    {
      "cell_type": "code",
      "metadata": {
        "colab_type": "code",
        "id": "VGJk8-Gi676U",
        "colab": {}
      },
      "source": [
        "t, f = True, False\n",
        "print (type(t)) # print out \"<type 'bool'>\""
      ],
      "execution_count": 0,
      "outputs": []
    },
    {
      "cell_type": "markdown",
      "metadata": {
        "colab_type": "text",
        "id": "43moWQ8M676e"
      },
      "source": [
        "_______"
      ]
    },
    {
      "cell_type": "code",
      "metadata": {
        "colab_type": "code",
        "id": "xExtk_2a676f",
        "colab": {}
      },
      "source": [
        "print (t and f) #  AND;\n",
        "print (t or f)  #  OR;\n",
        "print (not t)   #  NOT;\n",
        "print (t != f)  #  XOR\n",
        "# print(True)\n",
        "# print(False)\n"
      ],
      "execution_count": 0,
      "outputs": []
    },
    {
      "cell_type": "markdown",
      "metadata": {
        "colab_type": "text",
        "id": "NNuBO6bO676k"
      },
      "source": [
        "#### Strings"
      ]
    },
    {
      "cell_type": "code",
      "metadata": {
        "colab_type": "code",
        "id": "_55-i1qT676l",
        "colab": {}
      },
      "source": [
        "hello = 'hello' # single quotes can also be used\n",
        "world = \"world\" # double quotes\n",
        "\n",
        "print (hello) # Prints \"hello\"\n",
        "print (len (hello)) # Prints how many characters are in \"hello\"\n",
        "print (hello, len (hello)) # both together\n",
        "# print (hello + len (hello)) # IT WILL GIVE ERROR!\n",
        "print (hello + str (len (hello))) # Let's convert the number to string with str () function"
      ],
      "execution_count": 0,
      "outputs": []
    },
    {
      "cell_type": "code",
      "metadata": {
        "colab_type": "code",
        "id": "uolhdhxK677J",
        "colab": {}
      },
      "source": [
        "word = \"artificial intelligence\"\n",
        "print (word.capitalize ()) # First letter uppercase \"Artificial intelligence\"\n",
        "print (word.upper ()) # All big \"ARTIFICIAL INTELLIGENCE\"\n",
        "print (word.rjust (32)) # Snap right\n",
        "print (word.center (135)) # Center to center\n",
        "print (word.title()) # Title\n",
        "print (word.replace ('intelligence', 'intelligence')) # Replace \"intelligence\" with \"intelligence\"\n",
        "print (word .strip ()) # strip () is used to remove spaces"
      ],
      "execution_count": 0,
      "outputs": []
    },
    {
      "cell_type": "markdown",
      "metadata": {
        "colab_type": "text",
        "id": "DuAK2VqV677V"
      },
      "source": [
        "## Lists "
      ]
    },
    {
      "cell_type": "markdown",
      "metadata": {
        "colab_type": "text",
        "id": "LEX0Q940677W"
      },
      "source": [
        "Python'da yer alan listeler yeniden boyutlandırılabilir ve farklı tipte veri tiplerini saklayabilir.\n",
        "\n",
        "**İPUCU**: Listelerin ilk elemanlarının indisi 1 değil 0'dır. Yani `liste[1]` listenin ikinci elemanını belirtmektedir. Listenin en son elemanının indisi ise **-1**'dir "
      ]
    },
    {
      "cell_type": "code",
      "metadata": {
        "colab_type": "code",
        "id": "LwjhSVUv677Z",
        "colab": {}
      },
      "source": [
        "listemiz = [3, 1, 2, 3] # Liste oluşturma\n",
        "\n",
        "print (listemiz) # Listenin tamamını ekrana yazdıralım\n",
        "\n",
        "print (listemiz[0]) #Listenin ilk elemanını yazdıralım\n",
        "print (listemiz[1]) #Listenin ikinci elemanını yazdıralım\n",
        "\n",
        "print (listemiz[-1]) #Listenin son elemanının yazdıralım\n",
        "print (listemiz[-3]) #Listenin sondan iki önceki elemanının yazdıralım"
      ],
      "execution_count": 0,
      "outputs": []
    },
    {
      "cell_type": "code",
      "metadata": {
        "colab_type": "code",
        "id": "GZ0e_bgn677d",
        "colab": {}
      },
      "source": [
        "listemiz[2] = 'yapay' # Listelerde farklı veri tipleri tutulabilir\n",
        "\n",
        "print (listemiz)"
      ],
      "execution_count": 0,
      "outputs": []
    },
    {
      "cell_type": "code",
      "metadata": {
        "id": "gGQ4SHPllli0",
        "colab_type": "code",
        "colab": {}
      },
      "source": [
        "listemiz[1]=\"zeka\"\n",
        "listemiz"
      ],
      "execution_count": 0,
      "outputs": []
    },
    {
      "cell_type": "markdown",
      "metadata": {
        "colab_type": "text",
        "id": "MfavaJnNc-z7"
      },
      "source": [
        "`.append()` ile listenin sonuna ekleme yapabiliriz."
      ]
    },
    {
      "cell_type": "code",
      "metadata": {
        "colab_type": "code",
        "id": "PqQ1-vCT677h",
        "colab": {}
      },
      "source": [
        "listemiz.append('zeka') # Listenin en sonuna `append` ile veri eklenebilir\n",
        "\n",
        "print (listemiz)  "
      ],
      "execution_count": 0,
      "outputs": []
    },
    {
      "cell_type": "markdown",
      "metadata": {
        "colab_type": "text",
        "id": "-CEQNVZmc-z9"
      },
      "source": [
        "`.pop()` ile listenin son elemanını atabiliriz."
      ]
    },
    {
      "cell_type": "code",
      "metadata": {
        "colab_type": "code",
        "id": "oVOWz4mo677k",
        "colab": {}
      },
      "source": [
        "son_eleman = listemiz.pop() # Listenin son elemanını at ve atılan elamenı ekrana yazdır\n",
        "\n",
        "print(son_eleman)\n",
        "print(listemiz)"
      ],
      "execution_count": 0,
      "outputs": []
    },
    {
      "cell_type": "markdown",
      "metadata": {
        "colab_type": "text",
        "id": "CdmUmsayc-z-"
      },
      "source": [
        "`.index()` ile kontrol edilen elemanın listedeki indisini görebiliriz."
      ]
    },
    {
      "cell_type": "code",
      "metadata": {
        "colab_type": "code",
        "id": "o8O0MDKtc-z-",
        "colab": {}
      },
      "source": [
        "listemiz.index('yapay')"
      ],
      "execution_count": 0,
      "outputs": []
    },
    {
      "cell_type": "markdown",
      "metadata": {
        "colab_type": "text",
        "id": "e_NVH8imc-0A"
      },
      "source": [
        "`.count()` ile kontrol edilen elemandan listede kaç tane olduğunu görebiliriz."
      ]
    },
    {
      "cell_type": "code",
      "metadata": {
        "colab_type": "code",
        "id": "oLW1uH9ec-0A",
        "colab": {}
      },
      "source": [
        "listemiz.count(3)"
      ],
      "execution_count": 0,
      "outputs": []
    },
    {
      "cell_type": "markdown",
      "metadata": {
        "colab_type": "text",
        "id": "L7bvBtdKc-0B"
      },
      "source": [
        "`.remove()` ile istediğimiz bir elemanı listeden silebiliriz."
      ]
    },
    {
      "cell_type": "code",
      "metadata": {
        "colab_type": "code",
        "id": "9xIZ00y3c-0C",
        "colab": {}
      },
      "source": [
        "listemiz.remove('zeka')\n",
        "print(listemiz)"
      ],
      "execution_count": 0,
      "outputs": []
    },
    {
      "cell_type": "code",
      "metadata": {
        "id": "EnmE-w4Al-Qe",
        "colab_type": "code",
        "colab": {}
      },
      "source": [
        "listemiz.remove('yapay')\n",
        "print(listemiz)"
      ],
      "execution_count": 0,
      "outputs": []
    },
    {
      "cell_type": "markdown",
      "metadata": {
        "colab_type": "text",
        "id": "bzrr1e3Mc-0D"
      },
      "source": [
        "`.sort()` ile listeyi sıralayabiliriz."
      ]
    },
    {
      "cell_type": "code",
      "metadata": {
        "colab_type": "code",
        "id": "1nBnh0J5c-0D",
        "colab": {}
      },
      "source": [
        "listemiz.sort()\n",
        "listemiz"
      ],
      "execution_count": 0,
      "outputs": []
    },
    {
      "cell_type": "markdown",
      "metadata": {
        "colab_type": "text",
        "id": "rGqd-gBrc-0E"
      },
      "source": [
        "`.reverse()` ile listeyi tersine çevirebiliriz."
      ]
    },
    {
      "cell_type": "code",
      "metadata": {
        "colab_type": "code",
        "id": "3xPHsAZdc-0E",
        "colab": {}
      },
      "source": [
        "listemiz.reverse()\n",
        "listemiz"
      ],
      "execution_count": 0,
      "outputs": []
    },
    {
      "cell_type": "markdown",
      "metadata": {
        "colab_type": "text",
        "id": "GoGExKwnc-0F"
      },
      "source": [
        "`.extend()` ile listenin sonuna başka bir bir listeyi ekleyebiliriz."
      ]
    },
    {
      "cell_type": "code",
      "metadata": {
        "colab_type": "code",
        "id": "CQkkjbmKc-0G",
        "colab": {}
      },
      "source": [
        "ek_liste = [3, 3, 1, 11, 111, 1111, 21, 121, 1211, 12111]\n",
        "listemiz.extend(ek_liste)\n",
        "listemiz"
      ],
      "execution_count": 0,
      "outputs": []
    },
    {
      "cell_type": "markdown",
      "metadata": {
        "colab_type": "text",
        "id": "m45_S02Wc-0H"
      },
      "source": [
        "`.copy()` ile listemizi başka bir listeye kopyalayabiliriz."
      ]
    },
    {
      "cell_type": "code",
      "metadata": {
        "colab_type": "code",
        "id": "FAOio4bWc-0H",
        "colab": {}
      },
      "source": [
        "yeni_liste = listemiz.copy()\n",
        "yeni_liste"
      ],
      "execution_count": 0,
      "outputs": []
    },
    {
      "cell_type": "markdown",
      "metadata": {
        "colab_type": "text",
        "id": "RAnz4rqYc-0I"
      },
      "source": [
        "`.insert()` ile listemizin istediğimiz bir indisine eleman ekleyebiliriz."
      ]
    },
    {
      "cell_type": "code",
      "metadata": {
        "colab_type": "code",
        "id": "SaPfN7mJc-0J",
        "colab": {}
      },
      "source": [
        "yeni_liste.insert(14,333) #13 indise 333 ekle\n",
        "yeni_liste"
      ],
      "execution_count": 0,
      "outputs": []
    },
    {
      "cell_type": "markdown",
      "metadata": {
        "colab_type": "text",
        "id": "tPcYbViAc-0K"
      },
      "source": [
        "`.clear()` ile listemizin içini boşaltabiliriz."
      ]
    },
    {
      "cell_type": "code",
      "metadata": {
        "colab_type": "code",
        "id": "qEpqB_Lyc-0K",
        "colab": {}
      },
      "source": [
        "yeni_liste.clear()\n",
        "yeni_liste"
      ],
      "execution_count": 0,
      "outputs": []
    },
    {
      "cell_type": "markdown",
      "metadata": {
        "colab_type": "text",
        "id": "mGpcOZPC677p"
      },
      "source": [
        "#### Dilimleme (Slicing)"
      ]
    },
    {
      "cell_type": "markdown",
      "metadata": {
        "colab_type": "text",
        "id": "S9tH5dNh677p"
      },
      "source": [
        "Liste elemamanlarına dilimleme yöntemi ile de ulaşabiliriz."
      ]
    },
    {
      "cell_type": "code",
      "metadata": {
        "id": "ZnZVr9kHpr1Q",
        "colab_type": "code",
        "colab": {}
      },
      "source": [
        "numbersList = [7, 8, 9, 10, 11, 12, 13, 14,1,2,3,4,5,6,7,8,9]\n",
        "numbersList"
      ],
      "execution_count": 0,
      "outputs": []
    },
    {
      "cell_type": "code",
      "metadata": {
        "id": "thiPu05Kp2AU",
        "colab_type": "code",
        "colab": {}
      },
      "source": [
        "for n in numbersList:\n",
        "  print(n)"
      ],
      "execution_count": 0,
      "outputs": []
    },
    {
      "cell_type": "code",
      "metadata": {
        "id": "HTo3VgITp9Rx",
        "colab_type": "code",
        "colab": {}
      },
      "source": [
        "print(numbersList[1])"
      ],
      "execution_count": 0,
      "outputs": []
    },
    {
      "cell_type": "code",
      "metadata": {
        "id": "oXLJL7MUqcCc",
        "colab_type": "code",
        "colab": {}
      },
      "source": [
        "print(numbersList[:4])"
      ],
      "execution_count": 0,
      "outputs": []
    },
    {
      "cell_type": "code",
      "metadata": {
        "id": "Y-x3_hAHqrto",
        "colab_type": "code",
        "colab": {}
      },
      "source": [
        "numbersList.sort()\n",
        "numbersList"
      ],
      "execution_count": 0,
      "outputs": []
    },
    {
      "cell_type": "code",
      "metadata": {
        "id": "S-7vnprcqxB9",
        "colab_type": "code",
        "colab": {}
      },
      "source": [
        "for i in numbersList[:1]:\n",
        "  print(i,numbersList)\n"
      ],
      "execution_count": 0,
      "outputs": []
    },
    {
      "cell_type": "code",
      "metadata": {
        "colab_type": "code",
        "id": "Uzj9L69y677q",
        "colab": {}
      },
      "source": [
        "sayilar = list(range(15)) # Python'da ön-tanımlı 'range' fonksiyonu ile 0'dan 5'e kadar (5 hariç) tam sayı listesi oluşturalım\n",
        "print (sayilar)          # Listenin tamamını yazdıralım = \"[0, 1, 2, 3, 4]\" \n",
        "print (sayilar[2:4])     # Listenin 2. indisinden 4. indisine kadar olan dilimini yazdıralım = \"[2, 3]\"\n",
        "print (sayilar[2:])      # Listenin 2. indisinden en sona kadar olan dilimini yazdıralım = \"[2, 3, 4]\"\n",
        "print (sayilar[:2])      # Listenin en baştan 2. indise kadar olan dilimini yazdıralım =  \"[0, 1]\"\n",
        "print (sayilar[:])       # Listenin tamanını dilim olarak yazdıralım = [\"0, 1, 2, 3, 4]\"\n",
        "\n",
        "\n",
        "# Liste indisleri negatif olabilir. -1 listenin son elemanını verdiğinden, \n",
        "# en baştan listenin son elemanına kadar olan dilimi yazdıralım: \n",
        "print (sayilar[:-1])     \n",
        "\n",
        "sayilar[2:4] = [8, 9]    # Dilime yeni bir alt liste atayalım\n",
        "print (sayilar)          # Listenin yeni hali = \"[0, 1, 8, 9, 4]\""
      ],
      "execution_count": 0,
      "outputs": []
    },
    {
      "cell_type": "markdown",
      "metadata": {
        "id": "RpM0xCrFtOcC",
        "colab_type": "text"
      },
      "source": [
        "\n",
        "\n",
        "---\n",
        "\n",
        "\n",
        "\n",
        "---\n",
        "\n"
      ]
    },
    {
      "cell_type": "markdown",
      "metadata": {
        "colab_type": "text",
        "id": "e7kQtwzD677t"
      },
      "source": [
        "#### Döngüler"
      ]
    },
    {
      "cell_type": "markdown",
      "metadata": {
        "colab_type": "text",
        "id": "rh9ae6_6677u"
      },
      "source": [
        "Liste elemanlarına döngü yardımıyla şu şekilde ulaşılabilir:"
      ]
    },
    {
      "cell_type": "code",
      "metadata": {
        "colab_type": "code",
        "id": "AK_BEniw677u",
        "colab": {}
      },
      "source": [
        "iller = ['istanbul', 'ankara', 'izmir', 'malatya']\n",
        "\n",
        "for il in iller:\n",
        "    print (il)"
      ],
      "execution_count": 0,
      "outputs": []
    },
    {
      "cell_type": "markdown",
      "metadata": {
        "colab_type": "text",
        "id": "gvLSrDBH677y"
      },
      "source": [
        "Döngü içerisinde her bir liste elemanının indeks değerine ulaşmak için `enumerate` fonksiyonunu kullanabilirsiniz."
      ]
    },
    {
      "cell_type": "code",
      "metadata": {
        "colab_type": "code",
        "id": "8RBEpUQ9677y",
        "colab": {}
      },
      "source": [
        "iller = ['İstanbul', 'Ankara', 'İzmir', 'Malatya']\n",
        "\n",
        "for sira, iller in enumerate(iller):\n",
        "    print ('%d: %s' % (sira + 1, iller))"
      ],
      "execution_count": 0,
      "outputs": []
    },
    {
      "cell_type": "markdown",
      "metadata": {
        "colab_type": "text",
        "id": "fkyv4Rx4c-0R"
      },
      "source": [
        "`range()` fonksiyonu ile belirli bir aralık tanımlayabiliriz."
      ]
    },
    {
      "cell_type": "code",
      "metadata": {
        "colab_type": "code",
        "id": "N1XxY5eWc-0R",
        "colab": {}
      },
      "source": [
        "for sayi in range(1,11):\n",
        "    print (sayi)"
      ],
      "execution_count": 0,
      "outputs": []
    },
    {
      "cell_type": "code",
      "metadata": {
        "colab_type": "code",
        "id": "4TptZQOWc-0S",
        "colab": {}
      },
      "source": [
        "for harf in 'Yapay Zeka':\n",
        "    print(harf)"
      ],
      "execution_count": 0,
      "outputs": []
    },
    {
      "cell_type": "code",
      "metadata": {
        "colab_type": "code",
        "id": "pRq_kRwrc-0T",
        "colab": {}
      },
      "source": [
        "for kelime in \"Yapay Zeka\".split():\n",
        "    print(kelime)"
      ],
      "execution_count": 0,
      "outputs": []
    },
    {
      "cell_type": "markdown",
      "metadata": {
        "colab_type": "text",
        "id": "UtYuRtNI6772"
      },
      "source": [
        "#### Listeler Arası Dönüşüm\n",
        "\n",
        "Liste elemanlarının tamamı üzerinde işlemler yapabiliriz."
      ]
    },
    {
      "cell_type": "markdown",
      "metadata": {
        "id": "05OwhtUEtJXV",
        "colab_type": "text"
      },
      "source": [
        "\n",
        "\n",
        "---\n",
        "\n",
        "\n",
        "---\n",
        "\n",
        "\n",
        "\n",
        "---\n",
        "\n",
        "\n"
      ]
    },
    {
      "cell_type": "markdown",
      "metadata": {
        "colab_type": "text",
        "id": "ywcbzUtoc-0V"
      },
      "source": [
        "#### Listenin Karesini Alma"
      ]
    },
    {
      "cell_type": "code",
      "metadata": {
        "colab_type": "code",
        "id": "1q8uHGAM6773",
        "colab": {}
      },
      "source": [
        "rakamlar = [0, 1, 2, 3, 4, 5, 6, 7]\n",
        "kareler = [n**2 for n in rakamlar if n % 2 ==0]\n",
        "\n",
        "kareler"
      ],
      "execution_count": 0,
      "outputs": []
    },
    {
      "cell_type": "code",
      "metadata": {
        "id": "qN2qh7rNtrB7",
        "colab_type": "code",
        "colab": {}
      },
      "source": [
        "rakams=[n**2 for n in rakamlar]\n",
        "rakams"
      ],
      "execution_count": 0,
      "outputs": []
    },
    {
      "cell_type": "code",
      "metadata": {
        "id": "FPKAgD0ctlxx",
        "colab_type": "code",
        "colab": {}
      },
      "source": [
        "for rakam in rakamlar:\n",
        "    kareler.append(rakam ** 2) # append ile sona ekleme yapıyoruz.\n",
        "\n",
        "print (kareler)"
      ],
      "execution_count": 0,
      "outputs": []
    },
    {
      "cell_type": "markdown",
      "metadata": {
        "colab_type": "text",
        "id": "x-dS_UuH6779"
      },
      "source": [
        "Bu işlemi şu şekilde de kolaylıkla yapabiliriz."
      ]
    },
    {
      "cell_type": "code",
      "metadata": {
        "colab_type": "code",
        "id": "nPBWO8YS678D",
        "colab": {}
      },
      "source": [
        "rakamlar = [0, 1, 2, 3, 4, 5, 6, 7]\n",
        "kareler = [rakam ** 2 \n",
        "           for rakam in rakamlar]\n",
        "\n",
        "print (kareler)"
      ],
      "execution_count": 0,
      "outputs": []
    },
    {
      "cell_type": "markdown",
      "metadata": {
        "colab_type": "text",
        "id": "wzcqae6s678H"
      },
      "source": [
        "Listeler arası dönüşüm yaparken koşul da ekleyebiliriz."
      ]
    },
    {
      "cell_type": "code",
      "metadata": {
        "colab_type": "code",
        "id": "HEef47F7678H",
        "colab": {}
      },
      "source": [
        "rakamlar = [0, 1, 2, 3, 4, 5, 6, 7]\n",
        "\n",
        "cift_kareler = [rakam ** 2 \n",
        "                for rakam in rakamlar \n",
        "                if rakam % 2 == 0]\n",
        "tek_kareler = [rakam ** 2 \n",
        "               for rakam in rakamlar \n",
        "               if rakam % 2 == 1]\n",
        "\n",
        "print (cift_kareler)\n",
        "print (tek_kareler)"
      ],
      "execution_count": 0,
      "outputs": []
    },
    {
      "cell_type": "markdown",
      "metadata": {
        "colab_type": "text",
        "id": "shSfnkV3c-0Z"
      },
      "source": [
        "#### Listenin Elemanlarını Toplama"
      ]
    },
    {
      "cell_type": "code",
      "metadata": {
        "colab_type": "code",
        "id": "40qTIRsUc-0a",
        "colab": {}
      },
      "source": [
        "liste = list(range(21))\n",
        "liste"
      ],
      "execution_count": 0,
      "outputs": []
    },
    {
      "cell_type": "markdown",
      "metadata": {
        "colab_type": "text",
        "id": "gFjgYh3Oc-0b"
      },
      "source": [
        "**for döngüsü** ile liste elemanlarında tek tek gezip toplayabiliriz."
      ]
    },
    {
      "cell_type": "code",
      "metadata": {
        "colab_type": "code",
        "id": "m6cSyDsBc-0c",
        "colab": {}
      },
      "source": [
        "toplam = 0 \n",
        "\n",
        "for sayi in liste:\n",
        "    toplam = toplam + sayi\n",
        "\n",
        "print(toplam)"
      ],
      "execution_count": 0,
      "outputs": []
    },
    {
      "cell_type": "code",
      "metadata": {
        "id": "h3InbCrpvIqk",
        "colab_type": "code",
        "colab": {}
      },
      "source": [
        "toplam = 0 \n",
        "for sayi in liste:\n",
        "  if sayi % 2==0:\n",
        "    toplam = toplam + sayi\n",
        "\n",
        "print(toplam)"
      ],
      "execution_count": 0,
      "outputs": []
    },
    {
      "cell_type": "markdown",
      "metadata": {
        "colab_type": "text",
        "id": "ykHCEWnsc-0d"
      },
      "source": [
        "`sum()` ile daha kolay bir şekilde listenin elemanlarını toplayabiliriz."
      ]
    },
    {
      "cell_type": "code",
      "metadata": {
        "colab_type": "code",
        "id": "WK2UidsKc-0d",
        "colab": {}
      },
      "source": [
        "sum(liste)"
      ],
      "execution_count": 0,
      "outputs": []
    },
    {
      "cell_type": "code",
      "metadata": {
        "colab_type": "code",
        "id": "frflum9Qc-0e",
        "colab": {}
      },
      "source": [
        "liste"
      ],
      "execution_count": 0,
      "outputs": []
    },
    {
      "cell_type": "markdown",
      "metadata": {
        "colab_type": "text",
        "id": "Il7PFijmc-0g"
      },
      "source": [
        "Yalnızca belir bir koşulu sağlayan elemanları toplamak istersek **while döngüsü** kullabiliriz. Örneğin listenin **ilk dört elemanını** toplayalım."
      ]
    },
    {
      "cell_type": "code",
      "metadata": {
        "colab_type": "code",
        "id": "CJkZ-DEic-0g",
        "colab": {}
      },
      "source": [
        "toplam = 0\n",
        "i = 0\n",
        "\n",
        "while (i<11):\n",
        "    toplam = toplam + liste[i]\n",
        "    i = i + 1\n",
        "\n",
        "print(toplam)"
      ],
      "execution_count": 0,
      "outputs": []
    },
    {
      "cell_type": "markdown",
      "metadata": {
        "colab_type": "text",
        "id": "yf0stiQAc-0i"
      },
      "source": [
        "#### Listenin En Büyük Elemanını Bulma"
      ]
    },
    {
      "cell_type": "code",
      "metadata": {
        "colab_type": "code",
        "id": "R4fmM5-Jc-0i",
        "colab": {}
      },
      "source": [
        "liste = [5,2,4,2,45,25]\n",
        "liste"
      ],
      "execution_count": 0,
      "outputs": []
    },
    {
      "cell_type": "code",
      "metadata": {
        "colab_type": "code",
        "id": "dAXDmRmic-0j",
        "colab": {}
      },
      "source": [
        "en_buyuk = liste[0]\n",
        "\n",
        "for eleman in liste:\n",
        "    if eleman>en_buyuk:\n",
        "        en_buyuk = eleman\n",
        "\n",
        "print(en_buyuk)"
      ],
      "execution_count": 0,
      "outputs": []
    },
    {
      "cell_type": "code",
      "metadata": {
        "id": "jxWj3p2AwK-d",
        "colab_type": "code",
        "colab": {}
      },
      "source": [
        "en_kucuk = liste[0]\n",
        "\n",
        "for eleman in liste:\n",
        "    if eleman < en_kucuk:\n",
        "        en_kucuk = eleman\n",
        "\n",
        "print(en_kucuk)"
      ],
      "execution_count": 0,
      "outputs": []
    },
    {
      "cell_type": "markdown",
      "metadata": {
        "id": "4ULQQHkXwaH4",
        "colab_type": "text"
      },
      "source": [
        "\n",
        "\n",
        "---\n",
        "\n",
        "\n",
        "\n",
        "---\n",
        "\n",
        "\n",
        "\n",
        "---\n",
        "\n"
      ]
    },
    {
      "cell_type": "markdown",
      "metadata": {
        "colab_type": "text",
        "id": "LaNwQCYW678K"
      },
      "source": [
        "#### Sözlükler"
      ]
    },
    {
      "cell_type": "markdown",
      "metadata": {
        "colab_type": "text",
        "id": "PfzxddFc678L"
      },
      "source": [
        "Bir Python sözlüğünde anahtar (`key`) ve değer (`value`) saklanmaktadır."
      ]
    },
    {
      "cell_type": "code",
      "metadata": {
        "colab_type": "code",
        "id": "6XXH3Mcb678L",
        "colab": {}
      },
      "source": [
        "meshur = {'Kayseri': 'Mantı', 'Amasya': 'Elma', 'Malatya': 'Kayısı'}  # Sözlük oluşturalım"
      ],
      "execution_count": 0,
      "outputs": []
    },
    {
      "cell_type": "markdown",
      "metadata": {
        "colab_type": "text",
        "id": "gE0zc6mac-0m"
      },
      "source": [
        "`.keys()` ile sözlüğümüzün anahtarlarını yazdırabiliriz."
      ]
    },
    {
      "cell_type": "code",
      "metadata": {
        "colab_type": "code",
        "id": "NXzMBwyrc-0m",
        "colab": {}
      },
      "source": [
        "meshur.keys()"
      ],
      "execution_count": 0,
      "outputs": []
    },
    {
      "cell_type": "markdown",
      "metadata": {
        "colab_type": "text",
        "id": "Rf-lF0hWc-0n"
      },
      "source": [
        "`.values()` ile sözlüğümüzün değerlerini yazdırabiliriz."
      ]
    },
    {
      "cell_type": "code",
      "metadata": {
        "colab_type": "code",
        "id": "pVHL4Agbc-0o",
        "colab": {}
      },
      "source": [
        "meshur.values()"
      ],
      "execution_count": 0,
      "outputs": []
    },
    {
      "cell_type": "markdown",
      "metadata": {
        "colab_type": "text",
        "id": "uxX29konc-0p"
      },
      "source": [
        "`.items()` ile sözlüğümüzün **tüm** `key` ve `value` değerlerini yazdırabiliriz."
      ]
    },
    {
      "cell_type": "code",
      "metadata": {
        "colab_type": "code",
        "id": "TBUvhkyNc-0q",
        "colab": {}
      },
      "source": [
        "meshur.items()"
      ],
      "execution_count": 0,
      "outputs": []
    },
    {
      "cell_type": "code",
      "metadata": {
        "colab_type": "code",
        "id": "JJfBb-0gc-0r",
        "colab": {}
      },
      "source": [
        "print (meshur['Malatya']) # \"Malatya\" anahtar değerine ait değer ekrana yazdırılır.\n",
        "print ('Amasya' in meshur) # \"Amasya\" anahtar değeri sözlüğümüzde varsa \"True\" döndürür. "
      ],
      "execution_count": 0,
      "outputs": []
    },
    {
      "cell_type": "code",
      "metadata": {
        "colab_type": "code",
        "id": "w2_b3pJC678P",
        "colab": {}
      },
      "source": [
        "meshur['İstanbul'] = 'Trafik' # Sözlüğe yeni bir girdi ekleyelim.\n",
        "meshur"
      ],
      "execution_count": 0,
      "outputs": []
    },
    {
      "cell_type": "code",
      "metadata": {
        "colab_type": "code",
        "id": "XU5bDAtA678S",
        "colab": {}
      },
      "source": [
        "#print (meshur['Ankara'])  # KeyError: 'Ankara' not a key of d\n",
        "\n",
        "# Ankara diye bir anahtar değerimiz olmadığı için hata verir!"
      ],
      "execution_count": 0,
      "outputs": []
    },
    {
      "cell_type": "markdown",
      "metadata": {
        "colab_type": "text",
        "id": "pw4r3iO8c-0v"
      },
      "source": [
        "Sözlüğün içinde bir değer varsa onu getirmesini, yoksa N/A versin istiyorsak `get` yöntemini kullanabiliriz."
      ]
    },
    {
      "cell_type": "code",
      "metadata": {
        "colab_type": "code",
        "id": "X5ldIT_o678V",
        "colab": {}
      },
      "source": [
        "print (meshur.get('Ankara', 'N/A')) # \"N/A\" döndürür\n",
        "print (meshur.get('Amasya', 'N/A')) # \"Elma\" döndürür"
      ],
      "execution_count": 0,
      "outputs": []
    },
    {
      "cell_type": "code",
      "metadata": {
        "colab_type": "code",
        "id": "w6ZEz1mo678a",
        "colab": {}
      },
      "source": [
        "del meshur['Amasya']        # Sözlükten bir değeri silelim.\n",
        "print (meshur.get('Amasya', 'N/A')) # \"Amasya\" silindiği için \"N/A\" döndürür."
      ],
      "execution_count": 0,
      "outputs": []
    },
    {
      "cell_type": "code",
      "metadata": {
        "colab_type": "code",
        "id": "6qrQaoFPc-0y",
        "colab": {}
      },
      "source": [
        "meshur"
      ],
      "execution_count": 0,
      "outputs": []
    },
    {
      "cell_type": "markdown",
      "metadata": {
        "colab_type": "text",
        "id": "JELVcmGP678d"
      },
      "source": [
        "use for loop "
      ]
    },
    {
      "cell_type": "code",
      "metadata": {
        "colab_type": "code",
        "id": "C9ruJOys678d",
        "colab": {}
      },
      "source": [
        "canlilar = {'İnsan': 2, 'Kedi': 4, 'Örümcek': 8}\n",
        "\n",
        "for canli in canlilar:\n",
        "    ayak = canlilar[canli]\n",
        "    print('%s, %d ayağa sahiptir.' % (canli, ayak))"
      ],
      "execution_count": 0,
      "outputs": []
    },
    {
      "cell_type": "markdown",
      "metadata": {
        "colab_type": "text",
        "id": "lIzRQoUo678g"
      },
      "source": [
        "Sözlük değerlerine `items()` yöntemiyle de ulaşabiliriz."
      ]
    },
    {
      "cell_type": "code",
      "metadata": {
        "colab_type": "code",
        "id": "MJkUk7o4678h",
        "colab": {}
      },
      "source": [
        "canlilar = {'İnsan': 2, 'Kedi': 4, 'Örümcek': 8}\n",
        "\n",
        "for canli, ayak in canlilar.items():\n",
        "    print ('%s, %d ayağa sahiptir.' % (canli, ayak))"
      ],
      "execution_count": 0,
      "outputs": []
    },
    {
      "cell_type": "markdown",
      "metadata": {
        "colab_type": "text",
        "id": "lRcj9V3Rc-02"
      },
      "source": [
        "Aynı şekilde `keys()` ya da `values()` değerlerine de bir `for döngüsü` ile ulaşabiliriz."
      ]
    },
    {
      "cell_type": "code",
      "metadata": {
        "colab_type": "code",
        "id": "M7gqvtJKc-02",
        "colab": {}
      },
      "source": [
        "for canli in canlilar.keys():\n",
        "    print (canli)"
      ],
      "execution_count": 0,
      "outputs": []
    },
    {
      "cell_type": "code",
      "metadata": {
        "colab_type": "code",
        "id": "FJaCTpqac-04",
        "colab": {}
      },
      "source": [
        "for ayak in canlilar.values():\n",
        "    print (ayak)"
      ],
      "execution_count": 0,
      "outputs": []
    },
    {
      "cell_type": "markdown",
      "metadata": {
        "colab_type": "text",
        "id": "gZqZiFNe678m"
      },
      "source": [
        "#### Sözlük Dönüşümü\n",
        "\n",
        "Listelerden sözlük oluşturabiliriz."
      ]
    },
    {
      "cell_type": "code",
      "metadata": {
        "colab_type": "code",
        "id": "l0SQvsLT678m",
        "colab": {}
      },
      "source": [
        "sayilar = list(range(50))\n",
        "cift_kare = {x: x ** 2 for x in sayilar  if x % 2 == 0}\n",
        "print (cift_kare)\n",
        "print()\n",
        "print(\"\\n\")\n",
        "tek_kare={y: y**2 for y in sayilar if y % 2 != 0}  #if i**2 % 2 != 0\n",
        "print(tek_kare)"
      ],
      "execution_count": 0,
      "outputs": []
    },
    {
      "cell_type": "markdown",
      "metadata": {
        "id": "ND3LTyAWyaD4",
        "colab_type": "text"
      },
      "source": [
        "\n",
        "\n",
        "---\n",
        "\n",
        "\n",
        "\n",
        "---\n",
        "\n",
        "\n",
        "\n",
        "---\n",
        "\n"
      ]
    },
    {
      "cell_type": "code",
      "metadata": {
        "id": "PQe0UXfHyY_T",
        "colab_type": "code",
        "colab": {}
      },
      "source": [
        "aNumber=input(\"Enter number:\")\n",
        "aNumber=int(aNumber)\n",
        "print(aNumber)\n",
        "\n",
        "\n",
        "print(\"Odd numbers:\")\n",
        "odds=[i**1 for i in range(aNumber) if i**2 % 2 != 0]\n",
        "\n",
        "print(odds)\n",
        "print()\n",
        "print(\"Squares of odd numbers:\")\n",
        "oddz=[i**2 for i in range(aNumber) if i**2 % 2 != 0]\n",
        "print(oddz)\n",
        "\n",
        "print()\n",
        "print(\"Cubes of odd numbers:\")\n",
        "cubes=[i**3 for i in range(aNumber) if i**2 % 2 != 0]\n",
        "print(cubes)\n",
        "\n"
      ],
      "execution_count": 0,
      "outputs": []
    },
    {
      "cell_type": "markdown",
      "metadata": {
        "id": "uH8eAnM-ycJ0",
        "colab_type": "text"
      },
      "source": [
        "\n",
        "\n",
        "---\n",
        "\n",
        "\n",
        "\n",
        "---\n",
        "\n",
        "\n",
        "\n",
        "---\n",
        "\n"
      ]
    },
    {
      "cell_type": "markdown",
      "metadata": {
        "colab_type": "text",
        "id": "YvWy4KW9c-06"
      },
      "source": [
        "**İPUCU**: Listelerin köşeli parantez `[]`, sözlüklerin ise süslü parantez `{}` ile tanımlandığını unutmayın."
      ]
    },
    {
      "cell_type": "markdown",
      "metadata": {
        "colab_type": "text",
        "id": "ct0A73Vz678p"
      },
      "source": [
        "#### Kümeler (Sets)"
      ]
    },
    {
      "cell_type": "markdown",
      "metadata": {
        "colab_type": "text",
        "id": "vNZyJBgM678q"
      },
      "source": [
        "Kümeleri de süslü parantez ile tanımlarız. Listelerden en büyük farklı sıralı olmamasıdır. "
      ]
    },
    {
      "cell_type": "code",
      "metadata": {
        "colab_type": "code",
        "id": "_OP2UEYu678q",
        "colab": {}
      },
      "source": [
        "hayvanlar = {'kedi', 'köpek'}\n",
        "\n",
        "print ('kedi' in hayvanlar)   # Kümede o elemanın olup olmadığına bakalım = \"True\"\n",
        "print ('balık' in hayvanlar)  # Kümede o elemanın olup olmadığına bakalım = \"False\""
      ],
      "execution_count": 0,
      "outputs": []
    },
    {
      "cell_type": "code",
      "metadata": {
        "colab_type": "code",
        "id": "OzWCwG3J678t",
        "colab": {}
      },
      "source": [
        "hayvanlar.add('balık')       # Kümeye eleman ekleyelim\n",
        "print ('balık' in hayvanlar)\n",
        "\n",
        "print (len(hayvanlar))       # Kümenin eleman sayısını ekrana yazdıralım"
      ],
      "execution_count": 0,
      "outputs": []
    },
    {
      "cell_type": "code",
      "metadata": {
        "colab_type": "code",
        "id": "frKetwK4678w",
        "colab": {}
      },
      "source": [
        "hayvanlar.add('kedi')       # Kedi zaten olduğu için değişen bir şey olmayacak\n",
        "print (len(hayvanlar))       \n",
        "hayvanlar.remove('kedi')    # Kümeden bir elemanı kaldıralım.\n",
        "print (len(hayvanlar))       "
      ],
      "execution_count": 0,
      "outputs": []
    },
    {
      "cell_type": "markdown",
      "metadata": {
        "colab_type": "text",
        "id": "WheWc5ey678z"
      },
      "source": [
        "_Döngüler_: Küme elemanlarına da `for` döngüsü ile ulaşabiliriz. Fakat kümelerin sıralı listeler olmadığını unutmayın. Örneğin aşağıda _kedi köpek balık_ sırasıyla tanımladığımız kümenin elemanlarına ulaşmaya çalıştığımızda hangi sıra olacak sizce? "
      ]
    },
    {
      "cell_type": "code",
      "metadata": {
        "colab_type": "code",
        "id": "3xfvgtNA6780",
        "colab": {}
      },
      "source": [
        "hayvanlar = {'kedi', 'köpek', 'balık'}\n",
        "\n",
        "for sira, hayvan in enumerate(hayvanlar):\n",
        "    print ('#%d: %s' % (sira + 1, hayvan))    "
      ],
      "execution_count": 0,
      "outputs": []
    },
    {
      "cell_type": "markdown",
      "metadata": {
        "colab_type": "text",
        "id": "E4KVAgQr6783"
      },
      "source": [
        "Liste ve sözlük dönüşümlerine benzer bir şekilde hızlıca küme oluşturabiliriz."
      ]
    },
    {
      "cell_type": "code",
      "metadata": {
        "colab_type": "code",
        "id": "cP9_9bK46783",
        "colab": {}
      },
      "source": [
        "from math import sqrt\n",
        "\n",
        "print ({sqrt(x) for x in list(range(30))})"
      ],
      "execution_count": 0,
      "outputs": []
    },
    {
      "cell_type": "markdown",
      "metadata": {
        "colab_type": "text",
        "id": "fSxDcBuKc-1D"
      },
      "source": [
        "**İPUCU**: Kümeler sıralı listeler olmadığı için köklü değerleri sıralı olarak göremeyeceksiniz."
      ]
    },
    {
      "cell_type": "markdown",
      "metadata": {
        "colab_type": "text",
        "id": "SzvCeQ3P6786"
      },
      "source": [
        "#### Demetler (Tuples)"
      ]
    },
    {
      "cell_type": "markdown",
      "metadata": {
        "colab_type": "text",
        "id": "p-skzG_96786"
      },
      "source": [
        "Demetler sabit (değişmez) sıralı değerlerden oluşan listelerdir. Demetlerin listelerden en büyük farkı, listeler sözlüklerde anahtar (key) olarak ya da kümelerin elemanı olarak kullanılabilmektedir. Demetler bu şekilde kullanılamazlar.\n",
        "\n",
        "**İPUCU**: Demetler normal parantez `()`ile tanımlanır."
      ]
    },
    {
      "cell_type": "code",
      "metadata": {
        "colab_type": "code",
        "id": "wG4JWdaF6787",
        "colab": {}
      },
      "source": [
        "sozluk = {(x, x + 1): x for x in range(10)}  # Demetlerin anahtar olduğu bir sözlük oluşturalım\n",
        "\n",
        "sozluk"
      ],
      "execution_count": 0,
      "outputs": []
    },
    {
      "cell_type": "code",
      "metadata": {
        "colab_type": "code",
        "id": "yecDUsUyc-1a",
        "colab": {}
      },
      "source": [
        "demet = (5, 6)       # Demet oluşturalım.\n",
        "print (type(demet))\n",
        "print (sozluk[demet]) # t demeti kaçıncı elemandır?       \n",
        "print (sozluk[(1, 2)]) # (1, 2) demeti kaçıncı elemandır?"
      ],
      "execution_count": 0,
      "outputs": []
    },
    {
      "cell_type": "code",
      "metadata": {
        "colab_type": "code",
        "id": "Men1uVfb679B",
        "colab": {}
      },
      "source": [
        "print(demet[1]) # demetin ikinci elemanına ulaşalım\n",
        "\n",
        "print(demet[0]) # demetin ilk elemanına ulaşalım"
      ],
      "execution_count": 0,
      "outputs": []
    },
    {
      "cell_type": "markdown",
      "metadata": {
        "colab_type": "text",
        "id": "zRSvC60r679G"
      },
      "source": [
        "### Fonksiyonlar"
      ]
    },
    {
      "cell_type": "markdown",
      "metadata": {
        "colab_type": "text",
        "id": "4UxE6oEr679H"
      },
      "source": [
        "Python'da fonksiyonlar  `def` anahtar kelimesi ile tanımlanır. \n",
        "\n",
        "Fonksiyon isiminden sonra parantez içerisinde giriş değerleri sonra da *iki nokta üst üste* konulur. \n",
        "\n",
        "Örnek olarak bir sayının pozitif, negatif ya da sıfır olup olmadığını kontrol eden `isaret` fonksiyonunu tanımlayalım:"
      ]
    },
    {
      "cell_type": "code",
      "metadata": {
        "colab_type": "code",
        "id": "7VPkd05d679H",
        "colab": {}
      },
      "source": [
        "def isaret(x):\n",
        "    if x > 0:\n",
        "        return 'pozitif'\n",
        "    elif x < 0:\n",
        "        return 'negatif'\n",
        "    else:\n",
        "        return 'sifir'\n",
        "\n",
        "for x in [-1, 0, 1]:\n",
        "    print (isaret(x))"
      ],
      "execution_count": 0,
      "outputs": []
    },
    {
      "cell_type": "markdown",
      "metadata": {
        "colab_type": "text",
        "id": "Y7kgWgHD679K"
      },
      "source": [
        "Fonksiyonlarda **isteğe bağlı (opsiyonel)** parametreler tanımlamak mümkündür."
      ]
    },
    {
      "cell_type": "code",
      "metadata": {
        "colab_type": "code",
        "id": "JCf-kMsw679L",
        "colab": {}
      },
      "source": [
        "def merhaba(isim, buyukHarf = False):\n",
        "    if buyukHarf:\n",
        "        print ('MERHABA, %s' % isim.upper())\n",
        "    else:\n",
        "        print ('Merhaba, %s!' % isim)\n",
        "\n",
        "merhaba('Fuat')\n",
        "merhaba('Fuat', buyukHarf = True)"
      ],
      "execution_count": 0,
      "outputs": []
    },
    {
      "cell_type": "markdown",
      "metadata": {
        "colab_type": "text",
        "id": "4mqN2KOcc-1h"
      },
      "source": [
        "Eğer fonksiyonunumuzun giriş parametrelerini önceden tanımlamak istemiyorsak `*args` kullanabiliriz. Aşağıdaki fonksiyon kaç tane giriş parametresi girildiyse hepsini çarpmaktadır."
      ]
    },
    {
      "cell_type": "code",
      "metadata": {
        "colab_type": "code",
        "id": "q6tznq3oc-1h",
        "colab": {}
      },
      "source": [
        "def carp(*args):\n",
        "    sonuc = 1\n",
        "    for sayi in args:\n",
        "        sonuc *= sayi\n",
        "    print(sonuc)\n",
        "\n",
        "carp(4, 1)\n",
        "carp(6, 2)\n",
        "carp(11, 5, 2)\n",
        "carp(9, 3, 0, 4)"
      ],
      "execution_count": 0,
      "outputs": []
    },
    {
      "cell_type": "markdown",
      "metadata": {
        "colab_type": "text",
        "id": "kfw1gS8yc-1i"
      },
      "source": [
        "Fonksiyonumuzu hızlıca tanımlamak istiyorsak `lambda` yı kullanabiliriz."
      ]
    },
    {
      "cell_type": "code",
      "metadata": {
        "colab_type": "code",
        "id": "6PEEhxfwc-1j",
        "colab": {}
      },
      "source": [
        "# Çemberin Çevresini Bulan Fonksiyon\n",
        "\n",
        "cevre = lambda r, pi : (2 * pi * r)\n",
        "\n",
        "cevre(5,3.14)"
      ],
      "execution_count": 0,
      "outputs": []
    },
    {
      "cell_type": "markdown",
      "metadata": {
        "colab_type": "text",
        "id": "Bm13r-al679M"
      },
      "source": [
        "### Sınıflar (Classes)"
      ]
    },
    {
      "cell_type": "markdown",
      "metadata": {
        "colab_type": "text",
        "id": "cC4JBHCf679M"
      },
      "source": [
        "Python'da sınıfları şu şekilde tanımlarız:"
      ]
    },
    {
      "cell_type": "code",
      "metadata": {
        "colab_type": "code",
        "id": "f1p7mDD6679N",
        "colab": {}
      },
      "source": [
        "class Karsilayici:\n",
        "\n",
        "    # Oluşturma\n",
        "    def __init__(self, isim):\n",
        "        self.isim = isim  # Örnek (instance) değişkeni tanımlayalım\n",
        "\n",
        "    # Örnek (instance) yöntemi\n",
        "    def selam(self, buyukHarf = False):\n",
        "        if buyukHarf:\n",
        "            print ('MERHABA, %s!' % self.isim.upper())\n",
        "        else:\n",
        "            print ('Merhaba, %s' % self.isim)\n",
        "\n",
        "g = Karsilayici('Fuat')     # Karşılayıcı sınıfında bir örnek oluşturalım \n",
        "g.selam()                   # Merhaba, Fuat\n",
        "g.selam(buyukHarf = True)   # MERHABA, FUAT!"
      ],
      "execution_count": 0,
      "outputs": []
    },
    {
      "cell_type": "markdown",
      "metadata": {
        "colab_type": "text",
        "id": "3tyVUT0s679P"
      },
      "source": [
        "## Numpy"
      ]
    },
    {
      "cell_type": "markdown",
      "metadata": {
        "colab_type": "text",
        "id": "BlStqyyR679P"
      },
      "source": [
        "Numpy bilimsel hesaplamalarda sıklıkla kullanılan Python'un temel kütüphanelerinden bir tanesidir."
      ]
    },
    {
      "cell_type": "markdown",
      "metadata": {
        "colab_type": "text",
        "id": "6pe8151F679P"
      },
      "source": [
        "`Numpy` kütüphanesini kullanabilmek için öncelikle `import` kullanarak çağırmamız gerekir."
      ]
    },
    {
      "cell_type": "code",
      "metadata": {
        "colab_type": "code",
        "id": "bhhKXC0O679Q",
        "colab": {}
      },
      "source": [
        "import numpy as np"
      ],
      "execution_count": 0,
      "outputs": []
    },
    {
      "cell_type": "markdown",
      "metadata": {
        "colab_type": "text",
        "id": "pBw0NtmC679Q"
      },
      "source": [
        "### Diziler"
      ]
    },
    {
      "cell_type": "code",
      "metadata": {
        "colab_type": "code",
        "id": "qyh89byi679R",
        "colab": {}
      },
      "source": [
        "a = np.array([1, 2, 3])  # Birinci dereceden dizi tanımlayalım\n",
        "\n",
        "print (type(a), a.shape) # Dizinin veri tipini ve boyutunu yazdıralım\n",
        "print(a[0], a[1], a[2])  # Dizinin her bir elemanını ayrı ayrı yazdıralım\n",
        "\n",
        "a[0] = 5                 # Dizinin ilk elamanını 5 ile değiştirelim\n",
        "print (a)   "
      ],
      "execution_count": 0,
      "outputs": []
    },
    {
      "cell_type": "code",
      "metadata": {
        "colab_type": "code",
        "id": "7RJq5boB679U",
        "colab": {}
      },
      "source": [
        "b = np.array([[1,2,3],[4,5,6]])   # İkinci dereceden dizi tanımlayalım\n",
        "print (b)"
      ],
      "execution_count": 0,
      "outputs": []
    },
    {
      "cell_type": "markdown",
      "metadata": {
        "colab_type": "text",
        "id": "kBpzLJTyc-1p"
      },
      "source": [
        "**İPUCU**: Yukarıda köşeli parantez sayısının dereceyi (rank) verdiğine dikkat edin.\n",
        "\n",
        "Bir dizinin derecesini `.ndim` ile görebiliriz. "
      ]
    },
    {
      "cell_type": "code",
      "metadata": {
        "colab_type": "code",
        "id": "llpZc9MQc-1p",
        "colab": {}
      },
      "source": [
        "b.ndim"
      ],
      "execution_count": 0,
      "outputs": []
    },
    {
      "cell_type": "code",
      "metadata": {
        "colab_type": "code",
        "id": "Dq6MueDU679X",
        "colab": {}
      },
      "source": [
        "print (b.shape)                   \n",
        "print (b[0, 0], b[0, 1], b[1, 0])"
      ],
      "execution_count": 0,
      "outputs": []
    },
    {
      "cell_type": "markdown",
      "metadata": {
        "colab_type": "text",
        "id": "MB0NUUzk679Z"
      },
      "source": [
        "**Sıfırlardan** oluşan bir dizi için `np.zeros()` kullanılır."
      ]
    },
    {
      "cell_type": "code",
      "metadata": {
        "colab_type": "code",
        "id": "XrnnqJCj679Z",
        "colab": {}
      },
      "source": [
        "a = np.zeros((2,2))  # Tüm elemanları \"sıfır\" olan 2 x 2 boyutlu dizi\n",
        "print (a)"
      ],
      "execution_count": 0,
      "outputs": []
    },
    {
      "cell_type": "markdown",
      "metadata": {
        "colab_type": "text",
        "id": "Fz5uHgq8c-1s"
      },
      "source": [
        "**Birlerden** oluşan bir dizi için `np.ones()` kullanılır."
      ]
    },
    {
      "cell_type": "code",
      "metadata": {
        "colab_type": "code",
        "id": "ooJNhDeT679e",
        "colab": {}
      },
      "source": [
        "b = np.ones((1,2))   # Tüm elemanları \"bir\" olan 1 x 2 boyutlu dizi\n",
        "print (b)"
      ],
      "execution_count": 0,
      "outputs": []
    },
    {
      "cell_type": "markdown",
      "metadata": {
        "colab_type": "text",
        "id": "I5n9M_bhc-1u"
      },
      "source": [
        "**İstediğimiz bir değerden** oluşan bir dizi için `np.full()` kullanılır."
      ]
    },
    {
      "cell_type": "code",
      "metadata": {
        "colab_type": "code",
        "id": "w2JY1I_s679g",
        "colab": {}
      },
      "source": [
        "c = np.full((2,2), 7) # Tüm elemanları \"yedi\" olan 2 x 2 boyutlu dizi\n",
        "print (c) "
      ],
      "execution_count": 0,
      "outputs": []
    },
    {
      "cell_type": "markdown",
      "metadata": {
        "colab_type": "text",
        "id": "_UV2PRJec-1v"
      },
      "source": [
        "**Boş matris** oluşturmak için `np.empty()` kullanılır."
      ]
    },
    {
      "cell_type": "code",
      "metadata": {
        "colab_type": "code",
        "id": "DzCjQQo5c-1v",
        "colab": {}
      },
      "source": [
        "d = np.empty((4,5))\n",
        "print(d)"
      ],
      "execution_count": 0,
      "outputs": []
    },
    {
      "cell_type": "markdown",
      "metadata": {
        "colab_type": "text",
        "id": "GwTQlxtuc-1x"
      },
      "source": [
        "**Birim matris** oluşturmak için `np.eye()` kullanılır."
      ]
    },
    {
      "cell_type": "code",
      "metadata": {
        "colab_type": "code",
        "id": "mEq6W3DE679i",
        "colab": {}
      },
      "source": [
        "e = np.eye(4)        # 2 x 2 boyutlu birim matris\n",
        "print (e)"
      ],
      "execution_count": 0,
      "outputs": []
    },
    {
      "cell_type": "markdown",
      "metadata": {
        "colab_type": "text",
        "id": "kOhxkY2Mc-1y"
      },
      "source": [
        "**Rastgele matris** oluşturmak için `np.random.random()` kullanılır."
      ]
    },
    {
      "cell_type": "code",
      "metadata": {
        "colab_type": "code",
        "id": "ZLCxF4qP679m",
        "colab": {}
      },
      "source": [
        "f = np.random.random((5,5)) # 5 x 5 boyutlu rastgele değerlerden oluşan matris\n",
        "print (f)"
      ],
      "execution_count": 0,
      "outputs": []
    },
    {
      "cell_type": "markdown",
      "metadata": {
        "colab_type": "text",
        "id": "jGVijH2Lc-1z"
      },
      "source": [
        "Belirli bir aralıklı sayılardan oluşan bir dizi oluşturmak için `.arange()` kullanırız."
      ]
    },
    {
      "cell_type": "code",
      "metadata": {
        "colab_type": "code",
        "id": "2SrCxX63c-1z",
        "colab": {}
      },
      "source": [
        "g = np.arange(0,10,1) # 0'dan 10'a (hariç) aralarında 1 olan\n",
        "print(g)"
      ],
      "execution_count": 0,
      "outputs": []
    },
    {
      "cell_type": "code",
      "metadata": {
        "colab_type": "code",
        "id": "Z63BUJjQc-10",
        "colab": {}
      },
      "source": [
        "h = np.linspace(0,9,10) # 0'dan 9'a (dahil) 10 adet sayı \n",
        "print(h)"
      ],
      "execution_count": 0,
      "outputs": []
    },
    {
      "cell_type": "code",
      "metadata": {
        "colab_type": "code",
        "id": "atsPHLHTc-11",
        "colab": {}
      },
      "source": [
        "dizim = np.array([11,22,23,14,5,36,7,3,9,5,11,133,13,5,66])"
      ],
      "execution_count": 0,
      "outputs": []
    },
    {
      "cell_type": "markdown",
      "metadata": {
        "colab_type": "text",
        "id": "cSLXtSMhc-11"
      },
      "source": [
        "Bir dizinin boyutu `.shape` ile görülür."
      ]
    },
    {
      "cell_type": "code",
      "metadata": {
        "colab_type": "code",
        "id": "erF0vleXc-12",
        "colab": {}
      },
      "source": [
        "dizim.shape"
      ],
      "execution_count": 0,
      "outputs": []
    },
    {
      "cell_type": "markdown",
      "metadata": {
        "colab_type": "text",
        "id": "hf7B0Wi4c-12"
      },
      "source": [
        "Diziyi yeniden boyutlandırmak için `.reshape` kullanılır."
      ]
    },
    {
      "cell_type": "code",
      "metadata": {
        "colab_type": "code",
        "id": "foBTV4gWc-13",
        "colab": {}
      },
      "source": [
        "dizim.reshape(5,3)"
      ],
      "execution_count": 0,
      "outputs": []
    },
    {
      "cell_type": "code",
      "metadata": {
        "colab_type": "code",
        "id": "oXdF5TtPc-14",
        "colab": {}
      },
      "source": [
        "dizim"
      ],
      "execution_count": 0,
      "outputs": []
    },
    {
      "cell_type": "markdown",
      "metadata": {
        "colab_type": "text",
        "id": "gs8fr0Hwc-15"
      },
      "source": [
        "Fakat yukarıda da görebileceğiniz üzere yalnızca `.reshape()` kullandığınızda dizinin boyutu değişmez. Bunun için ya `.resize()` fonksiyonunu kullanmak ya da diziye atama yapmak gerekir."
      ]
    },
    {
      "cell_type": "code",
      "metadata": {
        "colab_type": "code",
        "id": "5dXGF9Snc-15",
        "colab": {}
      },
      "source": [
        "dizim.resize(5,3)\n",
        "print(dizim)"
      ],
      "execution_count": 0,
      "outputs": []
    },
    {
      "cell_type": "code",
      "metadata": {
        "colab_type": "code",
        "id": "co-vWqUJc-16",
        "colab": {}
      },
      "source": [
        "dizim = dizim.reshape(3,5)\n",
        "print(dizim)"
      ],
      "execution_count": 0,
      "outputs": []
    },
    {
      "cell_type": "markdown",
      "metadata": {
        "colab_type": "text",
        "id": "O1CrRTssc-16"
      },
      "source": [
        "Diziyi tek boyutlu bir vektör haline getirmek için `.ravel()` fonksiyonunu kullanabiliriz."
      ]
    },
    {
      "cell_type": "code",
      "metadata": {
        "colab_type": "code",
        "id": "IgkivWrdc-17",
        "colab": {}
      },
      "source": [
        "dizim = dizim.ravel()\n",
        "print(dizim)"
      ],
      "execution_count": 0,
      "outputs": []
    },
    {
      "cell_type": "markdown",
      "metadata": {
        "colab_type": "text",
        "id": "8ajF-awJc-18"
      },
      "source": [
        "Dizinin uzunluğunu `.size` ile görürüz."
      ]
    },
    {
      "cell_type": "code",
      "metadata": {
        "colab_type": "code",
        "id": "_BwtwpeUc-18",
        "colab": {}
      },
      "source": [
        "dizim.size"
      ],
      "execution_count": 0,
      "outputs": []
    },
    {
      "cell_type": "markdown",
      "metadata": {
        "colab_type": "text",
        "id": "9i8GvFQOc-19"
      },
      "source": [
        "Dizi elemanlarının veri tiplerine `.dtype` ile bakarız."
      ]
    },
    {
      "cell_type": "code",
      "metadata": {
        "colab_type": "code",
        "id": "afhSMSSOc-19",
        "colab": {}
      },
      "source": [
        "dizim.dtype"
      ],
      "execution_count": 0,
      "outputs": []
    },
    {
      "cell_type": "markdown",
      "metadata": {
        "colab_type": "text",
        "id": "8CMoJK_jc-1-"
      },
      "source": [
        "Dizinin en büyük elemanını `max()` ile bulabiliriz."
      ]
    },
    {
      "cell_type": "code",
      "metadata": {
        "colab_type": "code",
        "id": "RPdgPipIc-1-",
        "colab": {}
      },
      "source": [
        "dizim.max()"
      ],
      "execution_count": 0,
      "outputs": []
    },
    {
      "cell_type": "markdown",
      "metadata": {
        "colab_type": "text",
        "id": "DSWRHS5Mc-1_"
      },
      "source": [
        "Dizinin en küçük elemanını `min()` ile bulabiliriz."
      ]
    },
    {
      "cell_type": "code",
      "metadata": {
        "colab_type": "code",
        "id": "4z1jtWfKc-1_",
        "colab": {}
      },
      "source": [
        "dizim.min()"
      ],
      "execution_count": 0,
      "outputs": []
    },
    {
      "cell_type": "markdown",
      "metadata": {
        "colab_type": "text",
        "id": "6OgfS9J2c-2A"
      },
      "source": [
        "Dizinin tersini almak için `dizi[::-1]` kullanıyoruz. Listelerde `reverse()` fonksiyonu vardı hatırlarsanız. "
      ]
    },
    {
      "cell_type": "code",
      "metadata": {
        "colab_type": "code",
        "id": "LE73yQN0c-2A",
        "colab": {}
      },
      "source": [
        "dizim[::-1]"
      ],
      "execution_count": 0,
      "outputs": []
    },
    {
      "cell_type": "code",
      "metadata": {
        "colab_type": "code",
        "id": "bU6V1cqEc-2B",
        "colab": {}
      },
      "source": [
        "a = np.array([[1,2],[3,4]])\n",
        "b = np.array([[5,6],[7,8]])"
      ],
      "execution_count": 0,
      "outputs": []
    },
    {
      "cell_type": "markdown",
      "metadata": {
        "colab_type": "text",
        "id": "S6HdiXY-c-2C"
      },
      "source": [
        "İki diziyi **dikey** olarak art arda eklemek (_stack_) için `.vstack()` kullanırız."
      ]
    },
    {
      "cell_type": "code",
      "metadata": {
        "colab_type": "code",
        "id": "PlHsFMkyc-2C",
        "colab": {}
      },
      "source": [
        "np.vstack((a,b))"
      ],
      "execution_count": 0,
      "outputs": []
    },
    {
      "cell_type": "markdown",
      "metadata": {
        "colab_type": "text",
        "id": "I5U4bdm8c-2D"
      },
      "source": [
        "İki diziyi **yatay** olarak art arda eklemek (_stack_) için ise `.hstack()` kullanırız."
      ]
    },
    {
      "cell_type": "code",
      "metadata": {
        "colab_type": "code",
        "id": "0PSfVkerc-2E",
        "colab": {}
      },
      "source": [
        "np.hstack((a,b))"
      ],
      "execution_count": 0,
      "outputs": []
    },
    {
      "cell_type": "markdown",
      "metadata": {
        "colab_type": "text",
        "id": "qN3x1ulv679o"
      },
      "source": [
        "### Dizi İndeksleme"
      ]
    },
    {
      "cell_type": "markdown",
      "metadata": {
        "colab_type": "text",
        "id": "laez-d6T679p"
      },
      "source": [
        "Numpy dizilerde indeksleme yapmak için farklı seçenekler sunmaktadır."
      ]
    },
    {
      "cell_type": "markdown",
      "metadata": {
        "colab_type": "text",
        "id": "Za0yPj1X679p"
      },
      "source": [
        "Dilimleme (Slicing): Python listelerine de dilimlenebilir. Diziler çok boyutlu olduğu için her bir boyut için dilimi belirlemek gerekmektedir."
      ]
    },
    {
      "cell_type": "code",
      "metadata": {
        "colab_type": "code",
        "id": "iI-f9hgk679q",
        "colab": {}
      },
      "source": [
        "import numpy as np\n",
        "\n",
        "# 2. dereceden (rank) boyutu (3, 4) olan dizi tanımlayalım.\n",
        "\n",
        "# [[ 1  2  3  4]\n",
        "#  [ 5  6  7  8]\n",
        "#  [ 9 10 11 12]]\n",
        "\n",
        "a = np.array([[1,2,3,4], \n",
        "              [5,6,7,8], \n",
        "              [9,10,11,12]])\n",
        "\n",
        "# Dilimleme kullanarak ilk iki satırı ve \n",
        "# 1. ve 2. sütunları içeren alt-dizi oluşturalım.\n",
        "# Alt-dizinin boyutu (2, 2) olacaktır.\n",
        "\n",
        "# [[2 3]\n",
        "#  [6 7]]\n",
        "\n",
        "b = a[:2, 1:3] # 0. ve 1. satır / 1. ve 2. sütun\n",
        "print (b)"
      ],
      "execution_count": 0,
      "outputs": []
    },
    {
      "cell_type": "code",
      "metadata": {
        "colab_type": "code",
        "id": "uKMxkcFLc-2G",
        "colab": {}
      },
      "source": [
        "a"
      ],
      "execution_count": 0,
      "outputs": []
    },
    {
      "cell_type": "markdown",
      "metadata": {
        "colab_type": "text",
        "id": "oPuQtPXN679s"
      },
      "source": [
        "**İPUCU**: Dilimi, orijinal veriden aldığımız için dilim üzerinde yaptığımız değişik orijinal veriye etki eder."
      ]
    },
    {
      "cell_type": "code",
      "metadata": {
        "colab_type": "code",
        "id": "jqcOi0P7679t",
        "colab": {}
      },
      "source": [
        "print (a[0, 1])  \n",
        "b[0, 0] = 77    # b[0, 0] ile aslında a[0, 1]'yı işaret ediyoruz\n",
        "print (a[0, 1]) "
      ],
      "execution_count": 0,
      "outputs": []
    },
    {
      "cell_type": "code",
      "metadata": {
        "colab_type": "code",
        "id": "BLWI50ET679v",
        "colab": {}
      },
      "source": [
        "# 3 x 4 boyutunda 2. dereceden bir dizi oluşturalım\n",
        "a = np.array([[1,2,3,4], [5,6,7,8], [9,10,11,12]])\n",
        "print (a)"
      ],
      "execution_count": 0,
      "outputs": []
    },
    {
      "cell_type": "markdown",
      "metadata": {
        "colab_type": "text",
        "id": "oDYU6bkIc-2J"
      },
      "source": [
        "Oluşturduğumuz dizinin ortadaki (ikinci) satırına nasıl ulaşabiliriz? Dereceler farklı olmak üzere üç farklı yöntem vardır."
      ]
    },
    {
      "cell_type": "code",
      "metadata": {
        "colab_type": "code",
        "id": "2Jyy07rc679x",
        "colab": {}
      },
      "source": [
        "satir_v1 = a[1, :]    # İkinci satırın 1. dereceden görünüşü  \n",
        "satir_v2 = a[1:2, :]  # İkinci satırın 2. dereceden görünüşü  \n",
        "satir_v3 = a[[1], :]  # İkinci satırın 2. dereceden görünüşü  \n",
        "\n",
        "print (satir_v1, satir_v1.shape) \n",
        "print (satir_v2, satir_v2.shape)\n",
        "print (satir_v3, satir_v3.shape)"
      ],
      "execution_count": 0,
      "outputs": []
    },
    {
      "cell_type": "markdown",
      "metadata": {
        "colab_type": "text",
        "id": "rC460sCNc-2K"
      },
      "source": [
        "Aynı yöntem sütunlar için de geçerlidir."
      ]
    },
    {
      "cell_type": "code",
      "metadata": {
        "colab_type": "code",
        "id": "iR1_tZNf6790",
        "colab": {}
      },
      "source": [
        "sutun_v1 = a[:, 1]\n",
        "sutun_v2 = a[:, 1:2]\n",
        "\n",
        "print (sutun_v1, sutun_v1.shape) # 1. derece\n",
        "print (sutun_v2, sutun_v2.shape) # 2. derece"
      ],
      "execution_count": 0,
      "outputs": []
    },
    {
      "cell_type": "markdown",
      "metadata": {
        "colab_type": "text",
        "id": "brwpVUMhc-2L"
      },
      "source": [
        "**İPUCU**: Yukarıdaki örnekte gördüğünüz gibi normalde dikey olan sütun dizisi 1. dereceden olduğu zaman satır ya da sütun olabilmektedir. İndekslemede problemle karşılaşmamak için tavsiyem 1. dereceden dizileri kullanmaktan mümkün olduğunca kaçınmanız."
      ]
    },
    {
      "cell_type": "markdown",
      "metadata": {
        "colab_type": "text",
        "id": "1NJFB0Sm6792"
      },
      "source": [
        "Dizilerde önce satırları sonra da sütunları indeksleyebileceğimiz gibi ayrı ayrı da indeksleme yapabiliriz."
      ]
    },
    {
      "cell_type": "code",
      "metadata": {
        "colab_type": "code",
        "id": "jEoxS9QB6792",
        "colab": {}
      },
      "source": [
        "a = np.array([[1,2], [3, 4], [5, 6]])\n",
        "\n",
        "# a[0,0], a[1,1] ve a[2,0]'ı indekslemek için  \n",
        "print (a[[0, 1, 2], [0, 1, 0]])\n",
        "\n",
        "# Ayrı ayrı indeksleme yapalım\n",
        "print (np.array([a[0, 0], a[1, 1], a[2, 0]]))"
      ],
      "execution_count": 0,
      "outputs": []
    },
    {
      "cell_type": "code",
      "metadata": {
        "colab_type": "code",
        "id": "MnRBMkEk679_",
        "colab": {}
      },
      "source": [
        "a = np.array([[1,2,3], [4,5,6], [7,8,9], [10, 11, 12]])\n",
        "print (a)"
      ],
      "execution_count": 0,
      "outputs": []
    },
    {
      "cell_type": "code",
      "metadata": {
        "colab_type": "code",
        "id": "mrx4ydsK67-A",
        "colab": {}
      },
      "source": [
        "# İndis dizisi oluşturalım\n",
        "indis = np.array([0, 2, 0, 1])\n",
        "\n",
        "# Her satırdan sırasıyla indis dizisini kullanarak değerleri seçelim \n",
        "print (a[np.arange(4), indis])  # \"[ 1  6  7 11]\""
      ],
      "execution_count": 0,
      "outputs": []
    },
    {
      "cell_type": "code",
      "metadata": {
        "colab_type": "code",
        "id": "RFRM_luOc-2N",
        "colab": {}
      },
      "source": [
        "print(a)"
      ],
      "execution_count": 0,
      "outputs": []
    },
    {
      "cell_type": "code",
      "metadata": {
        "colab_type": "code",
        "id": "O_NBDN5667-C",
        "colab": {}
      },
      "source": [
        "# İndis dizisini kullanarak elemanlara 10 ekleyelim.\n",
        "a[np.arange(4), indis] += 10\n",
        "\n",
        "print (a)"
      ],
      "execution_count": 0,
      "outputs": []
    },
    {
      "cell_type": "markdown",
      "metadata": {
        "colab_type": "text",
        "id": "EMM7fRu067-E"
      },
      "source": [
        "Boolean dizi indeksleme: Belirtilen koşulu sağlayan elemanları bulmak için Boolean dizi indeksleme kullanılır."
      ]
    },
    {
      "cell_type": "code",
      "metadata": {
        "colab_type": "code",
        "id": "rv6txP5667-E",
        "colab": {}
      },
      "source": [
        "import numpy as np\n",
        "\n",
        "a = np.array([[1,2], [3, 4], [5, 6]])\n",
        "\n",
        "print(a)\n",
        "\n",
        "ikidenBuyuk = (a > 2)  # 2'den büyük olanları seçelim\n",
        "                    # a dizisi ile aynı boyuttu yeni bir dizis oluşturur\n",
        "                    # 2'den büyük ise True, küçük ise False döndürür\n",
        "\n",
        "print (ikidenBuyuk)"
      ],
      "execution_count": 0,
      "outputs": []
    },
    {
      "cell_type": "code",
      "metadata": {
        "colab_type": "code",
        "id": "B2E9Kp8_67-H",
        "colab": {}
      },
      "source": [
        "# Boolean indeksleme kullanarak bulduğumuz değerleri yazdıralım\n",
        "print (a[ikidenBuyuk])\n",
        "\n",
        "# 2'den büyük olanları şu şekilde de bulabiliriz.\n",
        "print (a[a > 2])"
      ],
      "execution_count": 0,
      "outputs": []
    },
    {
      "cell_type": "markdown",
      "metadata": {
        "colab_type": "text",
        "id": "UheI9Iau67-K"
      },
      "source": [
        "### Numpy Veri Tipleri\n",
        "\n",
        "Numpy ile bir dizi oluşturduğunuzda veri tipi tahmin edilmeye çalışılır."
      ]
    },
    {
      "cell_type": "code",
      "metadata": {
        "colab_type": "code",
        "id": "TpRtBqkq67-L",
        "colab": {}
      },
      "source": [
        "x = np.array([1, 2])  # Veri tipini Numpy seçsin\n",
        "y = np.array([1.0, 2.0])  # Veri tipini Numpy seçsin\n",
        "z = np.array([1, 2], dtype=np.int64)  # Veri tipini BİZ belirleyelim\n",
        "\n",
        "# Veri tiplerini ekrana yazdıralım\n",
        "print (x.dtype, y.dtype, z.dtype)"
      ],
      "execution_count": 0,
      "outputs": []
    },
    {
      "cell_type": "markdown",
      "metadata": {
        "colab_type": "text",
        "id": "e5XtmK8U67-N"
      },
      "source": [
        "Diğer Numpy veri tiplerine [orijinal dokümanından](http://docs.scipy.org/doc/numpy/reference/arrays.dtypes.html) bakabilirsiniz."
      ]
    },
    {
      "cell_type": "markdown",
      "metadata": {
        "colab_type": "text",
        "id": "blV4fLzx67-N"
      },
      "source": [
        "### Dizilerde Matematiksel İşlemler"
      ]
    },
    {
      "cell_type": "code",
      "metadata": {
        "colab_type": "code",
        "id": "1f_RtAmcc-2S",
        "colab": {}
      },
      "source": [
        "x = np.array([[1,2],[3,4]], dtype=np.float64)\n",
        "y = np.array([[5,6],[7,8]], dtype=np.float64)"
      ],
      "execution_count": 0,
      "outputs": []
    },
    {
      "cell_type": "markdown",
      "metadata": {
        "colab_type": "text",
        "id": "ENt83Yu667-O"
      },
      "source": [
        "Dizilerde temel matematiksel işlemler şu şekilde yapılır."
      ]
    },
    {
      "cell_type": "markdown",
      "metadata": {
        "colab_type": "text",
        "id": "3odNtWdmc-2T"
      },
      "source": [
        "#### Toplama"
      ]
    },
    {
      "cell_type": "code",
      "metadata": {
        "colab_type": "code",
        "id": "VaJIIyJB67-O",
        "colab": {}
      },
      "source": [
        "print (x + y)\n",
        "print (np.add(x, y))"
      ],
      "execution_count": 0,
      "outputs": []
    },
    {
      "cell_type": "markdown",
      "metadata": {
        "colab_type": "text",
        "id": "0X9Z5Vg8c-2U"
      },
      "source": [
        "**İPUCU**: `np.add()` ile `x + y` aynı sonucu verir!"
      ]
    },
    {
      "cell_type": "markdown",
      "metadata": {
        "colab_type": "text",
        "id": "IIox2XD0c-2U"
      },
      "source": [
        "#### Çıkarma"
      ]
    },
    {
      "cell_type": "code",
      "metadata": {
        "colab_type": "code",
        "id": "RLvyzh7M67-R",
        "colab": {}
      },
      "source": [
        "print (x - y)\n",
        "print (np.subtract(x, y))"
      ],
      "execution_count": 0,
      "outputs": []
    },
    {
      "cell_type": "markdown",
      "metadata": {
        "colab_type": "text",
        "id": "IOdmkImic-2V"
      },
      "source": [
        "**İPUCU**: `np.subtract()` ile `x - y` aynı sonucu verir!"
      ]
    },
    {
      "cell_type": "markdown",
      "metadata": {
        "colab_type": "text",
        "id": "iU3JQSZUc-2V"
      },
      "source": [
        "#### Çarpma"
      ]
    },
    {
      "cell_type": "code",
      "metadata": {
        "colab_type": "code",
        "id": "thMJ8lUH67-U",
        "colab": {}
      },
      "source": [
        "print (x * y)\n",
        "print (np.multiply(x, y))"
      ],
      "execution_count": 0,
      "outputs": []
    },
    {
      "cell_type": "markdown",
      "metadata": {
        "colab_type": "text",
        "id": "oDgD1mv5c-2W"
      },
      "source": [
        "**İPUCU**: `np.multiply()` ile `x * y` aynı sonucu verir!"
      ]
    },
    {
      "cell_type": "markdown",
      "metadata": {
        "colab_type": "text",
        "id": "tXA82gMH67-a"
      },
      "source": [
        "**İPUCU**: Her bir matris elemanının, diğer matriste o elemanın konumunda bulunan elemanla çarpılmasını istiyorsak `*` kullanırız. Matris çarpımı yapmak istiyorsak `dot` kullanmak gerekiyor."
      ]
    },
    {
      "cell_type": "markdown",
      "metadata": {
        "colab_type": "text",
        "id": "X30JBPmNc-2X"
      },
      "source": [
        "#### Bölme"
      ]
    },
    {
      "cell_type": "code",
      "metadata": {
        "colab_type": "code",
        "id": "yVaF1spU67-V",
        "colab": {}
      },
      "source": [
        "print (x / y)\n",
        "print (np.divide(x, y))"
      ],
      "execution_count": 0,
      "outputs": []
    },
    {
      "cell_type": "markdown",
      "metadata": {
        "colab_type": "text",
        "id": "k2n34dOgc-2Y"
      },
      "source": [
        "**İPUCU**: `np.divide()` ile `x / y` aynı sonucu verir!"
      ]
    },
    {
      "cell_type": "markdown",
      "metadata": {
        "colab_type": "text",
        "id": "d7sfCYUfc-2Y"
      },
      "source": [
        "#### Kök Alma"
      ]
    },
    {
      "cell_type": "code",
      "metadata": {
        "colab_type": "code",
        "id": "z30SOixk67-Y",
        "colab": {}
      },
      "source": [
        "print (np.sqrt(x))"
      ],
      "execution_count": 0,
      "outputs": []
    },
    {
      "cell_type": "markdown",
      "metadata": {
        "colab_type": "text",
        "id": "hAU3XwJvc-2Z"
      },
      "source": [
        "#### Kare Alma"
      ]
    },
    {
      "cell_type": "code",
      "metadata": {
        "colab_type": "code",
        "id": "3D44IutUc-2Z",
        "colab": {}
      },
      "source": [
        "print (np.square(x))"
      ],
      "execution_count": 0,
      "outputs": []
    },
    {
      "cell_type": "markdown",
      "metadata": {
        "colab_type": "text",
        "id": "U4bqSlt6c-2a"
      },
      "source": [
        "#### $ e^x $ 'i Bulmak"
      ]
    },
    {
      "cell_type": "code",
      "metadata": {
        "colab_type": "code",
        "id": "2M6vd6h9c-2a",
        "colab": {}
      },
      "source": [
        "print(np.exp(a))"
      ],
      "execution_count": 0,
      "outputs": []
    },
    {
      "cell_type": "markdown",
      "metadata": {
        "colab_type": "text",
        "id": "RXn-mGI4c-2b"
      },
      "source": [
        "#### Matris Çarpımı (Vektörel Çarpım)\n",
        "\n",
        "Öncelikle matrislerde çarpım işleminin nasıl yapıldığını bilmiyorsanız ya da unuttuysanız [şu videoyu](https://www.youtube.com/watch?v=8gDh7MO7yo8) izlemenizi tavsiye ederim."
      ]
    },
    {
      "cell_type": "code",
      "metadata": {
        "colab_type": "code",
        "id": "kzhj16Q-67-a",
        "colab": {}
      },
      "source": [
        "x = np.array([[1, 2],[3, 4]])\n",
        "y = np.array([[5, 6],[7, 8]])\n",
        "\n",
        "v = np.array([9, 10])\n",
        "w = np.array([11, 12])"
      ],
      "execution_count": 0,
      "outputs": []
    },
    {
      "cell_type": "code",
      "metadata": {
        "colab_type": "code",
        "id": "SRXF-LE2c-2c",
        "colab": {}
      },
      "source": [
        "# v ve w vektörlerini çarpmak için\n",
        "print (v.dot(w))\n",
        "print (np.dot(v, w))"
      ],
      "execution_count": 0,
      "outputs": []
    },
    {
      "cell_type": "code",
      "metadata": {
        "colab_type": "code",
        "id": "pvI6z2OV67-c",
        "colab": {}
      },
      "source": [
        "# x matrisi ile v vektörünü çarpmak için\n",
        "print (x.dot(v))\n",
        "print (np.dot(x, v))"
      ],
      "execution_count": 0,
      "outputs": []
    },
    {
      "cell_type": "code",
      "metadata": {
        "colab_type": "code",
        "id": "EF-vZJsW67-f",
        "colab": {}
      },
      "source": [
        "# x ve y matrislerini çarpmak için\n",
        "print (x.dot(y))\n",
        "print (np.dot(x, y))"
      ],
      "execution_count": 0,
      "outputs": []
    },
    {
      "cell_type": "markdown",
      "metadata": {
        "colab_type": "text",
        "id": "pRi61xvoc-2e"
      },
      "source": [
        "#### Matris Elemanlarını Toplama "
      ]
    },
    {
      "cell_type": "markdown",
      "metadata": {
        "colab_type": "text",
        "id": "6CcY5LPt67-h"
      },
      "source": [
        "Numpy'da yer alan `np.sum()` ile belirli bir eksende toplama işlemleri gerçekleştirebiliriz."
      ]
    },
    {
      "cell_type": "code",
      "metadata": {
        "colab_type": "code",
        "id": "fgE8AwzO67-h",
        "colab": {}
      },
      "source": [
        "x = np.array([[1,2],[3,4]])\n",
        "\n",
        "print (np.sum(x))          # Tüm matris elemanlarının toplamını ekrana yazdırır.\n",
        "print (np.sum(x, axis=0))  # Sütun toplamlarını ekrana yazdırır\n",
        "print (np.sum(x, axis=1))  # Satır toplamlarını ekrana yazdırır"
      ],
      "execution_count": 0,
      "outputs": []
    },
    {
      "cell_type": "markdown",
      "metadata": {
        "colab_type": "text",
        "id": "oWyS3TTP67-j"
      },
      "source": [
        "Tüm matematiksel işlemlere [dokümandan](http://docs.scipy.org/doc/numpy/reference/routines.math.html) ulaşabilirsiniz."
      ]
    },
    {
      "cell_type": "markdown",
      "metadata": {
        "colab_type": "text",
        "id": "4AWCR6F7c-2f"
      },
      "source": [
        "#### Matris Transpozu Alma\n",
        "\n",
        "Matris transpozunun nasıl alındığını merak ediyorsanız [şu videoyu](https://www.youtube.com/watch?v=0sc8y60Jq04) izlemenizi tavsiye ediyorum. Transpoz almak için `.T` eklemeniz yeterli olacaktır."
      ]
    },
    {
      "cell_type": "code",
      "metadata": {
        "colab_type": "code",
        "id": "Yp5H9-5D67-k",
        "colab": {}
      },
      "source": [
        "print (x)\n",
        "print (x.T)"
      ],
      "execution_count": 0,
      "outputs": []
    },
    {
      "cell_type": "code",
      "metadata": {
        "colab_type": "code",
        "id": "VMpZxuod67-m",
        "colab": {}
      },
      "source": [
        "v = np.array([[1,2,3]])\n",
        "print (v) \n",
        "print (v.T)"
      ],
      "execution_count": 0,
      "outputs": []
    },
    {
      "cell_type": "markdown",
      "metadata": {
        "colab_type": "text",
        "id": "drTuqVch67-o"
      },
      "source": [
        "### Broadcasting"
      ]
    },
    {
      "cell_type": "markdown",
      "metadata": {
        "colab_type": "text",
        "id": "Leix550M67-o"
      },
      "source": [
        "Numpy'ın en önemli özelliklerinden bir tanesi de `broadcasting`dir. Bu işlem, küçük boyutlu bir dizi ile büyük boyutlu bir dizi arasında işlem yapılacağı zaman kolaylık sağlamaktadır. Örneğin büyük bir matrisin her bir satırına sabit sayılardan oluşan bir vektör eklemek isteyelim."
      ]
    },
    {
      "cell_type": "code",
      "metadata": {
        "colab_type": "code",
        "id": "vPARS7kr67-o",
        "colab": {}
      },
      "source": [
        "# v vektörünü x matrisinin her bir satırına eklemek isteyelim\n",
        "# sonuçları y matrisinde tutalım\n",
        "\n",
        "x = np.array([[1,2,3], [4,5,6], [7,8,9], [10, 11, 12]])\n",
        "v = np.array([1, 0, 1])\n",
        "y = np.empty_like(x)   # x ile aynı boyuta sahip bir matris oluşturalım\n",
        "\n",
        "print(x) # x matrisini ekrana yazdıralım"
      ],
      "execution_count": 0,
      "outputs": []
    },
    {
      "cell_type": "code",
      "metadata": {
        "colab_type": "code",
        "id": "6KAYG-ckc-2i",
        "colab": {}
      },
      "source": [
        "# v vektörünü x matrisinin her bir satırına for döngüsü kullanarak ekleyelim\n",
        "for i in range(4):\n",
        "    y[i, :] = x[i, :] + v\n",
        "\n",
        "print (y)"
      ],
      "execution_count": 0,
      "outputs": []
    },
    {
      "cell_type": "markdown",
      "metadata": {
        "colab_type": "text",
        "id": "1iLogC_i67-r"
      },
      "source": [
        "Bu işlemde herhangi bir sorun görünmüyor. Fakat `x` matrisi çok büyük olursa (örneğin bir görüntü) for döngüsü kullanarak bu işlemi yapmamız çok uzun sürer.   \n",
        "\n",
        "Her bir satırında `v` vektörünün olduğu `vv` adında yeni bir matris oluşturup, bunu `x` matrisi ile toplarsak aynı işlemi yapmış olur muyuz? Deneyelim:"
      ]
    },
    {
      "cell_type": "markdown",
      "metadata": {
        "colab_type": "text",
        "id": "O6GRcwEXc-2j"
      },
      "source": [
        "Bir matrise tekrarlayan değerler atamak için [`np.tile`](https://docs.scipy.org/doc/numpy/reference/generated/numpy.tile.html) fonksiyonunu kullanabiliriz."
      ]
    },
    {
      "cell_type": "code",
      "metadata": {
        "colab_type": "code",
        "id": "Wp1hIZSK67-r",
        "colab": {}
      },
      "source": [
        "vv = np.tile(v, (4, 1))  # 4 satırda 1'er kere v vektörünü kullanacağız.\n",
        "\n",
        "print (vv)"
      ],
      "execution_count": 0,
      "outputs": []
    },
    {
      "cell_type": "code",
      "metadata": {
        "colab_type": "code",
        "id": "4u5c3AmL67-t",
        "colab": {}
      },
      "source": [
        "y = x + vv  # x vv matrislerini toplayalım\n",
        "\n",
        "print (y)"
      ],
      "execution_count": 0,
      "outputs": []
    },
    {
      "cell_type": "markdown",
      "metadata": {
        "colab_type": "text",
        "id": "VUC63_bi67-v"
      },
      "source": [
        "Evet aynı sonucu bulduk yine. Numpy `broadcasting` ile bu şekilde kopya oluşturmadan bu işlemi yapabiliriz."
      ]
    },
    {
      "cell_type": "code",
      "metadata": {
        "colab_type": "code",
        "id": "LdOYpXWH67-v",
        "colab": {}
      },
      "source": [
        "import numpy as np\n",
        "\n",
        "# v vektörünü x matrisinin her bir satırına eklemek isteyelim\n",
        "# sonuçları y matrisinde tutalım\n",
        "\n",
        "x = np.array([[1,2,3], [4,5,6], [7,8,9], [10, 11, 12]])\n",
        "v = np.array([1, 0, 1])\n",
        "y = (x + v)  # x matrisinin her satırına v vektörünü broadcasting kullanarak ekleyelim\n",
        "\n",
        "print (y)"
      ],
      "execution_count": 0,
      "outputs": []
    },
    {
      "cell_type": "markdown",
      "metadata": {
        "colab_type": "text",
        "id": "bscns3jP67-y"
      },
      "source": [
        "`x`'in boyutu `(4, 3)` ve `v`'nin boyutu `(3,)` olmasına rağmen `y = x + v` satırı çalışmaktadır.\n",
        "\n",
        "Daha fazla `broadcasting` örneği:"
      ]
    },
    {
      "cell_type": "code",
      "metadata": {
        "colab_type": "code",
        "id": "OqbjW15L67-z",
        "colab": {}
      },
      "source": [
        "# v ile w'nin vektörel çarpımını hesaplayalım\n",
        "\n",
        "v = np.array([1,2,3])  # v'nin boyutu (3,)\n",
        "w = np.array([4,5])    # w'nin boyutu (2,)\n",
        "\n",
        "# Vektörel çarpımı yapmak için v'yi sütun vektörü haline getirmemiz gerekir\n",
        "# Sütun vektörü yaptıktan sonra broadcasting uygulayabiliriz\n",
        "# Çıktı matrisinin boyutu (3,2) olacak\n",
        "\n",
        "print (np.reshape(v, (3, 1)) * w)"
      ],
      "execution_count": 0,
      "outputs": []
    },
    {
      "cell_type": "code",
      "metadata": {
        "colab_type": "code",
        "id": "RXudDJUa67-0",
        "colab": {}
      },
      "source": [
        "# Matrisin her satırına vektör ekleyelim\n",
        "x = np.array([[1,2,3], [4,5,6]])\n",
        "# x'in boyutu (2, 3) ve v'nin boyutu (3,) \n",
        "# (2, 3) boyutunda bir matris verecek şekilde broadcasting yapalım\n",
        "\n",
        "print (x + v)"
      ],
      "execution_count": 0,
      "outputs": []
    },
    {
      "cell_type": "code",
      "metadata": {
        "colab_type": "code",
        "id": "nIfaU5Bh67-2",
        "colab": {}
      },
      "source": [
        "# Matrisin her sütununa vektör ekleyelim\n",
        "# x'in boyutu (2, 3) ve w'nin boyutu (2,).\n",
        "# Transpozunu alırsak x'in yeni boyutu (3, 2) olur\n",
        "# (3, 2) ile (2,) broadcasting işlemi sonucunda (3, 2) boyutlu matris oluşturur.\n",
        "# Sonucun transpozunu alırız.\n",
        "\n",
        "sonuc = (x.T + w).T\n",
        "\n",
        "print (sonuc)\n",
        "print(sonuc.shape)"
      ],
      "execution_count": 0,
      "outputs": []
    },
    {
      "cell_type": "code",
      "metadata": {
        "colab_type": "code",
        "id": "joch7WTf67-4",
        "colab": {}
      },
      "source": [
        "# Bir diğer yöntem de w'yi sütun vektörü haline getirmektir.\n",
        "\n",
        "sonuc = x + np.reshape(w, (2, 1)) \n",
        "\n",
        "print (sonuc)"
      ],
      "execution_count": 0,
      "outputs": []
    },
    {
      "cell_type": "markdown",
      "metadata": {
        "colab_type": "text",
        "id": "vu34iyp8c-2q"
      },
      "source": [
        "(2, 3) boyutundaki `x` matrisi sabit bir sayıyla (örneğin 2) çarparsak yine (2, 3) boyutunda bir matris elde ederiz. Sabit sayıların boyutu () olarak tanımlıdır."
      ]
    },
    {
      "cell_type": "code",
      "metadata": {
        "colab_type": "code",
        "id": "U5W1SnSz67-5",
        "colab": {}
      },
      "source": [
        "print (x * 2)"
      ],
      "execution_count": 0,
      "outputs": []
    },
    {
      "cell_type": "markdown",
      "metadata": {
        "colab_type": "text",
        "id": "fWif8jh967-7"
      },
      "source": [
        "`broadcasting`, `for` döngüsünden kurtardığı gibi kodun daha hızlı çalışmasını sağlar. Daha fazla bilgi için [dokümana](https://docs.scipy.org/doc/numpy/user/basics.broadcasting.html) bakabilirsiniz."
      ]
    },
    {
      "cell_type": "markdown",
      "metadata": {
        "colab_type": "text",
        "id": "0C-lKRNi67-7"
      },
      "source": [
        "Numpy'la ilgili daha fazla bilgi için [dokümanına](http://docs.scipy.org/doc/numpy/reference/) bakabilirsiniz."
      ]
    },
    {
      "cell_type": "markdown",
      "metadata": {
        "colab_type": "text",
        "id": "bp-YMynSc-2r"
      },
      "source": [
        "## Pandas"
      ]
    },
    {
      "cell_type": "code",
      "metadata": {
        "colab_type": "code",
        "id": "G88ulWmfc-2s",
        "colab": {}
      },
      "source": [
        "import pandas as pd"
      ],
      "execution_count": 0,
      "outputs": []
    },
    {
      "cell_type": "markdown",
      "metadata": {
        "colab_type": "text",
        "id": "HonrEYw9c-2s"
      },
      "source": [
        "Bir Python sözlüğünde kalori cetveli tanımlayalım."
      ]
    },
    {
      "cell_type": "code",
      "metadata": {
        "colab_type": "code",
        "id": "9H1qe_Ehc-2s",
        "colab": {}
      },
      "source": [
        "KALORI_CETVELI = {\"YIYECEK\": ['BAL','CEVIZ','NOHUT', 'SUCUK', 'BIFTEK', 'TAVUK'],\n",
        "                  \"MIKTAR\": [5,100,5,24,100,100],\n",
        "                  \"KALORI\": [15,651,360,108,156,215]}"
      ],
      "execution_count": 0,
      "outputs": []
    },
    {
      "cell_type": "markdown",
      "metadata": {
        "colab_type": "text",
        "id": "LIhvZKbac-2t"
      },
      "source": [
        "Sözlüğü Pandas `DataFrame`'ine çevirelim."
      ]
    },
    {
      "cell_type": "code",
      "metadata": {
        "colab_type": "code",
        "id": "hHrt9WCmc-2t",
        "colab": {}
      },
      "source": [
        "KALORI_CETVELI_DF = pd.DataFrame(KALORI_CETVELI)\n",
        "\n",
        "KALORI_CETVELI_DF"
      ],
      "execution_count": 0,
      "outputs": []
    },
    {
      "cell_type": "markdown",
      "metadata": {
        "colab_type": "text",
        "id": "lfjI2fguc-2u"
      },
      "source": [
        "İlk 5 değeri görelim."
      ]
    },
    {
      "cell_type": "code",
      "metadata": {
        "colab_type": "code",
        "id": "vx7rROEBc-2u",
        "colab": {}
      },
      "source": [
        "KALORI_CETVELI_DF.head()"
      ],
      "execution_count": 0,
      "outputs": []
    },
    {
      "cell_type": "markdown",
      "metadata": {
        "colab_type": "text",
        "id": "NBJLBGgvc-2v"
      },
      "source": [
        "İlk 3 değeri görelim."
      ]
    },
    {
      "cell_type": "code",
      "metadata": {
        "colab_type": "code",
        "id": "4JhYwt0Kc-2v",
        "colab": {}
      },
      "source": [
        "KALORI_CETVELI_DF.head(3)"
      ],
      "execution_count": 0,
      "outputs": []
    },
    {
      "cell_type": "markdown",
      "metadata": {
        "colab_type": "text",
        "id": "wMfdAru8c-2x"
      },
      "source": [
        "Son 3 değeri görelim."
      ]
    },
    {
      "cell_type": "code",
      "metadata": {
        "colab_type": "code",
        "id": "Cjc09LJMc-2x",
        "colab": {}
      },
      "source": [
        "KALORI_CETVELI_DF.tail(3)"
      ],
      "execution_count": 0,
      "outputs": []
    },
    {
      "cell_type": "markdown",
      "metadata": {
        "colab_type": "text",
        "id": "mxO62OL9c-2y"
      },
      "source": [
        "Aynı zamanda özniteliklerimiz olan sütun adlarını görelim."
      ]
    },
    {
      "cell_type": "code",
      "metadata": {
        "colab_type": "code",
        "id": "vCneO8kwc-2y",
        "colab": {}
      },
      "source": [
        "KALORI_CETVELI_DF.columns"
      ],
      "execution_count": 0,
      "outputs": []
    },
    {
      "cell_type": "markdown",
      "metadata": {
        "colab_type": "text",
        "id": "TFxXywIkc-2z"
      },
      "source": [
        "Temel bilgileri görelim."
      ]
    },
    {
      "cell_type": "code",
      "metadata": {
        "colab_type": "code",
        "id": "lpdMavPEc-2z",
        "colab": {}
      },
      "source": [
        "KALORI_CETVELI_DF.info()"
      ],
      "execution_count": 0,
      "outputs": []
    },
    {
      "cell_type": "markdown",
      "metadata": {
        "colab_type": "text",
        "id": "_MVUKZ41c-20"
      },
      "source": [
        "İstatistiksel bazı bilgileri görelim"
      ]
    },
    {
      "cell_type": "code",
      "metadata": {
        "colab_type": "code",
        "id": "1Fu2Kc4Mc-20",
        "colab": {}
      },
      "source": [
        "KALORI_CETVELI_DF.describe()"
      ],
      "execution_count": 0,
      "outputs": []
    },
    {
      "cell_type": "markdown",
      "metadata": {
        "colab_type": "text",
        "id": "jRBgjqiVc-21"
      },
      "source": [
        "Veri tiplerini görelim."
      ]
    },
    {
      "cell_type": "code",
      "metadata": {
        "colab_type": "code",
        "id": "69hRWNiQc-21",
        "colab": {}
      },
      "source": [
        "KALORI_CETVELI_DF.dtypes"
      ],
      "execution_count": 0,
      "outputs": []
    },
    {
      "cell_type": "markdown",
      "metadata": {
        "colab_type": "text",
        "id": "UOV-8xkDc-22"
      },
      "source": [
        "`YIYECEK` başlıklı sütunda yer alan değerleri görelim."
      ]
    },
    {
      "cell_type": "code",
      "metadata": {
        "colab_type": "code",
        "id": "24Q5yqkoc-22",
        "colab": {}
      },
      "source": [
        "KALORI_CETVELI_DF['YIYECEK']"
      ],
      "execution_count": 0,
      "outputs": []
    },
    {
      "cell_type": "markdown",
      "metadata": {
        "colab_type": "text",
        "id": "frkMuXF2c-23"
      },
      "source": [
        "`YIYECEK` başlıklı sütunda yer alan değerleri bu şekilde de görebiliriz."
      ]
    },
    {
      "cell_type": "code",
      "metadata": {
        "colab_type": "code",
        "id": "rJMlf97Nc-23",
        "colab": {}
      },
      "source": [
        "KALORI_CETVELI_DF.YIYECEK"
      ],
      "execution_count": 0,
      "outputs": []
    },
    {
      "cell_type": "markdown",
      "metadata": {
        "colab_type": "text",
        "id": "XvyV-xtoc-24"
      },
      "source": [
        "`YIYECEK` ve `KALORI` sütunlarının tüm satırlarını görelim."
      ]
    },
    {
      "cell_type": "code",
      "metadata": {
        "colab_type": "code",
        "id": "noSlY4XAc-24",
        "colab": {}
      },
      "source": [
        "KALORI_CETVELI_DF.loc[:,['YIYECEK', 'KALORI']]"
      ],
      "execution_count": 0,
      "outputs": []
    },
    {
      "cell_type": "markdown",
      "metadata": {
        "colab_type": "text",
        "id": "jIGcdHsuc-25"
      },
      "source": [
        "`YIYECEK` ve `KALORI` sütunlarının ilk üç satırını görelim."
      ]
    },
    {
      "cell_type": "code",
      "metadata": {
        "colab_type": "code",
        "id": "WeS3wDgQc-25",
        "colab": {}
      },
      "source": [
        "KALORI_CETVELI_DF.loc[:2,['YIYECEK', 'KALORI']]"
      ],
      "execution_count": 0,
      "outputs": []
    },
    {
      "cell_type": "markdown",
      "metadata": {
        "colab_type": "text",
        "id": "B0wUVVKec-26"
      },
      "source": [
        "`KALORI`değeri 200'den fazla olanları görelim"
      ]
    },
    {
      "cell_type": "code",
      "metadata": {
        "colab_type": "code",
        "id": "iaGaAl8Rc-26",
        "colab": {}
      },
      "source": [
        "KALORI_CETVELI_DF[KALORI_CETVELI_DF.KALORI>200]"
      ],
      "execution_count": 0,
      "outputs": []
    },
    {
      "cell_type": "markdown",
      "metadata": {
        "colab_type": "text",
        "id": "r8ae3sGoc-27"
      },
      "source": [
        "`KALORI`si 200'den ve `MIKTAR`ı 50'den fazla olanlar için iki adet filtre oluşturalım."
      ]
    },
    {
      "cell_type": "code",
      "metadata": {
        "colab_type": "code",
        "id": "xHb8BHgZc-28",
        "colab": {}
      },
      "source": [
        "filtre1 = KALORI_CETVELI_DF.KALORI > 200\n",
        "filtre2 = KALORI_CETVELI_DF.MIKTAR > 50 "
      ],
      "execution_count": 0,
      "outputs": []
    },
    {
      "cell_type": "markdown",
      "metadata": {
        "colab_type": "text",
        "id": "Hu9GxzXHc-28"
      },
      "source": [
        "Filtreleri uygulayalım."
      ]
    },
    {
      "cell_type": "code",
      "metadata": {
        "colab_type": "code",
        "id": "NywRf7Prc-29",
        "colab": {}
      },
      "source": [
        "KALORI_CETVELI_DF[filtre1 & filtre2]"
      ],
      "execution_count": 0,
      "outputs": []
    },
    {
      "cell_type": "markdown",
      "metadata": {
        "colab_type": "text",
        "id": "lHyzA_u2c-29"
      },
      "source": [
        "Kalori ortalamasını görelim."
      ]
    },
    {
      "cell_type": "code",
      "metadata": {
        "colab_type": "code",
        "id": "e621gpZtc-2-",
        "colab": {}
      },
      "source": [
        "KALORI_CETVELI_DF.KALORI.mean()"
      ],
      "execution_count": 0,
      "outputs": []
    },
    {
      "cell_type": "markdown",
      "metadata": {
        "colab_type": "text",
        "id": "HQqkjZW0c-2-"
      },
      "source": [
        "Ortalamayı Numpy'da yer alan `np.mean()` ile de bulabiliriz."
      ]
    },
    {
      "cell_type": "code",
      "metadata": {
        "colab_type": "code",
        "id": "8ei_Ys8dc-2_",
        "colab": {}
      },
      "source": [
        "np.mean(KALORI_CETVELI_DF.KALORI)"
      ],
      "execution_count": 0,
      "outputs": []
    },
    {
      "cell_type": "markdown",
      "metadata": {
        "colab_type": "text",
        "id": "IziUbj_cc-2_"
      },
      "source": [
        "`KALORI_SEVIYESI` adında yeni bir sütun açalım ve yiyeceğin kalorisi 200'den küçük ise `NORMAL` diğer durumlarda `YUKSEK` olacak şeklinde değerler atayalım."
      ]
    },
    {
      "cell_type": "code",
      "metadata": {
        "colab_type": "code",
        "id": "cX2O_1irc-3A",
        "colab": {}
      },
      "source": [
        "KALORI_CETVELI_DF['KALORI_SEVIYESI'] = ['NORMAL' if kalori < 200 else 'YUKSEK' for kalori in KALORI_CETVELI_DF.KALORI]\n",
        "KALORI_CETVELI_DF"
      ],
      "execution_count": 0,
      "outputs": []
    },
    {
      "cell_type": "markdown",
      "metadata": {
        "colab_type": "text",
        "id": "q2lQLkjtc-3B"
      },
      "source": [
        "Sütun isimlerini **küçük harflerle** değiştirelim."
      ]
    },
    {
      "cell_type": "code",
      "metadata": {
        "colab_type": "code",
        "id": "6nA3tUiZc-3B",
        "colab": {}
      },
      "source": [
        "KALORI_CETVELI_DF.columns = [isim.lower() for isim in KALORI_CETVELI_DF.columns] \n",
        "KALORI_CETVELI_DF"
      ],
      "execution_count": 0,
      "outputs": []
    },
    {
      "cell_type": "markdown",
      "metadata": {
        "colab_type": "text",
        "id": "W7_sDFdWc-3C"
      },
      "source": [
        "`kalori_seviyesi` sütununu **silelim**."
      ]
    },
    {
      "cell_type": "code",
      "metadata": {
        "colab_type": "code",
        "id": "_Js7-ndpc-3C",
        "colab": {}
      },
      "source": [
        "KALORI_CETVELI_DF.drop(['kalori_seviyesi'], axis = 1, inplace = True)\n",
        "KALORI_CETVELI_DF"
      ],
      "execution_count": 0,
      "outputs": []
    },
    {
      "cell_type": "markdown",
      "metadata": {
        "colab_type": "text",
        "id": "NGzzzahfc-3D"
      },
      "source": [
        "`KALORI_CETVELI_DF` ile `KALORI_CETVELI_DF` alt alta birleştirelim."
      ]
    },
    {
      "cell_type": "code",
      "metadata": {
        "colab_type": "code",
        "id": "lwMAJptEc-3D",
        "colab": {}
      },
      "source": [
        "cift = pd.concat([KALORI_CETVELI_DF,KALORI_CETVELI_DF], axis = 0)\n",
        "cift"
      ],
      "execution_count": 0,
      "outputs": []
    },
    {
      "cell_type": "markdown",
      "metadata": {
        "colab_type": "text",
        "id": "8GGvQXgDc-3E"
      },
      "source": [
        "index değerlerini sıfırlamak için `reset_index()` kullanabiliriz."
      ]
    },
    {
      "cell_type": "code",
      "metadata": {
        "colab_type": "code",
        "id": "3waOARVTc-3E",
        "colab": {}
      },
      "source": [
        "cift.reset_index(drop = True, inplace = True)\n",
        "cift"
      ],
      "execution_count": 0,
      "outputs": []
    },
    {
      "cell_type": "markdown",
      "metadata": {
        "colab_type": "text",
        "id": "t-q1NKp0c-3F"
      },
      "source": [
        "Miktar birimimiz gram idi. Bunu kilograma çevirelim."
      ]
    },
    {
      "cell_type": "code",
      "metadata": {
        "colab_type": "code",
        "id": "CNsxVaJoc-3F",
        "colab": {}
      },
      "source": [
        "cift[\"miktar\"] = [miktar / 1000 for miktar in cift.miktar]\n",
        "cift"
      ],
      "execution_count": 0,
      "outputs": []
    },
    {
      "cell_type": "markdown",
      "metadata": {
        "colab_type": "text",
        "id": "llbeDPX2c-3G"
      },
      "source": [
        "Gramdan kilograma çeviren bir fonksiyon tanımlayalım"
      ]
    },
    {
      "cell_type": "code",
      "metadata": {
        "colab_type": "code",
        "id": "-T_Pc0bwc-3G",
        "colab": {}
      },
      "source": [
        "def kg2gr(x):\n",
        "    return x * 1000"
      ],
      "execution_count": 0,
      "outputs": []
    },
    {
      "cell_type": "markdown",
      "metadata": {
        "colab_type": "text",
        "id": "da2YGGKkc-3H"
      },
      "source": [
        "Miktar sütununa bu fonksiyonu uygulayarak tekrar miktarın birimini gram olarak değiştirelim."
      ]
    },
    {
      "cell_type": "code",
      "metadata": {
        "colab_type": "code",
        "id": "4Dxefr_jc-3H",
        "colab": {}
      },
      "source": [
        "cift.miktar = cift.miktar.apply(kg2gr)\n",
        "cift"
      ],
      "execution_count": 0,
      "outputs": []
    },
    {
      "cell_type": "markdown",
      "metadata": {
        "colab_type": "text",
        "id": "zncwdQEL67-7"
      },
      "source": [
        "## Matplotlib"
      ]
    },
    {
      "cell_type": "markdown",
      "metadata": {
        "colab_type": "text",
        "id": "fmdDbVgb67-7"
      },
      "source": [
        "Matplotlib bir çizim kütüphanesidir. Bu bölümde kütüphane içerisinde yer alan `matplotlib.pyplot` modülünü inceleyeceğiz."
      ]
    },
    {
      "cell_type": "code",
      "metadata": {
        "colab_type": "code",
        "id": "GHykUyab67-8",
        "colab": {}
      },
      "source": [
        "import matplotlib.pyplot as plt"
      ],
      "execution_count": 0,
      "outputs": []
    },
    {
      "cell_type": "markdown",
      "metadata": {
        "colab_type": "text",
        "id": "BW_9crWx67-9"
      },
      "source": [
        "### Çizdirme (Plotting)"
      ]
    },
    {
      "cell_type": "markdown",
      "metadata": {
        "colab_type": "text",
        "id": "6OWj2Lv167--"
      },
      "source": [
        "2 boyutlu verileri çizdirmek için `matplotlib.pyplot` modülünde bulunan `plot` fonksiyonu kullanılmaktadır."
      ]
    },
    {
      "cell_type": "markdown",
      "metadata": {
        "colab_type": "text",
        "id": "_xL2jpm8c-3K"
      },
      "source": [
        "#### Sinüs Fonksiyonu"
      ]
    },
    {
      "cell_type": "code",
      "metadata": {
        "colab_type": "code",
        "id": "-sWSYM4S67--",
        "colab": {}
      },
      "source": [
        "# Sinüs eğrisinde her bir noktanın x ve y koordinatlarını hesaplayalım\n",
        "x = np.arange(0, 3 * np.pi, 0.1) # 0'dan 3*pi'ye 0.1 aralıklı değerler\n",
        "y = np.sin(x) # x değerlerinden sinüs değerlerini hesaplayalım\n",
        "\n",
        "plt.plot(x, y) # ekranda gösterelim "
      ],
      "execution_count": 0,
      "outputs": []
    },
    {
      "cell_type": "code",
      "metadata": {
        "colab_type": "code",
        "id": "3UdMU6Ag67_A",
        "colab": {}
      },
      "source": [
        "y_sin = np.sin(x)\n",
        "y_cos = np.cos(x)\n",
        "\n",
        "plt.plot(x, y_sin)\n",
        "plt.plot(x, y_cos)\n",
        "plt.xlabel('x ekseni')\n",
        "plt.ylabel('y ekseni')\n",
        "plt.title('Sinüs and Kosinüs')\n",
        "plt.legend(['sinüs', 'kosinüs'])\n",
        "plt.savefig('sincos.jpg') # çizimi resim dosyası olarak kaydedelim "
      ],
      "execution_count": 0,
      "outputs": []
    },
    {
      "cell_type": "markdown",
      "metadata": {
        "colab_type": "text",
        "id": "Ykk1Ld9S67_C"
      },
      "source": [
        "### Alt Çizimler (Subplots)"
      ]
    },
    {
      "cell_type": "markdown",
      "metadata": {
        "colab_type": "text",
        "id": "01fzthYz67_C"
      },
      "source": [
        "Bir görselde birden fazla alt çizimi `subplot` fonksiyonu ile gösterebiliriz."
      ]
    },
    {
      "cell_type": "code",
      "metadata": {
        "colab_type": "code",
        "id": "QbCFDTLx67_D",
        "colab": {}
      },
      "source": [
        "# Sinüs ve Kosinüs için x ve y koorinatlarını hesaplayalım\n",
        "x = np.arange(0, 3 * np.pi, 0.1)\n",
        "y_sin = np.sin(x)\n",
        "y_cos = np.cos(x)\n",
        "\n",
        "# Yükseklik: 2 ve Genişlik = 1 olarak tanımlayalım\n",
        "# Yani en fazla 2 alt çizim gösterebiliriz.\n",
        "\n",
        "# İlk alt çizimi (Sinüs) tanımlayalım\n",
        "plt.subplot(2, 1, 1)\n",
        "plt.plot(x, y_sin)\n",
        "plt.title('Sinüs')\n",
        "\n",
        "# İkinci alt çizimi (Kosinüs) tanımlayalım\n",
        "plt.subplot(2, 1, 2)\n",
        "plt.plot(x, y_cos)\n",
        "plt.title('Kosinüs')\n",
        "\n",
        "# Alt çizimleri ekranda gösterelim\n",
        "plt.show()"
      ],
      "execution_count": 0,
      "outputs": []
    },
    {
      "cell_type": "markdown",
      "metadata": {
        "colab_type": "text",
        "id": "EqnLLCIR67_E"
      },
      "source": [
        "`subplot` fonksiyonu hakkında daha fazla bilgi için [dokümanına](http://matplotlib.org/api/pyplot_api.html#matplotlib.pyplot.subplot) göz atabilirsiniz."
      ]
    },
    {
      "cell_type": "code",
      "metadata": {
        "id": "reBAljWfz732",
        "colab_type": "code",
        "colab": {}
      },
      "source": [
        "import numpy as np\n",
        "import pandas as pd\n",
        "import matplotlib.pyplot as plt\n",
        "# Bunu da ekleyelim ki grafikler daha iyi görünsün\n",
        "%matplotlib notebook \n",
        "# yukarıda o kadar bahsettik bu notasyona uyalım bari :)\n",
        "import seaborn as sns;sns.set()\n"
      ],
      "execution_count": 0,
      "outputs": []
    },
    {
      "cell_type": "code",
      "metadata": {
        "id": "rjOABj9F0vOF",
        "colab_type": "code",
        "colab": {}
      },
      "source": [
        "sns.set(style=\"darkgrid\") \n",
        "# Diğer kullanabileceğiniz stiller {darkgrid, whitegrid, dark, white, ticks}"
      ],
      "execution_count": 0,
      "outputs": []
    },
    {
      "cell_type": "code",
      "metadata": {
        "id": "sZYiXLXz0vvp",
        "colab_type": "code",
        "colab": {}
      },
      "source": [
        ""
      ],
      "execution_count": 0,
      "outputs": []
    },
    {
      "cell_type": "code",
      "metadata": {
        "id": "s_flEJng00Nm",
        "colab_type": "code",
        "outputId": "a7324685-d89e-422b-e44f-97cda030d79b",
        "colab": {
          "base_uri": "https://localhost:8080/",
          "height": 402
        }
      },
      "source": [
        "diamonds = sns.load_dataset(\"diamonds\")\n",
        "diamonds"
      ],
      "execution_count": 0,
      "outputs": [
        {
          "output_type": "execute_result",
          "data": {
            "text/html": [
              "<div>\n",
              "<style scoped>\n",
              "    .dataframe tbody tr th:only-of-type {\n",
              "        vertical-align: middle;\n",
              "    }\n",
              "\n",
              "    .dataframe tbody tr th {\n",
              "        vertical-align: top;\n",
              "    }\n",
              "\n",
              "    .dataframe thead th {\n",
              "        text-align: right;\n",
              "    }\n",
              "</style>\n",
              "<table border=\"1\" class=\"dataframe\">\n",
              "  <thead>\n",
              "    <tr style=\"text-align: right;\">\n",
              "      <th></th>\n",
              "      <th>carat</th>\n",
              "      <th>cut</th>\n",
              "      <th>color</th>\n",
              "      <th>clarity</th>\n",
              "      <th>depth</th>\n",
              "      <th>table</th>\n",
              "      <th>price</th>\n",
              "      <th>x</th>\n",
              "      <th>y</th>\n",
              "      <th>z</th>\n",
              "    </tr>\n",
              "  </thead>\n",
              "  <tbody>\n",
              "    <tr>\n",
              "      <th>0</th>\n",
              "      <td>0.23</td>\n",
              "      <td>Ideal</td>\n",
              "      <td>E</td>\n",
              "      <td>SI2</td>\n",
              "      <td>61.5</td>\n",
              "      <td>55.0</td>\n",
              "      <td>326</td>\n",
              "      <td>3.95</td>\n",
              "      <td>3.98</td>\n",
              "      <td>2.43</td>\n",
              "    </tr>\n",
              "    <tr>\n",
              "      <th>1</th>\n",
              "      <td>0.21</td>\n",
              "      <td>Premium</td>\n",
              "      <td>E</td>\n",
              "      <td>SI1</td>\n",
              "      <td>59.8</td>\n",
              "      <td>61.0</td>\n",
              "      <td>326</td>\n",
              "      <td>3.89</td>\n",
              "      <td>3.84</td>\n",
              "      <td>2.31</td>\n",
              "    </tr>\n",
              "    <tr>\n",
              "      <th>2</th>\n",
              "      <td>0.23</td>\n",
              "      <td>Good</td>\n",
              "      <td>E</td>\n",
              "      <td>VS1</td>\n",
              "      <td>56.9</td>\n",
              "      <td>65.0</td>\n",
              "      <td>327</td>\n",
              "      <td>4.05</td>\n",
              "      <td>4.07</td>\n",
              "      <td>2.31</td>\n",
              "    </tr>\n",
              "    <tr>\n",
              "      <th>3</th>\n",
              "      <td>0.29</td>\n",
              "      <td>Premium</td>\n",
              "      <td>I</td>\n",
              "      <td>VS2</td>\n",
              "      <td>62.4</td>\n",
              "      <td>58.0</td>\n",
              "      <td>334</td>\n",
              "      <td>4.20</td>\n",
              "      <td>4.23</td>\n",
              "      <td>2.63</td>\n",
              "    </tr>\n",
              "    <tr>\n",
              "      <th>4</th>\n",
              "      <td>0.31</td>\n",
              "      <td>Good</td>\n",
              "      <td>J</td>\n",
              "      <td>SI2</td>\n",
              "      <td>63.3</td>\n",
              "      <td>58.0</td>\n",
              "      <td>335</td>\n",
              "      <td>4.34</td>\n",
              "      <td>4.35</td>\n",
              "      <td>2.75</td>\n",
              "    </tr>\n",
              "    <tr>\n",
              "      <th>...</th>\n",
              "      <td>...</td>\n",
              "      <td>...</td>\n",
              "      <td>...</td>\n",
              "      <td>...</td>\n",
              "      <td>...</td>\n",
              "      <td>...</td>\n",
              "      <td>...</td>\n",
              "      <td>...</td>\n",
              "      <td>...</td>\n",
              "      <td>...</td>\n",
              "    </tr>\n",
              "    <tr>\n",
              "      <th>53935</th>\n",
              "      <td>0.72</td>\n",
              "      <td>Ideal</td>\n",
              "      <td>D</td>\n",
              "      <td>SI1</td>\n",
              "      <td>60.8</td>\n",
              "      <td>57.0</td>\n",
              "      <td>2757</td>\n",
              "      <td>5.75</td>\n",
              "      <td>5.76</td>\n",
              "      <td>3.50</td>\n",
              "    </tr>\n",
              "    <tr>\n",
              "      <th>53936</th>\n",
              "      <td>0.72</td>\n",
              "      <td>Good</td>\n",
              "      <td>D</td>\n",
              "      <td>SI1</td>\n",
              "      <td>63.1</td>\n",
              "      <td>55.0</td>\n",
              "      <td>2757</td>\n",
              "      <td>5.69</td>\n",
              "      <td>5.75</td>\n",
              "      <td>3.61</td>\n",
              "    </tr>\n",
              "    <tr>\n",
              "      <th>53937</th>\n",
              "      <td>0.70</td>\n",
              "      <td>Very Good</td>\n",
              "      <td>D</td>\n",
              "      <td>SI1</td>\n",
              "      <td>62.8</td>\n",
              "      <td>60.0</td>\n",
              "      <td>2757</td>\n",
              "      <td>5.66</td>\n",
              "      <td>5.68</td>\n",
              "      <td>3.56</td>\n",
              "    </tr>\n",
              "    <tr>\n",
              "      <th>53938</th>\n",
              "      <td>0.86</td>\n",
              "      <td>Premium</td>\n",
              "      <td>H</td>\n",
              "      <td>SI2</td>\n",
              "      <td>61.0</td>\n",
              "      <td>58.0</td>\n",
              "      <td>2757</td>\n",
              "      <td>6.15</td>\n",
              "      <td>6.12</td>\n",
              "      <td>3.74</td>\n",
              "    </tr>\n",
              "    <tr>\n",
              "      <th>53939</th>\n",
              "      <td>0.75</td>\n",
              "      <td>Ideal</td>\n",
              "      <td>D</td>\n",
              "      <td>SI2</td>\n",
              "      <td>62.2</td>\n",
              "      <td>55.0</td>\n",
              "      <td>2757</td>\n",
              "      <td>5.83</td>\n",
              "      <td>5.87</td>\n",
              "      <td>3.64</td>\n",
              "    </tr>\n",
              "  </tbody>\n",
              "</table>\n",
              "<p>53940 rows × 10 columns</p>\n",
              "</div>"
            ],
            "text/plain": [
              "       carat        cut color clarity  depth  table  price     x     y     z\n",
              "0       0.23      Ideal     E     SI2   61.5   55.0    326  3.95  3.98  2.43\n",
              "1       0.21    Premium     E     SI1   59.8   61.0    326  3.89  3.84  2.31\n",
              "2       0.23       Good     E     VS1   56.9   65.0    327  4.05  4.07  2.31\n",
              "3       0.29    Premium     I     VS2   62.4   58.0    334  4.20  4.23  2.63\n",
              "4       0.31       Good     J     SI2   63.3   58.0    335  4.34  4.35  2.75\n",
              "...      ...        ...   ...     ...    ...    ...    ...   ...   ...   ...\n",
              "53935   0.72      Ideal     D     SI1   60.8   57.0   2757  5.75  5.76  3.50\n",
              "53936   0.72       Good     D     SI1   63.1   55.0   2757  5.69  5.75  3.61\n",
              "53937   0.70  Very Good     D     SI1   62.8   60.0   2757  5.66  5.68  3.56\n",
              "53938   0.86    Premium     H     SI2   61.0   58.0   2757  6.15  6.12  3.74\n",
              "53939   0.75      Ideal     D     SI2   62.2   55.0   2757  5.83  5.87  3.64\n",
              "\n",
              "[53940 rows x 10 columns]"
            ]
          },
          "metadata": {
            "tags": []
          },
          "execution_count": 86
        }
      ]
    },
    {
      "cell_type": "code",
      "metadata": {
        "id": "DxNi-Uw109uF",
        "colab_type": "code",
        "colab": {}
      },
      "source": [
        "diamonds.tail()"
      ],
      "execution_count": 0,
      "outputs": []
    },
    {
      "cell_type": "code",
      "metadata": {
        "id": "X5W-AOFn094X",
        "colab_type": "code",
        "colab": {}
      },
      "source": [
        "diamonds.head(10)"
      ],
      "execution_count": 0,
      "outputs": []
    },
    {
      "cell_type": "code",
      "metadata": {
        "id": "0-9O6wI91Emv",
        "colab_type": "code",
        "colab": {}
      },
      "source": [
        "diamonds.describe(include=\"all\")"
      ],
      "execution_count": 0,
      "outputs": []
    },
    {
      "cell_type": "code",
      "metadata": {
        "id": "_kInwhrx1Ej9",
        "colab_type": "code",
        "colab": {}
      },
      "source": [
        "diamonds.info()"
      ],
      "execution_count": 0,
      "outputs": []
    },
    {
      "cell_type": "code",
      "metadata": {
        "id": "Hi1axRTL1Pkm",
        "colab_type": "code",
        "colab": {}
      },
      "source": [
        "# Obje değişkenlerin neler olduklarına bakalım\n",
        "# cut, color ve clarity için değerler\n",
        "print(diamonds.cut.unique())\n",
        "print(diamonds.color.unique())\n",
        "print(diamonds.clarity.unique())"
      ],
      "execution_count": 0,
      "outputs": []
    },
    {
      "cell_type": "markdown",
      "metadata": {
        "id": "1imexuOo1dkb",
        "colab_type": "text"
      },
      "source": [
        "**relplot** (relational plot: ilişkisel grafikler)\n",
        "**relplot** dediğimiz şey aslında scatter plotun biraz yakışıklısı ve daha yeteneklisi. Yukarıda hazırladığımız veri seti üzerinde biraz denemeler yapıp öğrenelim.\n",
        "\n",
        "Örnek 1: relplot ile ikili (ve daha fazla) değişken analizi\n",
        "relplottaki ana odağımız değişkenleri ikili bir biçimde görselleştirebilmek fakat daha fazla değişkeni de iki boyutlu grafik üzerinde gözlemleyebiliriz. Ne demek istediğimi birazdan örneklerle anlatacağım."
      ]
    },
    {
      "cell_type": "code",
      "metadata": {
        "id": "z-D8P7cq1-Ww",
        "colab_type": "code",
        "colab": {}
      },
      "source": [
        "diamonds"
      ],
      "execution_count": 0,
      "outputs": []
    },
    {
      "cell_type": "code",
      "metadata": {
        "id": "w7LuKSld1Pyi",
        "colab_type": "code",
        "outputId": "bcec76b6-a96f-4698-b5ee-546b248bdb21",
        "colab": {
          "base_uri": "https://localhost:8080/",
          "height": 34
        }
      },
      "source": [
        "# # x ekseninde carat değerini y ekseninde fiyatını çizdirelim\n",
        "\n",
        "sns.scatterplot(x=\"carat\",y=\"price\",data=diamonds)"
      ],
      "execution_count": 0,
      "outputs": [
        {
          "output_type": "execute_result",
          "data": {
            "text/plain": [
              "<matplotlib.axes._subplots.AxesSubplot at 0x7fdd631757f0>"
            ]
          },
          "metadata": {
            "tags": []
          },
          "execution_count": 93
        }
      ]
    },
    {
      "cell_type": "code",
      "metadata": {
        "id": "AgEOEhuQ1P3s",
        "colab_type": "code",
        "outputId": "d43f954d-6415-42af-b2e9-73f5b1a42871",
        "colab": {
          "base_uri": "https://localhost:8080/",
          "height": 34
        }
      },
      "source": [
        "sns.relplot(x=\"carat\",y=\"price\",data=diamonds)"
      ],
      "execution_count": 0,
      "outputs": [
        {
          "output_type": "display_data",
          "data": {
            "application/javascript": [
              "/* Put everything inside the global mpl namespace */\n",
              "window.mpl = {};\n",
              "\n",
              "\n",
              "mpl.get_websocket_type = function() {\n",
              "    if (typeof(WebSocket) !== 'undefined') {\n",
              "        return WebSocket;\n",
              "    } else if (typeof(MozWebSocket) !== 'undefined') {\n",
              "        return MozWebSocket;\n",
              "    } else {\n",
              "        alert('Your browser does not have WebSocket support. ' +\n",
              "              'Please try Chrome, Safari or Firefox ≥ 6. ' +\n",
              "              'Firefox 4 and 5 are also supported but you ' +\n",
              "              'have to enable WebSockets in about:config.');\n",
              "    };\n",
              "}\n",
              "\n",
              "mpl.figure = function(figure_id, websocket, ondownload, parent_element) {\n",
              "    this.id = figure_id;\n",
              "\n",
              "    this.ws = websocket;\n",
              "\n",
              "    this.supports_binary = (this.ws.binaryType != undefined);\n",
              "\n",
              "    if (!this.supports_binary) {\n",
              "        var warnings = document.getElementById(\"mpl-warnings\");\n",
              "        if (warnings) {\n",
              "            warnings.style.display = 'block';\n",
              "            warnings.textContent = (\n",
              "                \"This browser does not support binary websocket messages. \" +\n",
              "                    \"Performance may be slow.\");\n",
              "        }\n",
              "    }\n",
              "\n",
              "    this.imageObj = new Image();\n",
              "\n",
              "    this.context = undefined;\n",
              "    this.message = undefined;\n",
              "    this.canvas = undefined;\n",
              "    this.rubberband_canvas = undefined;\n",
              "    this.rubberband_context = undefined;\n",
              "    this.format_dropdown = undefined;\n",
              "\n",
              "    this.image_mode = 'full';\n",
              "\n",
              "    this.root = $('<div/>');\n",
              "    this._root_extra_style(this.root)\n",
              "    this.root.attr('style', 'display: inline-block');\n",
              "\n",
              "    $(parent_element).append(this.root);\n",
              "\n",
              "    this._init_header(this);\n",
              "    this._init_canvas(this);\n",
              "    this._init_toolbar(this);\n",
              "\n",
              "    var fig = this;\n",
              "\n",
              "    this.waiting = false;\n",
              "\n",
              "    this.ws.onopen =  function () {\n",
              "            fig.send_message(\"supports_binary\", {value: fig.supports_binary});\n",
              "            fig.send_message(\"send_image_mode\", {});\n",
              "            if (mpl.ratio != 1) {\n",
              "                fig.send_message(\"set_dpi_ratio\", {'dpi_ratio': mpl.ratio});\n",
              "            }\n",
              "            fig.send_message(\"refresh\", {});\n",
              "        }\n",
              "\n",
              "    this.imageObj.onload = function() {\n",
              "            if (fig.image_mode == 'full') {\n",
              "                // Full images could contain transparency (where diff images\n",
              "                // almost always do), so we need to clear the canvas so that\n",
              "                // there is no ghosting.\n",
              "                fig.context.clearRect(0, 0, fig.canvas.width, fig.canvas.height);\n",
              "            }\n",
              "            fig.context.drawImage(fig.imageObj, 0, 0);\n",
              "        };\n",
              "\n",
              "    this.imageObj.onunload = function() {\n",
              "        fig.ws.close();\n",
              "    }\n",
              "\n",
              "    this.ws.onmessage = this._make_on_message_function(this);\n",
              "\n",
              "    this.ondownload = ondownload;\n",
              "}\n",
              "\n",
              "mpl.figure.prototype._init_header = function() {\n",
              "    var titlebar = $(\n",
              "        '<div class=\"ui-dialog-titlebar ui-widget-header ui-corner-all ' +\n",
              "        'ui-helper-clearfix\"/>');\n",
              "    var titletext = $(\n",
              "        '<div class=\"ui-dialog-title\" style=\"width: 100%; ' +\n",
              "        'text-align: center; padding: 3px;\"/>');\n",
              "    titlebar.append(titletext)\n",
              "    this.root.append(titlebar);\n",
              "    this.header = titletext[0];\n",
              "}\n",
              "\n",
              "\n",
              "\n",
              "mpl.figure.prototype._canvas_extra_style = function(canvas_div) {\n",
              "\n",
              "}\n",
              "\n",
              "\n",
              "mpl.figure.prototype._root_extra_style = function(canvas_div) {\n",
              "\n",
              "}\n",
              "\n",
              "mpl.figure.prototype._init_canvas = function() {\n",
              "    var fig = this;\n",
              "\n",
              "    var canvas_div = $('<div/>');\n",
              "\n",
              "    canvas_div.attr('style', 'position: relative; clear: both; outline: 0');\n",
              "\n",
              "    function canvas_keyboard_event(event) {\n",
              "        return fig.key_event(event, event['data']);\n",
              "    }\n",
              "\n",
              "    canvas_div.keydown('key_press', canvas_keyboard_event);\n",
              "    canvas_div.keyup('key_release', canvas_keyboard_event);\n",
              "    this.canvas_div = canvas_div\n",
              "    this._canvas_extra_style(canvas_div)\n",
              "    this.root.append(canvas_div);\n",
              "\n",
              "    var canvas = $('<canvas/>');\n",
              "    canvas.addClass('mpl-canvas');\n",
              "    canvas.attr('style', \"left: 0; top: 0; z-index: 0; outline: 0\")\n",
              "\n",
              "    this.canvas = canvas[0];\n",
              "    this.context = canvas[0].getContext(\"2d\");\n",
              "\n",
              "    var backingStore = this.context.backingStorePixelRatio ||\n",
              "\tthis.context.webkitBackingStorePixelRatio ||\n",
              "\tthis.context.mozBackingStorePixelRatio ||\n",
              "\tthis.context.msBackingStorePixelRatio ||\n",
              "\tthis.context.oBackingStorePixelRatio ||\n",
              "\tthis.context.backingStorePixelRatio || 1;\n",
              "\n",
              "    mpl.ratio = (window.devicePixelRatio || 1) / backingStore;\n",
              "\n",
              "    var rubberband = $('<canvas/>');\n",
              "    rubberband.attr('style', \"position: absolute; left: 0; top: 0; z-index: 1;\")\n",
              "\n",
              "    var pass_mouse_events = true;\n",
              "\n",
              "    canvas_div.resizable({\n",
              "        start: function(event, ui) {\n",
              "            pass_mouse_events = false;\n",
              "        },\n",
              "        resize: function(event, ui) {\n",
              "            fig.request_resize(ui.size.width, ui.size.height);\n",
              "        },\n",
              "        stop: function(event, ui) {\n",
              "            pass_mouse_events = true;\n",
              "            fig.request_resize(ui.size.width, ui.size.height);\n",
              "        },\n",
              "    });\n",
              "\n",
              "    function mouse_event_fn(event) {\n",
              "        if (pass_mouse_events)\n",
              "            return fig.mouse_event(event, event['data']);\n",
              "    }\n",
              "\n",
              "    rubberband.mousedown('button_press', mouse_event_fn);\n",
              "    rubberband.mouseup('button_release', mouse_event_fn);\n",
              "    // Throttle sequential mouse events to 1 every 20ms.\n",
              "    rubberband.mousemove('motion_notify', mouse_event_fn);\n",
              "\n",
              "    rubberband.mouseenter('figure_enter', mouse_event_fn);\n",
              "    rubberband.mouseleave('figure_leave', mouse_event_fn);\n",
              "\n",
              "    canvas_div.on(\"wheel\", function (event) {\n",
              "        event = event.originalEvent;\n",
              "        event['data'] = 'scroll'\n",
              "        if (event.deltaY < 0) {\n",
              "            event.step = 1;\n",
              "        } else {\n",
              "            event.step = -1;\n",
              "        }\n",
              "        mouse_event_fn(event);\n",
              "    });\n",
              "\n",
              "    canvas_div.append(canvas);\n",
              "    canvas_div.append(rubberband);\n",
              "\n",
              "    this.rubberband = rubberband;\n",
              "    this.rubberband_canvas = rubberband[0];\n",
              "    this.rubberband_context = rubberband[0].getContext(\"2d\");\n",
              "    this.rubberband_context.strokeStyle = \"#000000\";\n",
              "\n",
              "    this._resize_canvas = function(width, height) {\n",
              "        // Keep the size of the canvas, canvas container, and rubber band\n",
              "        // canvas in synch.\n",
              "        canvas_div.css('width', width)\n",
              "        canvas_div.css('height', height)\n",
              "\n",
              "        canvas.attr('width', width * mpl.ratio);\n",
              "        canvas.attr('height', height * mpl.ratio);\n",
              "        canvas.attr('style', 'width: ' + width + 'px; height: ' + height + 'px;');\n",
              "\n",
              "        rubberband.attr('width', width);\n",
              "        rubberband.attr('height', height);\n",
              "    }\n",
              "\n",
              "    // Set the figure to an initial 600x600px, this will subsequently be updated\n",
              "    // upon first draw.\n",
              "    this._resize_canvas(600, 600);\n",
              "\n",
              "    // Disable right mouse context menu.\n",
              "    $(this.rubberband_canvas).bind(\"contextmenu\",function(e){\n",
              "        return false;\n",
              "    });\n",
              "\n",
              "    function set_focus () {\n",
              "        canvas.focus();\n",
              "        canvas_div.focus();\n",
              "    }\n",
              "\n",
              "    window.setTimeout(set_focus, 100);\n",
              "}\n",
              "\n",
              "mpl.figure.prototype._init_toolbar = function() {\n",
              "    var fig = this;\n",
              "\n",
              "    var nav_element = $('<div/>');\n",
              "    nav_element.attr('style', 'width: 100%');\n",
              "    this.root.append(nav_element);\n",
              "\n",
              "    // Define a callback function for later on.\n",
              "    function toolbar_event(event) {\n",
              "        return fig.toolbar_button_onclick(event['data']);\n",
              "    }\n",
              "    function toolbar_mouse_event(event) {\n",
              "        return fig.toolbar_button_onmouseover(event['data']);\n",
              "    }\n",
              "\n",
              "    for(var toolbar_ind in mpl.toolbar_items) {\n",
              "        var name = mpl.toolbar_items[toolbar_ind][0];\n",
              "        var tooltip = mpl.toolbar_items[toolbar_ind][1];\n",
              "        var image = mpl.toolbar_items[toolbar_ind][2];\n",
              "        var method_name = mpl.toolbar_items[toolbar_ind][3];\n",
              "\n",
              "        if (!name) {\n",
              "            // put a spacer in here.\n",
              "            continue;\n",
              "        }\n",
              "        var button = $('<button/>');\n",
              "        button.addClass('ui-button ui-widget ui-state-default ui-corner-all ' +\n",
              "                        'ui-button-icon-only');\n",
              "        button.attr('role', 'button');\n",
              "        button.attr('aria-disabled', 'false');\n",
              "        button.click(method_name, toolbar_event);\n",
              "        button.mouseover(tooltip, toolbar_mouse_event);\n",
              "\n",
              "        var icon_img = $('<span/>');\n",
              "        icon_img.addClass('ui-button-icon-primary ui-icon');\n",
              "        icon_img.addClass(image);\n",
              "        icon_img.addClass('ui-corner-all');\n",
              "\n",
              "        var tooltip_span = $('<span/>');\n",
              "        tooltip_span.addClass('ui-button-text');\n",
              "        tooltip_span.html(tooltip);\n",
              "\n",
              "        button.append(icon_img);\n",
              "        button.append(tooltip_span);\n",
              "\n",
              "        nav_element.append(button);\n",
              "    }\n",
              "\n",
              "    var fmt_picker_span = $('<span/>');\n",
              "\n",
              "    var fmt_picker = $('<select/>');\n",
              "    fmt_picker.addClass('mpl-toolbar-option ui-widget ui-widget-content');\n",
              "    fmt_picker_span.append(fmt_picker);\n",
              "    nav_element.append(fmt_picker_span);\n",
              "    this.format_dropdown = fmt_picker[0];\n",
              "\n",
              "    for (var ind in mpl.extensions) {\n",
              "        var fmt = mpl.extensions[ind];\n",
              "        var option = $(\n",
              "            '<option/>', {selected: fmt === mpl.default_extension}).html(fmt);\n",
              "        fmt_picker.append(option);\n",
              "    }\n",
              "\n",
              "    // Add hover states to the ui-buttons\n",
              "    $( \".ui-button\" ).hover(\n",
              "        function() { $(this).addClass(\"ui-state-hover\");},\n",
              "        function() { $(this).removeClass(\"ui-state-hover\");}\n",
              "    );\n",
              "\n",
              "    var status_bar = $('<span class=\"mpl-message\"/>');\n",
              "    nav_element.append(status_bar);\n",
              "    this.message = status_bar[0];\n",
              "}\n",
              "\n",
              "mpl.figure.prototype.request_resize = function(x_pixels, y_pixels) {\n",
              "    // Request matplotlib to resize the figure. Matplotlib will then trigger a resize in the client,\n",
              "    // which will in turn request a refresh of the image.\n",
              "    this.send_message('resize', {'width': x_pixels, 'height': y_pixels});\n",
              "}\n",
              "\n",
              "mpl.figure.prototype.send_message = function(type, properties) {\n",
              "    properties['type'] = type;\n",
              "    properties['figure_id'] = this.id;\n",
              "    this.ws.send(JSON.stringify(properties));\n",
              "}\n",
              "\n",
              "mpl.figure.prototype.send_draw_message = function() {\n",
              "    if (!this.waiting) {\n",
              "        this.waiting = true;\n",
              "        this.ws.send(JSON.stringify({type: \"draw\", figure_id: this.id}));\n",
              "    }\n",
              "}\n",
              "\n",
              "\n",
              "mpl.figure.prototype.handle_save = function(fig, msg) {\n",
              "    var format_dropdown = fig.format_dropdown;\n",
              "    var format = format_dropdown.options[format_dropdown.selectedIndex].value;\n",
              "    fig.ondownload(fig, format);\n",
              "}\n",
              "\n",
              "\n",
              "mpl.figure.prototype.handle_resize = function(fig, msg) {\n",
              "    var size = msg['size'];\n",
              "    if (size[0] != fig.canvas.width || size[1] != fig.canvas.height) {\n",
              "        fig._resize_canvas(size[0], size[1]);\n",
              "        fig.send_message(\"refresh\", {});\n",
              "    };\n",
              "}\n",
              "\n",
              "mpl.figure.prototype.handle_rubberband = function(fig, msg) {\n",
              "    var x0 = msg['x0'] / mpl.ratio;\n",
              "    var y0 = (fig.canvas.height - msg['y0']) / mpl.ratio;\n",
              "    var x1 = msg['x1'] / mpl.ratio;\n",
              "    var y1 = (fig.canvas.height - msg['y1']) / mpl.ratio;\n",
              "    x0 = Math.floor(x0) + 0.5;\n",
              "    y0 = Math.floor(y0) + 0.5;\n",
              "    x1 = Math.floor(x1) + 0.5;\n",
              "    y1 = Math.floor(y1) + 0.5;\n",
              "    var min_x = Math.min(x0, x1);\n",
              "    var min_y = Math.min(y0, y1);\n",
              "    var width = Math.abs(x1 - x0);\n",
              "    var height = Math.abs(y1 - y0);\n",
              "\n",
              "    fig.rubberband_context.clearRect(\n",
              "        0, 0, fig.canvas.width / mpl.ratio, fig.canvas.height / mpl.ratio);\n",
              "\n",
              "    fig.rubberband_context.strokeRect(min_x, min_y, width, height);\n",
              "}\n",
              "\n",
              "mpl.figure.prototype.handle_figure_label = function(fig, msg) {\n",
              "    // Updates the figure title.\n",
              "    fig.header.textContent = msg['label'];\n",
              "}\n",
              "\n",
              "mpl.figure.prototype.handle_cursor = function(fig, msg) {\n",
              "    var cursor = msg['cursor'];\n",
              "    switch(cursor)\n",
              "    {\n",
              "    case 0:\n",
              "        cursor = 'pointer';\n",
              "        break;\n",
              "    case 1:\n",
              "        cursor = 'default';\n",
              "        break;\n",
              "    case 2:\n",
              "        cursor = 'crosshair';\n",
              "        break;\n",
              "    case 3:\n",
              "        cursor = 'move';\n",
              "        break;\n",
              "    }\n",
              "    fig.rubberband_canvas.style.cursor = cursor;\n",
              "}\n",
              "\n",
              "mpl.figure.prototype.handle_message = function(fig, msg) {\n",
              "    fig.message.textContent = msg['message'];\n",
              "}\n",
              "\n",
              "mpl.figure.prototype.handle_draw = function(fig, msg) {\n",
              "    // Request the server to send over a new figure.\n",
              "    fig.send_draw_message();\n",
              "}\n",
              "\n",
              "mpl.figure.prototype.handle_image_mode = function(fig, msg) {\n",
              "    fig.image_mode = msg['mode'];\n",
              "}\n",
              "\n",
              "mpl.figure.prototype.updated_canvas_event = function() {\n",
              "    // Called whenever the canvas gets updated.\n",
              "    this.send_message(\"ack\", {});\n",
              "}\n",
              "\n",
              "// A function to construct a web socket function for onmessage handling.\n",
              "// Called in the figure constructor.\n",
              "mpl.figure.prototype._make_on_message_function = function(fig) {\n",
              "    return function socket_on_message(evt) {\n",
              "        if (evt.data instanceof Blob) {\n",
              "            /* FIXME: We get \"Resource interpreted as Image but\n",
              "             * transferred with MIME type text/plain:\" errors on\n",
              "             * Chrome.  But how to set the MIME type?  It doesn't seem\n",
              "             * to be part of the websocket stream */\n",
              "            evt.data.type = \"image/png\";\n",
              "\n",
              "            /* Free the memory for the previous frames */\n",
              "            if (fig.imageObj.src) {\n",
              "                (window.URL || window.webkitURL).revokeObjectURL(\n",
              "                    fig.imageObj.src);\n",
              "            }\n",
              "\n",
              "            fig.imageObj.src = (window.URL || window.webkitURL).createObjectURL(\n",
              "                evt.data);\n",
              "            fig.updated_canvas_event();\n",
              "            fig.waiting = false;\n",
              "            return;\n",
              "        }\n",
              "        else if (typeof evt.data === 'string' && evt.data.slice(0, 21) == \"data:image/png;base64\") {\n",
              "            fig.imageObj.src = evt.data;\n",
              "            fig.updated_canvas_event();\n",
              "            fig.waiting = false;\n",
              "            return;\n",
              "        }\n",
              "\n",
              "        var msg = JSON.parse(evt.data);\n",
              "        var msg_type = msg['type'];\n",
              "\n",
              "        // Call the  \"handle_{type}\" callback, which takes\n",
              "        // the figure and JSON message as its only arguments.\n",
              "        try {\n",
              "            var callback = fig[\"handle_\" + msg_type];\n",
              "        } catch (e) {\n",
              "            console.log(\"No handler for the '\" + msg_type + \"' message type: \", msg);\n",
              "            return;\n",
              "        }\n",
              "\n",
              "        if (callback) {\n",
              "            try {\n",
              "                // console.log(\"Handling '\" + msg_type + \"' message: \", msg);\n",
              "                callback(fig, msg);\n",
              "            } catch (e) {\n",
              "                console.log(\"Exception inside the 'handler_\" + msg_type + \"' callback:\", e, e.stack, msg);\n",
              "            }\n",
              "        }\n",
              "    };\n",
              "}\n",
              "\n",
              "// from http://stackoverflow.com/questions/1114465/getting-mouse-location-in-canvas\n",
              "mpl.findpos = function(e) {\n",
              "    //this section is from http://www.quirksmode.org/js/events_properties.html\n",
              "    var targ;\n",
              "    if (!e)\n",
              "        e = window.event;\n",
              "    if (e.target)\n",
              "        targ = e.target;\n",
              "    else if (e.srcElement)\n",
              "        targ = e.srcElement;\n",
              "    if (targ.nodeType == 3) // defeat Safari bug\n",
              "        targ = targ.parentNode;\n",
              "\n",
              "    // jQuery normalizes the pageX and pageY\n",
              "    // pageX,Y are the mouse positions relative to the document\n",
              "    // offset() returns the position of the element relative to the document\n",
              "    var x = e.pageX - $(targ).offset().left;\n",
              "    var y = e.pageY - $(targ).offset().top;\n",
              "\n",
              "    return {\"x\": x, \"y\": y};\n",
              "};\n",
              "\n",
              "/*\n",
              " * return a copy of an object with only non-object keys\n",
              " * we need this to avoid circular references\n",
              " * http://stackoverflow.com/a/24161582/3208463\n",
              " */\n",
              "function simpleKeys (original) {\n",
              "  return Object.keys(original).reduce(function (obj, key) {\n",
              "    if (typeof original[key] !== 'object')\n",
              "        obj[key] = original[key]\n",
              "    return obj;\n",
              "  }, {});\n",
              "}\n",
              "\n",
              "mpl.figure.prototype.mouse_event = function(event, name) {\n",
              "    var canvas_pos = mpl.findpos(event)\n",
              "\n",
              "    if (name === 'button_press')\n",
              "    {\n",
              "        this.canvas.focus();\n",
              "        this.canvas_div.focus();\n",
              "    }\n",
              "\n",
              "    var x = canvas_pos.x * mpl.ratio;\n",
              "    var y = canvas_pos.y * mpl.ratio;\n",
              "\n",
              "    this.send_message(name, {x: x, y: y, button: event.button,\n",
              "                             step: event.step,\n",
              "                             guiEvent: simpleKeys(event)});\n",
              "\n",
              "    /* This prevents the web browser from automatically changing to\n",
              "     * the text insertion cursor when the button is pressed.  We want\n",
              "     * to control all of the cursor setting manually through the\n",
              "     * 'cursor' event from matplotlib */\n",
              "    event.preventDefault();\n",
              "    return false;\n",
              "}\n",
              "\n",
              "mpl.figure.prototype._key_event_extra = function(event, name) {\n",
              "    // Handle any extra behaviour associated with a key event\n",
              "}\n",
              "\n",
              "mpl.figure.prototype.key_event = function(event, name) {\n",
              "\n",
              "    // Prevent repeat events\n",
              "    if (name == 'key_press')\n",
              "    {\n",
              "        if (event.which === this._key)\n",
              "            return;\n",
              "        else\n",
              "            this._key = event.which;\n",
              "    }\n",
              "    if (name == 'key_release')\n",
              "        this._key = null;\n",
              "\n",
              "    var value = '';\n",
              "    if (event.ctrlKey && event.which != 17)\n",
              "        value += \"ctrl+\";\n",
              "    if (event.altKey && event.which != 18)\n",
              "        value += \"alt+\";\n",
              "    if (event.shiftKey && event.which != 16)\n",
              "        value += \"shift+\";\n",
              "\n",
              "    value += 'k';\n",
              "    value += event.which.toString();\n",
              "\n",
              "    this._key_event_extra(event, name);\n",
              "\n",
              "    this.send_message(name, {key: value,\n",
              "                             guiEvent: simpleKeys(event)});\n",
              "    return false;\n",
              "}\n",
              "\n",
              "mpl.figure.prototype.toolbar_button_onclick = function(name) {\n",
              "    if (name == 'download') {\n",
              "        this.handle_save(this, null);\n",
              "    } else {\n",
              "        this.send_message(\"toolbar_button\", {name: name});\n",
              "    }\n",
              "};\n",
              "\n",
              "mpl.figure.prototype.toolbar_button_onmouseover = function(tooltip) {\n",
              "    this.message.textContent = tooltip;\n",
              "};\n",
              "mpl.toolbar_items = [[\"Home\", \"Reset original view\", \"fa fa-home icon-home\", \"home\"], [\"Back\", \"Back to previous view\", \"fa fa-arrow-left icon-arrow-left\", \"back\"], [\"Forward\", \"Forward to next view\", \"fa fa-arrow-right icon-arrow-right\", \"forward\"], [\"\", \"\", \"\", \"\"], [\"Pan\", \"Pan axes with left mouse, zoom with right\", \"fa fa-arrows icon-move\", \"pan\"], [\"Zoom\", \"Zoom to rectangle\", \"fa fa-square-o icon-check-empty\", \"zoom\"], [\"\", \"\", \"\", \"\"], [\"Download\", \"Download plot\", \"fa fa-floppy-o icon-save\", \"download\"]];\n",
              "\n",
              "mpl.extensions = [\"eps\", \"jpeg\", \"pdf\", \"png\", \"ps\", \"raw\", \"svg\", \"tif\"];\n",
              "\n",
              "mpl.default_extension = \"png\";var comm_websocket_adapter = function(comm) {\n",
              "    // Create a \"websocket\"-like object which calls the given IPython comm\n",
              "    // object with the appropriate methods. Currently this is a non binary\n",
              "    // socket, so there is still some room for performance tuning.\n",
              "    var ws = {};\n",
              "\n",
              "    ws.close = function() {\n",
              "        comm.close()\n",
              "    };\n",
              "    ws.send = function(m) {\n",
              "        //console.log('sending', m);\n",
              "        comm.send(m);\n",
              "    };\n",
              "    // Register the callback with on_msg.\n",
              "    comm.on_msg(function(msg) {\n",
              "        //console.log('receiving', msg['content']['data'], msg);\n",
              "        // Pass the mpl event to the overridden (by mpl) onmessage function.\n",
              "        ws.onmessage(msg['content']['data'])\n",
              "    });\n",
              "    return ws;\n",
              "}\n",
              "\n",
              "mpl.mpl_figure_comm = function(comm, msg) {\n",
              "    // This is the function which gets called when the mpl process\n",
              "    // starts-up an IPython Comm through the \"matplotlib\" channel.\n",
              "\n",
              "    var id = msg.content.data.id;\n",
              "    // Get hold of the div created by the display call when the Comm\n",
              "    // socket was opened in Python.\n",
              "    var element = $(\"#\" + id);\n",
              "    var ws_proxy = comm_websocket_adapter(comm)\n",
              "\n",
              "    function ondownload(figure, format) {\n",
              "        window.open(figure.imageObj.src);\n",
              "    }\n",
              "\n",
              "    var fig = new mpl.figure(id, ws_proxy,\n",
              "                           ondownload,\n",
              "                           element.get(0));\n",
              "\n",
              "    // Call onopen now - mpl needs it, as it is assuming we've passed it a real\n",
              "    // web socket which is closed, not our websocket->open comm proxy.\n",
              "    ws_proxy.onopen();\n",
              "\n",
              "    fig.parent_element = element.get(0);\n",
              "    fig.cell_info = mpl.find_output_cell(\"<div id='\" + id + \"'></div>\");\n",
              "    if (!fig.cell_info) {\n",
              "        console.error(\"Failed to find cell for figure\", id, fig);\n",
              "        return;\n",
              "    }\n",
              "\n",
              "    var output_index = fig.cell_info[2]\n",
              "    var cell = fig.cell_info[0];\n",
              "\n",
              "};\n",
              "\n",
              "mpl.figure.prototype.handle_close = function(fig, msg) {\n",
              "    var width = fig.canvas.width/mpl.ratio\n",
              "    fig.root.unbind('remove')\n",
              "\n",
              "    // Update the output cell to use the data from the current canvas.\n",
              "    fig.push_to_output();\n",
              "    var dataURL = fig.canvas.toDataURL();\n",
              "    // Re-enable the keyboard manager in IPython - without this line, in FF,\n",
              "    // the notebook keyboard shortcuts fail.\n",
              "    IPython.keyboard_manager.enable()\n",
              "    $(fig.parent_element).html('<img src=\"' + dataURL + '\" width=\"' + width + '\">');\n",
              "    fig.close_ws(fig, msg);\n",
              "}\n",
              "\n",
              "mpl.figure.prototype.close_ws = function(fig, msg){\n",
              "    fig.send_message('closing', msg);\n",
              "    // fig.ws.close()\n",
              "}\n",
              "\n",
              "mpl.figure.prototype.push_to_output = function(remove_interactive) {\n",
              "    // Turn the data on the canvas into data in the output cell.\n",
              "    var width = this.canvas.width/mpl.ratio\n",
              "    var dataURL = this.canvas.toDataURL();\n",
              "    this.cell_info[1]['text/html'] = '<img src=\"' + dataURL + '\" width=\"' + width + '\">';\n",
              "}\n",
              "\n",
              "mpl.figure.prototype.updated_canvas_event = function() {\n",
              "    // Tell IPython that the notebook contents must change.\n",
              "    IPython.notebook.set_dirty(true);\n",
              "    this.send_message(\"ack\", {});\n",
              "    var fig = this;\n",
              "    // Wait a second, then push the new image to the DOM so\n",
              "    // that it is saved nicely (might be nice to debounce this).\n",
              "    setTimeout(function () { fig.push_to_output() }, 1000);\n",
              "}\n",
              "\n",
              "mpl.figure.prototype._init_toolbar = function() {\n",
              "    var fig = this;\n",
              "\n",
              "    var nav_element = $('<div/>');\n",
              "    nav_element.attr('style', 'width: 100%');\n",
              "    this.root.append(nav_element);\n",
              "\n",
              "    // Define a callback function for later on.\n",
              "    function toolbar_event(event) {\n",
              "        return fig.toolbar_button_onclick(event['data']);\n",
              "    }\n",
              "    function toolbar_mouse_event(event) {\n",
              "        return fig.toolbar_button_onmouseover(event['data']);\n",
              "    }\n",
              "\n",
              "    for(var toolbar_ind in mpl.toolbar_items){\n",
              "        var name = mpl.toolbar_items[toolbar_ind][0];\n",
              "        var tooltip = mpl.toolbar_items[toolbar_ind][1];\n",
              "        var image = mpl.toolbar_items[toolbar_ind][2];\n",
              "        var method_name = mpl.toolbar_items[toolbar_ind][3];\n",
              "\n",
              "        if (!name) { continue; };\n",
              "\n",
              "        var button = $('<button class=\"btn btn-default\" href=\"#\" title=\"' + name + '\"><i class=\"fa ' + image + ' fa-lg\"></i></button>');\n",
              "        button.click(method_name, toolbar_event);\n",
              "        button.mouseover(tooltip, toolbar_mouse_event);\n",
              "        nav_element.append(button);\n",
              "    }\n",
              "\n",
              "    // Add the status bar.\n",
              "    var status_bar = $('<span class=\"mpl-message\" style=\"text-align:right; float: right;\"/>');\n",
              "    nav_element.append(status_bar);\n",
              "    this.message = status_bar[0];\n",
              "\n",
              "    // Add the close button to the window.\n",
              "    var buttongrp = $('<div class=\"btn-group inline pull-right\"></div>');\n",
              "    var button = $('<button class=\"btn btn-mini btn-primary\" href=\"#\" title=\"Stop Interaction\"><i class=\"fa fa-power-off icon-remove icon-large\"></i></button>');\n",
              "    button.click(function (evt) { fig.handle_close(fig, {}); } );\n",
              "    button.mouseover('Stop Interaction', toolbar_mouse_event);\n",
              "    buttongrp.append(button);\n",
              "    var titlebar = this.root.find($('.ui-dialog-titlebar'));\n",
              "    titlebar.prepend(buttongrp);\n",
              "}\n",
              "\n",
              "mpl.figure.prototype._root_extra_style = function(el){\n",
              "    var fig = this\n",
              "    el.on(\"remove\", function(){\n",
              "\tfig.close_ws(fig, {});\n",
              "    });\n",
              "}\n",
              "\n",
              "mpl.figure.prototype._canvas_extra_style = function(el){\n",
              "    // this is important to make the div 'focusable\n",
              "    el.attr('tabindex', 0)\n",
              "    // reach out to IPython and tell the keyboard manager to turn it's self\n",
              "    // off when our div gets focus\n",
              "\n",
              "    // location in version 3\n",
              "    if (IPython.notebook.keyboard_manager) {\n",
              "        IPython.notebook.keyboard_manager.register_events(el);\n",
              "    }\n",
              "    else {\n",
              "        // location in version 2\n",
              "        IPython.keyboard_manager.register_events(el);\n",
              "    }\n",
              "\n",
              "}\n",
              "\n",
              "mpl.figure.prototype._key_event_extra = function(event, name) {\n",
              "    var manager = IPython.notebook.keyboard_manager;\n",
              "    if (!manager)\n",
              "        manager = IPython.keyboard_manager;\n",
              "\n",
              "    // Check for shift+enter\n",
              "    if (event.shiftKey && event.which == 13) {\n",
              "        this.canvas_div.blur();\n",
              "        // select the cell after this one\n",
              "        var index = IPython.notebook.find_cell_index(this.cell_info[0]);\n",
              "        IPython.notebook.select(index + 1);\n",
              "    }\n",
              "}\n",
              "\n",
              "mpl.figure.prototype.handle_save = function(fig, msg) {\n",
              "    fig.ondownload(fig, null);\n",
              "}\n",
              "\n",
              "\n",
              "mpl.find_output_cell = function(html_output) {\n",
              "    // Return the cell and output element which can be found *uniquely* in the notebook.\n",
              "    // Note - this is a bit hacky, but it is done because the \"notebook_saving.Notebook\"\n",
              "    // IPython event is triggered only after the cells have been serialised, which for\n",
              "    // our purposes (turning an active figure into a static one), is too late.\n",
              "    var cells = IPython.notebook.get_cells();\n",
              "    var ncells = cells.length;\n",
              "    for (var i=0; i<ncells; i++) {\n",
              "        var cell = cells[i];\n",
              "        if (cell.cell_type === 'code'){\n",
              "            for (var j=0; j<cell.output_area.outputs.length; j++) {\n",
              "                var data = cell.output_area.outputs[j];\n",
              "                if (data.data) {\n",
              "                    // IPython >= 3 moved mimebundle to data attribute of output\n",
              "                    data = data.data;\n",
              "                }\n",
              "                if (data['text/html'] == html_output) {\n",
              "                    return [cell, data, j];\n",
              "                }\n",
              "            }\n",
              "        }\n",
              "    }\n",
              "}\n",
              "\n",
              "// Register the function which deals with the matplotlib target/channel.\n",
              "// The kernel may be null if the page has been refreshed.\n",
              "if (IPython.notebook.kernel != null) {\n",
              "    IPython.notebook.kernel.comm_manager.register_target('matplotlib', mpl.mpl_figure_comm);\n",
              "}\n"
            ],
            "text/plain": [
              "<IPython.core.display.Javascript object>"
            ]
          },
          "metadata": {
            "tags": []
          }
        },
        {
          "output_type": "display_data",
          "data": {
            "text/html": [
              "<div id='e83edd6b-d0b6-4793-931a-52f80740e78d'></div>"
            ],
            "text/plain": [
              "<IPython.core.display.HTML object>"
            ]
          },
          "metadata": {
            "tags": []
          }
        },
        {
          "output_type": "execute_result",
          "data": {
            "text/plain": [
              "<seaborn.axisgrid.FacetGrid at 0x7fdd63a36b70>"
            ]
          },
          "metadata": {
            "tags": []
          },
          "execution_count": 94
        }
      ]
    },
    {
      "cell_type": "markdown",
      "metadata": {
        "id": "TctJ-ZWrede6",
        "colab_type": "text"
      },
      "source": [
        "\n",
        "\n",
        "---\n",
        "\n",
        "\n",
        "\n",
        "---\n",
        "\n",
        "\n",
        "\n",
        "---\n",
        "\n"
      ]
    },
    {
      "cell_type": "code",
      "metadata": {
        "id": "GqwoE7BY1EhK",
        "colab_type": "code",
        "colab": {}
      },
      "source": [
        "import numpy as np"
      ],
      "execution_count": 0,
      "outputs": []
    },
    {
      "cell_type": "code",
      "metadata": {
        "id": "nhhkpkIi1EeX",
        "colab_type": "code",
        "colab": {}
      },
      "source": [
        "import matplotlib.pyplot as plt\n",
        "import random \n"
      ],
      "execution_count": 0,
      "outputs": []
    },
    {
      "cell_type": "code",
      "metadata": {
        "id": "eefCYEnie4dp",
        "colab_type": "code",
        "colab": {
          "base_uri": "https://localhost:8080/",
          "height": 282
        },
        "outputId": "fddbd6ed-9d23-4ee9-e814-ff8fb969cce8"
      },
      "source": [
        "SampVis=np.random.rand(100)+200\n",
        "#SampVis\n",
        "ilber= [i for i in range(len(SampVis))]\n",
        "plt.plot(ilber,SampVis,'_')"
      ],
      "execution_count": 20,
      "outputs": [
        {
          "output_type": "execute_result",
          "data": {
            "text/plain": [
              "[<matplotlib.lines.Line2D at 0x7f7f2ecae978>]"
            ]
          },
          "metadata": {
            "tags": []
          },
          "execution_count": 20
        },
        {
          "output_type": "display_data",
          "data": {
            "image/png": "[encoded data removed]",
            "text/plain": [
              "<Figure size 432x288 with 1 Axes>"
            ]
          },
          "metadata": {
            "tags": []
          }
        }
      ]
    },
    {
      "cell_type": "code",
      "metadata": {
        "id": "EfkIacaNgUr0",
        "colab_type": "code",
        "colab": {
          "base_uri": "https://localhost:8080/",
          "height": 281
        },
        "outputId": "bcd9f7b6-0c7d-404b-f869-a75e8b21eda1"
      },
      "source": [
        "plt.fill_between(ilber,SampVis,200,facecolor=\"r\",alpha=1)\n",
        "\n",
        "plt.title(\"Akif Visualization\")\n",
        "plt.show()"
      ],
      "execution_count": 40,
      "outputs": [
        {
          "output_type": "display_data",
          "data": {
            "image/png": "[encoded data removed]",
            "text/plain": [
              "<Figure size 432x288 with 1 Axes>"
            ]
          },
          "metadata": {
            "tags": []
          }
        }
      ]
    },
    {
      "cell_type": "code",
      "metadata": {
        "id": "dER80D10hkNv",
        "colab_type": "code",
        "colab": {
          "base_uri": "https://localhost:8080/",
          "height": 281
        },
        "outputId": "5cbaa281-bca9-453e-b409-7929ee815044"
      },
      "source": [
        "plt.fill_between(ilber,SampVis,200,where=(SampVis>100),facecolor=\"b\",alpha=0.5)\n",
        "\n",
        "plt.title(\"Akif Visualization\")\n",
        "plt.show()"
      ],
      "execution_count": 45,
      "outputs": [
        {
          "output_type": "display_data",
          "data": {
            "image/png": "[encoded data removed]",
            "text/plain": [
              "<Figure size 432x288 with 1 Axes>"
            ]
          },
          "metadata": {
            "tags": []
          }
        }
      ]
    },
    {
      "cell_type": "markdown",
      "metadata": {
        "id": "bZpoTJ7oh810",
        "colab_type": "text"
      },
      "source": [
        "\n",
        "\n",
        "---\n",
        "\n",
        "\n",
        "\n",
        "---\n",
        "\n",
        "\n",
        "\n",
        "---\n",
        "\n"
      ]
    },
    {
      "cell_type": "markdown",
      "metadata": {
        "colab_type": "text",
        "id": "pMhg6t1k675D"
      },
      "source": [
        "## Referanslar\n",
        "\n",
        "- [Python: Sıfırdan Uzmanlığa Programlama](https://www.udemy.com/python-sfrdan-uzmanlga-programlama-1/?site_ref=discudemy.com)"
      ]
    },
    {
      "cell_type": "markdown",
      "metadata": {
        "id": "CRBPS82Hh_7h",
        "colab_type": "text"
      },
      "source": [
        "Lemark"
      ]
    },
    {
      "cell_type": "code",
      "metadata": {
        "id": "TmYu8mudfi-j",
        "colab_type": "code",
        "colab": {}
      },
      "source": [
        "import random\n",
        "import numpy as np"
      ],
      "execution_count": 0,
      "outputs": []
    },
    {
      "cell_type": "code",
      "metadata": {
        "id": "ZWSUwd1Z0hNE",
        "colab_type": "code",
        "colab": {}
      },
      "source": [
        "import matplotlib.pyplot as plt\n"
      ],
      "execution_count": 0,
      "outputs": []
    },
    {
      "cell_type": "code",
      "metadata": {
        "id": "TxkL8WXZiMoC",
        "colab_type": "code",
        "colab": {
          "base_uri": "https://localhost:8080/",
          "height": 282
        },
        "outputId": "0ccf7746-f085-4948-9aff-2040d10589c9"
      },
      "source": [
        "wanData=np.random.rand(150)\n",
        "MyTurn=[b for b in range(len(wanData))]\n",
        "\n",
        "plt.plot(MyTurn, wanData,'*')"
      ],
      "execution_count": 63,
      "outputs": [
        {
          "output_type": "execute_result",
          "data": {
            "text/plain": [
              "[<matplotlib.lines.Line2D at 0x7f7f2e4b7400>]"
            ]
          },
          "metadata": {
            "tags": []
          },
          "execution_count": 63
        },
        {
          "output_type": "display_data",
          "data": {
            "image/png": "[encoded data removed]",
            "text/plain": [
              "<Figure size 432x288 with 1 Axes>"
            ]
          },
          "metadata": {
            "tags": []
          }
        }
      ]
    },
    {
      "cell_type": "code",
      "metadata": {
        "id": "NSB3maLiiUlS",
        "colab_type": "code",
        "colab": {
          "base_uri": "https://localhost:8080/",
          "height": 281
        },
        "outputId": "d31c3243-b65b-4a2f-967f-13b511406be6"
      },
      "source": [
        "plt.fill_between(MyTurn,wanData,5,where=(wanData<15),facecolor=\"r\",alpha=0.5)\n",
        "\n",
        "\n",
        "plt.title(\"Akif redOne\")\n",
        "plt.show()"
      ],
      "execution_count": 83,
      "outputs": [
        {
          "output_type": "display_data",
          "data": {
            "image/png": "[encoded data removed]",
            "text/plain": [
              "<Figure size 432x288 with 1 Axes>"
            ]
          },
          "metadata": {
            "tags": []
          }
        }
      ]
    },
    {
      "cell_type": "code",
      "metadata": {
        "id": "7EvDReOAkNhe",
        "colab_type": "code",
        "colab": {
          "base_uri": "https://localhost:8080/",
          "height": 282
        },
        "outputId": "4efcbeb9-1d2d-459b-f0b9-43a6290aaa80"
      },
      "source": [
        "plt.scatter(MyTurn,wanData,marker=\"*\",edgecolors=\"y\",linewidths=1.2,facecolor=\"b\")"
      ],
      "execution_count": 97,
      "outputs": [
        {
          "output_type": "execute_result",
          "data": {
            "text/plain": [
              "<matplotlib.collections.PathCollection at 0x7f7f2b426518>"
            ]
          },
          "metadata": {
            "tags": []
          },
          "execution_count": 97
        },
        {
          "output_type": "display_data",
          "data": {
            "image/png": "[encoded data removed]",
            "text/plain": [
              "<Figure size 432x288 with 1 Axes>"
            ]
          },
          "metadata": {
            "tags": []
          }
        }
      ]
    },
    {
      "cell_type": "markdown",
      "metadata": {
        "id": "eQbHsv6jpa0P",
        "colab_type": "text"
      },
      "source": [
        "xticks( ticks ) sets the x-axis tick values, which are the locations along the x-axis where the tick marks appear. Specify ticks as a vector of increasing values; for example, [0 2 4 6] . This command affects the current axes.\n",
        "![alt text](https://www.mathworks.com/help/examples/graphics/win64/SetxAxisTickValuesBackToDefaultValuesExample_01.png)"
      ]
    },
    {
      "cell_type": "code",
      "metadata": {
        "id": "Rv0Vic_7l5OY",
        "colab_type": "code",
        "colab": {
          "base_uri": "https://localhost:8080/",
          "height": 265
        },
        "outputId": "e0006ff0-b9a3-4110-bfc4-ba406a5c0c52"
      },
      "source": [
        "import pandas as pd\n",
        "\n",
        "diagDag=pd.DataFrame(np.random.rand(100,5),index=[\"hello\" for hello in range(11,11+100)])\n",
        "diagDag.plot(kind='area')\n",
        "plt.xticks(range(0,14))\n",
        "plt.show()"
      ],
      "execution_count": 161,
      "outputs": [
        {
          "output_type": "display_data",
          "data": {
            "image/png": "[encoded data removed]",
            "text/plain": [
              "<Figure size 432x288 with 1 Axes>"
            ]
          },
          "metadata": {
            "tags": []
          }
        }
      ]
    },
    {
      "cell_type": "code",
      "metadata": {
        "id": "bkoRGU7inDEQ",
        "colab_type": "code",
        "colab": {
          "base_uri": "https://localhost:8080/",
          "height": 34
        },
        "outputId": "6bd88f3b-e1e1-48fb-8c8f-791914bded86"
      },
      "source": [
        "from google.colab import drive\n",
        "drive.mount(\"/content/drive\")"
      ],
      "execution_count": 2,
      "outputs": [
        {
          "output_type": "stream",
          "text": [
            "Mounted at /content/drive\n"
          ],
          "name": "stdout"
        }
      ]
    },
    {
      "cell_type": "code",
      "metadata": {
        "id": "xC1uDirk7ZpW",
        "colab_type": "code",
        "colab": {
          "base_uri": "https://localhost:8080/",
          "height": 34
        },
        "outputId": "ba00e8f6-6f11-4c11-c14e-cd75c289508a"
      },
      "source": [
        "!ls \"/content/drive/My Drive/notebooks/data/state-population.csv\""
      ],
      "execution_count": 8,
      "outputs": [
        {
          "output_type": "stream",
          "text": [
            "'/content/drive/My Drive/notebooks/data/state-population.csv'\n"
          ],
          "name": "stdout"
        }
      ]
    },
    {
      "cell_type": "code",
      "metadata": {
        "id": "LUUwOtcJ7zyq",
        "colab_type": "code",
        "colab": {}
      },
      "source": [
        "import pandas as pd\n",
        "import numpy as np\n",
        "import matplotlib.pyplot as plt\n"
      ],
      "execution_count": 0,
      "outputs": []
    },
    {
      "cell_type": "code",
      "metadata": {
        "id": "fF-wvDeJ8QMm",
        "colab_type": "code",
        "colab": {
          "base_uri": "https://localhost:8080/",
          "height": 343
        },
        "outputId": "53f12b78-5d22-4a57-bc03-00e9d2d71713"
      },
      "source": [
        "myData=\"/content/drive/My Drive/notebooks/data/state-population.csv\"\n",
        "datas=pd.read_csv(myData)\n",
        "datas.head(10)"
      ],
      "execution_count": 15,
      "outputs": [
        {
          "output_type": "execute_result",
          "data": {
            "text/html": [
              "<div>\n",
              "<style scoped>\n",
              "    .dataframe tbody tr th:only-of-type {\n",
              "        vertical-align: middle;\n",
              "    }\n",
              "\n",
              "    .dataframe tbody tr th {\n",
              "        vertical-align: top;\n",
              "    }\n",
              "\n",
              "    .dataframe thead th {\n",
              "        text-align: right;\n",
              "    }\n",
              "</style>\n",
              "<table border=\"1\" class=\"dataframe\">\n",
              "  <thead>\n",
              "    <tr style=\"text-align: right;\">\n",
              "      <th></th>\n",
              "      <th>state/region</th>\n",
              "      <th>ages</th>\n",
              "      <th>year</th>\n",
              "      <th>population</th>\n",
              "    </tr>\n",
              "  </thead>\n",
              "  <tbody>\n",
              "    <tr>\n",
              "      <th>0</th>\n",
              "      <td>AL</td>\n",
              "      <td>under18</td>\n",
              "      <td>2012</td>\n",
              "      <td>1117489.0</td>\n",
              "    </tr>\n",
              "    <tr>\n",
              "      <th>1</th>\n",
              "      <td>AL</td>\n",
              "      <td>total</td>\n",
              "      <td>2012</td>\n",
              "      <td>4817528.0</td>\n",
              "    </tr>\n",
              "    <tr>\n",
              "      <th>2</th>\n",
              "      <td>AL</td>\n",
              "      <td>under18</td>\n",
              "      <td>2010</td>\n",
              "      <td>1130966.0</td>\n",
              "    </tr>\n",
              "    <tr>\n",
              "      <th>3</th>\n",
              "      <td>AL</td>\n",
              "      <td>total</td>\n",
              "      <td>2010</td>\n",
              "      <td>4785570.0</td>\n",
              "    </tr>\n",
              "    <tr>\n",
              "      <th>4</th>\n",
              "      <td>AL</td>\n",
              "      <td>under18</td>\n",
              "      <td>2011</td>\n",
              "      <td>1125763.0</td>\n",
              "    </tr>\n",
              "    <tr>\n",
              "      <th>5</th>\n",
              "      <td>AL</td>\n",
              "      <td>total</td>\n",
              "      <td>2011</td>\n",
              "      <td>4801627.0</td>\n",
              "    </tr>\n",
              "    <tr>\n",
              "      <th>6</th>\n",
              "      <td>AL</td>\n",
              "      <td>total</td>\n",
              "      <td>2009</td>\n",
              "      <td>4757938.0</td>\n",
              "    </tr>\n",
              "    <tr>\n",
              "      <th>7</th>\n",
              "      <td>AL</td>\n",
              "      <td>under18</td>\n",
              "      <td>2009</td>\n",
              "      <td>1134192.0</td>\n",
              "    </tr>\n",
              "    <tr>\n",
              "      <th>8</th>\n",
              "      <td>AL</td>\n",
              "      <td>under18</td>\n",
              "      <td>2013</td>\n",
              "      <td>1111481.0</td>\n",
              "    </tr>\n",
              "    <tr>\n",
              "      <th>9</th>\n",
              "      <td>AL</td>\n",
              "      <td>total</td>\n",
              "      <td>2013</td>\n",
              "      <td>4833722.0</td>\n",
              "    </tr>\n",
              "  </tbody>\n",
              "</table>\n",
              "</div>"
            ],
            "text/plain": [
              "  state/region     ages  year  population\n",
              "0           AL  under18  2012   1117489.0\n",
              "1           AL    total  2012   4817528.0\n",
              "2           AL  under18  2010   1130966.0\n",
              "3           AL    total  2010   4785570.0\n",
              "4           AL  under18  2011   1125763.0\n",
              "5           AL    total  2011   4801627.0\n",
              "6           AL    total  2009   4757938.0\n",
              "7           AL  under18  2009   1134192.0\n",
              "8           AL  under18  2013   1111481.0\n",
              "9           AL    total  2013   4833722.0"
            ]
          },
          "metadata": {
            "tags": []
          },
          "execution_count": 15
        }
      ]
    },
    {
      "cell_type": "code",
      "metadata": {
        "id": "aFeYta508Vz5",
        "colab_type": "code",
        "colab": {
          "base_uri": "https://localhost:8080/",
          "height": 195
        },
        "outputId": "0ca365b2-ab01-413a-a5fb-a1bd654e5a7d"
      },
      "source": [
        "datas.head(n=5)"
      ],
      "execution_count": 16,
      "outputs": [
        {
          "output_type": "execute_result",
          "data": {
            "text/html": [
              "<div>\n",
              "<style scoped>\n",
              "    .dataframe tbody tr th:only-of-type {\n",
              "        vertical-align: middle;\n",
              "    }\n",
              "\n",
              "    .dataframe tbody tr th {\n",
              "        vertical-align: top;\n",
              "    }\n",
              "\n",
              "    .dataframe thead th {\n",
              "        text-align: right;\n",
              "    }\n",
              "</style>\n",
              "<table border=\"1\" class=\"dataframe\">\n",
              "  <thead>\n",
              "    <tr style=\"text-align: right;\">\n",
              "      <th></th>\n",
              "      <th>state/region</th>\n",
              "      <th>ages</th>\n",
              "      <th>year</th>\n",
              "      <th>population</th>\n",
              "    </tr>\n",
              "  </thead>\n",
              "  <tbody>\n",
              "    <tr>\n",
              "      <th>0</th>\n",
              "      <td>AL</td>\n",
              "      <td>under18</td>\n",
              "      <td>2012</td>\n",
              "      <td>1117489.0</td>\n",
              "    </tr>\n",
              "    <tr>\n",
              "      <th>1</th>\n",
              "      <td>AL</td>\n",
              "      <td>total</td>\n",
              "      <td>2012</td>\n",
              "      <td>4817528.0</td>\n",
              "    </tr>\n",
              "    <tr>\n",
              "      <th>2</th>\n",
              "      <td>AL</td>\n",
              "      <td>under18</td>\n",
              "      <td>2010</td>\n",
              "      <td>1130966.0</td>\n",
              "    </tr>\n",
              "    <tr>\n",
              "      <th>3</th>\n",
              "      <td>AL</td>\n",
              "      <td>total</td>\n",
              "      <td>2010</td>\n",
              "      <td>4785570.0</td>\n",
              "    </tr>\n",
              "    <tr>\n",
              "      <th>4</th>\n",
              "      <td>AL</td>\n",
              "      <td>under18</td>\n",
              "      <td>2011</td>\n",
              "      <td>1125763.0</td>\n",
              "    </tr>\n",
              "  </tbody>\n",
              "</table>\n",
              "</div>"
            ],
            "text/plain": [
              "  state/region     ages  year  population\n",
              "0           AL  under18  2012   1117489.0\n",
              "1           AL    total  2012   4817528.0\n",
              "2           AL  under18  2010   1130966.0\n",
              "3           AL    total  2010   4785570.0\n",
              "4           AL  under18  2011   1125763.0"
            ]
          },
          "metadata": {
            "tags": []
          },
          "execution_count": 16
        }
      ]
    },
    {
      "cell_type": "code",
      "metadata": {
        "id": "Ilk2FjGb83be",
        "colab_type": "code",
        "colab": {
          "base_uri": "https://localhost:8080/",
          "height": 218
        },
        "outputId": "1b8b7725-f02d-45c3-fa54-40d94be34876"
      },
      "source": [
        "datas[\"year\"]>2010"
      ],
      "execution_count": 18,
      "outputs": [
        {
          "output_type": "execute_result",
          "data": {
            "text/plain": [
              "0        True\n",
              "1        True\n",
              "2       False\n",
              "3       False\n",
              "4        True\n",
              "        ...  \n",
              "2539    False\n",
              "2540     True\n",
              "2541     True\n",
              "2542     True\n",
              "2543     True\n",
              "Name: year, Length: 2544, dtype: bool"
            ]
          },
          "metadata": {
            "tags": []
          },
          "execution_count": 18
        }
      ]
    },
    {
      "cell_type": "code",
      "metadata": {
        "id": "curNQP5y9Ao5",
        "colab_type": "code",
        "colab": {}
      },
      "source": [
        "pl_data=[x for x in range(len(datas),2)]\n"
      ],
      "execution_count": 0,
      "outputs": []
    },
    {
      "cell_type": "code",
      "metadata": {
        "id": "fVXhXbGv9O8W",
        "colab_type": "code",
        "colab": {
          "base_uri": "https://localhost:8080/",
          "height": 345
        },
        "outputId": "004424c3-de4b-4633-f484-2e88e313c52e"
      },
      "source": [
        "ys=pd.DataFrame(datas,index=None)\n",
        "ys.hist()"
      ],
      "execution_count": 37,
      "outputs": [
        {
          "output_type": "execute_result",
          "data": {
            "text/plain": [
              "array([[<matplotlib.axes._subplots.AxesSubplot object at 0x7fc01d8be7b8>,\n",
              "        <matplotlib.axes._subplots.AxesSubplot object at 0x7fc01d85ef60>]],\n",
              "      dtype=object)"
            ]
          },
          "metadata": {
            "tags": []
          },
          "execution_count": 37
        },
        {
          "output_type": "display_data",
          "data": {
            "image/png": "[encoded data removed]",
            "text/plain": [
              "<Figure size 432x288 with 2 Axes>"
            ]
          },
          "metadata": {
            "tags": []
          }
        }
      ]
    },
    {
      "cell_type": "code",
      "metadata": {
        "id": "KpTQ8HtF-S8r",
        "colab_type": "code",
        "colab": {
          "base_uri": "https://localhost:8080/",
          "height": 252
        },
        "outputId": "a14c48dd-7343-4218-f678-de46d73bb0dc"
      },
      "source": [
        "ys.dropna"
      ],
      "execution_count": 38,
      "outputs": [
        {
          "output_type": "execute_result",
          "data": {
            "text/plain": [
              "<bound method DataFrame.dropna of      state/region     ages  year   population\n",
              "0              AL  under18  2012    1117489.0\n",
              "1              AL    total  2012    4817528.0\n",
              "2              AL  under18  2010    1130966.0\n",
              "3              AL    total  2010    4785570.0\n",
              "4              AL  under18  2011    1125763.0\n",
              "...           ...      ...   ...          ...\n",
              "2539          USA    total  2010  309326295.0\n",
              "2540          USA  under18  2011   73902222.0\n",
              "2541          USA    total  2011  311582564.0\n",
              "2542          USA  under18  2012   73708179.0\n",
              "2543          USA    total  2012  313873685.0\n",
              "\n",
              "[2544 rows x 4 columns]>"
            ]
          },
          "metadata": {
            "tags": []
          },
          "execution_count": 38
        }
      ]
    },
    {
      "cell_type": "markdown",
      "metadata": {
        "id": "2r02WbMVM0GE",
        "colab_type": "text"
      },
      "source": [
        "---\n",
        "---"
      ]
    },
    {
      "cell_type": "code",
      "metadata": {
        "id": "aeHQbSD_-bZm",
        "colab_type": "code",
        "colab": {}
      },
      "source": [
        "import numpy as np\n",
        "import matplotlib.pyplot as plt\n",
        "import pandas as pd\n"
      ],
      "execution_count": 0,
      "outputs": []
    },
    {
      "cell_type": "code",
      "metadata": {
        "id": "UFb4WeMTM7wv",
        "colab_type": "code",
        "colab": {
          "base_uri": "https://localhost:8080/",
          "height": 218
        },
        "outputId": "72136813-a009-4350-e6a9-d2076f7f5b27"
      },
      "source": [
        "nomore=np.arange(150)\n",
        "nomore"
      ],
      "execution_count": 8,
      "outputs": [
        {
          "output_type": "execute_result",
          "data": {
            "text/plain": [
              "array([  0,   1,   2,   3,   4,   5,   6,   7,   8,   9,  10,  11,  12,\n",
              "        13,  14,  15,  16,  17,  18,  19,  20,  21,  22,  23,  24,  25,\n",
              "        26,  27,  28,  29,  30,  31,  32,  33,  34,  35,  36,  37,  38,\n",
              "        39,  40,  41,  42,  43,  44,  45,  46,  47,  48,  49,  50,  51,\n",
              "        52,  53,  54,  55,  56,  57,  58,  59,  60,  61,  62,  63,  64,\n",
              "        65,  66,  67,  68,  69,  70,  71,  72,  73,  74,  75,  76,  77,\n",
              "        78,  79,  80,  81,  82,  83,  84,  85,  86,  87,  88,  89,  90,\n",
              "        91,  92,  93,  94,  95,  96,  97,  98,  99, 100, 101, 102, 103,\n",
              "       104, 105, 106, 107, 108, 109, 110, 111, 112, 113, 114, 115, 116,\n",
              "       117, 118, 119, 120, 121, 122, 123, 124, 125, 126, 127, 128, 129,\n",
              "       130, 131, 132, 133, 134, 135, 136, 137, 138, 139, 140, 141, 142,\n",
              "       143, 144, 145, 146, 147, 148, 149])"
            ]
          },
          "metadata": {
            "tags": []
          },
          "execution_count": 8
        }
      ]
    },
    {
      "cell_type": "code",
      "metadata": {
        "id": "8Bv0SugBOCYU",
        "colab_type": "code",
        "colab": {
          "base_uri": "https://localhost:8080/",
          "height": 34
        },
        "outputId": "e6ed1540-af9f-4943-c380-d7e9a65d129b"
      },
      "source": [
        "sum=0\n",
        "for i in range(150):\n",
        "  sum=i+sum\n",
        "print(sum)"
      ],
      "execution_count": 33,
      "outputs": [
        {
          "output_type": "stream",
          "text": [
            "11175\n"
          ],
          "name": "stdout"
        }
      ]
    },
    {
      "cell_type": "code",
      "metadata": {
        "id": "0jC77h4VNIYT",
        "colab_type": "code",
        "colab": {
          "base_uri": "https://localhost:8080/",
          "height": 281
        },
        "outputId": "9b62a1ad-77ff-446e-8eba-fb1e23c457cc"
      },
      "source": [
        "plt.hist(nomore,11175)\n",
        "plt.title(\"Lets make it blue\")\n",
        "plt.show()"
      ],
      "execution_count": 34,
      "outputs": [
        {
          "output_type": "display_data",
          "data": {
            "image/png": "[encoded data removed]",
            "text/plain": [
              "<Figure size 432x288 with 1 Axes>"
            ]
          },
          "metadata": {
            "tags": []
          }
        }
      ]
    },
    {
      "cell_type": "code",
      "metadata": {
        "id": "JMkqS-_dNWIH",
        "colab_type": "code",
        "colab": {}
      },
      "source": [
        ""
      ],
      "execution_count": 0,
      "outputs": []
    },
    {
      "cell_type": "markdown",
      "metadata": {
        "id": "vsLscEGkPKnn",
        "colab_type": "text"
      },
      "source": [
        "\n",
        "\n",
        "---\n",
        "\n",
        "\n",
        "\n",
        "---\n",
        "\n",
        "\n",
        "\n",
        "---\n",
        "\n"
      ]
    },
    {
      "cell_type": "code",
      "metadata": {
        "id": "kvbAezG6Ogpj",
        "colab_type": "code",
        "colab": {
          "base_uri": "https://localhost:8080/",
          "height": 293
        },
        "outputId": "cd24be12-b8ff-45da-a7a5-e4b9ef6f11f0"
      },
      "source": [
        "import matplotlib.pyplot as plt\n",
        "from scipy import stats\n",
        "import numpy as np \n",
        "\n",
        "x = np.array([0.46,0.59,0.68,0.99,0.39,0.31,1.09,0.77,0.72,0.49,0.55,0.62,0.58,0.88,0.78]) # x is a numpy array now\n",
        "y = np.array([0.315,0.383,0.452,0.650,0.279,0.215,0.727,0.512,0.478,0.335,0.365,0.424,0.390,0.585,0.511]) # y is a numpy array now\n",
        "xerr = [0.01]*15\n",
        "yerr = [0.001]*15\n",
        "\n",
        "plt.rc('font', family='serif', size=13)\n",
        "m, b = np.polyfit(x, y, 1)\n",
        "plt.plot(x,y,'s',color='#0066FF')\n",
        "plt.plot(x, m*x + b, 'r-') #BREAKS ON THIS LINE\n",
        "\n",
        "plt.errorbar(x,y,xerr=xerr,yerr=0,linestyle=\"None\",color='black')\n",
        "plt.xlabel('$\\Delta t$ $(s)$',fontsize=20)\n",
        "plt.ylabel('$\\Delta p$ $(hPa)$',fontsize=20)\n",
        "\n",
        "plt.autoscale(enable=True, axis=u'both', tight=False)\n",
        "plt.grid(True)\n",
        "#plt.grid(False)\n",
        "plt.xlim(0.2,1.2)\n",
        "plt.ylim(0,0.9)\n",
        "plt.show()"
      ],
      "execution_count": 64,
      "outputs": [
        {
          "output_type": "display_data",
          "data": {
            "image/png": "[encoded data removed]",
            "text/plain": [
              "<Figure size 432x288 with 1 Axes>"
            ]
          },
          "metadata": {
            "tags": []
          }
        }
      ]
    },
    {
      "cell_type": "code",
      "metadata": {
        "id": "yZG76Cx3P_vR",
        "colab_type": "code",
        "colab": {}
      },
      "source": [
        ""
      ],
      "execution_count": 0,
      "outputs": []
    }
  ]
}