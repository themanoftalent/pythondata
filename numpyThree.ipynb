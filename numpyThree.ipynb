{
  "nbformat": 4,
  "nbformat_minor": 0,
  "metadata": {
    "colab": {
      "name": "numpyThree.ipynb",
      "provenance": [],
      "authorship_tag": "ABX9TyOAOlp+njvfpf6hB5v26ZS9",
      "include_colab_link": true
    },
    "kernelspec": {
      "name": "python3",
      "display_name": "Python 3"
    }
  },
  "cells": [
    {
      "cell_type": "markdown",
      "metadata": {
        "id": "view-in-github",
        "colab_type": "text"
      },
      "source": [
        "<a href=\"https://colab.research.google.com/github/themanoftalent/pythondata/blob/master/numpyThree.ipynb\" target=\"_parent\"><img src=\"https://colab.research.google.com/assets/colab-badge.svg\" alt=\"Open In Colab\"/></a>"
      ]
    },
    {
      "cell_type": "code",
      "metadata": {
        "id": "d9zXqku6zAPF",
        "colab_type": "code",
        "colab": {}
      },
      "source": [
        "import numpy as np"
      ],
      "execution_count": 0,
      "outputs": []
    },
    {
      "cell_type": "code",
      "metadata": {
        "id": "xGADG7uNzC7c",
        "colab_type": "code",
        "colab": {}
      },
      "source": [
        "name = ['Ali', 'Babil', 'Canan', 'Dogukan']\n",
        "age = [25, 45, 37, 19]\n",
        "weight = [55.0, 85.5, 68.0, 61.5]"
      ],
      "execution_count": 0,
      "outputs": []
    },
    {
      "cell_type": "code",
      "metadata": {
        "id": "nD2m7JyBy2HL",
        "colab_type": "code",
        "colab": {
          "base_uri": "https://localhost:8080/",
          "height": 50
        },
        "outputId": "ab2eea09-a283-4fbe-acfc-48f22ce53cb6"
      },
      "source": [
        "\n",
        "\n",
        "x = np.zeros(4, dtype=int)\n",
        "# Use a compound data type for structured arrays\n",
        "data = np.zeros(4, dtype={'names':('name', 'age', 'weight'),\n",
        "                          'formats':('U10', 'i4', 'f8')})\n",
        "print(data.dtype)\n",
        "print(x)"
      ],
      "execution_count": 8,
      "outputs": [
        {
          "output_type": "stream",
          "text": [
            "[('name', '<U10'), ('age', '<i4'), ('weight', '<f8')]\n",
            "[0 0 0 0]\n"
          ],
          "name": "stdout"
        }
      ]
    },
    {
      "cell_type": "code",
      "metadata": {
        "id": "gGOHjv7ozHxT",
        "colab_type": "code",
        "colab": {
          "base_uri": "https://localhost:8080/",
          "height": 50
        },
        "outputId": "14886488-e335-4954-877a-6aa700085310"
      },
      "source": [
        "data['name'] = name\n",
        "data['age'] = age\n",
        "data['weight'] = weight\n",
        "print(data)"
      ],
      "execution_count": 9,
      "outputs": [
        {
          "output_type": "stream",
          "text": [
            "[('Ali', 25, 55. ) ('Babil', 45, 85.5) ('Canan', 37, 68. )\n",
            " ('Dogukan', 19, 61.5)]\n"
          ],
          "name": "stdout"
        }
      ]
    },
    {
      "cell_type": "code",
      "metadata": {
        "id": "wL9JBzpDzOnu",
        "colab_type": "code",
        "colab": {
          "base_uri": "https://localhost:8080/",
          "height": 34
        },
        "outputId": "5f35794f-2950-4ce7-a90b-692482defc21"
      },
      "source": [
        "# Get all names\n",
        "data['name']"
      ],
      "execution_count": 11,
      "outputs": [
        {
          "output_type": "execute_result",
          "data": {
            "text/plain": [
              "array(['Ali', 'Babil', 'Canan', 'Dogukan'], dtype='<U10')"
            ]
          },
          "metadata": {
            "tags": []
          },
          "execution_count": 11
        }
      ]
    },
    {
      "cell_type": "code",
      "metadata": {
        "id": "2ozvwYn_zd94",
        "colab_type": "code",
        "colab": {
          "base_uri": "https://localhost:8080/",
          "height": 34
        },
        "outputId": "489f85e1-1891-4a03-dcb3-716434db79f8"
      },
      "source": [
        "# Get all names\n",
        "data[\"age\"]"
      ],
      "execution_count": 13,
      "outputs": [
        {
          "output_type": "execute_result",
          "data": {
            "text/plain": [
              "array([25, 45, 37, 19], dtype=int32)"
            ]
          },
          "metadata": {
            "tags": []
          },
          "execution_count": 13
        }
      ]
    },
    {
      "cell_type": "code",
      "metadata": {
        "id": "4SOQMQJuznpW",
        "colab_type": "code",
        "colab": {
          "base_uri": "https://localhost:8080/",
          "height": 34
        },
        "outputId": "cd01575f-6dc4-4bb7-b176-78e80b49ec1e"
      },
      "source": [
        "# Get first row of data\n",
        "data[0]"
      ],
      "execution_count": 22,
      "outputs": [
        {
          "output_type": "execute_result",
          "data": {
            "text/plain": [
              "('Ali', 25, 55.)"
            ]
          },
          "metadata": {
            "tags": []
          },
          "execution_count": 22
        }
      ]
    },
    {
      "cell_type": "code",
      "metadata": {
        "id": "HzKj-nan0CYD",
        "colab_type": "code",
        "colab": {
          "base_uri": "https://localhost:8080/",
          "height": 34
        },
        "outputId": "0d1a2bba-d0c7-429c-81be-c26be4d82f01"
      },
      "source": [
        "# Get the name from the last row\n",
        "data[-1]['name']"
      ],
      "execution_count": 23,
      "outputs": [
        {
          "output_type": "execute_result",
          "data": {
            "text/plain": [
              "'Dogukan'"
            ]
          },
          "metadata": {
            "tags": []
          },
          "execution_count": 23
        }
      ]
    },
    {
      "cell_type": "code",
      "metadata": {
        "id": "CyVGqazI0CvE",
        "colab_type": "code",
        "colab": {
          "base_uri": "https://localhost:8080/",
          "height": 34
        },
        "outputId": "fc9b5f49-d7e7-4b4f-be00-131aa995f853"
      },
      "source": [
        "# Get names where age is under 30\n",
        "data[data['age'] > 30]['name']"
      ],
      "execution_count": 25,
      "outputs": [
        {
          "output_type": "execute_result",
          "data": {
            "text/plain": [
              "array(['Babil', 'Canan'], dtype='<U10')"
            ]
          },
          "metadata": {
            "tags": []
          },
          "execution_count": 25
        }
      ]
    },
    {
      "cell_type": "code",
      "metadata": {
        "id": "5RsMIwhr0InV",
        "colab_type": "code",
        "colab": {
          "base_uri": "https://localhost:8080/",
          "height": 34
        },
        "outputId": "624c2c8b-600b-4ffc-f5f0-1db6ecf09211"
      },
      "source": [
        "data[data[\"age\"]<30][\"name\"]"
      ],
      "execution_count": 26,
      "outputs": [
        {
          "output_type": "execute_result",
          "data": {
            "text/plain": [
              "array(['Ali', 'Dogukan'], dtype='<U10')"
            ]
          },
          "metadata": {
            "tags": []
          },
          "execution_count": 26
        }
      ]
    },
    {
      "cell_type": "markdown",
      "metadata": {
        "id": "lyijVh6n0eEX",
        "colab_type": "text"
      },
      "source": [
        "The last character or characters represents the size of the object in bytes.\n",
        "\n",
        "| Character        | Description           | Example                             |\n",
        "| ---------        | -----------           | -------                             | \n",
        "| ``'b'``          | Byte                  | ``np.dtype('b')``                   |\n",
        "| ``'i'``          | Signed integer        | ``np.dtype('i4') == np.int32``      |\n",
        "| ``'u'``          | Unsigned integer      | ``np.dtype('u1') == np.uint8``      |\n",
        "| ``'f'``          | Floating point        | ``np.dtype('f8') == np.int64``      |\n",
        "| ``'c'``          | Complex floating point| ``np.dtype('c16') == np.complex128``|\n",
        "| ``'S'``, ``'a'`` | String                | ``np.dtype('S5')``                  |\n",
        "| ``'U'``          | Unicode string        | ``np.dtype('U') == np.str_``        |\n",
        "| ``'V'``          | Raw data (void)       | ``np.dtype('V') == np.void``   "
      ]
    },
    {
      "cell_type": "code",
      "metadata": {
        "id": "1WrgDXo40ezc",
        "colab_type": "code",
        "colab": {}
      },
      "source": [
        ""
      ],
      "execution_count": 0,
      "outputs": []
    }
  ]
}