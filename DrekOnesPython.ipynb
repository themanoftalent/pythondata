{
  "nbformat": 4,
  "nbformat_minor": 0,
  "metadata": {
    "kernelspec": {
      "display_name": "Python 3.7.4 64-bit ('miniconda3': virtualenv)",
      "language": "python",
      "name": "python37464bitminiconda3virtualenv0874ec4b65004acdac879cc1bfcb658e"
    },
    "language_info": {
      "codemirror_mode": {
        "name": "ipython",
        "version": 3
      },
      "file_extension": ".py",
      "mimetype": "text/x-python",
      "name": "python",
      "nbconvert_exporter": "python",
      "pygments_lexer": "ipython3",
      "version": "3.7.4"
    },
    "colab": {
      "name": "DrekOnesPython.ipynb",
      "provenance": [],
      "toc_visible": true,
      "include_colab_link": true
    }
  },
  "cells": [
    {
      "cell_type": "markdown",
      "metadata": {
        "id": "view-in-github",
        "colab_type": "text"
      },
      "source": [
        "<a href=\"https://colab.research.google.com/github/themanoftalent/pythondata/blob/master/DrekOnesPython.ipynb\" target=\"_parent\"><img src=\"https://colab.research.google.com/assets/colab-badge.svg\" alt=\"Open In Colab\"/></a>"
      ]
    },
    {
      "cell_type": "markdown",
      "metadata": {
        "id": "89oQQZoFzOUX",
        "colab_type": "text"
      },
      "source": [
        "![alt text](https://)Fucntions of python\n",
        "Thanks "
      ]
    },
    {
      "cell_type": "code",
      "metadata": {
        "id": "HTUVeF5CzLMK",
        "colab_type": "code",
        "colab": {}
      },
      "source": [
        "#lets begin"
      ],
      "execution_count": 0,
      "outputs": []
    },
    {
      "cell_type": "code",
      "metadata": {
        "id": "0xtxbxN5zLMS",
        "colab_type": "code",
        "colab": {}
      },
      "source": [
        "# import is used to make specialty functions available\n",
        "# These are called modules\n",
        "import random\n",
        "import sys\n",
        "import os"
      ],
      "execution_count": 0,
      "outputs": []
    },
    {
      "cell_type": "code",
      "metadata": {
        "id": "nZ8tJ9d9zLMW",
        "colab_type": "code",
        "outputId": "05820091-af77-4bea-e8c2-f2ceb849ef92",
        "colab": {}
      },
      "source": [
        "# Hello world is just one line of code\n",
        "# print() outputs data to the screen\n",
        "print(\"Hello World\")\n",
        "\n",
        "'''\n",
        "This is a multi-line comment\n",
        "'''\n",
        "\n",
        "# A variable is a place to store values\n",
        "# Its name is like a label for that value\n",
        "name = \"Demet\"\n",
        "print(name)"
      ],
      "execution_count": 0,
      "outputs": [
        {
          "output_type": "stream",
          "text": [
            "Hello World\n",
            "Demet\n"
          ],
          "name": "stdout"
        }
      ]
    },
    {
      "cell_type": "code",
      "metadata": {
        "id": "gh7Nx0ADzLMZ",
        "colab_type": "code",
        "outputId": "e0f051b1-ae2c-47f7-85a8-e2910b9b2da9",
        "colab": {}
      },
      "source": [
        "# A variable name can contain letters, numbers, or _\n",
        "# but can't start with a number\n",
        "\n",
        "# There are 5 data types Numbers, Strings, List, Tuple, Dictionary\n",
        "# You can store any of them in the same variable\n",
        "\n",
        "name = 15\n",
        "print(name)"
      ],
      "execution_count": 0,
      "outputs": [
        {
          "output_type": "stream",
          "text": [
            "15\n"
          ],
          "name": "stdout"
        }
      ]
    },
    {
      "cell_type": "code",
      "metadata": {
        "id": "h8mWihh-zLMc",
        "colab_type": "code",
        "outputId": "9bd967b0-e8fd-4d5d-b032-32ab93a23daf",
        "colab": {}
      },
      "source": [
        "# The arithmetic operators +, -, *, /, %, **, //\n",
        "# ** Exponential calculation\n",
        "# // Floor Division\n",
        "print(\"5 + 2 =\", 5+2)\n",
        "print(\"5 - 2 =\", 5-2)\n",
        "print(\"5 * 2 =\", 5*2)\n",
        "print(\"5 / 2 =\", 5/2)\n",
        "print(\"5 % 2 =\", 5%2)\n",
        "print(\"5 ** 2 =\", 5**2)\n",
        "print(\"5 // 2 =\", 5//2)"
      ],
      "execution_count": 0,
      "outputs": [
        {
          "output_type": "stream",
          "text": [
            "5 + 2 = 7\n",
            "5 - 2 = 3\n",
            "5 * 2 = 10\n",
            "5 / 2 = 2.5\n",
            "5 % 2 = 1\n",
            "5 ** 2 = 25\n",
            "5 // 2 = 2\n"
          ],
          "name": "stdout"
        }
      ]
    },
    {
      "cell_type": "code",
      "metadata": {
        "id": "SeWh9IpjzLMf",
        "colab_type": "code",
        "outputId": "676a6449-9c09-4297-c627-954559c3db89",
        "colab": {}
      },
      "source": [
        "# Order of Operation states * and / is performed before + and -\n",
        "\n",
        "print(\"1 + 2 - 3 * 2 =\", 1 + 2 - 3 * 2)\n",
        "print(\"(1 + 2 - 3) * 2 =\", (1 + 2 - 3) * 2)\n",
        "\n",
        "# A string is a string of characters surrounded by \" or '\n",
        "# If you must use a \" or ' between the same quote escape it with \\\n",
        "quote = \"\\\"Always remember your unique,\""
      ],
      "execution_count": 0,
      "outputs": [
        {
          "output_type": "stream",
          "text": [
            "1 + 2 - 3 * 2 = -3\n",
            "(1 + 2 - 3) * 2 = 0\n"
          ],
          "name": "stdout"
        }
      ]
    },
    {
      "cell_type": "code",
      "metadata": {
        "id": "wegP2w3-zLMi",
        "colab_type": "code",
        "outputId": "233d24a6-54d8-4d6e-cd59-5073ac21b6ac",
        "colab": {}
      },
      "source": [
        "\n",
        "# A multi-line quote\n",
        "multi_line_quote = ''' just\n",
        "like everyone else\" '''\n",
        "\n",
        "print(quote + multi_line_quote)\n",
        "\n",
        "# To embed a string in output use %s\n",
        "print(\"%s %s %s\" % ('I like the quote', quote, multi_line_quote))\n",
        "\n",
        "# To keep from printing newlines use end=\"\"\n",
        "print(\"I don't like \",end=\"\")\n",
        "print(\"newlines\")\n",
        "\n",
        "# You can print a string multiple times with *\n",
        "print('\\n' * 5)\n"
      ],
      "execution_count": 0,
      "outputs": [
        {
          "output_type": "stream",
          "text": [
            "\"Always remember your unique, just\n",
            "like everyone else\" \n",
            "I like the quote \"Always remember your unique,  just\n",
            "like everyone else\" \n",
            "I don't like newlines\n",
            "\n",
            "\n",
            "\n",
            "\n",
            "\n",
            "\n"
          ],
          "name": "stdout"
        }
      ]
    },
    {
      "cell_type": "markdown",
      "metadata": {
        "id": "-QmJezF6zLMl",
        "colab_type": "text"
      },
      "source": [
        "---\n",
        "---"
      ]
    },
    {
      "cell_type": "code",
      "metadata": {
        "id": "EibxIK6gzLMm",
        "colab_type": "code",
        "colab": {}
      },
      "source": [
        "\n",
        "# LISTS -------------\n",
        "# A list allows you to create a list of values and manipulate them\n",
        "# Each value has an index with the first one starting at 0"
      ],
      "execution_count": 0,
      "outputs": []
    },
    {
      "cell_type": "code",
      "metadata": {
        "id": "qXG6Ls3rzLMo",
        "colab_type": "code",
        "outputId": "02f4ac89-6415-4da9-e117-a8560cb3ac70",
        "colab": {}
      },
      "source": [
        "\n",
        "\n",
        "grocery_list = ['Juice', 'Tomatoes', 'Potatoes', 'Bananas']\n",
        "print('The first item is', grocery_list[1])\n",
        "\n",
        "# You can change the value stored in a list box\n",
        "grocery_list[0] = \"Green Juice\"\n",
        "print(grocery_list)\n",
        "\n",
        "# You can get a subset of the list with [min:up to but not including max]\n",
        "\n",
        "print(grocery_list[1:3])\n",
        "\n",
        "# You can put any data type in a a list including a list\n",
        "other_events = ['Wash Car', 'Pick up Kids', 'Cash Check']\n",
        "to_do_list = [other_events, grocery_list]\n",
        "\n",
        "print(to_do_list)\n",
        "\n",
        "# Get the second item in the second list (Boxes inside of boxes)\n",
        "print(to_do_list[1][1])\n",
        "\n",
        "# You add values using append\n",
        "grocery_list.append('onions')\n",
        "print(to_do_list)\n",
        "\n",
        "# Insert item at given index\n",
        "grocery_list.insert(1, \"Pickle\")\n",
        "\n",
        "# Remove item from list\n",
        "grocery_list.remove(\"Pickle\")\n",
        "\n",
        "# Sorts items in list\n",
        "grocery_list.sort()\n",
        "\n",
        "# Reverse sort items in list\n",
        "grocery_list.reverse()\n",
        "\n",
        "# del deletes an item at specified index\n",
        "del grocery_list[4]\n",
        "print(to_do_list)\n",
        "\n",
        "# We can combine lists with a +\n",
        "to_do_list = other_events + grocery_list\n",
        "print(to_do_list)\n",
        "\n",
        "# Get length of list\n",
        "print(len(to_do_list))\n",
        "\n",
        "# Get the max item in list\n",
        "print(max(to_do_list))\n",
        "\n",
        "# Get the minimum item in list\n",
        "print(min(to_do_list))"
      ],
      "execution_count": 0,
      "outputs": [
        {
          "output_type": "stream",
          "text": [
            "The first item is Tomatoes\n",
            "['Green Juice', 'Tomatoes', 'Potatoes', 'Bananas']\n",
            "['Tomatoes', 'Potatoes']\n",
            "[['Wash Car', 'Pick up Kids', 'Cash Check'], ['Green Juice', 'Tomatoes', 'Potatoes', 'Bananas']]\n",
            "Tomatoes\n",
            "[['Wash Car', 'Pick up Kids', 'Cash Check'], ['Green Juice', 'Tomatoes', 'Potatoes', 'Bananas', 'onions']]\n",
            "[['Wash Car', 'Pick up Kids', 'Cash Check'], ['onions', 'Tomatoes', 'Potatoes', 'Green Juice']]\n",
            "['Wash Car', 'Pick up Kids', 'Cash Check', 'onions', 'Tomatoes', 'Potatoes', 'Green Juice']\n",
            "7\n",
            "onions\n",
            "Cash Check\n"
          ],
          "name": "stdout"
        }
      ]
    },
    {
      "cell_type": "code",
      "metadata": {
        "id": "Vx6x165CzLMq",
        "colab_type": "code",
        "colab": {}
      },
      "source": [
        "# TUPLES -------------\n",
        "# Values in a tuple can't change like lists"
      ],
      "execution_count": 0,
      "outputs": []
    },
    {
      "cell_type": "code",
      "metadata": {
        "id": "iPvAceHkzLMs",
        "colab_type": "code",
        "outputId": "d7195418-c29d-42a2-9952-88bb16fb4662",
        "colab": {}
      },
      "source": [
        "\n",
        "pi_tuple = (3, 1, 4, 1, 5, 9)\n",
        "\n",
        "# Convert tuple into a list\n",
        "new_tuple = list(pi_tuple)\n",
        "\n",
        "# Convert a list into a tuple\n",
        "# new_list = tuple(grocery_list)\n",
        "\n",
        "# tuples also have len(tuple), min(tuple) and max(tuple)\n",
        "\n",
        "# DICTIONARY or MAP -------------\n",
        "# Made up of values with a unique key for each value\n",
        "# Similar to lists, but you can't join dicts with a +\n",
        "\n",
        "super_villains = {'Fiddler' : 'Isaac Bowin',\n",
        "                  'Captain Cold' : 'Leonard Snart',\n",
        "                  'Weather Wizard' : 'Mark Mardon',\n",
        "                  'Mirror Master' : 'Sam Scudder',\n",
        "                  'Pied Piper' : 'Thomas Peterson'}\n",
        "\n",
        "print(super_villains['Captain Cold'])\n",
        "\n",
        "# Delete an entry\n",
        "del super_villains['Fiddler']\n",
        "print(super_villains)\n",
        "\n",
        "# Replace a value\n",
        "super_villains['Pied Piper'] = 'Hartley Rathaway'\n",
        "\n",
        "# Print the number of items in the dictionary\n",
        "print(len(super_villains))\n",
        "\n",
        "# Get the value for the passed key\n",
        "print(super_villains.get(\"Pied Piper\"))\n",
        "\n",
        "# Get a list of dictionary keys\n",
        "print(super_villains.keys())\n",
        "\n",
        "# Get a list of dictionary values\n",
        "print(super_villains.values())"
      ],
      "execution_count": 0,
      "outputs": [
        {
          "output_type": "stream",
          "text": [
            "Leonard Snart\n",
            "{'Captain Cold': 'Leonard Snart', 'Weather Wizard': 'Mark Mardon', 'Mirror Master': 'Sam Scudder', 'Pied Piper': 'Thomas Peterson'}\n",
            "4\n",
            "Hartley Rathaway\n",
            "dict_keys(['Captain Cold', 'Weather Wizard', 'Mirror Master', 'Pied Piper'])\n",
            "dict_values(['Leonard Snart', 'Mark Mardon', 'Sam Scudder', 'Hartley Rathaway'])\n"
          ],
          "name": "stdout"
        }
      ]
    },
    {
      "cell_type": "code",
      "metadata": {
        "id": "9E4SxTXBzLMv",
        "colab_type": "code",
        "colab": {}
      },
      "source": [
        "\n",
        "# CONDITIONALS -------------\n",
        "# The if, else and elif statements are used to perform different\n",
        "# actions based off of conditions\n",
        "# Comparison Operators : ==, !=, >, <, >=, <=\n",
        "\n",
        "# The if statement will execute code if a condition is met\n",
        "# White space is used to group blocks of code in Python\n",
        "# Use the same number of proceeding spaces for blocks of code\n"
      ],
      "execution_count": 0,
      "outputs": []
    },
    {
      "cell_type": "code",
      "metadata": {
        "id": "-r70ZeZEzLMx",
        "colab_type": "code",
        "outputId": "86b0e572-52b7-4e08-99e5-274fbef0c652",
        "colab": {}
      },
      "source": [
        "\n",
        "age = 30\n",
        "if age > 16 :\n",
        "    print('You are old enough to drive')\n",
        "\n",
        "# Use an if statement if you want to execute different code regardless\n",
        "# of whether the condition ws met or not\n",
        "\n",
        "if age > 16 :\n",
        "    print('You are old enough to drive')\n",
        "else :\n",
        "    print('You are not old enough to drive')\n",
        "\n",
        "# If you want to check for multiple conditions use elif\n",
        "# If the first matches it won't check other conditions that follow\n",
        "\n",
        "if age >= 21 :\n",
        "    print('You are old enough to drive a tractor trailer')\n",
        "elif age >= 16:\n",
        "    print('You are old enough to drive a car')\n",
        "else :\n",
        "    print('You are not old enough to drive')\n",
        "\n",
        "# You can combine conditions with logical operators\n",
        "# Logical Operators : and, or, not\n",
        "\n",
        "if ((age >= 1) and (age <= 18)):\n",
        "    print(\"You get a birthday party\")\n",
        "elif (age == 21) or (age >= 65):\n",
        "    print(\"You get a birthday party\")\n",
        "elif not(age == 30):\n",
        "    print(\"You don't get a birthday party\")\n",
        "else:\n",
        "    print(\"You get a birthday party yeah\")\n",
        "\n",
        "# FOR LOOPS -------------\n",
        "# Allows you to perform an action a set number of times\n",
        "# Range performs the action 10 times 0 - 9\n",
        "for x in range(0, 10):\n",
        "    print(x , ' ', end=\"\")\n",
        "\n",
        "print('\\n')\n",
        "\n",
        "# You can use for loops to cycle through a list\n",
        "grocery_list = ['Juice', 'Tomatoes', 'Potatoes', 'Bananas']\n",
        "\n",
        "for y in grocery_list:\n",
        "    print(y)\n",
        "\n",
        "# You can also define a list of numbers to cycle through\n",
        "for x in [2,4,6,8,10]:\n",
        "    print(x)\n",
        "\n",
        "# You can double up for loops to cycle through lists\n",
        "num_list =[[1,2,3],[10,20,30],[100,200,300]];\n",
        "\n",
        "for x in range(0,3):\n",
        "    for y in range(0,3):\n",
        "        print(num_list[x][y])\n",
        "\n",
        "# WHILE LOOPS -------------\n",
        "# While loops are used when you don't know ahead of time how many\n",
        "# times you'll have to loop\n",
        "random_num = random.randrange(0,100)\n",
        "\n",
        "while (random_num != 15):\n",
        "    print(random_num)\n",
        "    random_num = random.randrange(0,100)\n",
        "\n",
        "# An iterator for a while loop is defined before the loop\n",
        "i = 0;\n",
        "while (i <= 20):\n",
        "    if(i%2 == 0):\n",
        "        print(i)\n",
        "    elif(i == 9):\n",
        "        # Forces the loop to end all together\n",
        "        break\n",
        "    else:\n",
        "        # Shorthand for i = i + 1\n",
        "        i += 1\n",
        "        # Skips to the next iteration of the loop\n",
        "        continue\n",
        "\n",
        "    i += 1"
      ],
      "execution_count": 0,
      "outputs": [
        {
          "output_type": "stream",
          "text": [
            "You are old enough to drive\n",
            "You are old enough to drive\n",
            "You are old enough to drive a tractor trailer\n",
            "You get a birthday party yeah\n",
            "0  1  2  3  4  5  6  7  8  9  \n",
            "\n",
            "Juice\n",
            "Tomatoes\n",
            "Potatoes\n",
            "Bananas\n",
            "2\n",
            "4\n",
            "6\n",
            "8\n",
            "10\n",
            "1\n",
            "2\n",
            "3\n",
            "10\n",
            "20\n",
            "30\n",
            "100\n",
            "200\n",
            "300\n",
            "76\n",
            "0\n",
            "2\n",
            "4\n",
            "6\n",
            "8\n"
          ],
          "name": "stdout"
        }
      ]
    },
    {
      "cell_type": "code",
      "metadata": {
        "id": "ew1E7zY3zLMz",
        "colab_type": "code",
        "colab": {}
      },
      "source": [
        "# FUNCTIONS -------------\n",
        "# Functions allow you to reuse and write readable code\n",
        "# Type def (define), function name and parameters it receives\n",
        "# return is used to return something to the caller of the function\n"
      ],
      "execution_count": 0,
      "outputs": []
    },
    {
      "cell_type": "code",
      "metadata": {
        "id": "hhpJNKBqzLM1",
        "colab_type": "code",
        "outputId": "8a1c52f1-da03-452d-ae18-9caa7e121bc2",
        "colab": {}
      },
      "source": [
        "def addNumbers(fNum, sNum):\n",
        "    sumNum = fNum + sNum\n",
        "    return sumNum\n",
        "\n",
        "print(addNumbers(1, 4))\n",
        "\n",
        "# Can't get the value of rNum because it was created in a function\n",
        "# It is said to be out of scope\n",
        "# print(sumNum)\n",
        "\n",
        "# If you define a variable outside of the function it works every place\n",
        "newNum = 0;\n",
        "def subNumbers(fNum, sNum):\n",
        "    newNum = fNum - sNum\n",
        "    return newNum\n",
        "\n",
        "print(subNumbers(1, 4))"
      ],
      "execution_count": 0,
      "outputs": [
        {
          "output_type": "stream",
          "text": [
            "5\n",
            "-3\n"
          ],
          "name": "stdout"
        }
      ]
    },
    {
      "cell_type": "code",
      "metadata": {
        "id": "h155kqVtzLM2",
        "colab_type": "code",
        "colab": {}
      },
      "source": [
        "# USER INPUT -------------"
      ],
      "execution_count": 0,
      "outputs": []
    },
    {
      "cell_type": "code",
      "metadata": {
        "id": "v8HDdgkJzLM4",
        "colab_type": "code",
        "outputId": "b20c5bb1-d09f-4010-ec1a-3099fbf67d16",
        "colab": {}
      },
      "source": [
        "\n",
        "print('What is your name?')\n",
        "\n",
        "# Stores everything typed up until ENTER\n",
        "name = sys.stdin.readline()\n",
        "\n",
        "print('Hello', name)\n",
        "\n",
        "# STRINGS -------------\n",
        "# A string is a series of characters surrounded by ' or \"\n",
        "long_string = \"I'll catch you if you fall - The Floor\"\n",
        "\n",
        "# Retrieve the first 4 characters\n",
        "print(long_string[0:4])\n",
        "\n",
        "# Get the last 5 characters\n",
        "print(long_string[-5:])\n",
        "\n",
        "# Everything up to the last 5 characters\n",
        "print(long_string[:-5])\n",
        "\n",
        "# Concatenate part of a string to another\n",
        "print(long_string[:4] + \" be there\")\n",
        "\n",
        "# String formatting\n",
        "print(\"%c is my %s letter and my number %d number is %.5f\" % ('X', 'favorite', 1, .14))\n",
        "\n",
        "# Capitalizes the first letter\n",
        "print(long_string.capitalize())\n",
        "\n",
        "# Returns the index of the start of the string\n",
        "# case sensitive\n",
        "print(long_string.find(\"Floor\"))\n",
        "\n",
        "# Returns true if all characters are letters ' isn't a letter\n",
        "print(long_string.isalpha())\n",
        "\n",
        "# Returns true if all characters are numbers\n",
        "print(long_string.isalnum())\n",
        "\n",
        "# Returns the string length\n",
        "print(len(long_string))\n",
        "\n",
        "# Replace the first word with the second (Add a number to replace more)\n",
        "print(long_string.replace(\"Floor\", \"Ground\"))\n",
        "\n",
        "# Remove white space from front and end\n",
        "print(long_string.strip())\n",
        "\n",
        "# Split a string into a list based on the delimiter you provide\n",
        "quote_list = long_string.split(\" \")\n",
        "print(quote_list)\n"
      ],
      "execution_count": 0,
      "outputs": [
        {
          "output_type": "stream",
          "text": [
            "What is your name?\n",
            "Hello \n",
            "I'll\n",
            "Floor\n",
            "I'll catch you if you fall - The \n",
            "I'll be there\n",
            "X is my favorite letter and my number 1 number is 0.14000\n",
            "I'll catch you if you fall - the floor\n",
            "33\n",
            "False\n",
            "False\n",
            "38\n",
            "I'll catch you if you fall - The Ground\n",
            "I'll catch you if you fall - The Floor\n",
            "[\"I'll\", 'catch', 'you', 'if', 'you', 'fall', '-', 'The', 'Floor']\n"
          ],
          "name": "stdout"
        }
      ]
    },
    {
      "cell_type": "code",
      "metadata": {
        "id": "GckSspoTzLM6",
        "colab_type": "code",
        "colab": {}
      },
      "source": [
        "\n",
        "# FILE I/O -------------\n",
        "\n",
        "# Overwrite or create a file for writing\n"
      ],
      "execution_count": 0,
      "outputs": []
    },
    {
      "cell_type": "code",
      "metadata": {
        "id": "dJtt7onmzLM8",
        "colab_type": "code",
        "outputId": "403adf1b-17f0-43b0-821c-e36111ae4de4",
        "colab": {}
      },
      "source": [
        "\n",
        "# Overwrite or create a file for writing\n",
        "test_file = open(\"test.txt\", \"wb\")\n",
        "\n",
        "# Get the file mode used\n",
        "print(test_file.mode)\n",
        "\n",
        "# Get the files name\n",
        "print(test_file.name)\n",
        "\n",
        "# Write text to a file with a newline\n",
        "test_file.write(bytes(\"Write me to the file\\n\", 'UTF-8'))\n",
        "\n",
        "# Close the file\n",
        "test_file.close()\n",
        "\n",
        "# Opens a file for reading and writing\n",
        "test_file = open(\"test.txt\", \"r+\")\n",
        "\n",
        "# Read text from the file\n",
        "text_in_file = test_file.read()\n",
        "\n",
        "print(text_in_file)\n",
        "\n",
        "# Delete the file\n",
        "os.remove(\"test.txt\")"
      ],
      "execution_count": 0,
      "outputs": [
        {
          "output_type": "stream",
          "text": [
            "wb\n",
            "test.txt\n",
            "Write me to the file\n",
            "\n"
          ],
          "name": "stdout"
        }
      ]
    },
    {
      "cell_type": "code",
      "metadata": {
        "id": "ZYt-3l_nzLM-",
        "colab_type": "code",
        "colab": {}
      },
      "source": [
        "\n",
        "# CLASSES AND OBJECTS -------------\n",
        "# The concept of OOP allows us to model real world things using code\n",
        "# Every object has attributes (color, height, weight) which are object variables\n",
        "# Every object has abilities (walk, talk, eat) which are object functions\n"
      ],
      "execution_count": 0,
      "outputs": []
    },
    {
      "cell_type": "code",
      "metadata": {
        "id": "mBWo389LzLM_",
        "colab_type": "code",
        "outputId": "e59b0669-92ba-4aba-f127-9aad81e413b4",
        "colab": {}
      },
      "source": [
        "\n",
        "class Animal:\n",
        "    # None signifies the lack of a value\n",
        "    # You can make a variable private by starting it with __\n",
        "    __name = None\n",
        "    __height = None\n",
        "    __weight = None\n",
        "    __sound = None\n",
        "\n",
        "    # The constructor is called to set up or initialize an object\n",
        "    # self allows an object to refer to itself inside of the class\n",
        "    def __init__(self, name, height, weight, sound):\n",
        "        self.__name = name\n",
        "        self.__height = height\n",
        "        self.__weight = weight\n",
        "        self.__sound = sound\n",
        "\n",
        "    def set_name(self, name):\n",
        "        self.__name = name\n",
        "\n",
        "    def set_height(self, height):\n",
        "        self.__height = height\n",
        "\n",
        "    def set_weight(self, height):\n",
        "        self.__height = height\n",
        "\n",
        "    def set_sound(self, sound):\n",
        "        self.__sound = sound\n",
        "\n",
        "    def get_name(self):\n",
        "        return self.__name\n",
        "\n",
        "    def get_height(self):\n",
        "        return str(self.__height)\n",
        "\n",
        "    def get_weight(self):\n",
        "        return str(self.__weight)\n",
        "\n",
        "    def get_sound(self):\n",
        "        return self.__sound\n",
        "\n",
        "    def get_type(self):\n",
        "        print(\"Animal\")\n",
        "\n",
        "    def toString(self):\n",
        "        return \"{} is {} cm tall and {} kilograms and says {}\".format(self.__name, self.__height, self.__weight, self.__sound)\n",
        "\n",
        "# How to create a Animal object\n",
        "cat = Animal('Whiskers', 33, 10, 'Meow')\n",
        "\n",
        "print(cat.toString())\n",
        "\n",
        "# You can't access this value directly because it is private\n",
        "#print(cat.__name)\n",
        "\n",
        "# INHERITANCE -------------\n",
        "# You can inherit all of the variables and methods from another class\n",
        "\n",
        "class Dog(Animal):\n",
        "    __owner = None\n",
        "\n",
        "    def __init__(self, name, height, weight, sound, owner):\n",
        "        self.__owner = owner\n",
        "        self.__animal_type = None\n",
        "\n",
        "        # How to call the super class constructor\n",
        "        super(Dog, self).__init__(name, height, weight, sound)\n",
        "\n",
        "    def set_owner(self, owner):\n",
        "        self.__owner = owner\n",
        "\n",
        "    def get_owner(self):\n",
        "        return self.__owner\n",
        "\n",
        "    def get_type(self):\n",
        "        print (\"Dog\")\n",
        "\n",
        "    # We can overwrite functions in the super class\n",
        "    def toString(self):\n",
        "        return \"{} is {} cm tall and {} kilograms and says {}. His owner is {}\".format(self.get_name(), self.get_height(), self.get_weight(), self.get_sound(), self.__owner)\n",
        "\n",
        "    # You don't have to require attributes to be sent\n",
        "    # This allows for method overloading\n",
        "    def multiple_sounds(self, how_many=None):\n",
        "        if how_many is None:\n",
        "            print(self.get_sound)\n",
        "        else:\n",
        "            print(self.get_sound() * how_many)\n",
        "\n",
        "spot = Dog(\"Spot\", 53, 27, \"Ruff\", \"Derek\")\n",
        "\n",
        "print(spot.toString())\n",
        "\n",
        "# Polymorphism allows use to refer to objects as their super class\n",
        "# and the correct functions are called automatically\n",
        "\n",
        "class AnimalTesting:\n",
        "    def get_type(self, animal):\n",
        "        animal.get_type()\n",
        "\n",
        "test_animals = AnimalTesting()\n",
        "\n",
        "test_animals.get_type(cat)\n",
        "test_animals.get_type(spot)\n",
        "\n",
        "spot.multiple_sounds(4)"
      ],
      "execution_count": 0,
      "outputs": [
        {
          "output_type": "stream",
          "text": [
            "Whiskers is 33 cm tall and 10 kilograms and says Meow\n",
            "Spot is 53 cm tall and 27 kilograms and says Ruff. His owner is Derek\n",
            "Animal\n",
            "Dog\n",
            "RuffRuffRuffRuff\n"
          ],
          "name": "stdout"
        }
      ]
    },
    {
      "cell_type": "code",
      "metadata": {
        "id": "NRx03bj-zLNC",
        "colab_type": "code",
        "colab": {}
      },
      "source": [
        ""
      ],
      "execution_count": 0,
      "outputs": []
    }
  ]
}